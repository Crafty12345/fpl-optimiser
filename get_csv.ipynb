{
 "cells": [
  {
   "cell_type": "code",
   "execution_count": 6,
   "id": "40b6669d-ea98-4c36-9d7f-c199803018af",
   "metadata": {},
   "outputs": [],
   "source": [
    "import pandas as pd\n",
    "import json"
   ]
  },
  {
   "cell_type": "code",
   "execution_count": 7,
   "id": "52a8ae25-fc48-403a-be7e-8d242c1051b7",
   "metadata": {},
   "outputs": [],
   "source": [
    "def get_position_name(position: int):\n",
    "    match position:\n",
    "        case 1:\n",
    "            return \"GKP\"\n",
    "        case 2:\n",
    "            return \"DEF\"\n",
    "        case 3:\n",
    "            return \"MID\"\n",
    "        case 4:\n",
    "            return \"FWD\""
   ]
  },
  {
   "cell_type": "code",
   "execution_count": 8,
   "id": "89934402",
   "metadata": {},
   "outputs": [],
   "source": [
    "RAW_FILENAME = \"raw/fpl_stats_26-08-2024.json\""
   ]
  },
  {
   "cell_type": "code",
   "execution_count": 24,
   "id": "940a33c7-4257-4b4c-b277-f37af5bc8a91",
   "metadata": {},
   "outputs": [],
   "source": [
    "with open(RAW_FILENAME,\"r\",encoding=\"utf-8\") as f: # Source: https://fantasy.premierleague.com/api/bootstrap-static/\n",
    "    all_data_raw = json.load(f)"
   ]
  },
  {
   "cell_type": "code",
   "execution_count": 25,
   "id": "0e9f3738-927a-4aa1-a353-059cbfc28d2c",
   "metadata": {},
   "outputs": [],
   "source": [
    "all_data = pd.DataFrame(all_data_raw[\"elements\"])"
   ]
  },
  {
   "cell_type": "markdown",
   "id": "345f35a1-97d7-4354-ae4f-61e94e66ddb8",
   "metadata": {},
   "source": [
    "Filter to only the columns we need"
   ]
  },
  {
   "cell_type": "code",
   "execution_count": 26,
   "id": "996929ca-5c1f-42f9-adde-5d6192b89b89",
   "metadata": {},
   "outputs": [],
   "source": [
    "allowed_cols = [\"web_name\",\"now_cost\",\"ict_index\",\"total_points\",\"points_per_game\",\"element_type\",\"team_code\",\"form\"]\n",
    "player_data = all_data[allowed_cols]"
   ]
  },
  {
   "cell_type": "code",
   "execution_count": 27,
   "id": "cb71063a-990e-48e3-98b1-010bcfd457f2",
   "metadata": {},
   "outputs": [
    {
     "name": "stderr",
     "output_type": "stream",
     "text": [
      "C:\\Users\\Crafty\\AppData\\Local\\Temp\\ipykernel_15196\\2399959204.py:1: SettingWithCopyWarning: \n",
      "A value is trying to be set on a copy of a slice from a DataFrame.\n",
      "Try using .loc[row_indexer,col_indexer] = value instead\n",
      "\n",
      "See the caveats in the documentation: https://pandas.pydata.org/pandas-docs/stable/user_guide/indexing.html#returning-a-view-versus-a-copy\n",
      "  player_data[\"position\"] = player_data[\"element_type\"].apply(lambda x: get_position_name(x))\n"
     ]
    }
   ],
   "source": [
    "player_data[\"position\"] = player_data[\"element_type\"].apply(lambda x: get_position_name(x))\n",
    "player_data = player_data.drop(columns=[\"element_type\"])\n",
    "player_data = player_data.rename(columns={\"web_name\":\"name\",\"now_cost\":\"cost\"})"
   ]
  },
  {
   "cell_type": "code",
   "execution_count": 28,
   "id": "e9fc7bbb",
   "metadata": {},
   "outputs": [],
   "source": [
    "player_data = player_data.loc[all_data[\"status\"]==\"a\"]"
   ]
  },
  {
   "cell_type": "code",
   "execution_count": 29,
   "id": "0cd82a69-014a-4233-8a3d-51804c9c8ff3",
   "metadata": {},
   "outputs": [
    {
     "data": {
      "text/html": [
       "<div>\n",
       "<style scoped>\n",
       "    .dataframe tbody tr th:only-of-type {\n",
       "        vertical-align: middle;\n",
       "    }\n",
       "\n",
       "    .dataframe tbody tr th {\n",
       "        vertical-align: top;\n",
       "    }\n",
       "\n",
       "    .dataframe thead th {\n",
       "        text-align: right;\n",
       "    }\n",
       "</style>\n",
       "<table border=\"1\" class=\"dataframe\">\n",
       "  <thead>\n",
       "    <tr style=\"text-align: right;\">\n",
       "      <th></th>\n",
       "      <th>name</th>\n",
       "      <th>cost</th>\n",
       "      <th>ict_index</th>\n",
       "      <th>total_points</th>\n",
       "      <th>points_per_game</th>\n",
       "      <th>team_code</th>\n",
       "      <th>form</th>\n",
       "      <th>position</th>\n",
       "    </tr>\n",
       "  </thead>\n",
       "  <tbody>\n",
       "    <tr>\n",
       "      <th>0</th>\n",
       "      <td>Fábio Vieira</td>\n",
       "      <td>54</td>\n",
       "      <td>0.0</td>\n",
       "      <td>0</td>\n",
       "      <td>0.0</td>\n",
       "      <td>3</td>\n",
       "      <td>0.0</td>\n",
       "      <td>MID</td>\n",
       "    </tr>\n",
       "    <tr>\n",
       "      <th>2</th>\n",
       "      <td>Gabriel</td>\n",
       "      <td>60</td>\n",
       "      <td>4.6</td>\n",
       "      <td>12</td>\n",
       "      <td>6.0</td>\n",
       "      <td>3</td>\n",
       "      <td>6.0</td>\n",
       "      <td>DEF</td>\n",
       "    </tr>\n",
       "    <tr>\n",
       "      <th>3</th>\n",
       "      <td>Havertz</td>\n",
       "      <td>81</td>\n",
       "      <td>14.5</td>\n",
       "      <td>14</td>\n",
       "      <td>7.0</td>\n",
       "      <td>3</td>\n",
       "      <td>7.0</td>\n",
       "      <td>FWD</td>\n",
       "    </tr>\n",
       "    <tr>\n",
       "      <th>5</th>\n",
       "      <td>J.Timber</td>\n",
       "      <td>55</td>\n",
       "      <td>1.8</td>\n",
       "      <td>7</td>\n",
       "      <td>3.5</td>\n",
       "      <td>3</td>\n",
       "      <td>3.5</td>\n",
       "      <td>DEF</td>\n",
       "    </tr>\n",
       "    <tr>\n",
       "      <th>6</th>\n",
       "      <td>Jorginho</td>\n",
       "      <td>49</td>\n",
       "      <td>0.0</td>\n",
       "      <td>0</td>\n",
       "      <td>0.0</td>\n",
       "      <td>3</td>\n",
       "      <td>0.0</td>\n",
       "      <td>MID</td>\n",
       "    </tr>\n",
       "  </tbody>\n",
       "</table>\n",
       "</div>"
      ],
      "text/plain": [
       "           name  cost ict_index  total_points points_per_game  team_code form  \\\n",
       "0  Fábio Vieira    54       0.0             0             0.0          3  0.0   \n",
       "2       Gabriel    60       4.6            12             6.0          3  6.0   \n",
       "3       Havertz    81      14.5            14             7.0          3  7.0   \n",
       "5      J.Timber    55       1.8             7             3.5          3  3.5   \n",
       "6      Jorginho    49       0.0             0             0.0          3  0.0   \n",
       "\n",
       "  position  \n",
       "0      MID  \n",
       "2      DEF  \n",
       "3      FWD  \n",
       "5      DEF  \n",
       "6      MID  "
      ]
     },
     "execution_count": 29,
     "metadata": {},
     "output_type": "execute_result"
    }
   ],
   "source": [
    "player_data.head()"
   ]
  },
  {
   "cell_type": "code",
   "execution_count": 30,
   "id": "a71b6ec5-e0a1-4f18-abce-c2209b533400",
   "metadata": {},
   "outputs": [],
   "source": [
    "team_data = pd.DataFrame(all_data_raw[\"teams\"])"
   ]
  },
  {
   "cell_type": "code",
   "execution_count": 31,
   "id": "9b369ee4-707c-4e0b-b846-a5991f86a6fb",
   "metadata": {},
   "outputs": [],
   "source": [
    "team_data = team_data[[\"code\",\"short_name\"]]"
   ]
  },
  {
   "cell_type": "code",
   "execution_count": 32,
   "id": "12785309-b53e-4eec-82e4-03e07d2d398c",
   "metadata": {
    "scrolled": true
   },
   "outputs": [
    {
     "data": {
      "text/html": [
       "<div>\n",
       "<style scoped>\n",
       "    .dataframe tbody tr th:only-of-type {\n",
       "        vertical-align: middle;\n",
       "    }\n",
       "\n",
       "    .dataframe tbody tr th {\n",
       "        vertical-align: top;\n",
       "    }\n",
       "\n",
       "    .dataframe thead th {\n",
       "        text-align: right;\n",
       "    }\n",
       "</style>\n",
       "<table border=\"1\" class=\"dataframe\">\n",
       "  <thead>\n",
       "    <tr style=\"text-align: right;\">\n",
       "      <th></th>\n",
       "      <th>code</th>\n",
       "      <th>short_name</th>\n",
       "    </tr>\n",
       "  </thead>\n",
       "  <tbody>\n",
       "    <tr>\n",
       "      <th>0</th>\n",
       "      <td>3</td>\n",
       "      <td>ARS</td>\n",
       "    </tr>\n",
       "    <tr>\n",
       "      <th>1</th>\n",
       "      <td>7</td>\n",
       "      <td>AVL</td>\n",
       "    </tr>\n",
       "    <tr>\n",
       "      <th>2</th>\n",
       "      <td>91</td>\n",
       "      <td>BOU</td>\n",
       "    </tr>\n",
       "    <tr>\n",
       "      <th>3</th>\n",
       "      <td>94</td>\n",
       "      <td>BRE</td>\n",
       "    </tr>\n",
       "    <tr>\n",
       "      <th>4</th>\n",
       "      <td>36</td>\n",
       "      <td>BHA</td>\n",
       "    </tr>\n",
       "    <tr>\n",
       "      <th>5</th>\n",
       "      <td>8</td>\n",
       "      <td>CHE</td>\n",
       "    </tr>\n",
       "    <tr>\n",
       "      <th>6</th>\n",
       "      <td>31</td>\n",
       "      <td>CRY</td>\n",
       "    </tr>\n",
       "    <tr>\n",
       "      <th>7</th>\n",
       "      <td>11</td>\n",
       "      <td>EVE</td>\n",
       "    </tr>\n",
       "    <tr>\n",
       "      <th>8</th>\n",
       "      <td>54</td>\n",
       "      <td>FUL</td>\n",
       "    </tr>\n",
       "    <tr>\n",
       "      <th>9</th>\n",
       "      <td>40</td>\n",
       "      <td>IPS</td>\n",
       "    </tr>\n",
       "    <tr>\n",
       "      <th>10</th>\n",
       "      <td>13</td>\n",
       "      <td>LEI</td>\n",
       "    </tr>\n",
       "    <tr>\n",
       "      <th>11</th>\n",
       "      <td>14</td>\n",
       "      <td>LIV</td>\n",
       "    </tr>\n",
       "    <tr>\n",
       "      <th>12</th>\n",
       "      <td>43</td>\n",
       "      <td>MCI</td>\n",
       "    </tr>\n",
       "    <tr>\n",
       "      <th>13</th>\n",
       "      <td>1</td>\n",
       "      <td>MUN</td>\n",
       "    </tr>\n",
       "    <tr>\n",
       "      <th>14</th>\n",
       "      <td>4</td>\n",
       "      <td>NEW</td>\n",
       "    </tr>\n",
       "    <tr>\n",
       "      <th>15</th>\n",
       "      <td>17</td>\n",
       "      <td>NFO</td>\n",
       "    </tr>\n",
       "    <tr>\n",
       "      <th>16</th>\n",
       "      <td>20</td>\n",
       "      <td>SOU</td>\n",
       "    </tr>\n",
       "    <tr>\n",
       "      <th>17</th>\n",
       "      <td>6</td>\n",
       "      <td>TOT</td>\n",
       "    </tr>\n",
       "    <tr>\n",
       "      <th>18</th>\n",
       "      <td>21</td>\n",
       "      <td>WHU</td>\n",
       "    </tr>\n",
       "    <tr>\n",
       "      <th>19</th>\n",
       "      <td>39</td>\n",
       "      <td>WOL</td>\n",
       "    </tr>\n",
       "  </tbody>\n",
       "</table>\n",
       "</div>"
      ],
      "text/plain": [
       "    code short_name\n",
       "0      3        ARS\n",
       "1      7        AVL\n",
       "2     91        BOU\n",
       "3     94        BRE\n",
       "4     36        BHA\n",
       "5      8        CHE\n",
       "6     31        CRY\n",
       "7     11        EVE\n",
       "8     54        FUL\n",
       "9     40        IPS\n",
       "10    13        LEI\n",
       "11    14        LIV\n",
       "12    43        MCI\n",
       "13     1        MUN\n",
       "14     4        NEW\n",
       "15    17        NFO\n",
       "16    20        SOU\n",
       "17     6        TOT\n",
       "18    21        WHU\n",
       "19    39        WOL"
      ]
     },
     "execution_count": 32,
     "metadata": {},
     "output_type": "execute_result"
    }
   ],
   "source": [
    "team_data"
   ]
  },
  {
   "cell_type": "code",
   "execution_count": 33,
   "id": "1e868f14-a6b9-4a65-b830-3df08894ee16",
   "metadata": {},
   "outputs": [],
   "source": [
    "def team_from_code(team_code):\n",
    "    return team_data.loc[team_data[\"code\"]==team_code][\"short_name\"].values[0]"
   ]
  },
  {
   "cell_type": "code",
   "execution_count": 34,
   "id": "74af15e4-f07a-4993-b071-d856a609f89f",
   "metadata": {},
   "outputs": [],
   "source": [
    "player_data[\"team\"] = player_data[\"team_code\"].apply(lambda x: team_from_code(x))"
   ]
  },
  {
   "cell_type": "code",
   "execution_count": 35,
   "id": "757d0556-9bbd-476e-bdea-56669428fe75",
   "metadata": {},
   "outputs": [],
   "source": [
    "player_data = player_data.drop(columns=[\"team_code\"])"
   ]
  },
  {
   "cell_type": "code",
   "execution_count": 36,
   "id": "d9124668-01f3-4250-b64d-b9613177460a",
   "metadata": {},
   "outputs": [
    {
     "data": {
      "text/html": [
       "<div>\n",
       "<style scoped>\n",
       "    .dataframe tbody tr th:only-of-type {\n",
       "        vertical-align: middle;\n",
       "    }\n",
       "\n",
       "    .dataframe tbody tr th {\n",
       "        vertical-align: top;\n",
       "    }\n",
       "\n",
       "    .dataframe thead th {\n",
       "        text-align: right;\n",
       "    }\n",
       "</style>\n",
       "<table border=\"1\" class=\"dataframe\">\n",
       "  <thead>\n",
       "    <tr style=\"text-align: right;\">\n",
       "      <th></th>\n",
       "      <th>name</th>\n",
       "      <th>cost</th>\n",
       "      <th>ict_index</th>\n",
       "      <th>total_points</th>\n",
       "      <th>points_per_game</th>\n",
       "      <th>form</th>\n",
       "      <th>position</th>\n",
       "      <th>team</th>\n",
       "    </tr>\n",
       "  </thead>\n",
       "  <tbody>\n",
       "    <tr>\n",
       "      <th>0</th>\n",
       "      <td>Fábio Vieira</td>\n",
       "      <td>54</td>\n",
       "      <td>0.0</td>\n",
       "      <td>0</td>\n",
       "      <td>0.0</td>\n",
       "      <td>0.0</td>\n",
       "      <td>MID</td>\n",
       "      <td>ARS</td>\n",
       "    </tr>\n",
       "    <tr>\n",
       "      <th>2</th>\n",
       "      <td>Gabriel</td>\n",
       "      <td>60</td>\n",
       "      <td>4.6</td>\n",
       "      <td>12</td>\n",
       "      <td>6.0</td>\n",
       "      <td>6.0</td>\n",
       "      <td>DEF</td>\n",
       "      <td>ARS</td>\n",
       "    </tr>\n",
       "    <tr>\n",
       "      <th>3</th>\n",
       "      <td>Havertz</td>\n",
       "      <td>81</td>\n",
       "      <td>14.5</td>\n",
       "      <td>14</td>\n",
       "      <td>7.0</td>\n",
       "      <td>7.0</td>\n",
       "      <td>FWD</td>\n",
       "      <td>ARS</td>\n",
       "    </tr>\n",
       "    <tr>\n",
       "      <th>5</th>\n",
       "      <td>J.Timber</td>\n",
       "      <td>55</td>\n",
       "      <td>1.8</td>\n",
       "      <td>7</td>\n",
       "      <td>3.5</td>\n",
       "      <td>3.5</td>\n",
       "      <td>DEF</td>\n",
       "      <td>ARS</td>\n",
       "    </tr>\n",
       "    <tr>\n",
       "      <th>6</th>\n",
       "      <td>Jorginho</td>\n",
       "      <td>49</td>\n",
       "      <td>0.0</td>\n",
       "      <td>0</td>\n",
       "      <td>0.0</td>\n",
       "      <td>0.0</td>\n",
       "      <td>MID</td>\n",
       "      <td>ARS</td>\n",
       "    </tr>\n",
       "  </tbody>\n",
       "</table>\n",
       "</div>"
      ],
      "text/plain": [
       "           name  cost ict_index  total_points points_per_game form position  \\\n",
       "0  Fábio Vieira    54       0.0             0             0.0  0.0      MID   \n",
       "2       Gabriel    60       4.6            12             6.0  6.0      DEF   \n",
       "3       Havertz    81      14.5            14             7.0  7.0      FWD   \n",
       "5      J.Timber    55       1.8             7             3.5  3.5      DEF   \n",
       "6      Jorginho    49       0.0             0             0.0  0.0      MID   \n",
       "\n",
       "  team  \n",
       "0  ARS  \n",
       "2  ARS  \n",
       "3  ARS  \n",
       "5  ARS  \n",
       "6  ARS  "
      ]
     },
     "execution_count": 36,
     "metadata": {},
     "output_type": "execute_result"
    }
   ],
   "source": [
    "player_data.head()"
   ]
  },
  {
   "cell_type": "code",
   "execution_count": 37,
   "id": "ac10f2a3-2d4d-4713-a28f-5b5e042c99d1",
   "metadata": {},
   "outputs": [],
   "source": [
    "player_data.to_csv(\"./data/data.csv\",index_label=\"id\")"
   ]
  }
 ],
 "metadata": {
  "kernelspec": {
   "display_name": "Python 3 (ipykernel)",
   "language": "python",
   "name": "python3"
  },
  "language_info": {
   "codemirror_mode": {
    "name": "ipython",
    "version": 3
   },
   "file_extension": ".py",
   "mimetype": "text/x-python",
   "name": "python",
   "nbconvert_exporter": "python",
   "pygments_lexer": "ipython3",
   "version": "3.12.3"
  }
 },
 "nbformat": 4,
 "nbformat_minor": 5
}
