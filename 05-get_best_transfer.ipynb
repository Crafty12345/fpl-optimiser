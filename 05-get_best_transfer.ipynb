{
 "cells": [
  {
   "cell_type": "code",
   "execution_count": 1,
   "metadata": {},
   "outputs": [],
   "source": [
    "import json\n",
    "import pandas as pd\n",
    "import numpy as np\n",
    "from copy import deepcopy\n",
    "from IPython.display import display\n",
    "import re\n",
    "\n",
    "from modules.team import Team, BenchTeam\n",
    "from modules.player import Player, Position\n",
    "from modules.transfer import Transfer\n",
    "from modules.fixture_difficulty_matrix import FixtureDifficultyMatrix\n",
    "from modules.team_predicter import TeamPredicter, SolverMode\n",
    "from modules.utils import getDataFilesSorted\n",
    "\n",
    "import config"
   ]
  },
  {
   "cell_type": "code",
   "execution_count": 2,
   "metadata": {},
   "outputs": [],
   "source": [
    "CURRENT_DATE = config.CURRENT_DATE\n",
    "teams_filename = f\"./data/results/{CURRENT_DATE}/results_{CURRENT_DATE}.json\"\n",
    "scores_filename = f\"./data/results/{CURRENT_DATE}/scores_{CURRENT_DATE}.json\"\n",
    "SELECTED_MODEL_INDEX = 0\n",
    "TOTAL_BUDGET = 1000"
   ]
  },
  {
   "cell_type": "code",
   "execution_count": 3,
   "metadata": {},
   "outputs": [],
   "source": [
    "current_team_names = {\"Mark Flekken\",\n",
    "                      \"Matz Sels\",\n",
    "                      \"Dan Burn\",\n",
    "                      \"Rayan Aït-Nouri\",\n",
    "                      \"Daniel Muñoz\",\n",
    "                      \"Ashley Young\",\n",
    "                      \"Joško Gvardiol\",\n",
    "                      \"Bryan Mbeumo\",\n",
    "                      \"Cole Palmer\",\n",
    "                      \"Morgan Rogers\",\n",
    "                      \"Alex Iwobi\",\n",
    "                      \"Mohamed Salah\",\n",
    "                      \"Yoane Wissa\",\n",
    "                      \"Alexander Isak\",\n",
    "                      \"Jørgen Strand Larsen\"\n",
    "                      }"
   ]
  },
  {
   "cell_type": "code",
   "execution_count": 4,
   "metadata": {},
   "outputs": [
    {
     "name": "stdout",
     "output_type": "stream",
     "text": [
      "./data/player_stats/data_34.csv\n"
     ]
    }
   ],
   "source": [
    "filesSorted = getDataFilesSorted()\n",
    "dataFileName = filesSorted[-1]\n",
    "print(dataFileName)"
   ]
  },
  {
   "cell_type": "code",
   "execution_count": 5,
   "metadata": {},
   "outputs": [],
   "source": [
    "with open(scores_filename, \"r\") as f:\n",
    "    all_player_data = pd.read_json(f,orient=\"records\")"
   ]
  },
  {
   "cell_type": "code",
   "execution_count": 6,
   "metadata": {},
   "outputs": [
    {
     "name": "stdout",
     "output_type": "stream",
     "text": [
      "      id                          name  cost  ict_index  total_points  \\\n",
      "0      0         Fábio Ferreira Vieira    54        0.0             0   \n",
      "1      1     Gabriel Fernando de Jesus    65       52.6            42   \n",
      "2      2  Gabriel dos Santos Magalhães    62      108.2           117   \n",
      "3      3                   Kai Havertz    77      142.6            96   \n",
      "4      4                     Karl Hein    40        0.0             0   \n",
      "..   ...                           ...   ...        ...           ...   \n",
      "775  794                   Wes Okoduwa    40        0.0             0   \n",
      "776  795              Emmanuel Agbadou    40       37.4            35   \n",
      "777  797                  Nasser Djiga    45        0.5             4   \n",
      "778  798              Marshall Munetsi    50       37.2            36   \n",
      "779  799                   Mateus Mané    45        0.0             0   \n",
      "\n",
      "     points_per_game  form status  starts_per_90 position team  combined  \\\n",
      "0                0.0   0.0      u           0.00      MID  ARS -2.644068   \n",
      "1                2.5   0.0      i           0.90      FWD  ARS  0.879619   \n",
      "2                4.2   0.0      i           1.07      DEF  ARS  4.651686   \n",
      "3                4.6   0.0      i           1.03      FWD  ARS  5.025305   \n",
      "4                0.0   0.0      u           0.00      GKP  ARS -2.644068   \n",
      "..               ...   ...    ...            ...      ...  ...       ...   \n",
      "775              0.0   0.0      a           0.00      DEF  WOL -2.644068   \n",
      "776              2.9   4.0      a           1.03      DEF  WOL  0.740589   \n",
      "777              1.0   0.5      a           0.00      DEF  WOL -1.865381   \n",
      "778              3.6   3.2      a           1.03      MID  WOL  1.235987   \n",
      "779              0.0   0.0      a           0.00      FWD  WOL -2.644068   \n",
      "\n",
      "     weight     score  \n",
      "0     0.125  0.000000  \n",
      "1     0.125  0.000000  \n",
      "2     0.125  0.000000  \n",
      "3     0.125  0.000000  \n",
      "4     0.125  0.000000  \n",
      "..      ...       ...  \n",
      "775   0.825  0.000000  \n",
      "776   0.825 -1.467892  \n",
      "777   0.825  0.000000  \n",
      "778   0.825  0.990988  \n",
      "779   0.825  0.000000  \n",
      "\n",
      "[780 rows x 14 columns]\n"
     ]
    }
   ],
   "source": [
    "print(all_player_data)"
   ]
  },
  {
   "cell_type": "code",
   "execution_count": 7,
   "metadata": {},
   "outputs": [
    {
     "name": "stdout",
     "output_type": "stream",
     "text": [
      "Yoane Wissa a\n",
      "Alexander Isak a\n",
      "Dan Burn a\n",
      "Ashley Young a\n",
      "Mohamed Salah a\n",
      "Mark Flekken a\n",
      "Alex Iwobi a\n",
      "Bryan Mbeumo a\n",
      "Cole Palmer a\n",
      "Matz Sels a\n",
      "Joško Gvardiol a\n",
      "Rayan Aït-Nouri a\n",
      "Daniel Muñoz a\n",
      "Morgan Rogers a\n",
      "Jørgen Strand Larsen a\n"
     ]
    }
   ],
   "source": [
    "current_team = Team.fromNameSet(current_team_names, all_player_data)"
   ]
  },
  {
   "cell_type": "code",
   "execution_count": 8,
   "metadata": {},
   "outputs": [
    {
     "data": {
      "text/plain": [
       "1002"
      ]
     },
     "execution_count": 8,
     "metadata": {},
     "output_type": "execute_result"
    }
   ],
   "source": [
    "current_team_cost = current_team.getTotalCost()\n",
    "current_team_cost"
   ]
  },
  {
   "cell_type": "code",
   "execution_count": 9,
   "metadata": {},
   "outputs": [],
   "source": [
    "with open(teams_filename,\"r\",encoding=\"utf-8\") as f:\n",
    "    all_data = json.load(f)\n",
    "data = all_data[\"data\"][SELECTED_MODEL_INDEX]\n",
    "selected_team_df = pd.DataFrame(data=data)"
   ]
  },
  {
   "cell_type": "code",
   "execution_count": 10,
   "metadata": {},
   "outputs": [
    {
     "name": "stdout",
     "output_type": "stream",
     "text": [
      "Nathan Collins a\n",
      "Fabian Schär a\n",
      "Joško Gvardiol a\n",
      "Rayan Aït-Nouri a\n",
      "Trevoh Chalobah a\n",
      "Alexander Isak a\n",
      "Matheus Santos Carneiro Da Cunha a\n",
      "Yoane Wissa a\n",
      "Jordan Pickford a\n",
      "Mark Flekken a\n",
      "Morgan Rogers a\n",
      "Alex Iwobi a\n",
      "Bryan Mbeumo a\n",
      "Jarrod Bowen a\n",
      "Jacob Murphy a\n"
     ]
    }
   ],
   "source": [
    "selectedTeamNames = selected_team_df[\"name\"].values\n",
    "selected_team = Team.fromNameSet(selectedTeamNames, all_player_data)"
   ]
  },
  {
   "cell_type": "code",
   "execution_count": 11,
   "metadata": {},
   "outputs": [
    {
     "data": {
      "text/html": [
       "<table><tr><th>ID</th><th>Name</th><th>Cost</th><th>ICT Index</th><th>Total Points</th><th>Form</th><th>Average Fixture Difficulty</th><th>Normalised Average Fixture Difficulty</th><th>Current Fixture Difficulty</th><th>Position</th><th>Availability</th><th>Team</th><th>Captain</th><th>Vice Captain</th><th>Score</th>\n",
       "<tr><td>315</td><td>Jordan Pickford</td><td>51.00</td><td>95.4</td><td>136</td><td>4.0</td><td>0.000</td><td>0.000</td><td>0.0000</td><td>GKP</td><td>True</td><td>EVE</td><td>True</td><td>False<td>0.00</td><tr>\n",
       "<tr><td>126</td><td>Mark Flekken</td><td>44.00</td><td>120.9</td><td>123</td><td>5.4</td><td>0.000</td><td>0.000</td><td>0.0000</td><td>GKP</td><td>True</td><td>BRE</td><td>False</td><td>True<td>0.00</td><tr>\n",
       "<tr><td>123</td><td>Nathan Collins</td><td>45.00</td><td>139.8</td><td>115</td><td>5.0</td><td>0.000</td><td>0.000</td><td>0.0000</td><td>DEF</td><td>True</td><td>BRE</td><td>False</td><td>False<td>0.00</td><tr>\n",
       "<tr><td>585</td><td>Fabian Schär</td><td>56.00</td><td>102.9</td><td>104</td><td>6.3</td><td>0.000</td><td>0.000</td><td>0.0000</td><td>DEF</td><td>True</td><td>NEW</td><td>False</td><td>False<td>0.00</td><tr>\n",
       "<tr><td>489</td><td>Joško Gvardiol</td><td>63.00</td><td>169.6</td><td>129</td><td>4.6</td><td>0.000</td><td>0.000</td><td>0.0000</td><td>DEF</td><td>True</td><td>MCI</td><td>False</td><td>False<td>0.00</td><tr>\n",
       "<tr><td>755</td><td>Rayan Aït-Nouri</td><td>50.00</td><td>164.4</td><td>120</td><td>8.0</td><td>0.000</td><td>0.000</td><td>0.0000</td><td>DEF</td><td>True</td><td>WOL</td><td>False</td><td>False<td>0.00</td><tr>\n",
       "<tr><td>220</td><td>Trevoh Chalobah</td><td>44.00</td><td>81.1</td><td>90</td><td>4.6</td><td>0.000</td><td>0.000</td><td>0.0000</td><td>DEF</td><td>True</td><td>CHE</td><td>False</td><td>False<td>0.00</td><tr>\n",
       "<tr><td>571</td><td>Alexander Isak</td><td>96.00</td><td>271.5</td><td>198</td><td>4.8</td><td>0.000</td><td>0.000</td><td>0.0000</td><td>FWD</td><td>True</td><td>NEW</td><td>False</td><td>False<td>0.00</td><tr>\n",
       "<tr><td>763</td><td>Matheus Santos Carneiro Da Cunha</td><td>70.00</td><td>251.5</td><td>173</td><td>7.5</td><td>0.000</td><td>0.000</td><td>0.0000</td><td>FWD</td><td>True</td><td>WOL</td><td>False</td><td>False<td>0.00</td><tr>\n",
       "<tr><td>145</td><td>Yoane Wissa</td><td>66.00</td><td>209.3</td><td>166</td><td>6.8</td><td>0.000</td><td>0.000</td><td>0.0000</td><td>FWD</td><td>True</td><td>BRE</td><td>False</td><td>False<td>0.00</td><tr>\n",
       "<tr><td>62</td><td>Morgan Rogers</td><td>57.00</td><td>194.4</td><td>145</td><td>6.4</td><td>0.000</td><td>0.000</td><td>0.0000</td><td>MID</td><td>True</td><td>AVL</td><td>False</td><td>False<td>0.00</td><tr>\n",
       "<tr><td>343</td><td>Alex Iwobi</td><td>56.00</td><td>224.1</td><td>149</td><td>7.0</td><td>0.000</td><td>0.000</td><td>0.0000</td><td>MID</td><td>True</td><td>FUL</td><td>False</td><td>False<td>0.00</td><tr>\n",
       "<tr><td>134</td><td>Bryan Mbeumo</td><td>81.00</td><td>304.2</td><td>212</td><td>6.6</td><td>0.000</td><td>0.000</td><td>0.0000</td><td>MID</td><td>True</td><td>BRE</td><td>False</td><td>False<td>0.00</td><tr>\n",
       "<tr><td>726</td><td>Jarrod Bowen</td><td>76.00</td><td>233.9</td><td>155</td><td>7.0</td><td>0.000</td><td>0.000</td><td>0.0000</td><td>MID</td><td>True</td><td>WHU</td><td>False</td><td>False<td>0.00</td><tr>\n",
       "<tr><td>572</td><td>Jacob Murphy</td><td>53.00</td><td>171.1</td><td>149</td><td>8.0</td><td>0.000</td><td>0.000</td><td>0.0000</td><td>MID</td><td>True</td><td>NEW</td><td>False</td><td>False<td>0.00</td><tr>\n",
       "</table>"
      ],
      "text/plain": [
       "<modules.team.Team at 0x7fbe5f174fe0>"
      ]
     },
     "metadata": {},
     "output_type": "display_data"
    }
   ],
   "source": [
    "display(selected_team)"
   ]
  },
  {
   "cell_type": "code",
   "execution_count": 12,
   "metadata": {},
   "outputs": [
    {
     "name": "stdout",
     "output_type": "stream",
     "text": [
      "\n",
      "Total Score: 0\n",
      "\n",
      "Goalkeepers:\n",
      "- Jordan Pickford (Captain) \tScore: 0\tCost: 51\tFixture Difficulty: 0.0\n",
      "Defenders:\n",
      "- Nathan Collins (Vice Captain) \tScore: 0\tCost: 45\tFixture Difficulty: 0.0\n",
      "- Fabian Schär\tScore: 0\tCost: 56\tFixture Difficulty: 0.0\n",
      "- Trevoh Chalobah\tScore: 0\tCost: 44\tFixture Difficulty: 0.0\n",
      "Attackers:\n",
      "- Matheus Santos Carneiro Da Cunha\tScore: 0\tCost: 70\tFixture Difficulty: 0.0\n",
      "Midfielders:\n",
      "- Jarrod Bowen\tScore: 0\tCost: 76\tFixture Difficulty: 0.0\n",
      "- Jacob Murphy\tScore: 0\tCost: 53\tFixture Difficulty: 0.0\n"
     ]
    }
   ],
   "source": [
    "new_players = selected_team - current_team\n",
    "print(new_players)"
   ]
  },
  {
   "cell_type": "code",
   "execution_count": 13,
   "metadata": {},
   "outputs": [
    {
     "name": "stdout",
     "output_type": "stream",
     "text": [
      "Added cost: -94\n"
     ]
    }
   ],
   "source": [
    "new_team_cost = selected_team.getTotalCost()\n",
    "new_team_cost\n",
    "\n",
    "added_cost = new_team_cost - current_team_cost\n",
    "print(\"Added cost:\",added_cost)\n",
    "\n",
    "surplus = current_team_cost - new_team_cost\n"
   ]
  },
  {
   "cell_type": "code",
   "execution_count": 14,
   "metadata": {},
   "outputs": [],
   "source": [
    "HEURISTIC = \"combined\"\n",
    "MODE = SolverMode.CHEAPEST_FIRST"
   ]
  },
  {
   "cell_type": "code",
   "execution_count": 15,
   "metadata": {},
   "outputs": [
    {
     "data": {
      "text/plain": [
       "(9.270354901259548, 9.270354901259548)"
      ]
     },
     "execution_count": 15,
     "metadata": {},
     "output_type": "execute_result"
    }
   ],
   "source": [
    "all_player_data[\"score\"] = all_player_data[HEURISTIC] * all_player_data[\"form\"]\n",
    "deviation = np.std(all_player_data[\"score\"])\n",
    "scale_factor = deviation\n",
    "scale_factor, deviation"
   ]
  },
  {
   "cell_type": "code",
   "execution_count": 16,
   "metadata": {},
   "outputs": [],
   "source": [
    "START_SAMPLE_GAMEWEEK = config.CURRENT_GAMEWEEK-4\n",
    "END_SAMPLE_GAMEWEEK = config.CURRENT_GAMEWEEK"
   ]
  },
  {
   "cell_type": "code",
   "execution_count": 17,
   "metadata": {},
   "outputs": [],
   "source": [
    "matrix = FixtureDifficultyMatrix(scale_factor, START_SAMPLE_GAMEWEEK, END_SAMPLE_GAMEWEEK)\n",
    "\n",
    "new_players.recalculateFixtureDifficulty(matrix)\n",
    "new_players.calculateScore(HEURISTIC)\n",
    "\n",
    "selected_team.recalculateFixtureDifficulty(matrix)\n",
    "selected_team.calculateScore(HEURISTIC)\n",
    "\n",
    "current_team.recalculateFixtureDifficulty(matrix)\n",
    "current_team.calculateScore(HEURISTIC)"
   ]
  },
  {
   "cell_type": "code",
   "execution_count": 18,
   "metadata": {},
   "outputs": [
    {
     "name": "stdout",
     "output_type": "stream",
     "text": [
      "Current Team:\n"
     ]
    },
    {
     "data": {
      "text/html": [
       "<table><tr><th>ID</th><th>Name</th><th>Cost</th><th>ICT Index</th><th>Total Points</th><th>Form</th><th>Average Fixture Difficulty</th><th>Normalised Average Fixture Difficulty</th><th>Current Fixture Difficulty</th><th>Position</th><th>Availability</th><th>Team</th><th>Captain</th><th>Vice Captain</th><th>Score</th>\n",
       "<tr><td>126</td><td>Mark Flekken</td><td>44.00</td><td>120.9</td><td>123</td><td>5.4</td><td>0.567</td><td>1.236</td><td>0.4250</td><td>GKP</td><td>True</td><td>BRE</td><td>True</td><td>False<td>24.40</td><tr>\n",
       "<tr><td>618</td><td>Matz Sels</td><td>51.00</td><td>86.7</td><td>142</td><td>2.2</td><td>0.238</td><td>-4.867</td><td>0.2750</td><td>GKP</td><td>True</td><td>NFO</td><td>False</td><td>True<td>15.55</td><tr>\n",
       "<tr><td>566</td><td>Dan Burn</td><td>45.00</td><td>97.5</td><td>99</td><td>4.3</td><td>0.293</td><td>-3.843</td><td>0.4500</td><td>DEF</td><td>True</td><td>NEW</td><td>False</td><td>False<td>17.83</td><tr>\n",
       "<tr><td>318</td><td>Ashley Young</td><td>43.00</td><td>70.7</td><td>83</td><td>0.6000000000000001</td><td>0.729</td><td>4.249</td><td>0.4500</td><td>DEF</td><td>True</td><td>EVE</td><td>False</td><td>False<td>-2.64</td><tr>\n",
       "<tr><td>489</td><td>Joško Gvardiol</td><td>63.00</td><td>169.6</td><td>129</td><td>4.6</td><td>0.122</td><td>-7.011</td><td>0.1750</td><td>DEF</td><td>True</td><td>MCI</td><td>False</td><td>False<td>33.09</td><tr>\n",
       "<tr><td>755</td><td>Rayan Aït-Nouri</td><td>50.00</td><td>164.4</td><td>120</td><td>8.0</td><td>0.608</td><td>2.009</td><td>0.8250</td><td>DEF</td><td>True</td><td>WOL</td><td>False</td><td>False<td>42.78</td><tr>\n",
       "<tr><td>280</td><td>Daniel Muñoz</td><td>53.00</td><td>171.6</td><td>127</td><td>2.5</td><td>0.492</td><td>-0.155</td><td>0.7250</td><td>DEF</td><td>True</td><td>CRY</td><td>False</td><td>False<td>14.88</td><tr>\n",
       "<tr><td>145</td><td>Yoane Wissa</td><td>66.00</td><td>209.3</td><td>166</td><td>6.8</td><td>0.567</td><td>1.236</td><td>0.4250</td><td>FWD</td><td>True</td><td>BRE</td><td>False</td><td>False<td>57.66</td><tr>\n",
       "<tr><td>571</td><td>Alexander Isak</td><td>96.00</td><td>271.5</td><td>198</td><td>4.8</td><td>0.293</td><td>-3.843</td><td>0.4500</td><td>FWD</td><td>True</td><td>NEW</td><td>False</td><td>False<td>61.81</td><tr>\n",
       "<tr><td>787</td><td>Jørgen Strand Larsen</td><td>54.00</td><td>165.1</td><td>129</td><td>5.0</td><td>0.608</td><td>2.009</td><td>0.8250</td><td>FWD</td><td>True</td><td>WOL</td><td>False</td><td>False<td>28.27</td><tr>\n",
       "<tr><td>461</td><td>Mohamed Salah</td><td>138.00</td><td>444.3</td><td>328</td><td>4.4</td><td>0.263</td><td>-4.403</td><td>0.4000</td><td>MID</td><td>True</td><td>LIV</td><td>False</td><td>False<td>88.34</td><tr>\n",
       "<tr><td>343</td><td>Alex Iwobi</td><td>56.00</td><td>224.1</td><td>149</td><td>7.0</td><td>0.479</td><td>-0.386</td><td>0.4750</td><td>MID</td><td>True</td><td>FUL</td><td>False</td><td>False<td>55.63</td><tr>\n",
       "<tr><td>134</td><td>Bryan Mbeumo</td><td>81.00</td><td>304.2</td><td>212</td><td>6.6</td><td>0.567</td><td>1.236</td><td>0.4250</td><td>MID</td><td>True</td><td>BRE</td><td>False</td><td>False<td>74.14</td><tr>\n",
       "<tr><td>241</td><td>Cole Palmer</td><td>105.00</td><td>306.3</td><td>197</td><td>3.2</td><td>0.371</td><td>-2.395</td><td>0.6000</td><td>MID</td><td>True</td><td>CHE</td><td>False</td><td>False<td>38.29</td><tr>\n",
       "<tr><td>62</td><td>Morgan Rogers</td><td>57.00</td><td>194.4</td><td>145</td><td>6.4</td><td>0.420</td><td>-1.476</td><td>0.5250</td><td>MID</td><td>True</td><td>AVL</td><td>False</td><td>False<td>48.53</td><tr>\n",
       "</table>"
      ],
      "text/plain": [
       "<modules.team.Team at 0x7fbe60840f80>"
      ]
     },
     "metadata": {},
     "output_type": "display_data"
    },
    {
     "name": "stdout",
     "output_type": "stream",
     "text": [
      "\n",
      "Selected Team:\n"
     ]
    },
    {
     "data": {
      "text/html": [
       "<table><tr><th>ID</th><th>Name</th><th>Cost</th><th>ICT Index</th><th>Total Points</th><th>Form</th><th>Average Fixture Difficulty</th><th>Normalised Average Fixture Difficulty</th><th>Current Fixture Difficulty</th><th>Position</th><th>Availability</th><th>Team</th><th>Captain</th><th>Vice Captain</th><th>Score</th>\n",
       "<tr><td>315</td><td>Jordan Pickford</td><td>51.00</td><td>95.4</td><td>136</td><td>4.0</td><td>0.729</td><td>4.249</td><td>0.4500</td><td>GKP</td><td>True</td><td>EVE</td><td>True</td><td>False<td>14.67</td><tr>\n",
       "<tr><td>126</td><td>Mark Flekken</td><td>44.00</td><td>120.9</td><td>123</td><td>5.4</td><td>0.567</td><td>1.236</td><td>0.4250</td><td>GKP</td><td>True</td><td>BRE</td><td>False</td><td>True<td>24.40</td><tr>\n",
       "<tr><td>123</td><td>Nathan Collins</td><td>45.00</td><td>139.8</td><td>115</td><td>5.0</td><td>0.567</td><td>1.236</td><td>0.4250</td><td>DEF</td><td>True</td><td>BRE</td><td>False</td><td>True<td>21.71</td><tr>\n",
       "<tr><td>585</td><td>Fabian Schär</td><td>56.00</td><td>102.9</td><td>104</td><td>6.3</td><td>0.293</td><td>-3.843</td><td>0.4500</td><td>DEF</td><td>True</td><td>NEW</td><td>False</td><td>False<td>28.03</td><tr>\n",
       "<tr><td>489</td><td>Joško Gvardiol</td><td>63.00</td><td>169.6</td><td>129</td><td>4.6</td><td>0.122</td><td>-7.011</td><td>0.1750</td><td>DEF</td><td>True</td><td>MCI</td><td>False</td><td>False<td>33.09</td><tr>\n",
       "<tr><td>755</td><td>Rayan Aït-Nouri</td><td>50.00</td><td>164.4</td><td>120</td><td>8.0</td><td>0.608</td><td>2.009</td><td>0.8250</td><td>DEF</td><td>True</td><td>WOL</td><td>False</td><td>False<td>42.78</td><tr>\n",
       "<tr><td>220</td><td>Trevoh Chalobah</td><td>44.00</td><td>81.1</td><td>90</td><td>4.6</td><td>0.371</td><td>-2.395</td><td>0.6000</td><td>DEF</td><td>True</td><td>CHE</td><td>False</td><td>False<td>18.88</td><tr>\n",
       "<tr><td>571</td><td>Alexander Isak</td><td>96.00</td><td>271.5</td><td>198</td><td>4.8</td><td>0.293</td><td>-3.843</td><td>0.4500</td><td>FWD</td><td>True</td><td>NEW</td><td>False</td><td>False<td>61.81</td><tr>\n",
       "<tr><td>763</td><td>Matheus Santos Carneiro Da Cunha</td><td>70.00</td><td>251.5</td><td>173</td><td>7.5</td><td>0.608</td><td>2.009</td><td>0.8250</td><td>FWD</td><td>True</td><td>WOL</td><td>False</td><td>False<td>69.45</td><tr>\n",
       "<tr><td>145</td><td>Yoane Wissa</td><td>66.00</td><td>209.3</td><td>166</td><td>6.8</td><td>0.567</td><td>1.236</td><td>0.4250</td><td>FWD</td><td>True</td><td>BRE</td><td>False</td><td>False<td>57.66</td><tr>\n",
       "<tr><td>62</td><td>Morgan Rogers</td><td>57.00</td><td>194.4</td><td>145</td><td>6.4</td><td>0.420</td><td>-1.476</td><td>0.5250</td><td>MID</td><td>True</td><td>AVL</td><td>False</td><td>False<td>48.53</td><tr>\n",
       "<tr><td>343</td><td>Alex Iwobi</td><td>56.00</td><td>224.1</td><td>149</td><td>7.0</td><td>0.479</td><td>-0.386</td><td>0.4750</td><td>MID</td><td>True</td><td>FUL</td><td>False</td><td>False<td>55.63</td><tr>\n",
       "<tr><td>134</td><td>Bryan Mbeumo</td><td>81.00</td><td>304.2</td><td>212</td><td>6.6</td><td>0.567</td><td>1.236</td><td>0.4250</td><td>MID</td><td>True</td><td>BRE</td><td>False</td><td>False<td>74.14</td><tr>\n",
       "<tr><td>726</td><td>Jarrod Bowen</td><td>76.00</td><td>233.9</td><td>155</td><td>7.0</td><td>0.612</td><td>2.086</td><td>0.5500</td><td>MID</td><td>True</td><td>WHU</td><td>False</td><td>False<td>57.58</td><tr>\n",
       "<tr><td>572</td><td>Jacob Murphy</td><td>53.00</td><td>171.1</td><td>149</td><td>8.0</td><td>0.293</td><td>-3.843</td><td>0.4500</td><td>MID</td><td>True</td><td>NEW</td><td>False</td><td>False<td>68.42</td><tr>\n",
       "</table>"
      ],
      "text/plain": [
       "<modules.team.Team at 0x7fbe5f174fe0>"
      ]
     },
     "metadata": {},
     "output_type": "display_data"
    }
   ],
   "source": [
    "print(\"Current Team:\")\n",
    "display(current_team)\n",
    "print()\n",
    "print(\"Selected Team:\")\n",
    "display(selected_team)"
   ]
  },
  {
   "cell_type": "code",
   "execution_count": 19,
   "metadata": {},
   "outputs": [
    {
     "name": "stdout",
     "output_type": "stream",
     "text": [
      "Score difference: 78.23267034519404\n"
     ]
    }
   ],
   "source": [
    "score_dif = selected_team.getTotalScore() - current_team.getTotalScore()\n",
    "print(\"Score difference:\",score_dif)"
   ]
  },
  {
   "cell_type": "code",
   "execution_count": 20,
   "metadata": {},
   "outputs": [],
   "source": [
    "def getBest(pCurrentTeam: Team, pNewTeam: Team, pNewPlayers: Team, pPosition: Position):\n",
    "    currentPositionData = pCurrentTeam.getPlayersListByPosition(pPosition)\n",
    "    newPlayersPositionData = pNewPlayers.getPlayersListByPosition(pPosition)\n",
    "    oldTotalCost = pCurrentTeam.getTotalCost()\n",
    "    maxCost = max(oldTotalCost, TOTAL_BUDGET)\n",
    "    #maxCost = TOTAL_BUDGET\n",
    "\n",
    "    allTransfers = []\n",
    "\n",
    "    for i in range(len(currentPositionData)):\n",
    "        oldPlayer = currentPositionData[i]\n",
    "        oldPlayerCost = oldPlayer.getCost()\n",
    "        for j in range(len(newPlayersPositionData)):\n",
    "\n",
    "            newPlayer = newPlayersPositionData[j]\n",
    "            newCost = oldTotalCost - oldPlayerCost + newPlayer.getCost()\n",
    "\n",
    "            if (newCost <= maxCost):\n",
    "                allTransfers.append(Transfer(oldPlayer, newPlayer))\n",
    "\n",
    "    if (len(allTransfers) >= 1):\n",
    "        bestTransfer = max(allTransfers)\n",
    "        if(bestTransfer.getScoreDif() > 0):\n",
    "            return bestTransfer\n",
    "    else:\n",
    "        return None"
   ]
  },
  {
   "cell_type": "code",
   "execution_count": 21,
   "metadata": {},
   "outputs": [],
   "source": [
    "def get_updated_team(team: pd.DataFrame, old_player: pd.Series, new_player: pd.Series):\n",
    "    team: pd.DataFrame = team.drop(index=old_player.name)\n",
    "    team.loc[len(team)] = new_player\n",
    "    return team"
   ]
  },
  {
   "cell_type": "code",
   "execution_count": 22,
   "metadata": {},
   "outputs": [],
   "source": [
    "def get_bench(team: pd.DataFrame):\n",
    "    positions = [\"FWD\",\"DEF\",\"MID\",\"GKP\"]\n",
    "    team = team.reset_index()\n",
    "    bench = pd.DataFrame(columns=team.columns)\n",
    "    for position in positions:\n",
    "        worst_player_index = team.loc[team[\"position\"]==position][\"score\"].idxmin()\n",
    "        worst_player = team.loc[worst_player_index].copy()\n",
    "        bench.loc[len(bench)] = worst_player\n",
    "        team = team.drop(index=worst_player_index)\n",
    "    return team, bench"
   ]
  },
  {
   "cell_type": "code",
   "execution_count": 23,
   "metadata": {},
   "outputs": [],
   "source": [
    "def getBestTransferNew(pCurrentTeam: Team, pNewTeam: Team, pNewPlayers: Team) -> Transfer | None:\n",
    "    positions = Position.listValues()\n",
    "    bestTransfers = []\n",
    "    for position in positions:\n",
    "        transfer = getBest(pCurrentTeam, pNewTeam, pNewPlayers, position)\n",
    "        if(transfer is not None):\n",
    "            bestTransfers.append(transfer)\n",
    "    actualBestTransfer = max(bestTransfers)\n",
    "    return actualBestTransfer"
   ]
  },
  {
   "cell_type": "code",
   "execution_count": 24,
   "metadata": {},
   "outputs": [],
   "source": [
    "def getNewTeam(pCurrentTeam: Team, pSelectedTeam: Team, pNewPlayers: Team):\n",
    "\n",
    "    TRIPLE_CAPT_THRESHOLD = 0.1\n",
    "\n",
    "    transferData = getBestTransferNew(pCurrentTeam, pSelectedTeam, pNewPlayers)\n",
    "    print(\"Best transfer:\")\n",
    "    print(transferData)\n",
    "    oldPlayer = transferData.getOldPlayer()\n",
    "    newPlayer = transferData.getNewPlayer()\n",
    "    if transferData is None:\n",
    "        return\n",
    "    \n",
    "    changingPosition: Position = transferData.getPosition()\n",
    "    \n",
    "    newTeam = deepcopy(pCurrentTeam)\n",
    "    playersOfPosition = newTeam.getPlayersListByPosition(changingPosition)\n",
    "\n",
    "    for i in range(len(playersOfPosition)):\n",
    "        player = playersOfPosition[i]\n",
    "        if (player.getId() == oldPlayer.getId()):\n",
    "            newTeam.removePlayerByIndex(i, changingPosition)\n",
    "            newTeam.addPlayer(newPlayer)\n",
    "    for player in newTeam.getPlayers():\n",
    "        if(player.getCurrentDifficulty() < TRIPLE_CAPT_THRESHOLD):\n",
    "            print(f\"Suggested triple captain: {player.getName()}\")\n",
    "    return newTeam"
   ]
  },
  {
   "cell_type": "code",
   "execution_count": 25,
   "metadata": {},
   "outputs": [
    {
     "name": "stdout",
     "output_type": "stream",
     "text": [
      "Best transfer:\n",
      "Transfer from Cole Palmer -> Jacob Murphy:\n",
      "Old player: Cole Palmer\tScore: 38.29\tCost: 105\tFixture Difficulty: -2.3948416828253833\n",
      "New player: Jacob Murphy\tScore: 68.42\tCost: 53\tFixture Difficulty: -3.8433584310578564\n",
      "- Cost change: -52\n",
      "- Score change: 30.13\n"
     ]
    },
    {
     "data": {
      "text/html": [
       "<h1>Starting 11</h1>\n",
       "<table><tr><th>ID</th><th>Name</th><th>Cost</th><th>ICT Index</th><th>Total Points</th><th>Form</th><th>Average Fixture Difficulty</th><th>Normalised Average Fixture Difficulty</th><th>Current Fixture Difficulty</th><th>Position</th><th>Availability</th><th>Team</th><th>Captain</th><th>Vice Captain</th><th>Score</th>\n",
       "<tr><td>126</td><td>Mark Flekken</td><td>44.00</td><td>120.9</td><td>123</td><td>5.4</td><td>0.567</td><td>1.236</td><td>0.4250</td><td>GKP</td><td>True</td><td>BRE</td><td>False</td><td>False<td>24.40</td><tr>\n",
       "<tr><td>755</td><td>Rayan Aït-Nouri</td><td>50.00</td><td>164.4</td><td>120</td><td>8.0</td><td>0.608</td><td>2.009</td><td>0.8250</td><td>DEF</td><td>True</td><td>WOL</td><td>False</td><td>False<td>42.78</td><tr>\n",
       "<tr><td>489</td><td>Joško Gvardiol</td><td>63.00</td><td>169.6</td><td>129</td><td>4.6</td><td>0.122</td><td>-7.011</td><td>0.1750</td><td>DEF</td><td>True</td><td>MCI</td><td>False</td><td>False<td>33.09</td><tr>\n",
       "<tr><td>566</td><td>Dan Burn</td><td>45.00</td><td>97.5</td><td>99</td><td>4.3</td><td>0.293</td><td>-3.843</td><td>0.4500</td><td>DEF</td><td>True</td><td>NEW</td><td>False</td><td>False<td>17.83</td><tr>\n",
       "<tr><td>280</td><td>Daniel Muñoz</td><td>53.00</td><td>171.6</td><td>127</td><td>2.5</td><td>0.492</td><td>-0.155</td><td>0.7250</td><td>DEF</td><td>True</td><td>CRY</td><td>False</td><td>False<td>14.88</td><tr>\n",
       "<tr><td>571</td><td>Alexander Isak</td><td>96.00</td><td>271.5</td><td>198</td><td>4.8</td><td>0.293</td><td>-3.843</td><td>0.4500</td><td>FWD</td><td>True</td><td>NEW</td><td>False</td><td>False<td>61.81</td><tr>\n",
       "<tr><td>145</td><td>Yoane Wissa</td><td>66.00</td><td>209.3</td><td>166</td><td>6.8</td><td>0.567</td><td>1.236</td><td>0.4250</td><td>FWD</td><td>True</td><td>BRE</td><td>False</td><td>False<td>57.66</td><tr>\n",
       "<tr><td>461</td><td>Mohamed Salah</td><td>138.00</td><td>444.3</td><td>328</td><td>4.4</td><td>0.263</td><td>-4.403</td><td>0.4000</td><td>MID</td><td>True</td><td>LIV</td><td>True</td><td>False<td>88.34</td><tr>\n",
       "<tr><td>134</td><td>Bryan Mbeumo</td><td>81.00</td><td>304.2</td><td>212</td><td>6.6</td><td>0.567</td><td>1.236</td><td>0.4250</td><td>MID</td><td>True</td><td>BRE</td><td>False</td><td>True<td>74.14</td><tr>\n",
       "<tr><td>572</td><td>Jacob Murphy</td><td>53.00</td><td>171.1</td><td>149</td><td>8.0</td><td>0.293</td><td>-3.843</td><td>0.4500</td><td>MID</td><td>True</td><td>NEW</td><td>False</td><td>False<td>68.42</td><tr>\n",
       "<tr><td>343</td><td>Alex Iwobi</td><td>56.00</td><td>224.1</td><td>149</td><td>7.0</td><td>0.479</td><td>-0.386</td><td>0.4750</td><td>MID</td><td>True</td><td>FUL</td><td>False</td><td>False<td>55.63</td><tr>\n",
       "</table>\n",
       "<h1>Bench</h1>\n",
       "<table><tr><th>ID</th><th>Name</th><th>Cost</th><th>ICT Index</th><th>Total Points</th><th>Form</th><th>Average Fixture Difficulty</th><th>Normalised Average Fixture Difficulty</th><th>Current Fixture Difficulty</th><th>Position</th><th>Availability</th><th>Team</th><th>Captain</th><th>Vice Captain</th><th>Score</th>\n",
       "<tr><td>618</td><td>Matz Sels</td><td>51.00</td><td>86.7</td><td>142</td><td>2.2</td><td>0.238</td><td>-4.867</td><td>0.2750</td><td>GKP</td><td>True</td><td>NFO</td><td>False</td><td>False<td>15.55</td><tr>\n",
       "<tr><td>318</td><td>Ashley Young</td><td>43.00</td><td>70.7</td><td>83</td><td>0.6000000000000001</td><td>0.729</td><td>4.249</td><td>0.4500</td><td>DEF</td><td>True</td><td>EVE</td><td>False</td><td>False<td>-2.64</td><tr>\n",
       "<tr><td>787</td><td>Jørgen Strand Larsen</td><td>54.00</td><td>165.1</td><td>129</td><td>5.0</td><td>0.608</td><td>2.009</td><td>0.8250</td><td>FWD</td><td>True</td><td>WOL</td><td>False</td><td>False<td>28.27</td><tr>\n",
       "<tr><td>62</td><td>Morgan Rogers</td><td>57.00</td><td>194.4</td><td>145</td><td>6.4</td><td>0.420</td><td>-1.476</td><td>0.5250</td><td>MID</td><td>True</td><td>AVL</td><td>False</td><td>False<td>48.53</td><tr>\n",
       "</table>"
      ],
      "text/plain": [
       "<modules.team.BenchTeam at 0x7fbe5ffc22a0>"
      ]
     },
     "metadata": {},
     "output_type": "display_data"
    }
   ],
   "source": [
    "newTeam = getNewTeam(current_team, selected_team, new_players)\n",
    "newTeam = newTeam.toBenchTeam()\n",
    "display(newTeam)"
   ]
  }
 ],
 "metadata": {
  "kernelspec": {
   "display_name": "base",
   "language": "python",
   "name": "python3"
  },
  "language_info": {
   "codemirror_mode": {
    "name": "ipython",
    "version": 3
   },
   "file_extension": ".py",
   "mimetype": "text/x-python",
   "name": "python",
   "nbconvert_exporter": "python",
   "pygments_lexer": "ipython3",
   "version": "3.12.2"
  }
 },
 "nbformat": 4,
 "nbformat_minor": 2
}
