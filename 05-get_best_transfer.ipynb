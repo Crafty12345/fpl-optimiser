{
 "cells": [
  {
   "cell_type": "code",
   "execution_count": 27,
   "metadata": {},
   "outputs": [],
   "source": [
    "import json\n",
    "import pandas as pd\n",
    "import numpy as np\n",
    "from copy import deepcopy\n",
    "from IPython.display import display\n",
    "import re\n",
    "\n",
    "from modules.team import Team, BenchTeam\n",
    "from modules.player import Player, Position\n",
    "from modules.transfer import Transfer\n",
    "from modules.fixture_difficulty_matrix import FixtureDifficultyMatrix\n",
    "from modules.utils import getDataFilesSorted\n",
    "\n",
    "import config"
   ]
  },
  {
   "cell_type": "code",
   "execution_count": 28,
   "metadata": {},
   "outputs": [],
   "source": [
    "CURRENT_DATE = config.CURRENT_DATE\n",
    "teams_filename = f\"./results/{CURRENT_DATE}/results_{CURRENT_DATE}.json\"\n",
    "scores_filename = f\"./results/{CURRENT_DATE}/scores_{CURRENT_DATE}.json\"\n",
    "SELECTED_MODEL_INDEX = 2\n",
    "TOTAL_BUDGET = 1000"
   ]
  },
  {
   "cell_type": "code",
   "execution_count": 29,
   "metadata": {},
   "outputs": [],
   "source": [
    "current_team_names = {\"Jordan Pickford\",\n",
    "                      \"André Onana\",\n",
    "                      \"Nathan Collins\",\n",
    "                      \"Riccardo Calafiori\",\n",
    "                      \"Rayan Aït-Nouri\",\n",
    "                      \"Fabian Schär\",\n",
    "                      \"Daniel Ballard\",\n",
    "                      \"Morgan Rogers\",\n",
    "                      \"Bryan Mbeumo\",\n",
    "                      \"Alex Iwobi\",\n",
    "                      \"Jacob Murphy\",\n",
    "                      \"Brennan Johnson\",\n",
    "                      \"Yoane Wissa\",\n",
    "                      \"Alexander Isak\",\n",
    "                      \"Richarlison de Andrade\",\n",
    "                      }"
   ]
  },
  {
   "cell_type": "code",
   "execution_count": 30,
   "metadata": {},
   "outputs": [],
   "source": [
    "# TODO: Change how files are loaded\n",
    "\n",
    "with open(teams_filename, \"r\") as f:\n",
    "    tempJson: list[dict] = json.load(f)\n",
    "\n",
    "actualJson = tempJson[SELECTED_MODEL_INDEX]"
   ]
  },
  {
   "cell_type": "code",
   "execution_count": 31,
   "metadata": {},
   "outputs": [],
   "source": [
    "all_player_data = pd.DataFrame.from_records(actualJson[\"players\"])"
   ]
  },
  {
   "cell_type": "code",
   "execution_count": 32,
   "metadata": {},
   "outputs": [
    {
     "name": "stdout",
     "output_type": "stream",
     "text": [
      "     cost  form  gameweek  ict_index   id                          name  \\\n",
      "0      55   8.0         2        6.2    1             David Raya Martín   \n",
      "1      45   0.0         2        0.0    2    Kepa Arrizabalaga Revuelta   \n",
      "2      40   0.0         2        0.0    3                     Karl Hein   \n",
      "3      40   0.0         2        0.0    4                 Tommy Setford   \n",
      "4      61   6.0         2        5.0    5  Gabriel dos Santos Magalhães   \n",
      "..    ...   ...       ...        ...  ...                           ...   \n",
      "702    40   0.0         2        0.0  703                   Sam Proctor   \n",
      "703    45   0.0         2        0.0  704                 Tyler Onyango   \n",
      "704    40   0.0         2        0.0  705               Elijah Campbell   \n",
      "705    40   0.0         2        0.0  706                  James Justin   \n",
      "706    55   0.0         2        0.0  707                 Tyler Dibling   \n",
      "\n",
      "    opposing_team  points_last_week  points_per_game position  season  \\\n",
      "0             LEE               6.0              8.0      GKP      26   \n",
      "1             LEE               0.0              0.0      GKP      26   \n",
      "2             LEE               0.0              0.0      GKP      26   \n",
      "3             LEE               0.0              0.0      GKP      26   \n",
      "4             LEE               6.0              6.0      DEF      26   \n",
      "..            ...               ...              ...      ...     ...   \n",
      "702           BRE               0.0              0.0      GKP      26   \n",
      "703           BHA               0.0              0.0      MID      26   \n",
      "704           BHA               0.0              0.0      DEF      26   \n",
      "705           ARS               0.0              0.0      DEF      26   \n",
      "706           BHA               0.0              0.0      MID      26   \n",
      "\n",
      "     starts_per_90 status team  total_points  score  \n",
      "0              1.0      a  ARS            16   16.1  \n",
      "1              0.0      a  ARS             0    0.0  \n",
      "2              0.0      u  ARS             0    0.0  \n",
      "3              0.0      a  ARS             0    0.0  \n",
      "4              1.0      a  ARS            12   12.0  \n",
      "..             ...    ...  ...           ...    ...  \n",
      "702            0.0      a  AVL             0    0.0  \n",
      "703            0.0      a  EVE             0    0.0  \n",
      "704            0.0      a  EVE             0    0.0  \n",
      "705            0.0      a  LEE             0    0.0  \n",
      "706            0.0      a  EVE             0    0.0  \n",
      "\n",
      "[707 rows x 16 columns]\n"
     ]
    }
   ],
   "source": [
    "print(all_player_data)"
   ]
  },
  {
   "cell_type": "code",
   "execution_count": 33,
   "metadata": {},
   "outputs": [],
   "source": [
    "currentTeamPlayers = all_player_data.loc[all_player_data[\"name\"].isin(current_team_names)]\n",
    "\n",
    "\n",
    "for player in current_team_names:\n",
    "    if(player not in currentTeamPlayers[\"name\"].values):\n",
    "        raise ValueError(f\"player '{player}' not found\")"
   ]
  },
  {
   "cell_type": "code",
   "execution_count": 34,
   "metadata": {},
   "outputs": [],
   "source": [
    "current_team = Team.fromDataFrame(currentTeamPlayers)"
   ]
  },
  {
   "cell_type": "code",
   "execution_count": 35,
   "metadata": {},
   "outputs": [
    {
     "data": {
      "text/plain": [
       "969"
      ]
     },
     "execution_count": 35,
     "metadata": {},
     "output_type": "execute_result"
    }
   ],
   "source": [
    "current_team_cost = current_team.getTotalCost()\n",
    "current_team_cost"
   ]
  },
  {
   "cell_type": "code",
   "execution_count": 36,
   "metadata": {},
   "outputs": [],
   "source": [
    "with open(teams_filename,\"r\",encoding=\"utf-8\") as f:\n",
    "    all_data = json.load(f)\n",
    "\n",
    "all_data = all_data[SELECTED_MODEL_INDEX]\n",
    "selected_team_df = pd.DataFrame.from_records(all_data[\"team\"])"
   ]
  },
  {
   "cell_type": "code",
   "execution_count": 37,
   "metadata": {},
   "outputs": [],
   "source": [
    "selected_team = Team.fromDataFrame(selected_team_df)"
   ]
  },
  {
   "cell_type": "code",
   "execution_count": 38,
   "metadata": {},
   "outputs": [
    {
     "data": {
      "text/html": [
       "<table><tr><th>ID</th><th>Name</th><th>Cost</th><th>ICT Index</th><th>Total Points</th><th>Form</th><th>Average Fixture Difficulty</th><th>Normalised Average Fixture Difficulty</th><th>Current Fixture Difficulty</th><th>Position</th><th>Availability</th><th>Team</th><th>Captain</th><th>Vice Captain</th><th>Score</th>\n",
       "<tr><td>565</td><td>Guglielmo Vicario</td><td>50.00</td><td>5.8</td><td>18</td><td>9.0</td><td>0.000</td><td>0.000</td><td>0.0000</td><td>GKP</td><td>True</td><td>TOT</td><td>False</td><td>False<td>17.65</td><tr>\n",
       "<tr><td>287</td><td>Jordan Pickford</td><td>55.00</td><td>7.1</td><td>17</td><td>8.5</td><td>0.000</td><td>0.000</td><td>0.0000</td><td>GKP</td><td>True</td><td>EVE</td><td>False</td><td>False<td>17.09</td><tr>\n",
       "<tr><td>6</td><td>William Saliba</td><td>61.00</td><td>5.5</td><td>15</td><td>7.5</td><td>0.000</td><td>0.000</td><td>0.0000</td><td>DEF</td><td>True</td><td>ARS</td><td>False</td><td>False<td>15.15</td><tr>\n",
       "<tr><td>531</td><td>Daniel Ballard</td><td>46.00</td><td>15.2</td><td>18</td><td>9.0</td><td>0.000</td><td>0.000</td><td>0.0000</td><td>DEF</td><td>False</td><td>SUN</td><td>False</td><td>False<td>17.92</td><tr>\n",
       "<tr><td>8</td><td>Jurriën Timber</td><td>56.00</td><td>20.2</td><td>24</td><td>12.0</td><td>0.000</td><td>0.000</td><td>0.0000</td><td>DEF</td><td>True</td><td>ARS</td><td>False</td><td>True<td>22.92</td><tr>\n",
       "<tr><td>7</td><td>Riccardo Calafiori</td><td>56.00</td><td>15.4</td><td>26</td><td>13.0</td><td>0.000</td><td>0.000</td><td>0.0000</td><td>DEF</td><td>True</td><td>ARS</td><td>True</td><td>False<td>23.89</td><tr>\n",
       "<tr><td>226</td><td>Trevoh Chalobah</td><td>50.00</td><td>10.9</td><td>14</td><td>7.0</td><td>0.000</td><td>0.000</td><td>0.0000</td><td>DEF</td><td>True</td><td>CHE</td><td>False</td><td>False<td>13.80</td><tr>\n",
       "<tr><td>597</td><td>Richarlison de Andrade</td><td>67.00</td><td>20.5</td><td>17</td><td>8.5</td><td>0.000</td><td>0.000</td><td>0.0000</td><td>FWD</td><td>True</td><td>TOT</td><td>False</td><td>False<td>17.08</td><tr>\n",
       "<tr><td>661</td><td>Hugo Ekitiké</td><td>87.00</td><td>19.9</td><td>20</td><td>10.0</td><td>0.000</td><td>0.000</td><td>0.0000</td><td>FWD</td><td>True</td><td>LIV</td><td>False</td><td>False<td>19.67</td><tr>\n",
       "<tr><td>249</td><td>João Pedro Junqueira de Jesus</td><td>76.00</td><td>16.8</td><td>17</td><td>8.5</td><td>0.000</td><td>0.000</td><td>0.0000</td><td>FWD</td><td>True</td><td>CHE</td><td>False</td><td>False<td>16.99</td><tr>\n",
       "<tr><td>580</td><td>Brennan Johnson</td><td>71.00</td><td>16.8</td><td>17</td><td>8.5</td><td>0.000</td><td>0.000</td><td>0.0000</td><td>MID</td><td>True</td><td>TOT</td><td>False</td><td>False<td>17.07</td><tr>\n",
       "<tr><td>384</td><td>Cody Gakpo</td><td>76.00</td><td>20.4</td><td>17</td><td>8.5</td><td>0.000</td><td>0.000</td><td>0.0000</td><td>MID</td><td>True</td><td>LIV</td><td>False</td><td>False<td>17.13</td><tr>\n",
       "<tr><td>205</td><td>Josh Cullen</td><td>50.00</td><td>18.7</td><td>18</td><td>9.0</td><td>0.000</td><td>0.000</td><td>0.0000</td><td>MID</td><td>True</td><td>BUR</td><td>False</td><td>False<td>17.63</td><tr>\n",
       "<tr><td>82</td><td>Antoine Semenyo</td><td>72.00</td><td>20.1</td><td>21</td><td>10.5</td><td>0.000</td><td>0.000</td><td>0.0000</td><td>MID</td><td>True</td><td>BOU</td><td>False</td><td>False<td>20.50</td><tr>\n",
       "<tr><td>669</td><td>Dan Ndoye</td><td>60.00</td><td>12.1</td><td>16</td><td>8.0</td><td>0.000</td><td>0.000</td><td>0.0000</td><td>MID</td><td>True</td><td>NFO</td><td>False</td><td>False<td>15.83</td><tr>\n",
       "</table>"
      ],
      "text/plain": [
       "<modules.team.Team at 0x7f96d78c2570>"
      ]
     },
     "metadata": {},
     "output_type": "display_data"
    }
   ],
   "source": [
    "display(selected_team)"
   ]
  },
  {
   "cell_type": "code",
   "execution_count": 39,
   "metadata": {},
   "outputs": [
    {
     "name": "stdout",
     "output_type": "stream",
     "text": [
      "\n",
      "Total Score: 177.27\n",
      "\n",
      "Goalkeepers:\n",
      "- Guglielmo Vicario\tScore: 17.65\tCost: 50\tFixture Difficulty: 0.0\n",
      "Defenders:\n",
      "- William Saliba\tScore: 15.15\tCost: 61\tFixture Difficulty: 0.0\n",
      "- Jurriën Timber (Captain) \tScore: 22.92\tCost: 56\tFixture Difficulty: 0.0\n",
      "- Trevoh Chalobah\tScore: 13.8\tCost: 50\tFixture Difficulty: 0.0\n",
      "Attackers:\n",
      "- Hugo Ekitiké\tScore: 19.67\tCost: 87\tFixture Difficulty: 0.0\n",
      "- João Pedro Junqueira de Jesus\tScore: 16.99\tCost: 76\tFixture Difficulty: 0.0\n",
      "Midfielders:\n",
      "- Cody Gakpo\tScore: 17.13\tCost: 76\tFixture Difficulty: 0.0\n",
      "- Josh Cullen\tScore: 17.63\tCost: 50\tFixture Difficulty: 0.0\n",
      "- Antoine Semenyo (Vice Captain) \tScore: 20.5\tCost: 72\tFixture Difficulty: 0.0\n",
      "- Dan Ndoye\tScore: 15.83\tCost: 60\tFixture Difficulty: 0.0\n"
     ]
    }
   ],
   "source": [
    "new_players = selected_team - current_team\n",
    "print(new_players)"
   ]
  },
  {
   "cell_type": "code",
   "execution_count": 40,
   "metadata": {},
   "outputs": [
    {
     "name": "stdout",
     "output_type": "stream",
     "text": [
      "Added cost: -36\n"
     ]
    }
   ],
   "source": [
    "new_team_cost = selected_team.getTotalCost()\n",
    "new_team_cost\n",
    "\n",
    "added_cost = new_team_cost - current_team_cost\n",
    "print(\"Added cost:\",added_cost)\n",
    "\n",
    "surplus = current_team_cost - new_team_cost\n"
   ]
  },
  {
   "cell_type": "code",
   "execution_count": 41,
   "metadata": {},
   "outputs": [],
   "source": [
    "#HEURISTIC = \"combined\"\n",
    "#MODE = SolverMode.CHEAPEST_FIRST"
   ]
  },
  {
   "cell_type": "code",
   "execution_count": 42,
   "metadata": {},
   "outputs": [
    {
     "data": {
      "text/plain": [
       "(4.193334086968382, 4.193334086968382)"
      ]
     },
     "execution_count": 42,
     "metadata": {},
     "output_type": "execute_result"
    }
   ],
   "source": [
    "# all_player_data[\"score\"] = all_player_data[HEURISTIC] * all_player_data[\"form\"]\n",
    "deviation = np.std(all_player_data[\"score\"])\n",
    "scale_factor = deviation\n",
    "scale_factor, deviation"
   ]
  },
  {
   "cell_type": "code",
   "execution_count": 43,
   "metadata": {},
   "outputs": [],
   "source": [
    "START_SAMPLE_GAMEWEEK = config.CURRENT_GAMEWEEK\n",
    "END_SAMPLE_GAMEWEEK = min(config.CURRENT_GAMEWEEK+2, 39)"
   ]
  },
  {
   "cell_type": "code",
   "execution_count": 44,
   "metadata": {},
   "outputs": [
    {
     "name": "stdout",
     "output_type": "stream",
     "text": [
      "Warning: IPS does not have any games in gameweek 3 of season 26\n",
      "Warning: LEI does not have any games in gameweek 3 of season 26\n",
      "Warning: SOU does not have any games in gameweek 3 of season 26\n",
      "Warning: IPS does not have any games in gameweek 3 of season 26\n",
      "Warning: LEI does not have any games in gameweek 3 of season 26\n",
      "Warning: SOU does not have any games in gameweek 3 of season 26\n"
     ]
    }
   ],
   "source": [
    "matrix = FixtureDifficultyMatrix(scale_factor, START_SAMPLE_GAMEWEEK, END_SAMPLE_GAMEWEEK, config.CURRENT_SEASON)\n",
    "matrix.precomputeFixtureDifficulty(scale_factor)\n",
    "\n",
    "new_players.recalculateFixtureDifficulty(matrix)\n",
    "# new_players.calculateScore(HEURISTIC)\n",
    "\n",
    "# selected_team.recalculateFixtureDifficulty(matrix)\n",
    "# selected_team.calculateScore(HEURISTIC)\n",
    "\n",
    "# current_team.recalculateFixtureDifficulty(matrix)\n",
    "# current_team.calculateScore(HEURISTIC)"
   ]
  },
  {
   "cell_type": "code",
   "execution_count": 45,
   "metadata": {},
   "outputs": [
    {
     "name": "stdout",
     "output_type": "stream",
     "text": [
      "Current Team:\n"
     ]
    },
    {
     "data": {
      "text/html": [
       "<table><tr><th>ID</th><th>Name</th><th>Cost</th><th>ICT Index</th><th>Total Points</th><th>Form</th><th>Average Fixture Difficulty</th><th>Normalised Average Fixture Difficulty</th><th>Current Fixture Difficulty</th><th>Position</th><th>Availability</th><th>Team</th><th>Captain</th><th>Vice Captain</th><th>Score</th>\n",
       "<tr><td>287</td><td>Jordan Pickford</td><td>55.00</td><td>7.1</td><td>17</td><td>8.5</td><td>0.000</td><td>0.000</td><td>0.0000</td><td>GKP</td><td>True</td><td>EVE</td><td>False</td><td>False<td>17.09</td><tr>\n",
       "<tr><td>432</td><td>André Onana</td><td>50.00</td><td>0.0</td><td>0</td><td>0.0</td><td>0.000</td><td>0.000</td><td>0.0000</td><td>GKP</td><td>True</td><td>MUN</td><td>False</td><td>False<td>0.00</td><tr>\n",
       "<tr><td>7</td><td>Riccardo Calafiori</td><td>56.00</td><td>15.4</td><td>26</td><td>13.0</td><td>0.000</td><td>0.000</td><td>0.0000</td><td>DEF</td><td>True</td><td>ARS</td><td>True</td><td>False<td>23.89</td><tr>\n",
       "<tr><td>106</td><td>Nathan Collins</td><td>50.00</td><td>4.2</td><td>9</td><td>4.5</td><td>0.000</td><td>0.000</td><td>0.0000</td><td>DEF</td><td>True</td><td>BRE</td><td>False</td><td>False<td>9.00</td><tr>\n",
       "<tr><td>402</td><td>Rayan Aït-Nouri</td><td>61.00</td><td>4.7</td><td>10</td><td>5.0</td><td>0.000</td><td>0.000</td><td>0.0000</td><td>DEF</td><td>True</td><td>MCI</td><td>False</td><td>False<td>10.00</td><tr>\n",
       "<tr><td>474</td><td>Fabian Schär</td><td>55.00</td><td>4.2</td><td>9</td><td>4.5</td><td>0.000</td><td>0.000</td><td>0.0000</td><td>DEF</td><td>True</td><td>NEW</td><td>False</td><td>False<td>9.00</td><tr>\n",
       "<tr><td>531</td><td>Daniel Ballard</td><td>46.00</td><td>15.2</td><td>18</td><td>9.0</td><td>0.000</td><td>0.000</td><td>0.0000</td><td>DEF</td><td>False</td><td>SUN</td><td>False</td><td>True<td>17.92</td><tr>\n",
       "<tr><td>135</td><td>Yoane Wissa</td><td>75.00</td><td>0.0</td><td>0</td><td>0.0</td><td>0.000</td><td>0.000</td><td>0.0000</td><td>FWD</td><td>False</td><td>BRE</td><td>False</td><td>False<td>0.00</td><tr>\n",
       "<tr><td>499</td><td>Alexander Isak</td><td>104.00</td><td>0.0</td><td>0</td><td>0.0</td><td>0.000</td><td>0.000</td><td>0.0000</td><td>FWD</td><td>False</td><td>NEW</td><td>False</td><td>False<td>0.00</td><tr>\n",
       "<tr><td>597</td><td>Richarlison de Andrade</td><td>67.00</td><td>20.5</td><td>17</td><td>8.5</td><td>0.000</td><td>0.000</td><td>0.0000</td><td>FWD</td><td>True</td><td>TOT</td><td>False</td><td>False<td>17.08</td><tr>\n",
       "<tr><td>47</td><td>Morgan Rogers</td><td>70.00</td><td>7.4</td><td>5</td><td>2.5</td><td>0.000</td><td>0.000</td><td>0.0000</td><td>MID</td><td>True</td><td>AVL</td><td>False</td><td>False<td>5.00</td><tr>\n",
       "<tr><td>119</td><td>Bryan Mbeumo</td><td>80.00</td><td>13.9</td><td>4</td><td>2.0</td><td>0.000</td><td>0.000</td><td>0.0000</td><td>MID</td><td>True</td><td>MUN</td><td>False</td><td>False<td>4.00</td><tr>\n",
       "<tr><td>324</td><td>Alex Iwobi</td><td>65.00</td><td>11.5</td><td>9</td><td>4.5</td><td>0.000</td><td>0.000</td><td>0.0000</td><td>MID</td><td>True</td><td>FUL</td><td>False</td><td>False<td>9.00</td><tr>\n",
       "<tr><td>489</td><td>Jacob Murphy</td><td>64.00</td><td>0.6</td><td>1</td><td>0.5</td><td>0.000</td><td>0.000</td><td>0.0000</td><td>MID</td><td>True</td><td>NEW</td><td>False</td><td>False<td>1.00</td><tr>\n",
       "<tr><td>580</td><td>Brennan Johnson</td><td>71.00</td><td>16.8</td><td>17</td><td>8.5</td><td>0.000</td><td>0.000</td><td>0.0000</td><td>MID</td><td>True</td><td>TOT</td><td>False</td><td>False<td>17.07</td><tr>\n",
       "</table>"
      ],
      "text/plain": [
       "<modules.team.Team at 0x7f96cb651a30>"
      ]
     },
     "metadata": {},
     "output_type": "display_data"
    },
    {
     "name": "stdout",
     "output_type": "stream",
     "text": [
      "\n",
      "Selected Team:\n"
     ]
    },
    {
     "data": {
      "text/html": [
       "<table><tr><th>ID</th><th>Name</th><th>Cost</th><th>ICT Index</th><th>Total Points</th><th>Form</th><th>Average Fixture Difficulty</th><th>Normalised Average Fixture Difficulty</th><th>Current Fixture Difficulty</th><th>Position</th><th>Availability</th><th>Team</th><th>Captain</th><th>Vice Captain</th><th>Score</th>\n",
       "<tr><td>565</td><td>Guglielmo Vicario</td><td>50.00</td><td>5.8</td><td>18</td><td>9.0</td><td>0.207</td><td>-2.461</td><td>0.2174</td><td>GKP</td><td>True</td><td>TOT</td><td>False</td><td>False<td>17.65</td><tr>\n",
       "<tr><td>287</td><td>Jordan Pickford</td><td>55.00</td><td>7.1</td><td>17</td><td>8.5</td><td>0.000</td><td>0.000</td><td>0.0000</td><td>GKP</td><td>True</td><td>EVE</td><td>False</td><td>False<td>17.09</td><tr>\n",
       "<tr><td>6</td><td>William Saliba</td><td>61.00</td><td>5.5</td><td>15</td><td>7.5</td><td>0.505</td><td>0.046</td><td>0.5435</td><td>DEF</td><td>True</td><td>ARS</td><td>False</td><td>False<td>15.15</td><tr>\n",
       "<tr><td>531</td><td>Daniel Ballard</td><td>46.00</td><td>15.2</td><td>18</td><td>9.0</td><td>0.000</td><td>0.000</td><td>0.0000</td><td>DEF</td><td>False</td><td>SUN</td><td>False</td><td>False<td>17.92</td><tr>\n",
       "<tr><td>8</td><td>Jurriën Timber</td><td>56.00</td><td>20.2</td><td>24</td><td>12.0</td><td>0.505</td><td>0.046</td><td>0.5435</td><td>DEF</td><td>True</td><td>ARS</td><td>True</td><td>False<td>22.92</td><tr>\n",
       "<tr><td>7</td><td>Riccardo Calafiori</td><td>56.00</td><td>15.4</td><td>26</td><td>13.0</td><td>0.000</td><td>0.000</td><td>0.0000</td><td>DEF</td><td>True</td><td>ARS</td><td>True</td><td>False<td>23.89</td><tr>\n",
       "<tr><td>226</td><td>Trevoh Chalobah</td><td>50.00</td><td>10.9</td><td>14</td><td>7.0</td><td>0.473</td><td>-0.228</td><td>0.5435</td><td>DEF</td><td>True</td><td>CHE</td><td>False</td><td>False<td>13.80</td><tr>\n",
       "<tr><td>597</td><td>Richarlison de Andrade</td><td>67.00</td><td>20.5</td><td>17</td><td>8.5</td><td>0.000</td><td>0.000</td><td>0.0000</td><td>FWD</td><td>True</td><td>TOT</td><td>False</td><td>False<td>17.08</td><tr>\n",
       "<tr><td>661</td><td>Hugo Ekitiké</td><td>87.00</td><td>19.9</td><td>20</td><td>10.0</td><td>0.315</td><td>-1.550</td><td>0.4565</td><td>FWD</td><td>True</td><td>LIV</td><td>False</td><td>False<td>19.67</td><tr>\n",
       "<tr><td>249</td><td>João Pedro Junqueira de Jesus</td><td>76.00</td><td>16.8</td><td>17</td><td>8.5</td><td>0.473</td><td>-0.228</td><td>0.5435</td><td>FWD</td><td>True</td><td>CHE</td><td>False</td><td>False<td>16.99</td><tr>\n",
       "<tr><td>580</td><td>Brennan Johnson</td><td>71.00</td><td>16.8</td><td>17</td><td>8.5</td><td>0.000</td><td>0.000</td><td>0.0000</td><td>MID</td><td>True</td><td>TOT</td><td>False</td><td>False<td>17.07</td><tr>\n",
       "<tr><td>384</td><td>Cody Gakpo</td><td>76.00</td><td>20.4</td><td>17</td><td>8.5</td><td>0.315</td><td>-1.550</td><td>0.4565</td><td>MID</td><td>True</td><td>LIV</td><td>False</td><td>False<td>17.13</td><tr>\n",
       "<tr><td>205</td><td>Josh Cullen</td><td>50.00</td><td>18.7</td><td>18</td><td>9.0</td><td>0.755</td><td>2.142</td><td>0.5652</td><td>MID</td><td>True</td><td>BUR</td><td>False</td><td>False<td>17.63</td><tr>\n",
       "<tr><td>82</td><td>Antoine Semenyo</td><td>72.00</td><td>20.1</td><td>21</td><td>10.5</td><td>0.679</td><td>1.504</td><td>0.7826</td><td>MID</td><td>True</td><td>BOU</td><td>False</td><td>True<td>20.50</td><tr>\n",
       "<tr><td>669</td><td>Dan Ndoye</td><td>60.00</td><td>12.1</td><td>16</td><td>8.0</td><td>0.364</td><td>-1.139</td><td>0.1957</td><td>MID</td><td>True</td><td>NFO</td><td>False</td><td>False<td>15.83</td><tr>\n",
       "</table>"
      ],
      "text/plain": [
       "<modules.team.Team at 0x7f96d78c2570>"
      ]
     },
     "metadata": {},
     "output_type": "display_data"
    }
   ],
   "source": [
    "print(\"Current Team:\")\n",
    "display(current_team)\n",
    "print()\n",
    "print(\"Selected Team:\")\n",
    "display(selected_team)"
   ]
  },
  {
   "cell_type": "code",
   "execution_count": 46,
   "metadata": {},
   "outputs": [
    {
     "name": "stdout",
     "output_type": "stream",
     "text": [
      "Score difference: 130.26999999999998\n"
     ]
    }
   ],
   "source": [
    "score_dif = selected_team.getTotalScore() - current_team.getTotalScore()\n",
    "print(\"Score difference:\",score_dif)"
   ]
  },
  {
   "cell_type": "code",
   "execution_count": 47,
   "metadata": {},
   "outputs": [],
   "source": [
    "def getBest(pCurrentTeam: Team, pNewTeam: Team, pNewPlayers: Team, pPosition: Position):\n",
    "    currentPositionData = pCurrentTeam.getPlayersListByPosition(pPosition)\n",
    "    newPlayersPositionData = pNewPlayers.getPlayersListByPosition(pPosition)\n",
    "    oldTotalCost = pCurrentTeam.getTotalCost()\n",
    "    maxCost = max(oldTotalCost, TOTAL_BUDGET)\n",
    "    #maxCost = TOTAL_BUDGET\n",
    "\n",
    "    allTransfers = []\n",
    "\n",
    "    for i in range(len(currentPositionData)):\n",
    "        oldPlayer = currentPositionData[i]\n",
    "        oldPlayerCost = oldPlayer.getCost()\n",
    "        for j in range(len(newPlayersPositionData)):\n",
    "\n",
    "            newPlayer = newPlayersPositionData[j]\n",
    "            newCost = oldTotalCost - oldPlayerCost + newPlayer.getCost()\n",
    "\n",
    "            if (newCost <= maxCost):\n",
    "                allTransfers.append(Transfer(oldPlayer, newPlayer))\n",
    "\n",
    "    if (len(allTransfers) >= 1):\n",
    "        bestTransfer = max(allTransfers)\n",
    "        if(bestTransfer.getScoreDif() > 0):\n",
    "            return bestTransfer\n",
    "    else:\n",
    "        return None"
   ]
  },
  {
   "cell_type": "code",
   "execution_count": 48,
   "metadata": {},
   "outputs": [],
   "source": [
    "def get_updated_team(team: pd.DataFrame, old_player: pd.Series, new_player: pd.Series):\n",
    "    team: pd.DataFrame = team.drop(index=old_player.name)\n",
    "    team.loc[len(team)] = new_player\n",
    "    return team"
   ]
  },
  {
   "cell_type": "code",
   "execution_count": 49,
   "metadata": {},
   "outputs": [],
   "source": [
    "def get_bench(team: pd.DataFrame):\n",
    "    positions = [\"FWD\",\"DEF\",\"MID\",\"GKP\"]\n",
    "    team = team.reset_index()\n",
    "    bench = pd.DataFrame(columns=team.columns)\n",
    "    for position in positions:\n",
    "        worst_player_index = team.loc[team[\"position\"]==position][\"score\"].idxmin()\n",
    "        worst_player = team.loc[worst_player_index].copy()\n",
    "        bench.loc[len(bench)] = worst_player\n",
    "        team = team.drop(index=worst_player_index)\n",
    "    return team, bench"
   ]
  },
  {
   "cell_type": "code",
   "execution_count": 50,
   "metadata": {},
   "outputs": [],
   "source": [
    "def getBestTransferNew(pCurrentTeam: Team, pNewTeam: Team, pNewPlayers: Team) -> Transfer | None:\n",
    "    positions = Position.listValues()\n",
    "    bestTransfers = []\n",
    "    for position in positions:\n",
    "        transfer = getBest(pCurrentTeam, pNewTeam, pNewPlayers, position)\n",
    "        if(transfer is not None):\n",
    "            bestTransfers.append(transfer)\n",
    "    actualBestTransfer = max(bestTransfers)\n",
    "    return actualBestTransfer"
   ]
  },
  {
   "cell_type": "code",
   "execution_count": 51,
   "metadata": {},
   "outputs": [],
   "source": [
    "def getNewTeam(pCurrentTeam: Team, pSelectedTeam: Team, pNewPlayers: Team, pMatrix: FixtureDifficultyMatrix):\n",
    "\n",
    "    TRIPLE_CAPT_THRESHOLD = 0.1\n",
    "\n",
    "    transferData = getBestTransferNew(pCurrentTeam, pSelectedTeam, pNewPlayers)\n",
    "    print(\"Best transfer:\")\n",
    "    print(transferData)\n",
    "    oldPlayer = transferData.getOldPlayer()\n",
    "    newPlayer = transferData.getNewPlayer()\n",
    "    if transferData is None:\n",
    "        return\n",
    "    \n",
    "    changingPosition: Position = transferData.getPosition()\n",
    "    \n",
    "    newTeam = deepcopy(pCurrentTeam)\n",
    "    playersOfPosition = newTeam.getPlayersListByPosition(changingPosition)\n",
    "\n",
    "    for i in range(len(playersOfPosition)):\n",
    "        player = playersOfPosition[i]\n",
    "        if (player.getId() == oldPlayer.getId()):\n",
    "            newTeam.removePlayerByIndex(i, changingPosition)\n",
    "            newTeam.addPlayer(newPlayer)\n",
    "    \n",
    "\n",
    "    newTeam.recalculateFixtureDifficulty(pMatrix)\n",
    "\n",
    "    for player in newTeam.getPlayers():\n",
    "        if(player.getCurrentDifficulty() < TRIPLE_CAPT_THRESHOLD):\n",
    "            print(f\"Suggested triple captain: {player.getName()}\")\n",
    "    return newTeam"
   ]
  },
  {
   "cell_type": "code",
   "execution_count": 52,
   "metadata": {},
   "outputs": [
    {
     "name": "stdout",
     "output_type": "stream",
     "text": [
      "Best transfer:\n",
      "Transfer from Yoane Wissa -> Hugo Ekitiké:\n",
      "Old player: Yoane Wissa\tScore: 0.0\tCost: 75\tFixture Difficulty: 0.0\n",
      "New player: Hugo Ekitiké\tScore: 19.67\tCost: 87\tFixture Difficulty: -1.5497104234448371\n",
      "- Cost change: 12\n",
      "- Score change: 19.67\n"
     ]
    },
    {
     "data": {
      "text/html": [
       "<h1>Starting 11</h1>\n",
       "<table><tr><th>ID</th><th>Name</th><th>Cost</th><th>ICT Index</th><th>Total Points</th><th>Form</th><th>Average Fixture Difficulty</th><th>Normalised Average Fixture Difficulty</th><th>Current Fixture Difficulty</th><th>Position</th><th>Availability</th><th>Team</th><th>Captain</th><th>Vice Captain</th><th>Score</th>\n",
       "<tr><td>287</td><td>Jordan Pickford</td><td>55.00</td><td>7.1</td><td>17</td><td>8.5</td><td>0.500</td><td>0.000</td><td>0.3043</td><td>GKP</td><td>True</td><td>EVE</td><td>False</td><td>False<td>17.09</td><tr>\n",
       "<tr><td>7</td><td>Riccardo Calafiori</td><td>56.00</td><td>15.4</td><td>26</td><td>13.0</td><td>0.505</td><td>0.046</td><td>0.5435</td><td>DEF</td><td>True</td><td>ARS</td><td>True</td><td>False<td>23.89</td><tr>\n",
       "<tr><td>531</td><td>Daniel Ballard</td><td>46.00</td><td>15.2</td><td>18</td><td>9.0</td><td>0.304</td><td>-1.641</td><td>0.1739</td><td>DEF</td><td>False</td><td>SUN</td><td>False</td><td>False<td>17.92</td><tr>\n",
       "<tr><td>402</td><td>Rayan Aït-Nouri</td><td>61.00</td><td>4.7</td><td>10</td><td>5.0</td><td>0.266</td><td>-1.960</td><td>0.3478</td><td>DEF</td><td>True</td><td>MCI</td><td>False</td><td>False<td>10.00</td><tr>\n",
       "<tr><td>474</td><td>Fabian Schär</td><td>55.00</td><td>4.2</td><td>9</td><td>4.5</td><td>0.500</td><td>-0.000</td><td>0.6304</td><td>DEF</td><td>True</td><td>NEW</td><td>False</td><td>False<td>9.00</td><tr>\n",
       "<tr><td>661</td><td>Hugo Ekitiké</td><td>87.00</td><td>19.9</td><td>20</td><td>10.0</td><td>0.315</td><td>-1.550</td><td>0.4565</td><td>FWD</td><td>True</td><td>LIV</td><td>False</td><td>True<td>19.67</td><tr>\n",
       "<tr><td>597</td><td>Richarlison de Andrade</td><td>67.00</td><td>20.5</td><td>17</td><td>8.5</td><td>0.207</td><td>-2.461</td><td>0.2174</td><td>FWD</td><td>True</td><td>TOT</td><td>False</td><td>False<td>17.08</td><tr>\n",
       "<tr><td>580</td><td>Brennan Johnson</td><td>71.00</td><td>16.8</td><td>17</td><td>8.5</td><td>0.207</td><td>-2.461</td><td>0.2174</td><td>MID</td><td>True</td><td>TOT</td><td>False</td><td>False<td>17.07</td><tr>\n",
       "<tr><td>324</td><td>Alex Iwobi</td><td>65.00</td><td>11.5</td><td>9</td><td>4.5</td><td>0.451</td><td>-0.410</td><td>0.4565</td><td>MID</td><td>True</td><td>FUL</td><td>False</td><td>False<td>9.00</td><tr>\n",
       "<tr><td>47</td><td>Morgan Rogers</td><td>70.00</td><td>7.4</td><td>5</td><td>2.5</td><td>0.516</td><td>0.137</td><td>0.4565</td><td>MID</td><td>True</td><td>AVL</td><td>False</td><td>False<td>5.00</td><tr>\n",
       "<tr><td>119</td><td>Bryan Mbeumo</td><td>80.00</td><td>13.9</td><td>4</td><td>2.0</td><td>0.571</td><td>0.593</td><td>0.4348</td><td>MID</td><td>True</td><td>MUN</td><td>False</td><td>False<td>4.00</td><tr>\n",
       "</table>\n",
       "<h1>Bench</h1>\n",
       "<table><tr><th>ID</th><th>Name</th><th>Cost</th><th>ICT Index</th><th>Total Points</th><th>Form</th><th>Average Fixture Difficulty</th><th>Normalised Average Fixture Difficulty</th><th>Current Fixture Difficulty</th><th>Position</th><th>Availability</th><th>Team</th><th>Captain</th><th>Vice Captain</th><th>Score</th>\n",
       "<tr><td>432</td><td>André Onana</td><td>50.00</td><td>0.0</td><td>0</td><td>0.0</td><td>0.571</td><td>0.593</td><td>0.4348</td><td>GKP</td><td>True</td><td>MUN</td><td>False</td><td>False<td>0.00</td><tr>\n",
       "<tr><td>106</td><td>Nathan Collins</td><td>50.00</td><td>4.2</td><td>9</td><td>4.5</td><td>0.668</td><td>1.413</td><td>0.8261</td><td>DEF</td><td>True</td><td>BRE</td><td>False</td><td>False<td>9.00</td><tr>\n",
       "<tr><td>499</td><td>Alexander Isak</td><td>104.00</td><td>0.0</td><td>0</td><td>0.0</td><td>0.500</td><td>-0.000</td><td>0.6304</td><td>FWD</td><td>False</td><td>NEW</td><td>False</td><td>False<td>0.00</td><tr>\n",
       "<tr><td>489</td><td>Jacob Murphy</td><td>64.00</td><td>0.6</td><td>1</td><td>0.5</td><td>0.500</td><td>-0.000</td><td>0.6304</td><td>MID</td><td>True</td><td>NEW</td><td>False</td><td>False<td>1.00</td><tr>\n",
       "</table>"
      ],
      "text/plain": [
       "<modules.team.BenchTeam at 0x7f96d78c2480>"
      ]
     },
     "metadata": {},
     "output_type": "display_data"
    }
   ],
   "source": [
    "newTeam = getNewTeam(current_team, selected_team, new_players, matrix)\n",
    "newTeam = newTeam.toBenchTeam()\n",
    "display(newTeam)"
   ]
  }
 ],
 "metadata": {
  "kernelspec": {
   "display_name": "base",
   "language": "python",
   "name": "python3"
  },
  "language_info": {
   "codemirror_mode": {
    "name": "ipython",
    "version": 3
   },
   "file_extension": ".py",
   "mimetype": "text/x-python",
   "name": "python",
   "nbconvert_exporter": "python",
   "pygments_lexer": "ipython3",
   "version": "3.12.2"
  }
 },
 "nbformat": 4,
 "nbformat_minor": 2
}
