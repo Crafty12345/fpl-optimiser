{
 "cells": [
  {
   "cell_type": "code",
   "execution_count": 27,
   "metadata": {},
   "outputs": [],
   "source": [
    "import json\n",
    "import pandas as pd\n",
    "import numpy as np\n",
    "from copy import deepcopy\n",
    "from IPython.display import display\n",
    "import re\n",
    "\n",
    "from modules.team import Team, BenchTeam\n",
    "from modules.player import Player, Position\n",
    "from modules.transfer import Transfer\n",
    "from modules.fixture_difficulty_matrix import FixtureDifficultyMatrix\n",
    "from modules.utils import getDataFilesSorted\n",
    "\n",
    "import config"
   ]
  },
  {
   "cell_type": "code",
   "execution_count": 28,
   "metadata": {},
   "outputs": [],
   "source": [
    "CURRENT_DATE = config.CURRENT_DATE\n",
    "teams_filename = f\"./results/{CURRENT_DATE}/results_{CURRENT_DATE}.json\"\n",
    "scores_filename = f\"./results/{CURRENT_DATE}/scores_{CURRENT_DATE}.json\"\n",
    "SELECTED_MODEL_INDEX = 2\n",
    "TOTAL_BUDGET = 1000"
   ]
  },
  {
   "cell_type": "code",
   "execution_count": 29,
   "metadata": {},
   "outputs": [],
   "source": [
    "current_team_names = {\"Jordan Pickford\",\n",
    "                      \"André Onana\",\n",
    "                      \"Nathan Collins\",\n",
    "                      \"Riccardo Calafiori\",\n",
    "                      \"Rayan Aït-Nouri\",\n",
    "                      \"Fabian Schär\",\n",
    "                      \"Daniel Ballard\",\n",
    "                      \"Morgan Rogers\",\n",
    "                      \"Bryan Mbeumo\",\n",
    "                      \"Alex Iwobi\",\n",
    "                      \"Jacob Murphy\",\n",
    "                      \"Brennan Johnson\",\n",
    "                      \"Hugo Ekitiké\",\n",
    "                      \"João Pedro Junqueira de Jesus\",\n",
    "                      \"Richarlison de Andrade\",\n",
    "                      }"
   ]
  },
  {
   "cell_type": "code",
   "execution_count": 30,
   "metadata": {},
   "outputs": [],
   "source": [
    "# TODO: Change how files are loaded\n",
    "\n",
    "with open(teams_filename, \"r\") as f:\n",
    "    tempJson: list[dict] = json.load(f)\n",
    "\n",
    "actualJson = tempJson[SELECTED_MODEL_INDEX]"
   ]
  },
  {
   "cell_type": "code",
   "execution_count": 31,
   "metadata": {},
   "outputs": [],
   "source": [
    "all_player_data = pd.DataFrame.from_records(actualJson[\"players\"])"
   ]
  },
  {
   "cell_type": "code",
   "execution_count": 32,
   "metadata": {},
   "outputs": [
    {
     "name": "stdout",
     "output_type": "stream",
     "text": [
      "     cost  form  gameweek  ict_index   id                          name  \\\n",
      "0      55   6.0         3        9.2    1             David Raya Martín   \n",
      "1      44   0.0         3        0.0    2    Kepa Arrizabalaga Revuelta   \n",
      "2      40   0.0         3        0.0    3                     Karl Hein   \n",
      "3      40   0.0         3        0.0    4                 Tommy Setford   \n",
      "4      61   4.7         3        6.9    5  Gabriel dos Santos Magalhães   \n",
      "..    ...   ...       ...        ...  ...                           ...   \n",
      "731    55   0.0         3        0.0  732              Christantus Uche   \n",
      "732    50   0.0         3        0.0  733                 Senne Lammens   \n",
      "733    60   0.0         3        0.0  734                  Dilane Bakwa   \n",
      "734    55   0.0         3        0.0  735               Bertrand Traoré   \n",
      "735    55   0.0         3        0.0  736          Gianluigi Donnarumma   \n",
      "\n",
      "    opposing_team  points_last_week  points_per_game position  season  \\\n",
      "0             LIV               2.0              6.0      GKP      26   \n",
      "1             LIV               0.0              0.0      GKP      26   \n",
      "2             LIV               0.0              0.0      GKP      26   \n",
      "3             LIV               0.0              0.0      GKP      26   \n",
      "4             LIV               2.0              4.7      DEF      26   \n",
      "..            ...               ...              ...      ...     ...   \n",
      "731           AVL               0.0              0.0      FWD      26   \n",
      "732           BUR               0.0              0.0      GKP      26   \n",
      "733           WHU               0.0              0.0      MID      26   \n",
      "734           BRE               0.0              0.0      MID      26   \n",
      "735           BHA               0.0              0.0      GKP      26   \n",
      "\n",
      "     starts_per_90 status team  total_points      score  \n",
      "0              1.0      a  ARS            18  18.020000  \n",
      "1              0.0      a  ARS             0   0.000000  \n",
      "2              0.0      u  ARS             0   0.000000  \n",
      "3              0.0      a  ARS             0   0.000000  \n",
      "4              1.0      a  ARS            14  14.026667  \n",
      "..             ...    ...  ...           ...        ...  \n",
      "731            0.0      a  CRY             0   0.000000  \n",
      "732            0.0      a  MUN             0   0.000000  \n",
      "733            0.0      a  NFO             0   0.000000  \n",
      "734            0.0      a  SUN             0   0.000000  \n",
      "735            0.0      a  MCI             0   0.000000  \n",
      "\n",
      "[736 rows x 16 columns]\n"
     ]
    }
   ],
   "source": [
    "print(all_player_data)"
   ]
  },
  {
   "cell_type": "code",
   "execution_count": 33,
   "metadata": {},
   "outputs": [],
   "source": [
    "currentTeamPlayers = all_player_data.loc[all_player_data[\"name\"].isin(current_team_names)]\n",
    "\n",
    "\n",
    "for player in current_team_names:\n",
    "    if(player not in currentTeamPlayers[\"name\"].values):\n",
    "        raise ValueError(f\"player '{player}' not found\")"
   ]
  },
  {
   "cell_type": "code",
   "execution_count": 34,
   "metadata": {},
   "outputs": [],
   "source": [
    "current_team = Team.fromDataFrame(currentTeamPlayers)"
   ]
  },
  {
   "cell_type": "code",
   "execution_count": 35,
   "metadata": {},
   "outputs": [
    {
     "data": {
      "text/plain": [
       "954"
      ]
     },
     "execution_count": 35,
     "metadata": {},
     "output_type": "execute_result"
    }
   ],
   "source": [
    "current_team_cost = current_team.getTotalCost()\n",
    "current_team_cost"
   ]
  },
  {
   "cell_type": "code",
   "execution_count": 36,
   "metadata": {},
   "outputs": [],
   "source": [
    "with open(teams_filename,\"r\",encoding=\"utf-8\") as f:\n",
    "    all_data = json.load(f)\n",
    "\n",
    "all_data = all_data[SELECTED_MODEL_INDEX]\n",
    "selected_team_df = pd.DataFrame.from_records(all_data[\"team\"])"
   ]
  },
  {
   "cell_type": "code",
   "execution_count": 37,
   "metadata": {},
   "outputs": [],
   "source": [
    "selected_team = Team.fromDataFrame(selected_team_df)"
   ]
  },
  {
   "cell_type": "code",
   "execution_count": 38,
   "metadata": {},
   "outputs": [
    {
     "data": {
      "text/html": [
       "<table><tr><th>ID</th><th>Name</th><th>Cost</th><th>ICT Index</th><th>Total Points</th><th>Form</th><th>Average Fixture Difficulty</th><th>Normalised Average Fixture Difficulty</th><th>Current Fixture Difficulty</th><th>Position</th><th>Availability</th><th>Team</th><th>Captain</th><th>Vice Captain</th><th>Score</th>\n",
       "<tr><td>565</td><td>Guglielmo Vicario</td><td>50.00</td><td>9.8</td><td>21</td><td>7.0</td><td>0.000</td><td>0.000</td><td>0.0000</td><td>GKP</td><td>True</td><td>TOT</td><td>False</td><td>False<td>20.91</td><tr>\n",
       "<tr><td>1</td><td>David Raya Martín</td><td>55.00</td><td>9.2</td><td>18</td><td>6.0</td><td>0.000</td><td>0.000</td><td>0.0000</td><td>GKP</td><td>True</td><td>ARS</td><td>False</td><td>False<td>18.02</td><tr>\n",
       "<tr><td>72</td><td>Marcos Senesi Barón</td><td>46.00</td><td>12.5</td><td>25</td><td>8.3</td><td>0.000</td><td>0.000</td><td>0.0000</td><td>DEF</td><td>True</td><td>BOU</td><td>False</td><td>False<td>25.11</td><tr>\n",
       "<tr><td>8</td><td>Jurriën Timber</td><td>56.00</td><td>23.7</td><td>26</td><td>8.7</td><td>0.000</td><td>0.000</td><td>0.0000</td><td>DEF</td><td>True</td><td>ARS</td><td>False</td><td>False<td>25.83</td><tr>\n",
       "<tr><td>226</td><td>Trevoh Chalobah</td><td>51.00</td><td>16.1</td><td>27</td><td>9.0</td><td>0.000</td><td>0.000</td><td>0.0000</td><td>DEF</td><td>True</td><td>CHE</td><td>False</td><td>True<td>26.35</td><tr>\n",
       "<tr><td>7</td><td>Riccardo Calafiori</td><td>57.00</td><td>17.7</td><td>28</td><td>9.3</td><td>0.000</td><td>0.000</td><td>0.0000</td><td>DEF</td><td>True</td><td>ARS</td><td>True</td><td>False<td>26.92</td><tr>\n",
       "<tr><td>260</td><td>Marc Guéhi</td><td>46.00</td><td>11.6</td><td>23</td><td>7.7</td><td>0.000</td><td>0.000</td><td>0.0000</td><td>DEF</td><td>True</td><td>CRY</td><td>False</td><td>False<td>23.15</td><tr>\n",
       "<tr><td>430</td><td>Erling Haaland</td><td>141.00</td><td>28.8</td><td>24</td><td>8.0</td><td>0.000</td><td>0.000</td><td>0.0000</td><td>FWD</td><td>True</td><td>MCI</td><td>False</td><td>False<td>23.49</td><tr>\n",
       "<tr><td>249</td><td>João Pedro Junqueira de Jesus</td><td>77.00</td><td>28.2</td><td>26</td><td>8.7</td><td>0.000</td><td>0.000</td><td>0.0000</td><td>FWD</td><td>True</td><td>CHE</td><td>False</td><td>False<td>25.74</td><tr>\n",
       "<tr><td>661</td><td>Hugo Ekitiké</td><td>88.00</td><td>20.2</td><td>22</td><td>7.3</td><td>0.000</td><td>0.000</td><td>0.0000</td><td>FWD</td><td>True</td><td>LIV</td><td>False</td><td>False<td>21.99</td><tr>\n",
       "<tr><td>612</td><td>Lucas Tolentino Coelho de Lima</td><td>59.00</td><td>24.1</td><td>21</td><td>7.0</td><td>0.000</td><td>0.000</td><td>0.0000</td><td>MID</td><td>True</td><td>WHU</td><td>False</td><td>False<td>20.90</td><tr>\n",
       "<tr><td>419</td><td>Jack Grealish</td><td>67.00</td><td>22.5</td><td>22</td><td>7.3</td><td>0.000</td><td>0.000</td><td>0.0000</td><td>MID</td><td>True</td><td>EVE</td><td>False</td><td>False<td>21.81</td><tr>\n",
       "<tr><td>82</td><td>Antoine Semenyo</td><td>74.00</td><td>26.6</td><td>23</td><td>7.7</td><td>0.000</td><td>0.000</td><td>0.0000</td><td>MID</td><td>True</td><td>BOU</td><td>False</td><td>False<td>23.05</td><tr>\n",
       "<tr><td>237</td><td>Enzo Fernández</td><td>66.00</td><td>22.8</td><td>25</td><td>8.3</td><td>0.000</td><td>0.000</td><td>0.0000</td><td>MID</td><td>True</td><td>CHE</td><td>False</td><td>False<td>25.07</td><tr>\n",
       "<tr><td>205</td><td>Josh Cullen</td><td>50.00</td><td>20.6</td><td>20</td><td>6.7</td><td>0.000</td><td>0.000</td><td>0.0000</td><td>MID</td><td>True</td><td>BUR</td><td>False</td><td>False<td>20.24</td><tr>\n",
       "</table>"
      ],
      "text/plain": [
       "<modules.team.Team at 0x7f51226fb830>"
      ]
     },
     "metadata": {},
     "output_type": "display_data"
    }
   ],
   "source": [
    "display(selected_team)"
   ]
  },
  {
   "cell_type": "code",
   "execution_count": 39,
   "metadata": {},
   "outputs": [
    {
     "name": "stdout",
     "output_type": "stream",
     "text": [
      "\n",
      "Total Score: 273.92\n",
      "\n",
      "Goalkeepers:\n",
      "- Guglielmo Vicario\tScore: 20.91\tCost: 50\tFixture Difficulty: 0.0\n",
      "- David Raya Martín\tScore: 18.02\tCost: 55\tFixture Difficulty: 0.0\n",
      "Defenders:\n",
      "- Marcos Senesi Barón\tScore: 25.11\tCost: 46\tFixture Difficulty: 0.0\n",
      "- Jurriën Timber (Vice Captain) \tScore: 25.83\tCost: 56\tFixture Difficulty: 0.0\n",
      "- Trevoh Chalobah (Captain) \tScore: 26.35\tCost: 51\tFixture Difficulty: 0.0\n",
      "- Marc Guéhi\tScore: 23.15\tCost: 46\tFixture Difficulty: 0.0\n",
      "Attackers:\n",
      "- Erling Haaland\tScore: 23.49\tCost: 141\tFixture Difficulty: 0.0\n",
      "Midfielders:\n",
      "- Lucas Tolentino Coelho de Lima\tScore: 20.9\tCost: 59\tFixture Difficulty: 0.0\n",
      "- Jack Grealish\tScore: 21.81\tCost: 67\tFixture Difficulty: 0.0\n",
      "- Antoine Semenyo\tScore: 23.05\tCost: 74\tFixture Difficulty: 0.0\n",
      "- Enzo Fernández\tScore: 25.07\tCost: 66\tFixture Difficulty: 0.0\n",
      "- Josh Cullen\tScore: 20.24\tCost: 50\tFixture Difficulty: 0.0\n"
     ]
    }
   ],
   "source": [
    "new_players = selected_team - current_team\n",
    "print(new_players)"
   ]
  },
  {
   "cell_type": "code",
   "execution_count": 40,
   "metadata": {},
   "outputs": [
    {
     "name": "stdout",
     "output_type": "stream",
     "text": [
      "Added cost: 29\n"
     ]
    }
   ],
   "source": [
    "new_team_cost = selected_team.getTotalCost()\n",
    "new_team_cost\n",
    "\n",
    "added_cost = new_team_cost - current_team_cost\n",
    "print(\"Added cost:\",added_cost)\n",
    "\n",
    "surplus = current_team_cost - new_team_cost\n"
   ]
  },
  {
   "cell_type": "code",
   "execution_count": 41,
   "metadata": {},
   "outputs": [],
   "source": [
    "#HEURISTIC = \"combined\"\n",
    "#MODE = SolverMode.CHEAPEST_FIRST"
   ]
  },
  {
   "cell_type": "code",
   "execution_count": 42,
   "metadata": {},
   "outputs": [
    {
     "data": {
      "text/plain": [
       "(5.682060162917037, 5.682060162917037)"
      ]
     },
     "execution_count": 42,
     "metadata": {},
     "output_type": "execute_result"
    }
   ],
   "source": [
    "# all_player_data[\"score\"] = all_player_data[HEURISTIC] * all_player_data[\"form\"]\n",
    "deviation = np.std(all_player_data[\"score\"])\n",
    "scale_factor = deviation\n",
    "scale_factor, deviation"
   ]
  },
  {
   "cell_type": "code",
   "execution_count": 43,
   "metadata": {},
   "outputs": [],
   "source": [
    "START_SAMPLE_GAMEWEEK = config.CURRENT_GAMEWEEK\n",
    "END_SAMPLE_GAMEWEEK = min(config.CURRENT_GAMEWEEK+2, 39)"
   ]
  },
  {
   "cell_type": "code",
   "execution_count": 44,
   "metadata": {},
   "outputs": [
    {
     "name": "stdout",
     "output_type": "stream",
     "text": [
      "Warning: IPS does not have any games in gameweek 4 of season 26\n",
      "Warning: LEI does not have any games in gameweek 4 of season 26\n",
      "Warning: SOU does not have any games in gameweek 4 of season 26\n",
      "Warning: IPS does not have any games in gameweek 4 of season 26\n",
      "Warning: LEI does not have any games in gameweek 4 of season 26\n",
      "Warning: SOU does not have any games in gameweek 4 of season 26\n"
     ]
    }
   ],
   "source": [
    "matrix = FixtureDifficultyMatrix(scale_factor, START_SAMPLE_GAMEWEEK, END_SAMPLE_GAMEWEEK, config.CURRENT_SEASON)\n",
    "matrix.precomputeFixtureDifficulty(scale_factor)\n",
    "\n",
    "new_players.recalculateFixtureDifficulty(matrix)\n",
    "# new_players.calculateScore(HEURISTIC)\n",
    "\n",
    "# selected_team.recalculateFixtureDifficulty(matrix)\n",
    "# selected_team.calculateScore(HEURISTIC)\n",
    "\n",
    "# current_team.recalculateFixtureDifficulty(matrix)\n",
    "# current_team.calculateScore(HEURISTIC)"
   ]
  },
  {
   "cell_type": "code",
   "execution_count": 45,
   "metadata": {},
   "outputs": [
    {
     "name": "stdout",
     "output_type": "stream",
     "text": [
      "Current Team:\n"
     ]
    },
    {
     "data": {
      "text/html": [
       "<table><tr><th>ID</th><th>Name</th><th>Cost</th><th>ICT Index</th><th>Total Points</th><th>Form</th><th>Average Fixture Difficulty</th><th>Normalised Average Fixture Difficulty</th><th>Current Fixture Difficulty</th><th>Position</th><th>Availability</th><th>Team</th><th>Captain</th><th>Vice Captain</th><th>Score</th>\n",
       "<tr><td>287</td><td>Jordan Pickford</td><td>55.00</td><td>8.6</td><td>18</td><td>6.0</td><td>0.000</td><td>0.000</td><td>0.0000</td><td>GKP</td><td>True</td><td>EVE</td><td>False</td><td>False<td>18.00</td><tr>\n",
       "<tr><td>432</td><td>André Onana</td><td>49.00</td><td>0.0</td><td>0</td><td>0.0</td><td>0.000</td><td>0.000</td><td>0.0000</td><td>GKP</td><td>True</td><td>MUN</td><td>False</td><td>False<td>0.00</td><tr>\n",
       "<tr><td>7</td><td>Riccardo Calafiori</td><td>57.00</td><td>17.7</td><td>28</td><td>9.3</td><td>0.000</td><td>0.000</td><td>0.0000</td><td>DEF</td><td>True</td><td>ARS</td><td>True</td><td>False<td>26.92</td><tr>\n",
       "<tr><td>106</td><td>Nathan Collins</td><td>50.00</td><td>7.0</td><td>12</td><td>4.0</td><td>0.000</td><td>0.000</td><td>0.0000</td><td>DEF</td><td>True</td><td>BRE</td><td>False</td><td>False<td>11.99</td><tr>\n",
       "<tr><td>402</td><td>Rayan Aït-Nouri</td><td>60.00</td><td>7.6</td><td>10</td><td>3.3</td><td>0.000</td><td>0.000</td><td>0.0000</td><td>DEF</td><td>True</td><td>MCI</td><td>False</td><td>False<td>10.00</td><tr>\n",
       "<tr><td>474</td><td>Fabian Schär</td><td>55.00</td><td>7.9</td><td>15</td><td>5.0</td><td>0.000</td><td>0.000</td><td>0.0000</td><td>DEF</td><td>True</td><td>NEW</td><td>False</td><td>False<td>14.95</td><tr>\n",
       "<tr><td>531</td><td>Daniel Ballard</td><td>46.00</td><td>15.2</td><td>18</td><td>6.0</td><td>0.000</td><td>0.000</td><td>0.0000</td><td>DEF</td><td>False</td><td>SUN</td><td>False</td><td>False<td>18.08</td><tr>\n",
       "<tr><td>249</td><td>João Pedro Junqueira de Jesus</td><td>77.00</td><td>28.2</td><td>26</td><td>8.7</td><td>0.000</td><td>0.000</td><td>0.0000</td><td>FWD</td><td>True</td><td>CHE</td><td>False</td><td>True<td>25.74</td><tr>\n",
       "<tr><td>597</td><td>Richarlison de Andrade</td><td>67.00</td><td>23.9</td><td>19</td><td>6.3</td><td>0.000</td><td>0.000</td><td>0.0000</td><td>FWD</td><td>True</td><td>TOT</td><td>False</td><td>False<td>19.04</td><tr>\n",
       "<tr><td>661</td><td>Hugo Ekitiké</td><td>88.00</td><td>20.2</td><td>22</td><td>7.3</td><td>0.000</td><td>0.000</td><td>0.0000</td><td>FWD</td><td>True</td><td>LIV</td><td>False</td><td>False<td>21.99</td><tr>\n",
       "<tr><td>47</td><td>Morgan Rogers</td><td>70.00</td><td>10.9</td><td>7</td><td>2.3</td><td>0.000</td><td>0.000</td><td>0.0000</td><td>MID</td><td>True</td><td>AVL</td><td>False</td><td>False<td>7.00</td><tr>\n",
       "<tr><td>119</td><td>Bryan Mbeumo</td><td>81.00</td><td>31.5</td><td>14</td><td>4.7</td><td>0.000</td><td>0.000</td><td>0.0000</td><td>MID</td><td>True</td><td>MUN</td><td>False</td><td>False<td>14.00</td><tr>\n",
       "<tr><td>324</td><td>Alex Iwobi</td><td>65.00</td><td>13.0</td><td>10</td><td>3.3</td><td>0.000</td><td>0.000</td><td>0.0000</td><td>MID</td><td>True</td><td>FUL</td><td>False</td><td>False<td>10.01</td><tr>\n",
       "<tr><td>489</td><td>Jacob Murphy</td><td>63.00</td><td>4.7</td><td>4</td><td>1.3</td><td>0.000</td><td>0.000</td><td>0.0000</td><td>MID</td><td>True</td><td>NEW</td><td>False</td><td>False<td>4.00</td><tr>\n",
       "<tr><td>580</td><td>Brennan Johnson</td><td>71.00</td><td>17.4</td><td>18</td><td>6.0</td><td>0.000</td><td>0.000</td><td>0.0000</td><td>MID</td><td>True</td><td>TOT</td><td>False</td><td>False<td>18.04</td><tr>\n",
       "</table>"
      ],
      "text/plain": [
       "<modules.team.Team at 0x7f50deae3c20>"
      ]
     },
     "metadata": {},
     "output_type": "display_data"
    },
    {
     "name": "stdout",
     "output_type": "stream",
     "text": [
      "\n",
      "Selected Team:\n"
     ]
    },
    {
     "data": {
      "text/html": [
       "<table><tr><th>ID</th><th>Name</th><th>Cost</th><th>ICT Index</th><th>Total Points</th><th>Form</th><th>Average Fixture Difficulty</th><th>Normalised Average Fixture Difficulty</th><th>Current Fixture Difficulty</th><th>Position</th><th>Availability</th><th>Team</th><th>Captain</th><th>Vice Captain</th><th>Score</th>\n",
       "<tr><td>565</td><td>Guglielmo Vicario</td><td>50.00</td><td>9.8</td><td>21</td><td>7.0</td><td>0.255</td><td>-2.779</td><td>0.1522</td><td>GKP</td><td>True</td><td>TOT</td><td>False</td><td>False<td>20.91</td><tr>\n",
       "<tr><td>1</td><td>David Raya Martín</td><td>55.00</td><td>9.2</td><td>18</td><td>6.0</td><td>0.424</td><td>-0.865</td><td>0.5217</td><td>GKP</td><td>True</td><td>ARS</td><td>False</td><td>False<td>18.02</td><tr>\n",
       "<tr><td>72</td><td>Marcos Senesi Barón</td><td>46.00</td><td>12.5</td><td>25</td><td>8.3</td><td>0.647</td><td>1.668</td><td>0.6739</td><td>DEF</td><td>True</td><td>BOU</td><td>False</td><td>False<td>25.11</td><tr>\n",
       "<tr><td>8</td><td>Jurriën Timber</td><td>56.00</td><td>23.7</td><td>26</td><td>8.7</td><td>0.424</td><td>-0.865</td><td>0.5217</td><td>DEF</td><td>True</td><td>ARS</td><td>False</td><td>True<td>25.83</td><tr>\n",
       "<tr><td>226</td><td>Trevoh Chalobah</td><td>51.00</td><td>16.1</td><td>27</td><td>9.0</td><td>0.500</td><td>0.000</td><td>0.3696</td><td>DEF</td><td>True</td><td>CHE</td><td>True</td><td>False<td>26.35</td><tr>\n",
       "<tr><td>7</td><td>Riccardo Calafiori</td><td>57.00</td><td>17.7</td><td>28</td><td>9.3</td><td>0.000</td><td>0.000</td><td>0.0000</td><td>DEF</td><td>True</td><td>ARS</td><td>True</td><td>False<td>26.92</td><tr>\n",
       "<tr><td>260</td><td>Marc Guéhi</td><td>46.00</td><td>11.6</td><td>23</td><td>7.7</td><td>0.549</td><td>0.556</td><td>0.7174</td><td>DEF</td><td>True</td><td>CRY</td><td>False</td><td>False<td>23.15</td><tr>\n",
       "<tr><td>430</td><td>Erling Haaland</td><td>141.00</td><td>28.8</td><td>24</td><td>8.0</td><td>0.217</td><td>-3.212</td><td>0.1957</td><td>FWD</td><td>True</td><td>MCI</td><td>False</td><td>False<td>23.49</td><tr>\n",
       "<tr><td>249</td><td>João Pedro Junqueira de Jesus</td><td>77.00</td><td>28.2</td><td>26</td><td>8.7</td><td>0.000</td><td>0.000</td><td>0.0000</td><td>FWD</td><td>True</td><td>CHE</td><td>False</td><td>False<td>25.74</td><tr>\n",
       "<tr><td>661</td><td>Hugo Ekitiké</td><td>88.00</td><td>20.2</td><td>22</td><td>7.3</td><td>0.000</td><td>0.000</td><td>0.0000</td><td>FWD</td><td>True</td><td>LIV</td><td>False</td><td>False<td>21.99</td><tr>\n",
       "<tr><td>612</td><td>Lucas Tolentino Coelho de Lima</td><td>59.00</td><td>24.1</td><td>21</td><td>7.0</td><td>0.723</td><td>2.532</td><td>0.8478</td><td>MID</td><td>True</td><td>WHU</td><td>False</td><td>False<td>20.90</td><tr>\n",
       "<tr><td>419</td><td>Jack Grealish</td><td>67.00</td><td>22.5</td><td>22</td><td>7.3</td><td>0.560</td><td>0.679</td><td>0.5870</td><td>MID</td><td>True</td><td>EVE</td><td>False</td><td>False<td>21.81</td><tr>\n",
       "<tr><td>82</td><td>Antoine Semenyo</td><td>74.00</td><td>26.6</td><td>23</td><td>7.7</td><td>0.647</td><td>1.668</td><td>0.6739</td><td>MID</td><td>True</td><td>BOU</td><td>False</td><td>False<td>23.05</td><tr>\n",
       "<tr><td>237</td><td>Enzo Fernández</td><td>66.00</td><td>22.8</td><td>25</td><td>8.3</td><td>0.500</td><td>0.000</td><td>0.3696</td><td>MID</td><td>True</td><td>CHE</td><td>False</td><td>False<td>25.07</td><tr>\n",
       "<tr><td>205</td><td>Josh Cullen</td><td>50.00</td><td>20.6</td><td>20</td><td>6.7</td><td>0.783</td><td>3.212</td><td>0.8043</td><td>MID</td><td>True</td><td>BUR</td><td>False</td><td>False<td>20.24</td><tr>\n",
       "</table>"
      ],
      "text/plain": [
       "<modules.team.Team at 0x7f51226fb830>"
      ]
     },
     "metadata": {},
     "output_type": "display_data"
    }
   ],
   "source": [
    "print(\"Current Team:\")\n",
    "display(current_team)\n",
    "print()\n",
    "print(\"Selected Team:\")\n",
    "display(selected_team)"
   ]
  },
  {
   "cell_type": "code",
   "execution_count": 46,
   "metadata": {},
   "outputs": [
    {
     "name": "stdout",
     "output_type": "stream",
     "text": [
      "Score difference: 128.82\n"
     ]
    }
   ],
   "source": [
    "score_dif = selected_team.getTotalScore() - current_team.getTotalScore()\n",
    "print(\"Score difference:\",score_dif)"
   ]
  },
  {
   "cell_type": "code",
   "execution_count": 47,
   "metadata": {},
   "outputs": [],
   "source": [
    "def getBest(pCurrentTeam: Team, pNewTeam: Team, pNewPlayers: Team, pPosition: Position):\n",
    "    # TODO: Store Team players in sorted tree instead of list\n",
    "    currentPositionData = pCurrentTeam.getPlayersListByPosition(pPosition)\n",
    "    newPlayersPositionData = pNewPlayers.getPlayersListByPosition(pPosition)\n",
    "    oldTotalCost = pCurrentTeam.getTotalCost()\n",
    "    maxCost = max(oldTotalCost, TOTAL_BUDGET)\n",
    "    #maxCost = TOTAL_BUDGET\n",
    "\n",
    "    allTransfers = []\n",
    "\n",
    "    for i in range(len(currentPositionData)):\n",
    "        oldPlayer = currentPositionData[i]\n",
    "        oldPlayerCost = oldPlayer.getCost()\n",
    "        for j in range(len(newPlayersPositionData)):\n",
    "\n",
    "            newPlayer = newPlayersPositionData[j]\n",
    "            newCost = oldTotalCost - oldPlayerCost + newPlayer.getCost()\n",
    "\n",
    "            if (newCost <= maxCost):\n",
    "                allTransfers.append(Transfer(oldPlayer, newPlayer))\n",
    "\n",
    "    if (len(allTransfers) >= 1):\n",
    "        bestTransfer = max(allTransfers)\n",
    "        if(bestTransfer.getScoreDif() > 0):\n",
    "            return bestTransfer\n",
    "    else:\n",
    "        return None"
   ]
  },
  {
   "cell_type": "code",
   "execution_count": 48,
   "metadata": {},
   "outputs": [],
   "source": [
    "def get_updated_team(team: pd.DataFrame, old_player: pd.Series, new_player: pd.Series):\n",
    "    team: pd.DataFrame = team.drop(index=old_player.name)\n",
    "    team.loc[len(team)] = new_player\n",
    "    return team"
   ]
  },
  {
   "cell_type": "code",
   "execution_count": 49,
   "metadata": {},
   "outputs": [],
   "source": [
    "def get_bench(team: pd.DataFrame):\n",
    "    positions = [\"FWD\",\"DEF\",\"MID\",\"GKP\"]\n",
    "    team = team.reset_index()\n",
    "    bench = pd.DataFrame(columns=team.columns)\n",
    "    for position in positions:\n",
    "        worst_player_index = team.loc[team[\"position\"]==position][\"score\"].idxmin()\n",
    "        worst_player = team.loc[worst_player_index].copy()\n",
    "        bench.loc[len(bench)] = worst_player\n",
    "        team = team.drop(index=worst_player_index)\n",
    "    return team, bench"
   ]
  },
  {
   "cell_type": "code",
   "execution_count": 50,
   "metadata": {},
   "outputs": [],
   "source": [
    "def getBestTransferNew(pCurrentTeam: Team, pNewTeam: Team, pNewPlayers: Team) -> Transfer | None:\n",
    "    positions = Position.listValues()\n",
    "    bestTransfers = []\n",
    "    for position in positions:\n",
    "        transfer = getBest(pCurrentTeam, pNewTeam, pNewPlayers, position)\n",
    "        if(transfer is not None):\n",
    "            bestTransfers.append(transfer)\n",
    "    actualBestTransfer = max(bestTransfers)\n",
    "    return actualBestTransfer"
   ]
  },
  {
   "cell_type": "code",
   "execution_count": 51,
   "metadata": {},
   "outputs": [],
   "source": [
    "def getNewTeam(pCurrentTeam: Team, pSelectedTeam: Team, pNewPlayers: Team, pMatrix: FixtureDifficultyMatrix):\n",
    "\n",
    "    TRIPLE_CAPT_THRESHOLD = 0.1\n",
    "\n",
    "    transferData = getBestTransferNew(pCurrentTeam, pSelectedTeam, pNewPlayers)\n",
    "    transferData.updateFixtureDifficulties(pMatrix)\n",
    "    print(\"Best transfer:\")\n",
    "    print(transferData)\n",
    "    oldPlayer = transferData.getOldPlayer()\n",
    "    newPlayer = transferData.getNewPlayer()\n",
    "    if transferData is None:\n",
    "        return\n",
    "    \n",
    "    changingPosition: Position = transferData.getPosition()\n",
    "    \n",
    "    newTeam = deepcopy(pCurrentTeam)\n",
    "    playersOfPosition = newTeam.getPlayersListByPosition(changingPosition)\n",
    "\n",
    "    for i in range(len(playersOfPosition)):\n",
    "        player = playersOfPosition[i]\n",
    "        if (player.getId() == oldPlayer.getId()):\n",
    "            newTeam.removePlayerByIndex(i, changingPosition)\n",
    "            newTeam.addPlayer(newPlayer)\n",
    "    \n",
    "\n",
    "    newTeam.recalculateFixtureDifficulty(pMatrix)\n",
    "\n",
    "    for player in newTeam.getPlayers():\n",
    "        if(player.getCurrentDifficulty() < TRIPLE_CAPT_THRESHOLD):\n",
    "            print(f\"Suggested triple captain: {player.getName()}\")\n",
    "    return newTeam"
   ]
  },
  {
   "cell_type": "code",
   "execution_count": 52,
   "metadata": {},
   "outputs": [
    {
     "name": "stdout",
     "output_type": "stream",
     "text": [
      "Best transfer:\n",
      "Transfer from Jacob Murphy -> Enzo Fernández:\n",
      "Old player: Jacob Murphy\tScore: 4.0\tCost: 63\tFixture Difficulty: 0.1235230470199351\n",
      "New player: Enzo Fernández\tScore: 25.07\tCost: 66\tFixture Difficulty: 0.0\n",
      "- Cost change: 3\n",
      "- Score change: 21.07\n"
     ]
    },
    {
     "data": {
      "text/html": [
       "<h1>Starting 11</h1>\n",
       "<table><tr><th>ID</th><th>Name</th><th>Cost</th><th>ICT Index</th><th>Total Points</th><th>Form</th><th>Average Fixture Difficulty</th><th>Normalised Average Fixture Difficulty</th><th>Current Fixture Difficulty</th><th>Position</th><th>Availability</th><th>Team</th><th>Captain</th><th>Vice Captain</th><th>Score</th>\n",
       "<tr><td>287</td><td>Jordan Pickford</td><td>55.00</td><td>8.6</td><td>18</td><td>6.0</td><td>0.560</td><td>0.679</td><td>0.5870</td><td>GKP</td><td>True</td><td>EVE</td><td>False</td><td>False<td>18.00</td><tr>\n",
       "<tr><td>7</td><td>Riccardo Calafiori</td><td>57.00</td><td>17.7</td><td>28</td><td>9.3</td><td>0.424</td><td>-0.865</td><td>0.5217</td><td>DEF</td><td>True</td><td>ARS</td><td>True</td><td>False<td>26.92</td><tr>\n",
       "<tr><td>531</td><td>Daniel Ballard</td><td>46.00</td><td>15.2</td><td>18</td><td>6.0</td><td>0.315</td><td>-2.100</td><td>0.2826</td><td>DEF</td><td>False</td><td>SUN</td><td>False</td><td>False<td>18.08</td><tr>\n",
       "<tr><td>474</td><td>Fabian Schär</td><td>55.00</td><td>7.9</td><td>15</td><td>5.0</td><td>0.511</td><td>0.124</td><td>0.2826</td><td>DEF</td><td>True</td><td>NEW</td><td>False</td><td>False<td>14.95</td><tr>\n",
       "<tr><td>106</td><td>Nathan Collins</td><td>50.00</td><td>7.0</td><td>12</td><td>4.0</td><td>0.674</td><td>1.976</td><td>0.6304</td><td>DEF</td><td>True</td><td>BRE</td><td>False</td><td>False<td>11.99</td><tr>\n",
       "<tr><td>249</td><td>João Pedro Junqueira de Jesus</td><td>77.00</td><td>28.2</td><td>26</td><td>8.7</td><td>0.500</td><td>0.000</td><td>0.3696</td><td>FWD</td><td>True</td><td>CHE</td><td>False</td><td>True<td>25.74</td><tr>\n",
       "<tr><td>661</td><td>Hugo Ekitiké</td><td>88.00</td><td>20.2</td><td>22</td><td>7.3</td><td>0.288</td><td>-2.409</td><td>0.1957</td><td>FWD</td><td>True</td><td>LIV</td><td>False</td><td>False<td>21.99</td><tr>\n",
       "<tr><td>237</td><td>Enzo Fernández</td><td>66.00</td><td>22.8</td><td>25</td><td>8.3</td><td>0.500</td><td>0.000</td><td>0.3696</td><td>MID</td><td>True</td><td>CHE</td><td>False</td><td>False<td>25.07</td><tr>\n",
       "<tr><td>580</td><td>Brennan Johnson</td><td>71.00</td><td>17.4</td><td>18</td><td>6.0</td><td>0.255</td><td>-2.779</td><td>0.1522</td><td>MID</td><td>True</td><td>TOT</td><td>False</td><td>False<td>18.04</td><tr>\n",
       "<tr><td>119</td><td>Bryan Mbeumo</td><td>81.00</td><td>31.5</td><td>14</td><td>4.7</td><td>0.658</td><td>1.791</td><td>0.8043</td><td>MID</td><td>True</td><td>MUN</td><td>False</td><td>False<td>14.00</td><tr>\n",
       "<tr><td>324</td><td>Alex Iwobi</td><td>65.00</td><td>13.0</td><td>10</td><td>3.3</td><td>0.424</td><td>-0.865</td><td>0.5435</td><td>MID</td><td>True</td><td>FUL</td><td>False</td><td>False<td>10.01</td><tr>\n",
       "</table>\n",
       "<h1>Bench</h1>\n",
       "<table><tr><th>ID</th><th>Name</th><th>Cost</th><th>ICT Index</th><th>Total Points</th><th>Form</th><th>Average Fixture Difficulty</th><th>Normalised Average Fixture Difficulty</th><th>Current Fixture Difficulty</th><th>Position</th><th>Availability</th><th>Team</th><th>Captain</th><th>Vice Captain</th><th>Score</th>\n",
       "<tr><td>432</td><td>André Onana</td><td>49.00</td><td>0.0</td><td>0</td><td>0.0</td><td>0.658</td><td>1.791</td><td>0.8043</td><td>GKP</td><td>True</td><td>MUN</td><td>False</td><td>False<td>0.00</td><tr>\n",
       "<tr><td>402</td><td>Rayan Aït-Nouri</td><td>60.00</td><td>7.6</td><td>10</td><td>3.3</td><td>0.217</td><td>-3.212</td><td>0.1957</td><td>DEF</td><td>True</td><td>MCI</td><td>False</td><td>False<td>10.00</td><tr>\n",
       "<tr><td>597</td><td>Richarlison de Andrade</td><td>67.00</td><td>23.9</td><td>19</td><td>6.3</td><td>0.255</td><td>-2.779</td><td>0.1522</td><td>FWD</td><td>True</td><td>TOT</td><td>False</td><td>False<td>19.04</td><tr>\n",
       "<tr><td>47</td><td>Morgan Rogers</td><td>70.00</td><td>10.9</td><td>7</td><td>2.3</td><td>0.484</td><td>-0.185</td><td>0.4130</td><td>MID</td><td>True</td><td>AVL</td><td>False</td><td>False<td>7.00</td><tr>\n",
       "</table>"
      ],
      "text/plain": [
       "<modules.team.BenchTeam at 0x7f50de61bfe0>"
      ]
     },
     "metadata": {},
     "output_type": "display_data"
    },
    {
     "data": {
      "text/plain": [
       "'New total score: 240.82'"
      ]
     },
     "metadata": {},
     "output_type": "display_data"
    }
   ],
   "source": [
    "newTeam = getNewTeam(current_team, selected_team, new_players, matrix)\n",
    "newTeam = newTeam.toBenchTeam()\n",
    "display(newTeam)\n",
    "display(f\"New total score: {newTeam.getTotalScore()}\")"
   ]
  }
 ],
 "metadata": {
  "kernelspec": {
   "display_name": "base",
   "language": "python",
   "name": "python3"
  },
  "language_info": {
   "codemirror_mode": {
    "name": "ipython",
    "version": 3
   },
   "file_extension": ".py",
   "mimetype": "text/x-python",
   "name": "python",
   "nbconvert_exporter": "python",
   "pygments_lexer": "ipython3",
   "version": "3.12.2"
  }
 },
 "nbformat": 4,
 "nbformat_minor": 2
}
