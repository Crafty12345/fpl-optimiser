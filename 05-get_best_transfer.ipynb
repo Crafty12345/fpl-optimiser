{
 "cells": [
  {
   "cell_type": "code",
   "execution_count": 1,
   "metadata": {},
   "outputs": [],
   "source": [
    "import json\n",
    "import pandas as pd\n",
    "import numpy as np\n",
    "from copy import deepcopy\n",
    "from IPython.display import display\n",
    "import re\n",
    "\n",
    "from modules.team import Team, BenchTeam\n",
    "from modules.player import Player, Position\n",
    "from modules.transfer import Transfer\n",
    "from modules.fixture_difficulty_matrix import FixtureDifficultyMatrix\n",
    "from modules.utils import getDataFilesSorted\n",
    "\n",
    "import config"
   ]
  },
  {
   "cell_type": "code",
   "execution_count": 2,
   "metadata": {},
   "outputs": [],
   "source": [
    "CURRENT_DATE = config.CURRENT_DATE\n",
    "teams_filename = f\"./results/{CURRENT_DATE}/results_{CURRENT_DATE}.json\"\n",
    "scores_filename = f\"./results/{CURRENT_DATE}/scores_{CURRENT_DATE}.json\"\n",
    "SELECTED_MODEL_INDEX = 2\n",
    "TOTAL_BUDGET = 1000"
   ]
  },
  {
   "cell_type": "code",
   "execution_count": 3,
   "metadata": {},
   "outputs": [],
   "source": [
    "current_team_names = {\"Jordan Pickford\",\n",
    "                      \"André Onana\",\n",
    "                      \"Nathan Collins\",\n",
    "                      \"Riccardo Calafiori\",\n",
    "                      \"Rayan Aït-Nouri\",\n",
    "                      \"Fabian Schär\",\n",
    "                      \"Daniel Ballard\",\n",
    "                      \"Morgan Rogers\",\n",
    "                      \"Bryan Mbeumo\",\n",
    "                      \"Alex Iwobi\",\n",
    "                      \"Jacob Murphy\",\n",
    "                      \"Brennan Johnson\",\n",
    "                      \"Hugo Ekitiké\",\n",
    "                      \"João Pedro Junqueira de Jesus\",\n",
    "                      \"Richarlison de Andrade\",\n",
    "                      }"
   ]
  },
  {
   "cell_type": "code",
   "execution_count": 4,
   "metadata": {},
   "outputs": [],
   "source": [
    "# TODO: Change how files are loaded\n",
    "\n",
    "with open(teams_filename, \"r\") as f:\n",
    "    tempJson: list[dict] = json.load(f)\n",
    "\n",
    "actualJson = tempJson[SELECTED_MODEL_INDEX]"
   ]
  },
  {
   "cell_type": "code",
   "execution_count": 5,
   "metadata": {},
   "outputs": [],
   "source": [
    "all_player_data = pd.DataFrame.from_records(actualJson[\"players\"])"
   ]
  },
  {
   "cell_type": "code",
   "execution_count": 6,
   "metadata": {},
   "outputs": [
    {
     "name": "stdout",
     "output_type": "stream",
     "text": [
      "     cost  form  gameweek  ict_index   id                          name  \\\n",
      "0      55   4.7         4       10.5    1             David Raya Martín   \n",
      "1      44   0.0         4        0.0    2    Kepa Arrizabalaga Revuelta   \n",
      "2      40   0.0         4        0.0    3                     Karl Hein   \n",
      "3      40   0.0         4        0.0    4                 Tommy Setford   \n",
      "4      61   5.7         4       10.7    5  Gabriel dos Santos Magalhães   \n",
      "..    ...   ...       ...        ...  ...                           ...   \n",
      "735    55   6.0         4        1.4  736          Gianluigi Donnarumma   \n",
      "736    45   0.0         4        0.0  737              Jonah Kusi-Asare   \n",
      "737    45   0.0         4        0.0  738              Lukasz Fabianski   \n",
      "738    45   0.0         4        0.0  739                 Divine Mukasa   \n",
      "739    40   0.0         4        0.0  740                 Stephen Mfuni   \n",
      "\n",
      "    opposing_team  points_per_game  points_this_week position  season  \\\n",
      "0             NFO              6.0                 6      GKP      26   \n",
      "1             NFO              0.0                 0      GKP      26   \n",
      "2             NFO              0.0                 0      GKP      26   \n",
      "3             NFO              0.0                 0      GKP      26   \n",
      "4             NFO              5.8                 9      DEF      26   \n",
      "..            ...              ...               ...      ...     ...   \n",
      "735           MUN              6.0                 6      GKP      26   \n",
      "736           LEE              0.0                 0      FWD      26   \n",
      "737           TOT              0.0                 0      GKP      26   \n",
      "738           MUN              0.0                 0      MID      26   \n",
      "739           MUN              0.0                 0      DEF      26   \n",
      "\n",
      "     starts_per_90 status team  total_points      score  \n",
      "0              1.0      a  ARS            24  11.367310  \n",
      "1              0.0      a  ARS             0   0.000000  \n",
      "2              0.0      u  ARS             0   0.000000  \n",
      "3              0.0      a  ARS             0   0.000000  \n",
      "4              1.0      a  ARS            23   6.015623  \n",
      "..             ...    ...  ...           ...        ...  \n",
      "735            1.0      a  MCI             6        NaN  \n",
      "736            0.0      a  FUL             0        NaN  \n",
      "737            0.0      a  WHU             0        NaN  \n",
      "738            0.0      a  MCI             0        NaN  \n",
      "739            0.0      a  MCI             0        NaN  \n",
      "\n",
      "[740 rows x 16 columns]\n"
     ]
    }
   ],
   "source": [
    "print(all_player_data)"
   ]
  },
  {
   "cell_type": "code",
   "execution_count": 7,
   "metadata": {},
   "outputs": [],
   "source": [
    "currentTeamPlayers = all_player_data.loc[all_player_data[\"name\"].isin(current_team_names)]\n",
    "\n",
    "\n",
    "for player in current_team_names:\n",
    "    if(player not in currentTeamPlayers[\"name\"].values):\n",
    "        raise ValueError(f\"player '{player}' not found\")"
   ]
  },
  {
   "cell_type": "code",
   "execution_count": 8,
   "metadata": {},
   "outputs": [],
   "source": [
    "current_team = Team.fromDataFrame(currentTeamPlayers)"
   ]
  },
  {
   "cell_type": "code",
   "execution_count": 9,
   "metadata": {},
   "outputs": [
    {
     "data": {
      "text/plain": [
       "954"
      ]
     },
     "execution_count": 9,
     "metadata": {},
     "output_type": "execute_result"
    }
   ],
   "source": [
    "current_team_cost = current_team.getTotalCost()\n",
    "current_team_cost"
   ]
  },
  {
   "cell_type": "code",
   "execution_count": 10,
   "metadata": {},
   "outputs": [],
   "source": [
    "with open(teams_filename,\"r\",encoding=\"utf-8\") as f:\n",
    "    all_data = json.load(f)\n",
    "\n",
    "all_data = all_data[SELECTED_MODEL_INDEX]\n",
    "selected_team_df = pd.DataFrame.from_records(all_data[\"team\"])"
   ]
  },
  {
   "cell_type": "code",
   "execution_count": 11,
   "metadata": {},
   "outputs": [],
   "source": [
    "selected_team = Team.fromDataFrame(selected_team_df)"
   ]
  },
  {
   "cell_type": "code",
   "execution_count": 12,
   "metadata": {},
   "outputs": [
    {
     "data": {
      "text/html": [
       "<table><tr><th>ID</th><th>Name</th><th>Cost</th><th>ICT Index</th><th>Total Points</th><th>Form</th><th>Average Fixture Difficulty</th><th>Normalised Average Fixture Difficulty</th><th>Current Fixture Difficulty</th><th>Position</th><th>Availability</th><th>Team</th><th>Captain</th><th>Vice Captain</th><th>Score</th>\n",
       "<tr><td>1</td><td>David Raya Martín</td><td>55.00</td><td>10.5</td><td>24</td><td>4.7</td><td>0.000</td><td>0.000</td><td>0.0000</td><td>GKP</td><td>True</td><td>ARS</td><td>False</td><td>False<td>11.37</td><tr>\n",
       "<tr><td>565</td><td>Guglielmo Vicario</td><td>51.00</td><td>13.7</td><td>29</td><td>6.7</td><td>0.000</td><td>0.000</td><td>0.0000</td><td>GKP</td><td>True</td><td>TOT</td><td>False</td><td>False<td>9.08</td><tr>\n",
       "<tr><td>233</td><td>Josh Acheampong</td><td>40.00</td><td>2.9</td><td>9</td><td>0.0</td><td>0.000</td><td>0.000</td><td>0.0000</td><td>DEF</td><td>True</td><td>CHE</td><td>False</td><td>False<td>9.90</td><tr>\n",
       "<tr><td>410</td><td>Rico Lewis</td><td>50.00</td><td>8.7</td><td>13</td><td>0.7</td><td>0.000</td><td>0.000</td><td>0.0000</td><td>DEF</td><td>True</td><td>MCI</td><td>False</td><td>False<td>10.35</td><tr>\n",
       "<tr><td>7</td><td>Riccardo Calafiori</td><td>57.00</td><td>19.7</td><td>33</td><td>6.7</td><td>0.000</td><td>0.000</td><td>0.0000</td><td>DEF</td><td>True</td><td>ARS</td><td>False</td><td>True<td>14.24</td><tr>\n",
       "<tr><td>531</td><td>Daniel Ballard</td><td>46.00</td><td>15.2</td><td>18</td><td>0.3</td><td>0.000</td><td>0.000</td><td>0.0000</td><td>DEF</td><td>False</td><td>SUN</td><td>True</td><td>False<td>14.66</td><tr>\n",
       "<tr><td>258</td><td>Tyrick Mitchell</td><td>50.00</td><td>16.3</td><td>22</td><td>4.3</td><td>0.000</td><td>0.000</td><td>0.0000</td><td>DEF</td><td>True</td><td>CRY</td><td>False</td><td>False<td>9.37</td><tr>\n",
       "<tr><td>597</td><td>Richarlison de Andrade</td><td>67.00</td><td>25.3</td><td>20</td><td>2.3</td><td>0.000</td><td>0.000</td><td>0.0000</td><td>FWD</td><td>True</td><td>TOT</td><td>False</td><td>False<td>13.46</td><tr>\n",
       "<tr><td>525</td><td>Chris Wood</td><td>76.00</td><td>20.4</td><td>18</td><td>1.7</td><td>0.000</td><td>0.000</td><td>0.0000</td><td>FWD</td><td>True</td><td>NFO</td><td>False</td><td>False<td>13.58</td><tr>\n",
       "<tr><td>430</td><td>Erling Haaland</td><td>141.00</td><td>45.0</td><td>37</td><td>8.0</td><td>0.000</td><td>0.000</td><td>0.0000</td><td>FWD</td><td>True</td><td>MCI</td><td>False</td><td>False<td>13.43</td><tr>\n",
       "<tr><td>427</td><td>Tijjani Reijnders</td><td>57.00</td><td>21.4</td><td>17</td><td>2.3</td><td>0.000</td><td>0.000</td><td>0.0000</td><td>MID</td><td>True</td><td>MCI</td><td>False</td><td>False<td>10.48</td><tr>\n",
       "<tr><td>164</td><td>Matt O'Riley</td><td>55.00</td><td>19.0</td><td>12</td><td>0.7</td><td>0.000</td><td>0.000</td><td>0.0000</td><td>MID</td><td>False</td><td>BHA</td><td>False</td><td>False<td>10.55</td><tr>\n",
       "<tr><td>582</td><td>Mohammed Kudus</td><td>66.00</td><td>28.3</td><td>18</td><td>2.7</td><td>0.000</td><td>0.000</td><td>0.0000</td><td>MID</td><td>True</td><td>TOT</td><td>False</td><td>False<td>11.12</td><tr>\n",
       "<tr><td>82</td><td>Antoine Semenyo</td><td>75.00</td><td>38.3</td><td>36</td><td>7.0</td><td>0.000</td><td>0.000</td><td>0.0000</td><td>MID</td><td>True</td><td>BOU</td><td>False</td><td>False<td>14.17</td><tr>\n",
       "<tr><td>660</td><td>Anton Stach</td><td>50.00</td><td>24.4</td><td>14</td><td>3.5</td><td>0.000</td><td>0.000</td><td>0.0000</td><td>MID</td><td>True</td><td>LEE</td><td>False</td><td>False<td>8.35</td><tr>\n",
       "</table>"
      ],
      "text/plain": [
       "<modules.team.Team at 0x7fad14cfb4a0>"
      ]
     },
     "metadata": {},
     "output_type": "display_data"
    }
   ],
   "source": [
    "display(selected_team)"
   ]
  },
  {
   "cell_type": "code",
   "execution_count": 13,
   "metadata": {},
   "outputs": [
    {
     "name": "stdout",
     "output_type": "stream",
     "text": [
      "\n",
      "Total Score: 131.74468933499531\n",
      "\n",
      "Goalkeepers:\n",
      "- David Raya Martín\tScore: 11.37\tCost: 55\tFixture Difficulty: 0.0\n",
      "- Guglielmo Vicario\tScore: 9.08\tCost: 51\tFixture Difficulty: 0.0\n",
      "Defenders:\n",
      "- Josh Acheampong\tScore: 9.9\tCost: 40\tFixture Difficulty: 0.0\n",
      "- Rico Lewis\tScore: 10.35\tCost: 50\tFixture Difficulty: 0.0\n",
      "- Tyrick Mitchell\tScore: 9.37\tCost: 50\tFixture Difficulty: 0.0\n",
      "Attackers:\n",
      "- Chris Wood (Vice Captain) \tScore: 13.58\tCost: 76\tFixture Difficulty: 0.0\n",
      "- Erling Haaland\tScore: 13.43\tCost: 141\tFixture Difficulty: 0.0\n",
      "Midfielders:\n",
      "- Tijjani Reijnders\tScore: 10.48\tCost: 57\tFixture Difficulty: 0.0\n",
      "- Matt O'Riley\tScore: 10.55\tCost: 55\tFixture Difficulty: 0.0\n",
      "- Mohammed Kudus\tScore: 11.12\tCost: 66\tFixture Difficulty: 0.0\n",
      "- Antoine Semenyo (Captain) \tScore: 14.17\tCost: 75\tFixture Difficulty: 0.0\n",
      "- Anton Stach\tScore: 8.35\tCost: 50\tFixture Difficulty: 0.0\n"
     ]
    }
   ],
   "source": [
    "new_players = selected_team - current_team\n",
    "print(new_players)"
   ]
  },
  {
   "cell_type": "code",
   "execution_count": 14,
   "metadata": {},
   "outputs": [
    {
     "name": "stdout",
     "output_type": "stream",
     "text": [
      "Added cost: -18\n"
     ]
    }
   ],
   "source": [
    "new_team_cost = selected_team.getTotalCost()\n",
    "new_team_cost\n",
    "\n",
    "added_cost = new_team_cost - current_team_cost\n",
    "print(\"Added cost:\",added_cost)\n",
    "\n",
    "surplus = current_team_cost - new_team_cost\n"
   ]
  },
  {
   "cell_type": "code",
   "execution_count": 15,
   "metadata": {},
   "outputs": [],
   "source": [
    "#HEURISTIC = \"combined\"\n",
    "#MODE = SolverMode.CHEAPEST_FIRST"
   ]
  },
  {
   "cell_type": "code",
   "execution_count": 16,
   "metadata": {},
   "outputs": [
    {
     "data": {
      "text/plain": [
       "(2.5342070487231494, 2.5342070487231494)"
      ]
     },
     "execution_count": 16,
     "metadata": {},
     "output_type": "execute_result"
    }
   ],
   "source": [
    "# all_player_data[\"score\"] = all_player_data[HEURISTIC] * all_player_data[\"form\"]\n",
    "deviation = np.std(all_player_data[\"score\"])\n",
    "scale_factor = deviation\n",
    "scale_factor, deviation"
   ]
  },
  {
   "cell_type": "code",
   "execution_count": 17,
   "metadata": {},
   "outputs": [],
   "source": [
    "START_SAMPLE_GAMEWEEK = config.CURRENT_GAMEWEEK\n",
    "END_SAMPLE_GAMEWEEK = min(config.CURRENT_GAMEWEEK+2, 39)"
   ]
  },
  {
   "cell_type": "code",
   "execution_count": 18,
   "metadata": {},
   "outputs": [
    {
     "name": "stdout",
     "output_type": "stream",
     "text": [
      "Warning: IPS does not have any games in gameweek 5 of season 26\n",
      "Warning: LEI does not have any games in gameweek 5 of season 26\n",
      "Warning: SOU does not have any games in gameweek 5 of season 26\n",
      "Warning: IPS does not have any games in gameweek 5 of season 26\n",
      "Warning: LEI does not have any games in gameweek 5 of season 26\n",
      "Warning: SOU does not have any games in gameweek 5 of season 26\n"
     ]
    }
   ],
   "source": [
    "matrix = FixtureDifficultyMatrix(scale_factor, START_SAMPLE_GAMEWEEK, END_SAMPLE_GAMEWEEK, config.CURRENT_SEASON)\n",
    "matrix.precomputeFixtureDifficulty(scale_factor)\n",
    "\n",
    "new_players.recalculateFixtureDifficulty(matrix)\n",
    "# new_players.calculateScore(HEURISTIC)\n",
    "\n",
    "# selected_team.recalculateFixtureDifficulty(matrix)\n",
    "# selected_team.calculateScore(HEURISTIC)\n",
    "\n",
    "# current_team.recalculateFixtureDifficulty(matrix)\n",
    "# current_team.calculateScore(HEURISTIC)"
   ]
  },
  {
   "cell_type": "code",
   "execution_count": 19,
   "metadata": {},
   "outputs": [
    {
     "name": "stdout",
     "output_type": "stream",
     "text": [
      "Current Team:\n"
     ]
    },
    {
     "data": {
      "text/html": [
       "<table><tr><th>ID</th><th>Name</th><th>Cost</th><th>ICT Index</th><th>Total Points</th><th>Form</th><th>Average Fixture Difficulty</th><th>Normalised Average Fixture Difficulty</th><th>Current Fixture Difficulty</th><th>Position</th><th>Availability</th><th>Team</th><th>Captain</th><th>Vice Captain</th><th>Score</th>\n",
       "<tr><td>287</td><td>Jordan Pickford</td><td>55.00</td><td>9.5</td><td>24</td><td>6.0</td><td>0.000</td><td>0.000</td><td>0.0000</td><td>GKP</td><td>True</td><td>EVE</td><td>False</td><td>False<td>1.95</td><tr>\n",
       "<tr><td>432</td><td>André Onana</td><td>49.00</td><td>0.0</td><td>0</td><td>0.0</td><td>0.000</td><td>0.000</td><td>0.0000</td><td>GKP</td><td>False</td><td>MUN</td><td>False</td><td>False<td>0.00</td><tr>\n",
       "<tr><td>7</td><td>Riccardo Calafiori</td><td>57.00</td><td>19.7</td><td>33</td><td>6.7</td><td>0.000</td><td>0.000</td><td>0.0000</td><td>DEF</td><td>True</td><td>ARS</td><td>False</td><td>True<td>14.24</td><tr>\n",
       "<tr><td>106</td><td>Nathan Collins</td><td>50.00</td><td>10.9</td><td>15</td><td>5.0</td><td>0.000</td><td>0.000</td><td>0.0000</td><td>DEF</td><td>True</td><td>BRE</td><td>False</td><td>False<td>0.00</td><tr>\n",
       "<tr><td>402</td><td>Rayan Aït-Nouri</td><td>59.00</td><td>7.6</td><td>10</td><td>0.3</td><td>0.000</td><td>0.000</td><td>0.0000</td><td>DEF</td><td>False</td><td>MCI</td><td>False</td><td>False<td>8.67</td><tr>\n",
       "<tr><td>474</td><td>Fabian Schär</td><td>55.00</td><td>12.1</td><td>23</td><td>5.0</td><td>0.000</td><td>0.000</td><td>0.0000</td><td>DEF</td><td>True</td><td>NEW</td><td>False</td><td>False<td>6.57</td><tr>\n",
       "<tr><td>531</td><td>Daniel Ballard</td><td>46.00</td><td>15.2</td><td>18</td><td>0.3</td><td>0.000</td><td>0.000</td><td>0.0000</td><td>DEF</td><td>False</td><td>SUN</td><td>True</td><td>False<td>14.66</td><tr>\n",
       "<tr><td>249</td><td>João Pedro Junqueira de Jesus</td><td>78.00</td><td>33.2</td><td>33</td><td>10.3</td><td>0.000</td><td>0.000</td><td>0.0000</td><td>FWD</td><td>True</td><td>CHE</td><td>False</td><td>False<td>1.95</td><tr>\n",
       "<tr><td>597</td><td>Richarlison de Andrade</td><td>67.00</td><td>25.3</td><td>20</td><td>2.3</td><td>0.000</td><td>0.000</td><td>0.0000</td><td>FWD</td><td>True</td><td>TOT</td><td>False</td><td>False<td>13.46</td><tr>\n",
       "<tr><td>661</td><td>Hugo Ekitiké</td><td>88.00</td><td>21.7</td><td>24</td><td>4.3</td><td>0.000</td><td>0.000</td><td>0.0000</td><td>FWD</td><td>True</td><td>LIV</td><td>False</td><td>False<td>10.69</td><tr>\n",
       "<tr><td>47</td><td>Morgan Rogers</td><td>70.00</td><td>12.6</td><td>10</td><td>2.3</td><td>0.000</td><td>0.000</td><td>0.0000</td><td>MID</td><td>True</td><td>AVL</td><td>False</td><td>False<td>2.60</td><tr>\n",
       "<tr><td>119</td><td>Bryan Mbeumo</td><td>81.00</td><td>37.4</td><td>16</td><td>4.7</td><td>0.000</td><td>0.000</td><td>0.0000</td><td>MID</td><td>True</td><td>MUN</td><td>False</td><td>False<td>2.07</td><tr>\n",
       "<tr><td>324</td><td>Alex Iwobi</td><td>65.00</td><td>13.6</td><td>13</td><td>3.7</td><td>0.000</td><td>0.000</td><td>0.0000</td><td>MID</td><td>True</td><td>FUL</td><td>False</td><td>False<td>1.98</td><tr>\n",
       "<tr><td>489</td><td>Jacob Murphy</td><td>63.00</td><td>12.9</td><td>10</td><td>3.0</td><td>0.000</td><td>0.000</td><td>0.0000</td><td>MID</td><td>True</td><td>NEW</td><td>False</td><td>False<td>1.14</td><tr>\n",
       "<tr><td>580</td><td>Brennan Johnson</td><td>71.00</td><td>18.0</td><td>19</td><td>3.7</td><td>0.000</td><td>0.000</td><td>0.0000</td><td>MID</td><td>True</td><td>TOT</td><td>False</td><td>False<td>8.31</td><tr>\n",
       "</table>"
      ],
      "text/plain": [
       "<modules.team.Team at 0x7fad153dae10>"
      ]
     },
     "metadata": {},
     "output_type": "display_data"
    },
    {
     "name": "stdout",
     "output_type": "stream",
     "text": [
      "\n",
      "Selected Team:\n"
     ]
    },
    {
     "data": {
      "text/html": [
       "<table><tr><th>ID</th><th>Name</th><th>Cost</th><th>ICT Index</th><th>Total Points</th><th>Form</th><th>Average Fixture Difficulty</th><th>Normalised Average Fixture Difficulty</th><th>Current Fixture Difficulty</th><th>Position</th><th>Availability</th><th>Team</th><th>Captain</th><th>Vice Captain</th><th>Score</th>\n",
       "<tr><td>1</td><td>David Raya Martín</td><td>55.00</td><td>10.5</td><td>24</td><td>4.7</td><td>0.402</td><td>-0.496</td><td>0.6087</td><td>GKP</td><td>True</td><td>ARS</td><td>False</td><td>False<td>11.37</td><tr>\n",
       "<tr><td>565</td><td>Guglielmo Vicario</td><td>51.00</td><td>13.7</td><td>29</td><td>6.7</td><td>0.304</td><td>-0.992</td><td>0.3913</td><td>GKP</td><td>True</td><td>TOT</td><td>False</td><td>False<td>9.08</td><tr>\n",
       "<tr><td>233</td><td>Josh Acheampong</td><td>40.00</td><td>2.9</td><td>9</td><td>0.0</td><td>0.565</td><td>0.331</td><td>0.4130</td><td>DEF</td><td>True</td><td>CHE</td><td>False</td><td>False<td>9.90</td><tr>\n",
       "<tr><td>410</td><td>Rico Lewis</td><td>50.00</td><td>8.7</td><td>13</td><td>0.7</td><td>0.223</td><td>-1.405</td><td>0.3913</td><td>DEF</td><td>True</td><td>MCI</td><td>False</td><td>False<td>10.35</td><tr>\n",
       "<tr><td>7</td><td>Riccardo Calafiori</td><td>57.00</td><td>19.7</td><td>33</td><td>6.7</td><td>0.000</td><td>0.000</td><td>0.0000</td><td>DEF</td><td>True</td><td>ARS</td><td>False</td><td>True<td>14.24</td><tr>\n",
       "<tr><td>531</td><td>Daniel Ballard</td><td>46.00</td><td>15.2</td><td>18</td><td>0.3</td><td>0.000</td><td>0.000</td><td>0.0000</td><td>DEF</td><td>False</td><td>SUN</td><td>True</td><td>False<td>14.66</td><tr>\n",
       "<tr><td>258</td><td>Tyrick Mitchell</td><td>50.00</td><td>16.3</td><td>22</td><td>4.3</td><td>0.473</td><td>-0.138</td><td>0.3478</td><td>DEF</td><td>True</td><td>CRY</td><td>False</td><td>False<td>9.37</td><tr>\n",
       "<tr><td>597</td><td>Richarlison de Andrade</td><td>67.00</td><td>25.3</td><td>20</td><td>2.3</td><td>0.000</td><td>0.000</td><td>0.0000</td><td>FWD</td><td>True</td><td>TOT</td><td>False</td><td>False<td>13.46</td><tr>\n",
       "<tr><td>525</td><td>Chris Wood</td><td>76.00</td><td>20.4</td><td>18</td><td>1.7</td><td>0.370</td><td>-0.661</td><td>0.2174</td><td>FWD</td><td>True</td><td>NFO</td><td>False</td><td>True<td>13.58</td><tr>\n",
       "<tr><td>430</td><td>Erling Haaland</td><td>141.00</td><td>45.0</td><td>37</td><td>8.0</td><td>0.223</td><td>-1.405</td><td>0.3913</td><td>FWD</td><td>True</td><td>MCI</td><td>False</td><td>False<td>13.43</td><tr>\n",
       "<tr><td>427</td><td>Tijjani Reijnders</td><td>57.00</td><td>21.4</td><td>17</td><td>2.3</td><td>0.223</td><td>-1.405</td><td>0.3913</td><td>MID</td><td>True</td><td>MCI</td><td>False</td><td>False<td>10.48</td><tr>\n",
       "<tr><td>164</td><td>Matt O'Riley</td><td>55.00</td><td>19.0</td><td>12</td><td>0.7</td><td>0.402</td><td>-0.496</td><td>0.6087</td><td>MID</td><td>False</td><td>BHA</td><td>False</td><td>False<td>10.55</td><tr>\n",
       "<tr><td>582</td><td>Mohammed Kudus</td><td>66.00</td><td>28.3</td><td>18</td><td>2.7</td><td>0.304</td><td>-0.992</td><td>0.3913</td><td>MID</td><td>True</td><td>TOT</td><td>False</td><td>False<td>11.12</td><tr>\n",
       "<tr><td>82</td><td>Antoine Semenyo</td><td>75.00</td><td>38.3</td><td>36</td><td>7.0</td><td>0.625</td><td>0.634</td><td>0.5652</td><td>MID</td><td>True</td><td>BOU</td><td>True</td><td>False<td>14.17</td><tr>\n",
       "<tr><td>660</td><td>Anton Stach</td><td>50.00</td><td>24.4</td><td>14</td><td>3.5</td><td>0.326</td><td>-0.881</td><td>0.1522</td><td>MID</td><td>True</td><td>LEE</td><td>False</td><td>False<td>8.35</td><tr>\n",
       "</table>"
      ],
      "text/plain": [
       "<modules.team.Team at 0x7fad14cfb4a0>"
      ]
     },
     "metadata": {},
     "output_type": "display_data"
    }
   ],
   "source": [
    "print(\"Current Team:\")\n",
    "display(current_team)\n",
    "print()\n",
    "print(\"Selected Team:\")\n",
    "display(selected_team)"
   ]
  },
  {
   "cell_type": "code",
   "execution_count": 20,
   "metadata": {},
   "outputs": [
    {
     "name": "stdout",
     "output_type": "stream",
     "text": [
      "Score difference: 85.82398746951984\n"
     ]
    }
   ],
   "source": [
    "score_dif = selected_team.getTotalScore() - current_team.getTotalScore()\n",
    "print(\"Score difference:\",score_dif)"
   ]
  },
  {
   "cell_type": "code",
   "execution_count": 21,
   "metadata": {},
   "outputs": [],
   "source": [
    "def getBest(pCurrentTeam: Team, pNewTeam: Team, pNewPlayers: Team, pPosition: Position):\n",
    "    # TODO: Store Team players in sorted tree instead of list\n",
    "    currentPositionData = pCurrentTeam.getPlayersListByPosition(pPosition)\n",
    "    newPlayersPositionData = pNewPlayers.getPlayersListByPosition(pPosition)\n",
    "    oldTotalCost = pCurrentTeam.getTotalCost()\n",
    "    maxCost = max(oldTotalCost, TOTAL_BUDGET)\n",
    "    #maxCost = TOTAL_BUDGET\n",
    "\n",
    "    allTransfers = []\n",
    "\n",
    "    for i in range(len(currentPositionData)):\n",
    "        oldPlayer = currentPositionData[i]\n",
    "        oldPlayerCost = oldPlayer.getCost()\n",
    "        for j in range(len(newPlayersPositionData)):\n",
    "\n",
    "            newPlayer = newPlayersPositionData[j]\n",
    "            newCost = oldTotalCost - oldPlayerCost + newPlayer.getCost()\n",
    "\n",
    "            if (newCost <= maxCost):\n",
    "                allTransfers.append(Transfer(oldPlayer, newPlayer))\n",
    "\n",
    "    if (len(allTransfers) >= 1):\n",
    "        bestTransfer = max(allTransfers)\n",
    "        if(bestTransfer.getScoreDif() > 0):\n",
    "            return bestTransfer\n",
    "    else:\n",
    "        return None"
   ]
  },
  {
   "cell_type": "code",
   "execution_count": 22,
   "metadata": {},
   "outputs": [],
   "source": [
    "def get_updated_team(team: pd.DataFrame, old_player: pd.Series, new_player: pd.Series):\n",
    "    team: pd.DataFrame = team.drop(index=old_player.name)\n",
    "    team.loc[len(team)] = new_player\n",
    "    return team"
   ]
  },
  {
   "cell_type": "code",
   "execution_count": 23,
   "metadata": {},
   "outputs": [],
   "source": [
    "def get_bench(team: pd.DataFrame):\n",
    "    positions = [\"FWD\",\"DEF\",\"MID\",\"GKP\"]\n",
    "    team = team.reset_index()\n",
    "    bench = pd.DataFrame(columns=team.columns)\n",
    "    for position in positions:\n",
    "        worst_player_index = team.loc[team[\"position\"]==position][\"score\"].idxmin()\n",
    "        worst_player = team.loc[worst_player_index].copy()\n",
    "        bench.loc[len(bench)] = worst_player\n",
    "        team = team.drop(index=worst_player_index)\n",
    "    return team, bench"
   ]
  },
  {
   "cell_type": "code",
   "execution_count": 24,
   "metadata": {},
   "outputs": [],
   "source": [
    "def getBestTransferNew(pCurrentTeam: Team, pNewTeam: Team, pNewPlayers: Team) -> Transfer | None:\n",
    "    positions = Position.listValues()\n",
    "    bestTransfers = []\n",
    "    for position in positions:\n",
    "        transfer = getBest(pCurrentTeam, pNewTeam, pNewPlayers, position)\n",
    "        if(transfer is not None):\n",
    "            bestTransfers.append(transfer)\n",
    "    actualBestTransfer = max(bestTransfers)\n",
    "    return actualBestTransfer"
   ]
  },
  {
   "cell_type": "code",
   "execution_count": 25,
   "metadata": {},
   "outputs": [],
   "source": [
    "def getNewTeam(pCurrentTeam: Team, pSelectedTeam: Team, pNewPlayers: Team, pMatrix: FixtureDifficultyMatrix):\n",
    "\n",
    "    TRIPLE_CAPT_THRESHOLD = 0.1\n",
    "\n",
    "    transferData = getBestTransferNew(pCurrentTeam, pSelectedTeam, pNewPlayers)\n",
    "    transferData.updateFixtureDifficulties(pMatrix)\n",
    "    print(\"Best transfer:\")\n",
    "    print(transferData)\n",
    "    oldPlayer = transferData.getOldPlayer()\n",
    "    newPlayer = transferData.getNewPlayer()\n",
    "    if transferData is None:\n",
    "        return\n",
    "    \n",
    "    changingPosition: Position = transferData.getPosition()\n",
    "    \n",
    "    newTeam = deepcopy(pCurrentTeam)\n",
    "    playersOfPosition = newTeam.getPlayersListByPosition(changingPosition)\n",
    "\n",
    "    for i in range(len(playersOfPosition)):\n",
    "        player = playersOfPosition[i]\n",
    "        if (player.getId() == oldPlayer.getId()):\n",
    "            newTeam.removePlayerByIndex(i, changingPosition)\n",
    "            newTeam.addPlayer(newPlayer)\n",
    "    \n",
    "\n",
    "    newTeam.recalculateFixtureDifficulty(pMatrix)\n",
    "\n",
    "    for player in newTeam.getPlayers():\n",
    "        if(player.getCurrentDifficulty() < TRIPLE_CAPT_THRESHOLD):\n",
    "            print(f\"Suggested triple captain: {player.getName()}\")\n",
    "    return newTeam"
   ]
  },
  {
   "cell_type": "code",
   "execution_count": 26,
   "metadata": {},
   "outputs": [
    {
     "name": "stdout",
     "output_type": "stream",
     "text": [
      "Best transfer:\n",
      "Transfer from Jacob Murphy -> Antoine Semenyo:\n",
      "Old player: Jacob Murphy\tScore: 1.14\tCost: 63\tFixture Difficulty: 0.46827738943797304\n",
      "New player: Antoine Semenyo (Captain) \tScore: 14.17\tCost: 75\tFixture Difficulty: 0.6335517621807876\n",
      "- Cost change: 12\n",
      "- Score change: 13.03\n"
     ]
    },
    {
     "data": {
      "text/html": [
       "<h1>Starting 11</h1>\n",
       "<table><tr><th>ID</th><th>Name</th><th>Cost</th><th>ICT Index</th><th>Total Points</th><th>Form</th><th>Average Fixture Difficulty</th><th>Normalised Average Fixture Difficulty</th><th>Current Fixture Difficulty</th><th>Position</th><th>Availability</th><th>Team</th><th>Captain</th><th>Vice Captain</th><th>Score</th>\n",
       "<tr><td>287</td><td>Jordan Pickford</td><td>55.00</td><td>9.5</td><td>24</td><td>6.0</td><td>0.609</td><td>0.551</td><td>0.7174</td><td>GKP</td><td>True</td><td>EVE</td><td>False</td><td>False<td>1.95</td><tr>\n",
       "<tr><td>531</td><td>Daniel Ballard</td><td>46.00</td><td>15.2</td><td>18</td><td>0.3</td><td>0.255</td><td>-1.240</td><td>0.3261</td><td>DEF</td><td>False</td><td>SUN</td><td>True</td><td>False<td>14.66</td><tr>\n",
       "<tr><td>7</td><td>Riccardo Calafiori</td><td>57.00</td><td>19.7</td><td>33</td><td>6.7</td><td>0.402</td><td>-0.496</td><td>0.6087</td><td>DEF</td><td>True</td><td>ARS</td><td>False</td><td>True<td>14.24</td><tr>\n",
       "<tr><td>402</td><td>Rayan Aït-Nouri</td><td>59.00</td><td>7.6</td><td>10</td><td>0.3</td><td>0.223</td><td>-1.405</td><td>0.3913</td><td>DEF</td><td>False</td><td>MCI</td><td>False</td><td>False<td>8.67</td><tr>\n",
       "<tr><td>474</td><td>Fabian Schär</td><td>55.00</td><td>12.1</td><td>23</td><td>5.0</td><td>0.592</td><td>0.468</td><td>0.4348</td><td>DEF</td><td>True</td><td>NEW</td><td>False</td><td>False<td>6.57</td><tr>\n",
       "<tr><td>597</td><td>Richarlison de Andrade</td><td>67.00</td><td>25.3</td><td>20</td><td>2.3</td><td>0.304</td><td>-0.992</td><td>0.3913</td><td>FWD</td><td>True</td><td>TOT</td><td>False</td><td>False<td>13.46</td><tr>\n",
       "<tr><td>661</td><td>Hugo Ekitiké</td><td>88.00</td><td>21.7</td><td>24</td><td>4.3</td><td>0.304</td><td>-0.992</td><td>0.2826</td><td>FWD</td><td>True</td><td>LIV</td><td>False</td><td>False<td>10.69</td><tr>\n",
       "<tr><td>82</td><td>Antoine Semenyo</td><td>75.00</td><td>38.3</td><td>36</td><td>7.0</td><td>0.625</td><td>0.634</td><td>0.5652</td><td>MID</td><td>True</td><td>BOU</td><td>False</td><td>False<td>14.17</td><tr>\n",
       "<tr><td>580</td><td>Brennan Johnson</td><td>71.00</td><td>18.0</td><td>19</td><td>3.7</td><td>0.304</td><td>-0.992</td><td>0.3913</td><td>MID</td><td>True</td><td>TOT</td><td>False</td><td>False<td>8.31</td><tr>\n",
       "<tr><td>47</td><td>Morgan Rogers</td><td>70.00</td><td>12.6</td><td>10</td><td>2.3</td><td>0.543</td><td>0.220</td><td>0.6739</td><td>MID</td><td>True</td><td>AVL</td><td>False</td><td>False<td>2.60</td><tr>\n",
       "<tr><td>119</td><td>Bryan Mbeumo</td><td>81.00</td><td>37.4</td><td>16</td><td>4.7</td><td>0.641</td><td>0.716</td><td>0.5870</td><td>MID</td><td>True</td><td>MUN</td><td>False</td><td>False<td>2.07</td><tr>\n",
       "</table>\n",
       "<h1>Bench</h1>\n",
       "<table><tr><th>ID</th><th>Name</th><th>Cost</th><th>ICT Index</th><th>Total Points</th><th>Form</th><th>Average Fixture Difficulty</th><th>Normalised Average Fixture Difficulty</th><th>Current Fixture Difficulty</th><th>Position</th><th>Availability</th><th>Team</th><th>Captain</th><th>Vice Captain</th><th>Score</th>\n",
       "<tr><td>432</td><td>André Onana</td><td>49.00</td><td>0.0</td><td>0</td><td>0.0</td><td>0.641</td><td>0.716</td><td>0.5870</td><td>GKP</td><td>False</td><td>MUN</td><td>False</td><td>False<td>0.00</td><tr>\n",
       "<tr><td>106</td><td>Nathan Collins</td><td>50.00</td><td>10.9</td><td>15</td><td>5.0</td><td>0.630</td><td>0.661</td><td>0.6739</td><td>DEF</td><td>True</td><td>BRE</td><td>False</td><td>False<td>0.00</td><tr>\n",
       "<tr><td>249</td><td>João Pedro Junqueira de Jesus</td><td>78.00</td><td>33.2</td><td>33</td><td>10.3</td><td>0.565</td><td>0.331</td><td>0.4130</td><td>FWD</td><td>True</td><td>CHE</td><td>False</td><td>False<td>1.95</td><tr>\n",
       "<tr><td>324</td><td>Alex Iwobi</td><td>65.00</td><td>13.6</td><td>13</td><td>3.7</td><td>0.429</td><td>-0.358</td><td>0.3261</td><td>MID</td><td>True</td><td>FUL</td><td>False</td><td>False<td>1.98</td><tr>\n",
       "</table>"
      ],
      "text/plain": [
       "<modules.team.BenchTeam at 0x7fad202f7980>"
      ]
     },
     "metadata": {},
     "output_type": "display_data"
    },
    {
     "data": {
      "text/plain": [
       "'New total score: 101.30933863030042'"
      ]
     },
     "metadata": {},
     "output_type": "display_data"
    }
   ],
   "source": [
    "newTeam = getNewTeam(current_team, selected_team, new_players, matrix)\n",
    "newTeam = newTeam.toBenchTeam()\n",
    "display(newTeam)\n",
    "display(f\"New total score: {newTeam.getTotalScore()}\")"
   ]
  }
 ],
 "metadata": {
  "kernelspec": {
   "display_name": "base",
   "language": "python",
   "name": "python3"
  },
  "language_info": {
   "codemirror_mode": {
    "name": "ipython",
    "version": 3
   },
   "file_extension": ".py",
   "mimetype": "text/x-python",
   "name": "python",
   "nbconvert_exporter": "python",
   "pygments_lexer": "ipython3",
   "version": "3.12.2"
  }
 },
 "nbformat": 4,
 "nbformat_minor": 2
}
