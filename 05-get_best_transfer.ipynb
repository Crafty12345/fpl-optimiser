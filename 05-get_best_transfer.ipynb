{
 "cells": [
  {
   "cell_type": "code",
   "execution_count": 93,
   "metadata": {},
   "outputs": [],
   "source": [
    "import json\n",
    "import pandas as pd\n",
    "import numpy as np\n",
    "from copy import deepcopy\n",
    "from IPython.display import display\n",
    "import re\n",
    "\n",
    "from modules.team import Team, BenchTeam\n",
    "from modules.player import Player, Position\n",
    "from modules.transfer import Transfer\n",
    "from modules.fixture_difficulty_matrix import FixtureDifficultyMatrix\n",
    "from modules.utils import getDataFilesSorted\n",
    "\n",
    "import config"
   ]
  },
  {
   "cell_type": "code",
   "execution_count": 94,
   "metadata": {},
   "outputs": [],
   "source": [
    "CURRENT_DATE = config.CURRENT_DATE\n",
    "teams_filename = f\"./results/{CURRENT_DATE}/results_{CURRENT_DATE}.json\"\n",
    "scores_filename = f\"./results/{CURRENT_DATE}/scores_{CURRENT_DATE}.json\"\n",
    "SELECTED_MODEL_INDEX = 3\n",
    "TOTAL_BUDGET = 1000"
   ]
  },
  {
   "cell_type": "code",
   "execution_count": 95,
   "metadata": {},
   "outputs": [],
   "source": [
    "current_team_names = {\"\\u0110or\\u0111e Petrovi\\u0107\",\n",
    "                      \"Alisson Becker\",\n",
    "                      \"Matty Cash\",\n",
    "                      \"Marcos Senesi Bar\\u00f3n\",\n",
    "                      \"Adrien Truffert\",\n",
    "                      \"Virgil van Dijk\",\n",
    "                      \"Dan Burn\",\n",
    "                      \"Yankuba Minteh\",\n",
    "                      \"Jaidon Anthony\",\n",
    "                      \"Idrissa Gana Gueye\",\n",
    "                      \"Alex Iwobi\",\n",
    "                      \"Bruno Borges Fernandes\",\n",
    "                      \"Erling Haaland\",\n",
    "                      \"Jarrod Bowen\",\n",
    "                      \"Dominic Calvert-Lewin\",\n",
    "                      }"
   ]
  },
  {
   "cell_type": "code",
   "execution_count": 96,
   "metadata": {},
   "outputs": [],
   "source": [
    "# TODO: Change how files are loaded\n",
    "\n",
    "with open(teams_filename, \"r\") as f:\n",
    "    tempJson: list[dict] = json.load(f)\n",
    "\n",
    "actualJson = tempJson[SELECTED_MODEL_INDEX]"
   ]
  },
  {
   "cell_type": "code",
   "execution_count": 97,
   "metadata": {},
   "outputs": [],
   "source": [
    "all_player_data = pd.DataFrame.from_records(actualJson[\"players\"])"
   ]
  },
  {
   "cell_type": "code",
   "execution_count": 98,
   "metadata": {},
   "outputs": [
    {
     "name": "stdout",
     "output_type": "stream",
     "text": [
      "     clean_sheets  cost  expected_goals  form  gameweek  ict_index   id  \\\n",
      "0             3.0    56            0.00   3.0         7       14.2    1   \n",
      "1             0.0    43            0.00   0.0         7        0.0    2   \n",
      "2             0.0    40            0.00   0.0         7        0.0    3   \n",
      "3             0.0    40            0.00   0.0         7        0.0    4   \n",
      "4             3.0    62            0.48   6.5         7       24.1    5   \n",
      "..            ...   ...             ...   ...       ...        ...  ...   \n",
      "737           0.0    45            0.00   0.0         7        0.0  738   \n",
      "738           0.0    45            0.00   0.0         7        0.0  739   \n",
      "739           0.0    40            0.00   0.0         7        0.0  740   \n",
      "740           0.0    45            0.00   0.0         7        0.0  741   \n",
      "741           0.0    45            0.00   0.0         7        0.0  742   \n",
      "\n",
      "                             name opposing_team  play_percent  \\\n",
      "0               David Raya Martín           WHU      0.857143   \n",
      "1      Kepa Arrizabalaga Revuelta           WHU      0.000000   \n",
      "2                       Karl Hein           WHU      0.000000   \n",
      "3                   Tommy Setford           WHU      0.000000   \n",
      "4    Gabriel dos Santos Magalhães           WHU      0.857143   \n",
      "..                            ...           ...           ...   \n",
      "737              Lukasz Fabianski           ARS      0.000000   \n",
      "738                 Divine Mukasa           BRE      0.000000   \n",
      "739                 Stephen Mfuni           BRE      0.000000   \n",
      "740                    Harry Gray           TOT      0.000000   \n",
      "741                  Ryan McAidoo           BRE      0.000000   \n",
      "\n",
      "     points_per_game  points_this_week position  season status team  \\\n",
      "0                4.7                 2      GKP      26      a  ARS   \n",
      "1                0.0                 0      GKP      26      a  ARS   \n",
      "2                0.0                 0      GKP      26      u  ARS   \n",
      "3                0.0                 0      GKP      26      a  ARS   \n",
      "4                6.3                13      DEF      26      a  ARS   \n",
      "..               ...               ...      ...     ...    ...  ...   \n",
      "737              0.0                 0      GKP      26      a  WHU   \n",
      "738              0.0                 0      MID      26      a  MCI   \n",
      "739              0.0                 0      DEF      26      a  MCI   \n",
      "740              0.0                 0      FWD      26      a  LEE   \n",
      "741              0.0                 0      MID      26      a  MCI   \n",
      "\n",
      "     total_points  score  \n",
      "0              28  2.828  \n",
      "1               0  0.000  \n",
      "2               0  0.000  \n",
      "3               0  0.000  \n",
      "4              38  8.551  \n",
      "..            ...    ...  \n",
      "737             0  0.000  \n",
      "738             0  0.000  \n",
      "739             0  0.000  \n",
      "740             0  0.000  \n",
      "741             0  0.000  \n",
      "\n",
      "[742 rows x 18 columns]\n"
     ]
    }
   ],
   "source": [
    "print(all_player_data)"
   ]
  },
  {
   "cell_type": "code",
   "execution_count": 99,
   "metadata": {},
   "outputs": [],
   "source": [
    "currentTeamPlayers = all_player_data.loc[all_player_data[\"name\"].isin(current_team_names)]\n",
    "\n",
    "\n",
    "for player in current_team_names:\n",
    "    if(player not in currentTeamPlayers[\"name\"].values):\n",
    "        raise ValueError(f\"player '{player}' not found\")"
   ]
  },
  {
   "cell_type": "code",
   "execution_count": 100,
   "metadata": {},
   "outputs": [],
   "source": [
    "current_team = Team.fromDataFrame(currentTeamPlayers)"
   ]
  },
  {
   "cell_type": "code",
   "execution_count": 101,
   "metadata": {},
   "outputs": [
    {
     "data": {
      "text/plain": [
       "951"
      ]
     },
     "execution_count": 101,
     "metadata": {},
     "output_type": "execute_result"
    }
   ],
   "source": [
    "current_team_cost = current_team.getTotalCost()\n",
    "current_team_cost"
   ]
  },
  {
   "cell_type": "code",
   "execution_count": 102,
   "metadata": {},
   "outputs": [],
   "source": [
    "with open(teams_filename,\"r\",encoding=\"utf-8\") as f:\n",
    "    all_data = json.load(f)\n",
    "\n",
    "all_data = all_data[SELECTED_MODEL_INDEX]\n",
    "selected_team_df = pd.DataFrame.from_records(all_data[\"team\"])"
   ]
  },
  {
   "cell_type": "code",
   "execution_count": 103,
   "metadata": {},
   "outputs": [],
   "source": [
    "selected_team = Team.fromDataFrame(selected_team_df)"
   ]
  },
  {
   "cell_type": "code",
   "execution_count": 104,
   "metadata": {},
   "outputs": [
    {
     "data": {
      "text/html": [
       "<table><tr><th>ID</th><th>Name</th><th>Cost</th><th>ICT Index</th><th>Total Points</th><th>Form</th><th>Average Fixture Difficulty</th><th>Normalised Average Fixture Difficulty</th><th>Current Fixture Difficulty</th><th>Position</th><th>Availability</th><th>Team</th><th>Captain</th><th>Vice Captain</th><th>Score</th>\n",
       "<tr><td>670</td><td>Robin Roefs</td><td>45.00</td><td>19.9</td><td>39</td><td>7.3</td><td>0.000</td><td>0.000</td><td>0.0000</td><td>GKP</td><td>True</td><td>SUN</td><td>False</td><td>False<td>8.16</td><tr>\n",
       "<tr><td>253</td><td>Dean Henderson</td><td>50.00</td><td>11.1</td><td>25</td><td>4.2</td><td>0.000</td><td>0.000</td><td>0.0000</td><td>GKP</td><td>True</td><td>CRY</td><td>False</td><td>False<td>3.91</td><tr>\n",
       "<tr><td>260</td><td>Marc Guéhi</td><td>48.00</td><td>23.1</td><td>43</td><td>8.8</td><td>0.000</td><td>0.000</td><td>0.0000</td><td>DEF</td><td>True</td><td>CRY</td><td>False</td><td>False<td>7.46</td><tr>\n",
       "<tr><td>694</td><td>Nordi Mukiele</td><td>40.00</td><td>16.8</td><td>24</td><td>6.7</td><td>0.000</td><td>0.000</td><td>0.0000</td><td>DEF</td><td>True</td><td>SUN</td><td>False</td><td>False<td>7.81</td><tr>\n",
       "<tr><td>5</td><td>Gabriel dos Santos Magalhães</td><td>62.00</td><td>24.1</td><td>38</td><td>6.5</td><td>0.000</td><td>0.000</td><td>0.0000</td><td>DEF</td><td>True</td><td>ARS</td><td>False</td><td>False<td>8.55</td><tr>\n",
       "<tr><td>683</td><td>Omar Alderete</td><td>40.00</td><td>29.8</td><td>39</td><td>10.0</td><td>0.000</td><td>0.000</td><td>0.0000</td><td>DEF</td><td>True</td><td>SUN</td><td>False</td><td>True<td>13.31</td><tr>\n",
       "<tr><td>72</td><td>Marcos Senesi Barón</td><td>49.00</td><td>28.1</td><td>44</td><td>6.3</td><td>0.000</td><td>0.000</td><td>0.0000</td><td>DEF</td><td>True</td><td>BOU</td><td>False</td><td>False<td>7.07</td><tr>\n",
       "<tr><td>136</td><td>Igor Thiago Nascimento Rodrigues</td><td>60.00</td><td>35.2</td><td>30</td><td>5.3</td><td>0.000</td><td>0.000</td><td>0.0000</td><td>FWD</td><td>True</td><td>BRE</td><td>False</td><td>False<td>8.88</td><tr>\n",
       "<tr><td>430</td><td>Erling Haaland</td><td>144.00</td><td>70.6</td><td>62</td><td>11.8</td><td>0.000</td><td>0.000</td><td>0.0000</td><td>FWD</td><td>True</td><td>MCI</td><td>True</td><td>False<td>14.51</td><tr>\n",
       "<tr><td>178</td><td>Danny Welbeck</td><td>63.00</td><td>19.5</td><td>17</td><td>4.0</td><td>0.000</td><td>0.000</td><td>0.0000</td><td>FWD</td><td>True</td><td>BHA</td><td>False</td><td>False<td>7.89</td><tr>\n",
       "<tr><td>267</td><td>Ismaïla Sarr</td><td>64.00</td><td>26.1</td><td>29</td><td>4.5</td><td>0.000</td><td>0.000</td><td>0.0000</td><td>MID</td><td>True</td><td>CRY</td><td>False</td><td>False<td>7.32</td><tr>\n",
       "<tr><td>21</td><td>Declan Rice</td><td>65.00</td><td>29.6</td><td>29</td><td>4.2</td><td>0.000</td><td>0.000</td><td>0.0000</td><td>MID</td><td>True</td><td>ARS</td><td>False</td><td>False<td>7.45</td><tr>\n",
       "<tr><td>82</td><td>Antoine Semenyo</td><td>78.00</td><td>47.8</td><td>48</td><td>8.3</td><td>0.000</td><td>0.000</td><td>0.0000</td><td>MID</td><td>True</td><td>BOU</td><td>False</td><td>False<td>7.58</td><tr>\n",
       "<tr><td>660</td><td>Anton Stach</td><td>50.00</td><td>36.1</td><td>31</td><td>6.0</td><td>0.000</td><td>0.000</td><td>0.0000</td><td>MID</td><td>True</td><td>LEE</td><td>False</td><td>False<td>7.59</td><tr>\n",
       "<tr><td>200</td><td>Jaidon Anthony</td><td>56.00</td><td>48.2</td><td>40</td><td>6.3</td><td>0.000</td><td>0.000</td><td>0.0000</td><td>MID</td><td>True</td><td>BUR</td><td>False</td><td>False<td>7.05</td><tr>\n",
       "</table>"
      ],
      "text/plain": [
       "<modules.team.Team at 0x7ae14b653b90>"
      ]
     },
     "metadata": {},
     "output_type": "display_data"
    }
   ],
   "source": [
    "display(selected_team)"
   ]
  },
  {
   "cell_type": "code",
   "execution_count": 105,
   "metadata": {},
   "outputs": [
    {
     "name": "stdout",
     "output_type": "stream",
     "text": [
      "\n",
      "Total Score: 95.904\n",
      "\n",
      "Goalkeepers:\n",
      "- Robin Roefs\tScore: 8.16\tCost: 45\tFixture Difficulty: 0.0\n",
      "- Dean Henderson\tScore: 3.91\tCost: 50\tFixture Difficulty: 0.0\n",
      "Defenders:\n",
      "- Marc Guéhi\tScore: 7.46\tCost: 48\tFixture Difficulty: 0.0\n",
      "- Nordi Mukiele\tScore: 7.81\tCost: 40\tFixture Difficulty: 0.0\n",
      "- Gabriel dos Santos Magalhães\tScore: 8.55\tCost: 62\tFixture Difficulty: 0.0\n",
      "- Omar Alderete (Captain) \tScore: 13.31\tCost: 40\tFixture Difficulty: 0.0\n",
      "Attackers:\n",
      "- Igor Thiago Nascimento Rodrigues (Vice Captain) \tScore: 8.88\tCost: 60\tFixture Difficulty: 0.0\n",
      "- Danny Welbeck\tScore: 7.89\tCost: 63\tFixture Difficulty: 0.0\n",
      "Midfielders:\n",
      "- Ismaïla Sarr\tScore: 7.32\tCost: 64\tFixture Difficulty: 0.0\n",
      "- Declan Rice\tScore: 7.45\tCost: 65\tFixture Difficulty: 0.0\n",
      "- Antoine Semenyo\tScore: 7.58\tCost: 78\tFixture Difficulty: 0.0\n",
      "- Anton Stach\tScore: 7.59\tCost: 50\tFixture Difficulty: 0.0\n"
     ]
    }
   ],
   "source": [
    "new_players = selected_team - current_team\n",
    "print(new_players)"
   ]
  },
  {
   "cell_type": "code",
   "execution_count": 106,
   "metadata": {},
   "outputs": [
    {
     "name": "stdout",
     "output_type": "stream",
     "text": [
      "Added cost: -37\n"
     ]
    }
   ],
   "source": [
    "new_team_cost = selected_team.getTotalCost()\n",
    "new_team_cost\n",
    "\n",
    "added_cost = new_team_cost - current_team_cost\n",
    "print(\"Added cost:\",added_cost)\n",
    "\n",
    "surplus = current_team_cost - new_team_cost\n"
   ]
  },
  {
   "cell_type": "code",
   "execution_count": 107,
   "metadata": {},
   "outputs": [],
   "source": [
    "#HEURISTIC = \"combined\"\n",
    "#MODE = SolverMode.CHEAPEST_FIRST"
   ]
  },
  {
   "cell_type": "code",
   "execution_count": 108,
   "metadata": {},
   "outputs": [
    {
     "data": {
      "text/plain": [
       "(1.7878115253204565, 1.7878115253204565)"
      ]
     },
     "execution_count": 108,
     "metadata": {},
     "output_type": "execute_result"
    }
   ],
   "source": [
    "# all_player_data[\"score\"] = all_player_data[HEURISTIC] * all_player_data[\"form\"]\n",
    "deviation = np.std(all_player_data[\"score\"])\n",
    "scale_factor = deviation\n",
    "scale_factor, deviation"
   ]
  },
  {
   "cell_type": "code",
   "execution_count": 109,
   "metadata": {},
   "outputs": [],
   "source": [
    "START_SAMPLE_GAMEWEEK = config.CURRENT_GAMEWEEK\n",
    "END_SAMPLE_GAMEWEEK = min(config.CURRENT_GAMEWEEK+2, 39)"
   ]
  },
  {
   "cell_type": "code",
   "execution_count": 110,
   "metadata": {},
   "outputs": [
    {
     "name": "stdout",
     "output_type": "stream",
     "text": [
      "Warning: IPS does not have any games in gameweek 6 of season 26\n",
      "Warning: LEI does not have any games in gameweek 6 of season 26\n",
      "Warning: SOU does not have any games in gameweek 6 of season 26\n",
      "Warning: IPS does not have any games in gameweek 6 of season 26\n",
      "Warning: LEI does not have any games in gameweek 6 of season 26\n",
      "Warning: SOU does not have any games in gameweek 6 of season 26\n"
     ]
    }
   ],
   "source": [
    "matrix = FixtureDifficultyMatrix(scale_factor, START_SAMPLE_GAMEWEEK, END_SAMPLE_GAMEWEEK, config.CURRENT_SEASON)\n",
    "matrix.precomputeFixtureDifficulty(scale_factor)\n",
    "\n",
    "new_players.recalculateFixtureDifficulty(matrix)\n",
    "# new_players.calculateScore(HEURISTIC)\n",
    "\n",
    "# selected_team.recalculateFixtureDifficulty(matrix)\n",
    "# selected_team.calculateScore(HEURISTIC)\n",
    "\n",
    "# current_team.recalculateFixtureDifficulty(matrix)\n",
    "# current_team.calculateScore(HEURISTIC)"
   ]
  },
  {
   "cell_type": "code",
   "execution_count": 111,
   "metadata": {},
   "outputs": [
    {
     "name": "stdout",
     "output_type": "stream",
     "text": [
      "Current Team:\n"
     ]
    },
    {
     "data": {
      "text/html": [
       "<table><tr><th>ID</th><th>Name</th><th>Cost</th><th>ICT Index</th><th>Total Points</th><th>Form</th><th>Average Fixture Difficulty</th><th>Normalised Average Fixture Difficulty</th><th>Current Fixture Difficulty</th><th>Position</th><th>Availability</th><th>Team</th><th>Captain</th><th>Vice Captain</th><th>Score</th>\n",
       "<tr><td>67</td><td>Đorđe Petrović</td><td>45.00</td><td>13.6</td><td>24</td><td>3.7</td><td>0.000</td><td>0.000</td><td>0.0000</td><td>GKP</td><td>True</td><td>BOU</td><td>False</td><td>False<td>3.35</td><tr>\n",
       "<tr><td>366</td><td>Alisson Becker</td><td>55.00</td><td>10.7</td><td>20</td><td>4.5</td><td>0.000</td><td>0.000</td><td>0.0000</td><td>GKP</td><td>True</td><td>LIV</td><td>False</td><td>False<td>2.79</td><tr>\n",
       "<tr><td>36</td><td>Matty Cash</td><td>46.00</td><td>23.7</td><td>27</td><td>4.2</td><td>0.000</td><td>0.000</td><td>0.0000</td><td>DEF</td><td>True</td><td>AVL</td><td>False</td><td>False<td>3.87</td><tr>\n",
       "<tr><td>72</td><td>Marcos Senesi Barón</td><td>49.00</td><td>28.1</td><td>44</td><td>6.3</td><td>0.000</td><td>0.000</td><td>0.0000</td><td>DEF</td><td>True</td><td>BOU</td><td>False</td><td>True<td>7.07</td><tr>\n",
       "<tr><td>74</td><td>Adrien Truffert</td><td>45.00</td><td>21.9</td><td>27</td><td>4.7</td><td>0.000</td><td>0.000</td><td>0.0000</td><td>DEF</td><td>True</td><td>BOU</td><td>False</td><td>False<td>3.39</td><tr>\n",
       "<tr><td>373</td><td>Virgil van Dijk</td><td>61.00</td><td>25.5</td><td>28</td><td>5.5</td><td>0.000</td><td>0.000</td><td>0.0000</td><td>DEF</td><td>True</td><td>LIV</td><td>False</td><td>False<td>3.44</td><tr>\n",
       "<tr><td>476</td><td>Dan Burn</td><td>50.00</td><td>15.5</td><td>32</td><td>5.0</td><td>0.000</td><td>0.000</td><td>0.0000</td><td>DEF</td><td>True</td><td>NEW</td><td>False</td><td>False<td>3.16</td><tr>\n",
       "<tr><td>430</td><td>Erling Haaland</td><td>144.00</td><td>70.6</td><td>62</td><td>11.8</td><td>0.000</td><td>0.000</td><td>0.0000</td><td>FWD</td><td>True</td><td>MCI</td><td>True</td><td>False<td>14.51</td><tr>\n",
       "<tr><td>624</td><td>Jarrod Bowen</td><td>77.00</td><td>41.7</td><td>33</td><td>7.2</td><td>0.000</td><td>0.000</td><td>0.0000</td><td>FWD</td><td>True</td><td>WHU</td><td>False</td><td>False<td>6.87</td><tr>\n",
       "<tr><td>691</td><td>Dominic Calvert-Lewin</td><td>55.00</td><td>21.5</td><td>16</td><td>5.0</td><td>0.000</td><td>0.000</td><td>0.0000</td><td>FWD</td><td>True</td><td>LEE</td><td>False</td><td>False<td>3.59</td><tr>\n",
       "<tr><td>160</td><td>Yankuba Minteh</td><td>59.00</td><td>40.2</td><td>29</td><td>6.0</td><td>0.000</td><td>0.000</td><td>0.0000</td><td>MID</td><td>True</td><td>BHA</td><td>False</td><td>False<td>5.77</td><tr>\n",
       "<tr><td>200</td><td>Jaidon Anthony</td><td>56.00</td><td>48.2</td><td>40</td><td>6.3</td><td>0.000</td><td>0.000</td><td>0.0000</td><td>MID</td><td>True</td><td>BUR</td><td>False</td><td>False<td>7.05</td><tr>\n",
       "<tr><td>302</td><td>Idrissa Gana Gueye</td><td>54.00</td><td>21.1</td><td>22</td><td>5.0</td><td>0.000</td><td>0.000</td><td>0.0000</td><td>MID</td><td>True</td><td>EVE</td><td>False</td><td>False<td>5.36</td><tr>\n",
       "<tr><td>324</td><td>Alex Iwobi</td><td>65.00</td><td>26.3</td><td>28</td><td>6.0</td><td>0.000</td><td>0.000</td><td>0.0000</td><td>MID</td><td>True</td><td>FUL</td><td>False</td><td>False<td>2.42</td><tr>\n",
       "<tr><td>449</td><td>Bruno Borges Fernandes</td><td>90.00</td><td>52.8</td><td>25</td><td>3.7</td><td>0.000</td><td>0.000</td><td>0.0000</td><td>MID</td><td>True</td><td>MUN</td><td>False</td><td>False<td>1.22</td><tr>\n",
       "</table>"
      ],
      "text/plain": [
       "<modules.team.Team at 0x7ae16137e960>"
      ]
     },
     "metadata": {},
     "output_type": "display_data"
    },
    {
     "name": "stdout",
     "output_type": "stream",
     "text": [
      "\n",
      "Selected Team:\n"
     ]
    },
    {
     "data": {
      "text/html": [
       "<table><tr><th>ID</th><th>Name</th><th>Cost</th><th>ICT Index</th><th>Total Points</th><th>Form</th><th>Average Fixture Difficulty</th><th>Normalised Average Fixture Difficulty</th><th>Current Fixture Difficulty</th><th>Position</th><th>Availability</th><th>Team</th><th>Captain</th><th>Vice Captain</th><th>Score</th>\n",
       "<tr><td>670</td><td>Robin Roefs</td><td>45.00</td><td>19.9</td><td>39</td><td>7.3</td><td>0.250</td><td>-0.894</td><td>0.4348</td><td>GKP</td><td>True</td><td>SUN</td><td>False</td><td>False<td>8.16</td><tr>\n",
       "<tr><td>253</td><td>Dean Henderson</td><td>50.00</td><td>11.1</td><td>25</td><td>4.2</td><td>0.543</td><td>0.155</td><td>0.6739</td><td>GKP</td><td>True</td><td>CRY</td><td>False</td><td>False<td>3.91</td><tr>\n",
       "<tr><td>260</td><td>Marc Guéhi</td><td>48.00</td><td>23.1</td><td>43</td><td>8.8</td><td>0.543</td><td>0.155</td><td>0.6739</td><td>DEF</td><td>True</td><td>CRY</td><td>False</td><td>False<td>7.46</td><tr>\n",
       "<tr><td>694</td><td>Nordi Mukiele</td><td>40.00</td><td>16.8</td><td>24</td><td>6.7</td><td>0.250</td><td>-0.894</td><td>0.4348</td><td>DEF</td><td>True</td><td>SUN</td><td>False</td><td>False<td>7.81</td><tr>\n",
       "<tr><td>5</td><td>Gabriel dos Santos Magalhães</td><td>62.00</td><td>24.1</td><td>38</td><td>6.5</td><td>0.342</td><td>-0.564</td><td>0.3478</td><td>DEF</td><td>True</td><td>ARS</td><td>False</td><td>False<td>8.55</td><tr>\n",
       "<tr><td>683</td><td>Omar Alderete</td><td>40.00</td><td>29.8</td><td>39</td><td>10.0</td><td>0.250</td><td>-0.894</td><td>0.4348</td><td>DEF</td><td>True</td><td>SUN</td><td>True</td><td>False<td>13.31</td><tr>\n",
       "<tr><td>72</td><td>Marcos Senesi Barón</td><td>49.00</td><td>28.1</td><td>44</td><td>6.3</td><td>0.000</td><td>0.000</td><td>0.0000</td><td>DEF</td><td>True</td><td>BOU</td><td>False</td><td>False<td>7.07</td><tr>\n",
       "<tr><td>136</td><td>Igor Thiago Nascimento Rodrigues</td><td>60.00</td><td>35.2</td><td>30</td><td>5.3</td><td>0.658</td><td>0.564</td><td>0.5435</td><td>FWD</td><td>True</td><td>BRE</td><td>False</td><td>True<td>8.88</td><tr>\n",
       "<tr><td>430</td><td>Erling Haaland</td><td>144.00</td><td>70.6</td><td>62</td><td>11.8</td><td>0.000</td><td>0.000</td><td>0.0000</td><td>FWD</td><td>True</td><td>MCI</td><td>True</td><td>False<td>14.51</td><tr>\n",
       "<tr><td>178</td><td>Danny Welbeck</td><td>63.00</td><td>19.5</td><td>17</td><td>4.0</td><td>0.337</td><td>-0.583</td><td>0.4348</td><td>FWD</td><td>True</td><td>BHA</td><td>False</td><td>False<td>7.89</td><tr>\n",
       "<tr><td>267</td><td>Ismaïla Sarr</td><td>64.00</td><td>26.1</td><td>29</td><td>4.5</td><td>0.543</td><td>0.155</td><td>0.6739</td><td>MID</td><td>True</td><td>CRY</td><td>False</td><td>False<td>7.32</td><tr>\n",
       "<tr><td>21</td><td>Declan Rice</td><td>65.00</td><td>29.6</td><td>29</td><td>4.2</td><td>0.342</td><td>-0.564</td><td>0.3478</td><td>MID</td><td>True</td><td>ARS</td><td>False</td><td>False<td>7.45</td><tr>\n",
       "<tr><td>82</td><td>Antoine Semenyo</td><td>78.00</td><td>47.8</td><td>48</td><td>8.3</td><td>0.668</td><td>0.602</td><td>0.6957</td><td>MID</td><td>True</td><td>BOU</td><td>False</td><td>False<td>7.58</td><tr>\n",
       "<tr><td>660</td><td>Anton Stach</td><td>50.00</td><td>36.1</td><td>31</td><td>6.0</td><td>0.348</td><td>-0.544</td><td>0.3043</td><td>MID</td><td>True</td><td>LEE</td><td>False</td><td>False<td>7.59</td><tr>\n",
       "<tr><td>200</td><td>Jaidon Anthony</td><td>56.00</td><td>48.2</td><td>40</td><td>6.3</td><td>0.000</td><td>0.000</td><td>0.0000</td><td>MID</td><td>True</td><td>BUR</td><td>False</td><td>False<td>7.05</td><tr>\n",
       "</table>"
      ],
      "text/plain": [
       "<modules.team.Team at 0x7ae14b653b90>"
      ]
     },
     "metadata": {},
     "output_type": "display_data"
    }
   ],
   "source": [
    "print(\"Current Team:\")\n",
    "display(current_team)\n",
    "print()\n",
    "print(\"Selected Team:\")\n",
    "display(selected_team)"
   ]
  },
  {
   "cell_type": "code",
   "execution_count": 112,
   "metadata": {},
   "outputs": [
    {
     "name": "stdout",
     "output_type": "stream",
     "text": [
      "Score difference: 50.66499999999999\n"
     ]
    }
   ],
   "source": [
    "score_dif = selected_team.getTotalScore() - current_team.getTotalScore()\n",
    "print(\"Score difference:\",score_dif)"
   ]
  },
  {
   "cell_type": "code",
   "execution_count": 113,
   "metadata": {},
   "outputs": [],
   "source": [
    "def getBest(pCurrentTeam: Team, pNewTeam: Team, pNewPlayers: Team, pPosition: Position):\n",
    "    # TODO: Store Team players in sorted tree instead of list\n",
    "    currentPositionData = pCurrentTeam.getPlayersListByPosition(pPosition)\n",
    "    newPlayersPositionData = pNewPlayers.getPlayersListByPosition(pPosition)\n",
    "    oldTotalCost = pCurrentTeam.getTotalCost()\n",
    "    maxCost = max(oldTotalCost, TOTAL_BUDGET)\n",
    "    #maxCost = TOTAL_BUDGET\n",
    "\n",
    "    allTransfers = []\n",
    "\n",
    "    for i in range(len(currentPositionData)):\n",
    "        oldPlayer = currentPositionData[i]\n",
    "        oldPlayerCost = oldPlayer.getCost()\n",
    "        for j in range(len(newPlayersPositionData)):\n",
    "\n",
    "            newPlayer = newPlayersPositionData[j]\n",
    "            newCost = oldTotalCost - oldPlayerCost + newPlayer.getCost()\n",
    "\n",
    "            if (newCost <= maxCost):\n",
    "                allTransfers.append(Transfer(oldPlayer, newPlayer))\n",
    "\n",
    "    if (len(allTransfers) >= 1):\n",
    "        bestTransfer = max(allTransfers)\n",
    "        if(bestTransfer.getScoreDif() > 0):\n",
    "            return bestTransfer\n",
    "    else:\n",
    "        return None"
   ]
  },
  {
   "cell_type": "code",
   "execution_count": 114,
   "metadata": {},
   "outputs": [],
   "source": [
    "def get_updated_team(team: pd.DataFrame, old_player: pd.Series, new_player: pd.Series):\n",
    "    team: pd.DataFrame = team.drop(index=old_player.name)\n",
    "    team.loc[len(team)] = new_player\n",
    "    return team"
   ]
  },
  {
   "cell_type": "code",
   "execution_count": 115,
   "metadata": {},
   "outputs": [],
   "source": [
    "def get_bench(team: pd.DataFrame):\n",
    "    positions = [\"FWD\",\"DEF\",\"MID\",\"GKP\"]\n",
    "    team = team.reset_index()\n",
    "    bench = pd.DataFrame(columns=team.columns)\n",
    "    for position in positions:\n",
    "        worst_player_index = team.loc[team[\"position\"]==position][\"score\"].idxmin()\n",
    "        worst_player = team.loc[worst_player_index].copy()\n",
    "        bench.loc[len(bench)] = worst_player\n",
    "        team = team.drop(index=worst_player_index)\n",
    "    return team, bench"
   ]
  },
  {
   "cell_type": "code",
   "execution_count": 116,
   "metadata": {},
   "outputs": [],
   "source": [
    "def getBestTransferNew(pCurrentTeam: Team, pNewTeam: Team, pNewPlayers: Team) -> Transfer | None:\n",
    "    positions = Position.listValues()\n",
    "    bestTransfers = []\n",
    "    for position in positions:\n",
    "        transfer = getBest(pCurrentTeam, pNewTeam, pNewPlayers, position)\n",
    "        if(transfer is not None):\n",
    "            bestTransfers.append(transfer)\n",
    "    actualBestTransfer = max(bestTransfers)\n",
    "    return actualBestTransfer"
   ]
  },
  {
   "cell_type": "code",
   "execution_count": 117,
   "metadata": {},
   "outputs": [],
   "source": [
    "def getNewTeam(pCurrentTeam: Team, pSelectedTeam: Team, pNewPlayers: Team, pMatrix: FixtureDifficultyMatrix):\n",
    "\n",
    "    TRIPLE_CAPT_THRESHOLD = 0.1\n",
    "\n",
    "    transferData = getBestTransferNew(pCurrentTeam, pSelectedTeam, pNewPlayers)\n",
    "    transferData.updateFixtureDifficulties(pMatrix)\n",
    "    print(\"Best transfer:\")\n",
    "    print(transferData)\n",
    "    oldPlayer = transferData.getOldPlayer()\n",
    "    newPlayer = transferData.getNewPlayer()\n",
    "    if transferData is None:\n",
    "        return\n",
    "    \n",
    "    changingPosition: Position = transferData.getPosition()\n",
    "    \n",
    "    newTeam = deepcopy(pCurrentTeam)\n",
    "    playersOfPosition = newTeam.getPlayersListByPosition(changingPosition)\n",
    "\n",
    "    for i in range(len(playersOfPosition)):\n",
    "        player = playersOfPosition[i]\n",
    "        if (player.getId() == oldPlayer.getId()):\n",
    "            newTeam.removePlayerByIndex(i, changingPosition)\n",
    "            newTeam.addPlayer(newPlayer)\n",
    "    \n",
    "\n",
    "    newTeam.recalculateFixtureDifficulty(pMatrix)\n",
    "\n",
    "    for player in newTeam.getPlayers():\n",
    "        if(player.getCurrentDifficulty() < TRIPLE_CAPT_THRESHOLD):\n",
    "            print(f\"Suggested triple captain: {player.getName()}\")\n",
    "    return newTeam"
   ]
  },
  {
   "cell_type": "code",
   "execution_count": 118,
   "metadata": {},
   "outputs": [
    {
     "name": "stdout",
     "output_type": "stream",
     "text": [
      "Best transfer:\n",
      "Transfer from Dan Burn -> Omar Alderete:\n",
      "Old player: Dan Burn\tScore: 3.16\tCost: 50\tFixture Difficulty: 0.46638561530098865\n",
      "New player: Omar Alderete (Captain) \tScore: 13.31\tCost: 40\tFixture Difficulty: -0.8939057626602283\n",
      "- Cost change: -10\n",
      "- Score change: 10.15\n"
     ]
    },
    {
     "data": {
      "text/html": [
       "<h1>Starting 11</h1>\n",
       "<table><tr><th>ID</th><th>Name</th><th>Cost</th><th>ICT Index</th><th>Total Points</th><th>Form</th><th>Average Fixture Difficulty</th><th>Normalised Average Fixture Difficulty</th><th>Current Fixture Difficulty</th><th>Position</th><th>Availability</th><th>Team</th><th>Captain</th><th>Vice Captain</th><th>Score</th>\n",
       "<tr><td>67</td><td>Đorđe Petrović</td><td>45.00</td><td>13.6</td><td>24</td><td>3.7</td><td>0.668</td><td>0.602</td><td>0.6957</td><td>GKP</td><td>True</td><td>BOU</td><td>False</td><td>False<td>3.35</td><tr>\n",
       "<tr><td>683</td><td>Omar Alderete</td><td>40.00</td><td>29.8</td><td>39</td><td>10.0</td><td>0.250</td><td>-0.894</td><td>0.4348</td><td>DEF</td><td>True</td><td>SUN</td><td>False</td><td>True<td>13.31</td><tr>\n",
       "<tr><td>72</td><td>Marcos Senesi Barón</td><td>49.00</td><td>28.1</td><td>44</td><td>6.3</td><td>0.668</td><td>0.602</td><td>0.6957</td><td>DEF</td><td>True</td><td>BOU</td><td>False</td><td>False<td>7.07</td><tr>\n",
       "<tr><td>36</td><td>Matty Cash</td><td>46.00</td><td>23.7</td><td>27</td><td>4.2</td><td>0.549</td><td>0.175</td><td>0.5217</td><td>DEF</td><td>True</td><td>AVL</td><td>False</td><td>False<td>3.87</td><tr>\n",
       "<tr><td>373</td><td>Virgil van Dijk</td><td>61.00</td><td>25.5</td><td>28</td><td>5.5</td><td>0.288</td><td>-0.758</td><td>0.3261</td><td>DEF</td><td>True</td><td>LIV</td><td>False</td><td>False<td>3.44</td><tr>\n",
       "<tr><td>430</td><td>Erling Haaland</td><td>144.00</td><td>70.6</td><td>62</td><td>11.8</td><td>0.201</td><td>-1.069</td><td>0.1304</td><td>FWD</td><td>True</td><td>MCI</td><td>True</td><td>False<td>14.51</td><tr>\n",
       "<tr><td>624</td><td>Jarrod Bowen</td><td>77.00</td><td>41.7</td><td>33</td><td>7.2</td><td>0.674</td><td>0.622</td><td>0.6087</td><td>FWD</td><td>True</td><td>WHU</td><td>False</td><td>False<td>6.87</td><tr>\n",
       "<tr><td>200</td><td>Jaidon Anthony</td><td>56.00</td><td>48.2</td><td>40</td><td>6.3</td><td>0.668</td><td>0.602</td><td>0.8696</td><td>MID</td><td>True</td><td>BUR</td><td>False</td><td>False<td>7.05</td><tr>\n",
       "<tr><td>160</td><td>Yankuba Minteh</td><td>59.00</td><td>40.2</td><td>29</td><td>6.0</td><td>0.337</td><td>-0.583</td><td>0.4348</td><td>MID</td><td>True</td><td>BHA</td><td>False</td><td>False<td>5.77</td><tr>\n",
       "<tr><td>302</td><td>Idrissa Gana Gueye</td><td>54.00</td><td>21.1</td><td>22</td><td>5.0</td><td>0.614</td><td>0.408</td><td>0.3913</td><td>MID</td><td>True</td><td>EVE</td><td>False</td><td>False<td>5.36</td><tr>\n",
       "<tr><td>324</td><td>Alex Iwobi</td><td>65.00</td><td>26.3</td><td>28</td><td>6.0</td><td>0.451</td><td>-0.175</td><td>0.4783</td><td>MID</td><td>True</td><td>FUL</td><td>False</td><td>False<td>2.42</td><tr>\n",
       "</table>\n",
       "<h1>Bench</h1>\n",
       "<table><tr><th>ID</th><th>Name</th><th>Cost</th><th>ICT Index</th><th>Total Points</th><th>Form</th><th>Average Fixture Difficulty</th><th>Normalised Average Fixture Difficulty</th><th>Current Fixture Difficulty</th><th>Position</th><th>Availability</th><th>Team</th><th>Captain</th><th>Vice Captain</th><th>Score</th>\n",
       "<tr><td>366</td><td>Alisson Becker</td><td>55.00</td><td>10.7</td><td>20</td><td>4.5</td><td>0.288</td><td>-0.758</td><td>0.3261</td><td>GKP</td><td>True</td><td>LIV</td><td>False</td><td>False<td>2.79</td><tr>\n",
       "<tr><td>74</td><td>Adrien Truffert</td><td>45.00</td><td>21.9</td><td>27</td><td>4.7</td><td>0.668</td><td>0.602</td><td>0.6957</td><td>DEF</td><td>True</td><td>BOU</td><td>False</td><td>False<td>3.39</td><tr>\n",
       "<tr><td>691</td><td>Dominic Calvert-Lewin</td><td>55.00</td><td>21.5</td><td>16</td><td>5.0</td><td>0.348</td><td>-0.544</td><td>0.3043</td><td>FWD</td><td>True</td><td>LEE</td><td>False</td><td>False<td>3.59</td><tr>\n",
       "<tr><td>449</td><td>Bruno Borges Fernandes</td><td>90.00</td><td>52.8</td><td>25</td><td>3.7</td><td>0.658</td><td>0.564</td><td>0.4565</td><td>MID</td><td>True</td><td>MUN</td><td>False</td><td>False<td>1.22</td><tr>\n",
       "</table>"
      ],
      "text/plain": [
       "<modules.team.BenchTeam at 0x7ae18c77be90>"
      ]
     },
     "metadata": {},
     "output_type": "display_data"
    },
    {
     "data": {
      "text/plain": [
       "'New total score: 84.0105'"
      ]
     },
     "metadata": {},
     "output_type": "display_data"
    }
   ],
   "source": [
    "newTeam = getNewTeam(current_team, selected_team, new_players, matrix)\n",
    "newTeam = newTeam.toBenchTeam()\n",
    "display(newTeam)\n",
    "display(f\"New total score: {newTeam.getTotalScore()}\")"
   ]
  }
 ],
 "metadata": {
  "kernelspec": {
   "display_name": "base",
   "language": "python",
   "name": "python3"
  },
  "language_info": {
   "codemirror_mode": {
    "name": "ipython",
    "version": 3
   },
   "file_extension": ".py",
   "mimetype": "text/x-python",
   "name": "python",
   "nbconvert_exporter": "python",
   "pygments_lexer": "ipython3",
   "version": "3.12.2"
  }
 },
 "nbformat": 4,
 "nbformat_minor": 2
}
