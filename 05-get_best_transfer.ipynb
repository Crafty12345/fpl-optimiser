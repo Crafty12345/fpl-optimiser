{
 "cells": [
  {
   "cell_type": "code",
   "execution_count": 1,
   "metadata": {},
   "outputs": [],
   "source": [
    "import json\n",
    "import pandas as pd\n",
    "import numpy as np\n",
    "from copy import deepcopy\n",
    "from IPython.display import display\n",
    "import re\n",
    "\n",
    "from modules.team import Team, BenchTeam\n",
    "from modules.player import Player, Position\n",
    "from modules.transfer import Transfer\n",
    "from modules.fixture_difficulty_matrix import FixtureDifficultyMatrix\n",
    "from modules.utils import getDataFilesSorted\n",
    "\n",
    "import config"
   ]
  },
  {
   "cell_type": "code",
   "execution_count": 2,
   "metadata": {},
   "outputs": [],
   "source": [
    "CURRENT_DATE = config.CURRENT_DATE\n",
    "teams_filename = f\"./results/{CURRENT_DATE}/results_{CURRENT_DATE}.json\"\n",
    "scores_filename = f\"./results/{CURRENT_DATE}/scores_{CURRENT_DATE}.json\"\n",
    "SELECTED_MODEL_INDEX = 3\n",
    "TOTAL_BUDGET = 1000"
   ]
  },
  {
   "cell_type": "code",
   "execution_count": 3,
   "metadata": {},
   "outputs": [],
   "source": [
    "current_team_names = {\"\\u0110or\\u0111e Petrovi\\u0107\",\n",
    "                      \"Alisson Becker\",\n",
    "                      \"Matty Cash\",\n",
    "                      \"Marcos Senesi Bar\\u00f3n\",\n",
    "                      \"Adrien Truffert\",\n",
    "                      \"Virgil van Dijk\",\n",
    "                      \"Omar Alderete\",\n",
    "                      \"Yankuba Minteh\",\n",
    "                      \"Jaidon Anthony\",\n",
    "                      \"Idrissa Gana Gueye\",\n",
    "                      \"Alex Iwobi\",\n",
    "                      \"Bruno Borges Fernandes\",\n",
    "                      \"Erling Haaland\",\n",
    "                      \"Jarrod Bowen\",\n",
    "                      \"Dominic Calvert-Lewin\",\n",
    "                      }"
   ]
  },
  {
   "cell_type": "code",
   "execution_count": 4,
   "metadata": {},
   "outputs": [],
   "source": [
    "# TODO: Change how files are loaded\n",
    "\n",
    "with open(teams_filename, \"r\") as f:\n",
    "    tempJson: list[dict] = json.load(f)\n",
    "\n",
    "actualJson = tempJson[SELECTED_MODEL_INDEX]"
   ]
  },
  {
   "cell_type": "code",
   "execution_count": 5,
   "metadata": {},
   "outputs": [],
   "source": [
    "all_player_data = pd.DataFrame.from_records(actualJson[\"players\"])"
   ]
  },
  {
   "cell_type": "code",
   "execution_count": 6,
   "metadata": {},
   "outputs": [
    {
     "name": "stdout",
     "output_type": "stream",
     "text": [
      "     clean_sheets  cost  expected_goals  form  gameweek  ict_index   id  \\\n",
      "0             4.0    57            0.00   4.0         8       14.5    1   \n",
      "1             0.0    43            0.00   0.0         8        0.0    2   \n",
      "2             0.0    40            0.00   0.0         8        0.0    3   \n",
      "3             0.0    40            0.00   0.0         8        0.0    4   \n",
      "4             4.0    62            0.48   8.2         8       27.0    5   \n",
      "..            ...   ...             ...   ...       ...        ...  ...   \n",
      "738           0.0    45            0.00   0.0         8        0.0  739   \n",
      "739           0.0    40            0.00   0.0         8        0.0  740   \n",
      "740           0.0    45            0.00   0.0         8        0.0  741   \n",
      "741           0.0    45            0.00   0.0         8        0.0  742   \n",
      "742           0.0    45            0.00   0.0         8        0.0  743   \n",
      "\n",
      "                             name opposing_team  play_percent  \\\n",
      "0               David Raya Martín           FUL         0.875   \n",
      "1      Kepa Arrizabalaga Revuelta           FUL         0.000   \n",
      "2                       Karl Hein           FUL         0.000   \n",
      "3                   Tommy Setford           FUL         0.000   \n",
      "4    Gabriel dos Santos Magalhães           FUL         0.875   \n",
      "..                            ...           ...           ...   \n",
      "738                 Divine Mukasa           EVE         0.000   \n",
      "739                 Stephen Mfuni           EVE         0.000   \n",
      "740                    Harry Gray           BUR         0.000   \n",
      "741                  Ryan McAidoo           EVE         0.000   \n",
      "742                Landon Emenalo           NFO         0.000   \n",
      "\n",
      "     points_per_game  points_this_week position  season status team  \\\n",
      "0                4.9                 6      GKP      26      a  ARS   \n",
      "1                0.0                 0      GKP      26      a  ARS   \n",
      "2                0.0                 0      GKP      26      u  ARS   \n",
      "3                0.0                 0      GKP      26      a  ARS   \n",
      "4                6.7                 9      DEF      26      a  ARS   \n",
      "..               ...               ...      ...     ...    ...  ...   \n",
      "738              0.0                 0      MID      26      a  MCI   \n",
      "739              0.0                 0      DEF      26      a  MCI   \n",
      "740              0.0                 0      FWD      26      d  LEE   \n",
      "741              0.0                 0      MID      26      a  MCI   \n",
      "742              0.0                 0      MID      26      a  CHE   \n",
      "\n",
      "     total_points   score  \n",
      "0              34  3.6515  \n",
      "1               0  0.0000  \n",
      "2               0  0.0000  \n",
      "3               0  0.0000  \n",
      "4              47  8.5975  \n",
      "..            ...     ...  \n",
      "738             0  0.0000  \n",
      "739             0  0.0000  \n",
      "740             0  0.0000  \n",
      "741             0  0.0000  \n",
      "742             0  0.0000  \n",
      "\n",
      "[743 rows x 18 columns]\n"
     ]
    }
   ],
   "source": [
    "print(all_player_data)"
   ]
  },
  {
   "cell_type": "code",
   "execution_count": 7,
   "metadata": {},
   "outputs": [],
   "source": [
    "currentTeamPlayers = all_player_data.loc[all_player_data[\"name\"].isin(current_team_names)]\n",
    "\n",
    "\n",
    "for player in current_team_names:\n",
    "    if(player not in currentTeamPlayers[\"name\"].values):\n",
    "        raise ValueError(f\"player '{player}' not found\")"
   ]
  },
  {
   "cell_type": "code",
   "execution_count": 8,
   "metadata": {},
   "outputs": [],
   "source": [
    "current_team = Team.fromDataFrame(currentTeamPlayers)"
   ]
  },
  {
   "cell_type": "code",
   "execution_count": 9,
   "metadata": {},
   "outputs": [
    {
     "data": {
      "text/plain": [
       "945"
      ]
     },
     "execution_count": 9,
     "metadata": {},
     "output_type": "execute_result"
    }
   ],
   "source": [
    "current_team_cost = current_team.getTotalCost()\n",
    "current_team_cost"
   ]
  },
  {
   "cell_type": "code",
   "execution_count": 10,
   "metadata": {},
   "outputs": [],
   "source": [
    "with open(teams_filename,\"r\",encoding=\"utf-8\") as f:\n",
    "    all_data = json.load(f)\n",
    "\n",
    "all_data = all_data[SELECTED_MODEL_INDEX]\n",
    "selected_team_df = pd.DataFrame.from_records(all_data[\"team\"])"
   ]
  },
  {
   "cell_type": "code",
   "execution_count": 11,
   "metadata": {},
   "outputs": [],
   "source": [
    "selected_team = Team.fromDataFrame(selected_team_df)"
   ]
  },
  {
   "cell_type": "code",
   "execution_count": 12,
   "metadata": {},
   "outputs": [
    {
     "data": {
      "text/html": [
       "<table><tr><th>ID</th><th>Name</th><th>Cost</th><th>ICT Index</th><th>Total Points</th><th>Form</th><th>Average Fixture Difficulty</th><th>Normalised Average Fixture Difficulty</th><th>Current Fixture Difficulty</th><th>Position</th><th>Availability</th><th>Team</th><th>Captain</th><th>Vice Captain</th><th>Score</th>\n",
       "<tr><td>469</td><td>Nick Pope</td><td>51.00</td><td>16.4</td><td>41</td><td>5.8</td><td>0.000</td><td>0.000</td><td>0.0000</td><td>GKP</td><td>True</td><td>NEW</td><td>False</td><td>False<td>6.08</td><tr>\n",
       "<tr><td>670</td><td>Robin Roefs</td><td>46.00</td><td>22.7</td><td>41</td><td>6.0</td><td>0.000</td><td>0.000</td><td>0.0000</td><td>GKP</td><td>True</td><td>SUN</td><td>False</td><td>False<td>5.49</td><tr>\n",
       "<tr><td>403</td><td>Joško Gvardiol</td><td>58.00</td><td>16.7</td><td>24</td><td>6.0</td><td>0.000</td><td>0.000</td><td>0.0000</td><td>DEF</td><td>True</td><td>MCI</td><td>False</td><td>False<td>6.12</td><tr>\n",
       "<tr><td>8</td><td>Jurriën Timber</td><td>59.00</td><td>49.8</td><td>48</td><td>5.5</td><td>0.000</td><td>0.000</td><td>0.0000</td><td>DEF</td><td>True</td><td>ARS</td><td>False</td><td>False<td>6.69</td><tr>\n",
       "<tr><td>151</td><td>Jan Paul van Hecke</td><td>44.00</td><td>25.9</td><td>22</td><td>4.5</td><td>0.000</td><td>0.000</td><td>0.0000</td><td>DEF</td><td>True</td><td>BHA</td><td>False</td><td>False<td>6.69</td><tr>\n",
       "<tr><td>5</td><td>Gabriel dos Santos Magalhães</td><td>62.00</td><td>27.0</td><td>47</td><td>8.2</td><td>0.000</td><td>0.000</td><td>0.0000</td><td>DEF</td><td>True</td><td>ARS</td><td>False</td><td>False<td>8.60</td><tr>\n",
       "<tr><td>683</td><td>Omar Alderete</td><td>41.00</td><td>31.5</td><td>39</td><td>7.5</td><td>0.000</td><td>0.000</td><td>0.0000</td><td>DEF</td><td>True</td><td>SUN</td><td>False</td><td>False<td>5.88</td><tr>\n",
       "<tr><td>714</td><td>Nick Woltemade</td><td>72.00</td><td>24.9</td><td>24</td><td>6.0</td><td>0.000</td><td>0.000</td><td>0.0000</td><td>FWD</td><td>True</td><td>NEW</td><td>False</td><td>False<td>5.14</td><tr>\n",
       "<tr><td>430</td><td>Erling Haaland</td><td>145.00</td><td>76.8</td><td>70</td><td>11.5</td><td>0.000</td><td>0.000</td><td>0.0000</td><td>FWD</td><td>True</td><td>MCI</td><td>True</td><td>False<td>11.18</td><tr>\n",
       "<tr><td>136</td><td>Igor Thiago Nascimento Rodrigues</td><td>61.00</td><td>38.0</td><td>32</td><td>4.5</td><td>0.000</td><td>0.000</td><td>0.0000</td><td>FWD</td><td>True</td><td>BRE</td><td>False</td><td>False<td>4.83</td><tr>\n",
       "<tr><td>241</td><td>Moisés Caicedo Corozo</td><td>57.00</td><td>35.5</td><td>45</td><td>7.0</td><td>0.000</td><td>0.000</td><td>0.0000</td><td>MID</td><td>True</td><td>CHE</td><td>False</td><td>False<td>7.39</td><tr>\n",
       "<tr><td>26</td><td>Martín Zubimendi Ibáñez</td><td>55.00</td><td>28.2</td><td>32</td><td>5.8</td><td>0.000</td><td>0.000</td><td>0.0000</td><td>MID</td><td>True</td><td>ARS</td><td>False</td><td>False<td>7.82</td><tr>\n",
       "<tr><td>582</td><td>Mohammed Kudus</td><td>67.00</td><td>55.5</td><td>39</td><td>6.0</td><td>0.000</td><td>0.000</td><td>0.0000</td><td>MID</td><td>True</td><td>TOT</td><td>False</td><td>False<td>9.38</td><tr>\n",
       "<tr><td>82</td><td>Antoine Semenyo</td><td>79.00</td><td>65.0</td><td>66</td><td>10.8</td><td>0.000</td><td>0.000</td><td>0.0000</td><td>MID</td><td>True</td><td>BOU</td><td>False</td><td>True<td>9.52</td><tr>\n",
       "<tr><td>21</td><td>Declan Rice</td><td>65.00</td><td>40.5</td><td>40</td><td>6.0</td><td>0.000</td><td>0.000</td><td>0.0000</td><td>MID</td><td>False</td><td>ARS</td><td>False</td><td>False<td>7.28</td><tr>\n",
       "</table>"
      ],
      "text/plain": [
       "<modules.team.Team at 0x7e57f8172d80>"
      ]
     },
     "metadata": {},
     "output_type": "display_data"
    }
   ],
   "source": [
    "display(selected_team)"
   ]
  },
  {
   "cell_type": "code",
   "execution_count": 13,
   "metadata": {},
   "outputs": [
    {
     "name": "stdout",
     "output_type": "stream",
     "text": [
      "\n",
      "Total Score: 91.039\n",
      "\n",
      "Goalkeepers:\n",
      "- Nick Pope\tScore: 6.08\tCost: 51\tFixture Difficulty: 0.0\n",
      "- Robin Roefs\tScore: 5.49\tCost: 46\tFixture Difficulty: 0.0\n",
      "Defenders:\n",
      "- Joško Gvardiol\tScore: 6.12\tCost: 58\tFixture Difficulty: 0.0\n",
      "- Jurriën Timber\tScore: 6.69\tCost: 59\tFixture Difficulty: 0.0\n",
      "- Jan Paul van Hecke\tScore: 6.69\tCost: 44\tFixture Difficulty: 0.0\n",
      "- Gabriel dos Santos Magalhães\tScore: 8.6\tCost: 62\tFixture Difficulty: 0.0\n",
      "Attackers:\n",
      "- Nick Woltemade\tScore: 5.14\tCost: 72\tFixture Difficulty: 0.0\n",
      "- Igor Thiago Nascimento Rodrigues\tScore: 4.83\tCost: 61\tFixture Difficulty: 0.0\n",
      "Midfielders:\n",
      "- Moisés Caicedo Corozo\tScore: 7.39\tCost: 57\tFixture Difficulty: 0.0\n",
      "- Martín Zubimendi Ibáñez\tScore: 7.82\tCost: 55\tFixture Difficulty: 0.0\n",
      "- Mohammed Kudus (Vice Captain) \tScore: 9.38\tCost: 67\tFixture Difficulty: 0.0\n",
      "- Antoine Semenyo (Captain) \tScore: 9.52\tCost: 79\tFixture Difficulty: 0.0\n",
      "- Declan Rice\tScore: 7.28\tCost: 65\tFixture Difficulty: 0.0\n"
     ]
    }
   ],
   "source": [
    "new_players = selected_team - current_team\n",
    "print(new_players)"
   ]
  },
  {
   "cell_type": "code",
   "execution_count": 14,
   "metadata": {},
   "outputs": [
    {
     "name": "stdout",
     "output_type": "stream",
     "text": [
      "Added cost: 17\n"
     ]
    }
   ],
   "source": [
    "new_team_cost = selected_team.getTotalCost()\n",
    "new_team_cost\n",
    "\n",
    "added_cost = new_team_cost - current_team_cost\n",
    "print(\"Added cost:\",added_cost)\n",
    "\n",
    "surplus = current_team_cost - new_team_cost\n"
   ]
  },
  {
   "cell_type": "code",
   "execution_count": 15,
   "metadata": {},
   "outputs": [],
   "source": [
    "#HEURISTIC = \"combined\"\n",
    "#MODE = SolverMode.CHEAPEST_FIRST"
   ]
  },
  {
   "cell_type": "code",
   "execution_count": 16,
   "metadata": {},
   "outputs": [
    {
     "data": {
      "text/plain": [
       "(1.6307487186390148, 1.6307487186390148)"
      ]
     },
     "execution_count": 16,
     "metadata": {},
     "output_type": "execute_result"
    }
   ],
   "source": [
    "# all_player_data[\"score\"] = all_player_data[HEURISTIC] * all_player_data[\"form\"]\n",
    "deviation = np.std(all_player_data[\"score\"])\n",
    "scale_factor = deviation\n",
    "scale_factor, deviation"
   ]
  },
  {
   "cell_type": "code",
   "execution_count": 17,
   "metadata": {},
   "outputs": [
    {
     "name": "stdout",
     "output_type": "stream",
     "text": [
      "Warning: IPS does not have any games in gameweek 8 of season 26\n",
      "Warning: LEI does not have any games in gameweek 8 of season 26\n",
      "Warning: SOU does not have any games in gameweek 8 of season 26\n",
      "Warning: UNK does not have any games in gameweek 8 of season 26\n"
     ]
    }
   ],
   "source": [
    "matrix = FixtureDifficultyMatrix()\n",
    "matrix.precomputeFixtureDifficulty(0, config.CURRENT_GAMEWEEK+1, 3, config.CURRENT_SEASON, 1.0)\n",
    "\n",
    "new_players.recalculateFixtureDifficulty(matrix)\n",
    "# new_players.calculateScore(HEURISTIC)\n",
    "\n",
    "# selected_team.recalculateFixtureDifficulty(matrix)\n",
    "# selected_team.calculateScore(HEURISTIC)\n",
    "\n",
    "# current_team.recalculateFixtureDifficulty(matrix)\n",
    "# current_team.calculateScore(HEURISTIC)"
   ]
  },
  {
   "cell_type": "code",
   "execution_count": 18,
   "metadata": {},
   "outputs": [
    {
     "name": "stdout",
     "output_type": "stream",
     "text": [
      "Current Team:\n"
     ]
    },
    {
     "data": {
      "text/html": [
       "<table><tr><th>ID</th><th>Name</th><th>Cost</th><th>ICT Index</th><th>Total Points</th><th>Form</th><th>Average Fixture Difficulty</th><th>Normalised Average Fixture Difficulty</th><th>Current Fixture Difficulty</th><th>Position</th><th>Availability</th><th>Team</th><th>Captain</th><th>Vice Captain</th><th>Score</th>\n",
       "<tr><td>67</td><td>Đorđe Petrović</td><td>45.00</td><td>15.5</td><td>27</td><td>3.5</td><td>0.000</td><td>0.000</td><td>0.0000</td><td>GKP</td><td>True</td><td>BOU</td><td>False</td><td>False<td>4.01</td><tr>\n",
       "<tr><td>366</td><td>Alisson Becker</td><td>55.00</td><td>10.7</td><td>20</td><td>2.5</td><td>0.000</td><td>0.000</td><td>0.0000</td><td>GKP</td><td>False</td><td>LIV</td><td>False</td><td>False<td>2.10</td><tr>\n",
       "<tr><td>36</td><td>Matty Cash</td><td>46.00</td><td>27.3</td><td>29</td><td>4.8</td><td>0.000</td><td>0.000</td><td>0.0000</td><td>DEF</td><td>True</td><td>AVL</td><td>False</td><td>False<td>3.21</td><tr>\n",
       "<tr><td>72</td><td>Marcos Senesi Barón</td><td>49.00</td><td>31.4</td><td>46</td><td>5.2</td><td>0.000</td><td>0.000</td><td>0.0000</td><td>DEF</td><td>True</td><td>BOU</td><td>False</td><td>False<td>5.00</td><tr>\n",
       "<tr><td>74</td><td>Adrien Truffert</td><td>45.00</td><td>27.6</td><td>32</td><td>4.8</td><td>0.000</td><td>0.000</td><td>0.0000</td><td>DEF</td><td>True</td><td>BOU</td><td>False</td><td>False<td>4.64</td><tr>\n",
       "<tr><td>373</td><td>Virgil van Dijk</td><td>61.00</td><td>27.5</td><td>29</td><td>3.8</td><td>0.000</td><td>0.000</td><td>0.0000</td><td>DEF</td><td>True</td><td>LIV</td><td>False</td><td>False<td>1.54</td><tr>\n",
       "<tr><td>683</td><td>Omar Alderete</td><td>41.00</td><td>31.5</td><td>39</td><td>7.5</td><td>0.000</td><td>0.000</td><td>0.0000</td><td>DEF</td><td>True</td><td>SUN</td><td>False</td><td>True<td>5.88</td><tr>\n",
       "<tr><td>430</td><td>Erling Haaland</td><td>145.00</td><td>76.8</td><td>70</td><td>11.5</td><td>0.000</td><td>0.000</td><td>0.0000</td><td>FWD</td><td>True</td><td>MCI</td><td>True</td><td>False<td>11.18</td><tr>\n",
       "<tr><td>624</td><td>Jarrod Bowen</td><td>77.00</td><td>43.8</td><td>35</td><td>5.5</td><td>0.000</td><td>0.000</td><td>0.0000</td><td>FWD</td><td>True</td><td>WHU</td><td>False</td><td>False<td>4.74</td><tr>\n",
       "<tr><td>691</td><td>Dominic Calvert-Lewin</td><td>55.00</td><td>28.7</td><td>18</td><td>4.2</td><td>0.000</td><td>0.000</td><td>0.0000</td><td>FWD</td><td>True</td><td>LEE</td><td>False</td><td>False<td>3.16</td><tr>\n",
       "<tr><td>160</td><td>Yankuba Minteh</td><td>60.00</td><td>49.6</td><td>31</td><td>5.5</td><td>0.000</td><td>0.000</td><td>0.0000</td><td>MID</td><td>True</td><td>BHA</td><td>False</td><td>False<td>5.04</td><tr>\n",
       "<tr><td>200</td><td>Jaidon Anthony</td><td>57.00</td><td>49.4</td><td>41</td><td>5.0</td><td>0.000</td><td>0.000</td><td>0.0000</td><td>MID</td><td>True</td><td>BUR</td><td>False</td><td>False<td>2.68</td><tr>\n",
       "<tr><td>302</td><td>Idrissa Gana Gueye</td><td>54.00</td><td>22.2</td><td>24</td><td>4.2</td><td>0.000</td><td>0.000</td><td>0.0000</td><td>MID</td><td>True</td><td>EVE</td><td>False</td><td>False<td>2.63</td><tr>\n",
       "<tr><td>324</td><td>Alex Iwobi</td><td>65.00</td><td>32.6</td><td>30</td><td>5.0</td><td>0.000</td><td>0.000</td><td>0.0000</td><td>MID</td><td>True</td><td>FUL</td><td>False</td><td>False<td>2.83</td><tr>\n",
       "<tr><td>449</td><td>Bruno Borges Fernandes</td><td>90.00</td><td>59.7</td><td>28</td><td>3.5</td><td>0.000</td><td>0.000</td><td>0.0000</td><td>MID</td><td>True</td><td>MUN</td><td>False</td><td>False<td>2.87</td><tr>\n",
       "</table>"
      ],
      "text/plain": [
       "<modules.team.Team at 0x7e57f8173ef0>"
      ]
     },
     "metadata": {},
     "output_type": "display_data"
    },
    {
     "name": "stdout",
     "output_type": "stream",
     "text": [
      "\n",
      "Selected Team:\n"
     ]
    },
    {
     "data": {
      "text/html": [
       "<table><tr><th>ID</th><th>Name</th><th>Cost</th><th>ICT Index</th><th>Total Points</th><th>Form</th><th>Average Fixture Difficulty</th><th>Normalised Average Fixture Difficulty</th><th>Current Fixture Difficulty</th><th>Position</th><th>Availability</th><th>Team</th><th>Captain</th><th>Vice Captain</th><th>Score</th>\n",
       "<tr><td>469</td><td>Nick Pope</td><td>51.00</td><td>16.4</td><td>41</td><td>5.8</td><td>0.500</td><td>0.479</td><td>0.4792</td><td>GKP</td><td>True</td><td>NEW</td><td>False</td><td>False<td>6.08</td><tr>\n",
       "<tr><td>670</td><td>Robin Roefs</td><td>46.00</td><td>22.7</td><td>41</td><td>6.0</td><td>0.500</td><td>0.271</td><td>0.2708</td><td>GKP</td><td>True</td><td>SUN</td><td>False</td><td>False<td>5.49</td><tr>\n",
       "<tr><td>403</td><td>Joško Gvardiol</td><td>58.00</td><td>16.7</td><td>24</td><td>6.0</td><td>0.500</td><td>0.438</td><td>0.4375</td><td>DEF</td><td>True</td><td>MCI</td><td>False</td><td>False<td>6.12</td><tr>\n",
       "<tr><td>8</td><td>Jurriën Timber</td><td>59.00</td><td>49.8</td><td>48</td><td>5.5</td><td>0.500</td><td>0.229</td><td>0.2292</td><td>DEF</td><td>True</td><td>ARS</td><td>False</td><td>False<td>6.69</td><tr>\n",
       "<tr><td>151</td><td>Jan Paul van Hecke</td><td>44.00</td><td>25.9</td><td>22</td><td>4.5</td><td>0.500</td><td>0.521</td><td>0.5208</td><td>DEF</td><td>True</td><td>BHA</td><td>False</td><td>False<td>6.69</td><tr>\n",
       "<tr><td>5</td><td>Gabriel dos Santos Magalhães</td><td>62.00</td><td>27.0</td><td>47</td><td>8.2</td><td>0.500</td><td>0.229</td><td>0.2292</td><td>DEF</td><td>True</td><td>ARS</td><td>False</td><td>False<td>8.60</td><tr>\n",
       "<tr><td>683</td><td>Omar Alderete</td><td>41.00</td><td>31.5</td><td>39</td><td>7.5</td><td>0.000</td><td>0.000</td><td>0.0000</td><td>DEF</td><td>True</td><td>SUN</td><td>False</td><td>False<td>5.88</td><tr>\n",
       "<tr><td>714</td><td>Nick Woltemade</td><td>72.00</td><td>24.9</td><td>24</td><td>6.0</td><td>0.500</td><td>0.479</td><td>0.4792</td><td>FWD</td><td>True</td><td>NEW</td><td>False</td><td>False<td>5.14</td><tr>\n",
       "<tr><td>430</td><td>Erling Haaland</td><td>145.00</td><td>76.8</td><td>70</td><td>11.5</td><td>0.000</td><td>0.000</td><td>0.0000</td><td>FWD</td><td>True</td><td>MCI</td><td>True</td><td>False<td>11.18</td><tr>\n",
       "<tr><td>136</td><td>Igor Thiago Nascimento Rodrigues</td><td>61.00</td><td>38.0</td><td>32</td><td>4.5</td><td>0.500</td><td>0.438</td><td>0.4375</td><td>FWD</td><td>True</td><td>BRE</td><td>False</td><td>False<td>4.83</td><tr>\n",
       "<tr><td>241</td><td>Moisés Caicedo Corozo</td><td>57.00</td><td>35.5</td><td>45</td><td>7.0</td><td>0.500</td><td>0.292</td><td>0.2917</td><td>MID</td><td>True</td><td>CHE</td><td>False</td><td>False<td>7.39</td><tr>\n",
       "<tr><td>26</td><td>Martín Zubimendi Ibáñez</td><td>55.00</td><td>28.2</td><td>32</td><td>5.8</td><td>0.500</td><td>0.229</td><td>0.2292</td><td>MID</td><td>True</td><td>ARS</td><td>False</td><td>False<td>7.82</td><tr>\n",
       "<tr><td>582</td><td>Mohammed Kudus</td><td>67.00</td><td>55.5</td><td>39</td><td>6.0</td><td>0.500</td><td>0.292</td><td>0.2917</td><td>MID</td><td>True</td><td>TOT</td><td>False</td><td>True<td>9.38</td><tr>\n",
       "<tr><td>82</td><td>Antoine Semenyo</td><td>79.00</td><td>65.0</td><td>66</td><td>10.8</td><td>0.500</td><td>0.458</td><td>0.4583</td><td>MID</td><td>True</td><td>BOU</td><td>True</td><td>False<td>9.52</td><tr>\n",
       "<tr><td>21</td><td>Declan Rice</td><td>65.00</td><td>40.5</td><td>40</td><td>6.0</td><td>0.500</td><td>0.229</td><td>0.2292</td><td>MID</td><td>False</td><td>ARS</td><td>False</td><td>False<td>7.28</td><tr>\n",
       "</table>"
      ],
      "text/plain": [
       "<modules.team.Team at 0x7e57f8172d80>"
      ]
     },
     "metadata": {},
     "output_type": "display_data"
    }
   ],
   "source": [
    "print(\"Current Team:\")\n",
    "display(current_team)\n",
    "print()\n",
    "print(\"Selected Team:\")\n",
    "display(selected_team)"
   ]
  },
  {
   "cell_type": "code",
   "execution_count": 19,
   "metadata": {},
   "outputs": [
    {
     "name": "stdout",
     "output_type": "stream",
     "text": [
      "Score difference: 46.591\n"
     ]
    }
   ],
   "source": [
    "score_dif = selected_team.getTotalScore() - current_team.getTotalScore()\n",
    "print(\"Score difference:\",score_dif)"
   ]
  },
  {
   "cell_type": "code",
   "execution_count": 20,
   "metadata": {},
   "outputs": [],
   "source": [
    "def getBest(pCurrentTeam: Team, pNewTeam: Team, pNewPlayers: Team, pPosition: Position):\n",
    "    # TODO: Store Team players in sorted tree instead of list\n",
    "    currentPositionData = pCurrentTeam.getPlayersListByPosition(pPosition)\n",
    "    newPlayersPositionData = pNewPlayers.getPlayersListByPosition(pPosition)\n",
    "    oldTotalCost = pCurrentTeam.getTotalCost()\n",
    "    maxCost = max(oldTotalCost, TOTAL_BUDGET)\n",
    "    #maxCost = TOTAL_BUDGET\n",
    "\n",
    "    allTransfers = []\n",
    "\n",
    "    for i in range(len(currentPositionData)):\n",
    "        oldPlayer = currentPositionData[i]\n",
    "        oldPlayerCost = oldPlayer.getCost()\n",
    "        for j in range(len(newPlayersPositionData)):\n",
    "\n",
    "            newPlayer = newPlayersPositionData[j]\n",
    "            newCost = oldTotalCost - oldPlayerCost + newPlayer.getCost()\n",
    "\n",
    "            if (newCost <= maxCost):\n",
    "                allTransfers.append(Transfer(oldPlayer, newPlayer))\n",
    "\n",
    "    if (len(allTransfers) >= 1):\n",
    "        bestTransfer = max(allTransfers)\n",
    "        if(bestTransfer.getScoreDif() > 0):\n",
    "            return bestTransfer\n",
    "    else:\n",
    "        return None"
   ]
  },
  {
   "cell_type": "code",
   "execution_count": 21,
   "metadata": {},
   "outputs": [],
   "source": [
    "def get_updated_team(team: pd.DataFrame, old_player: pd.Series, new_player: pd.Series):\n",
    "    team: pd.DataFrame = team.drop(index=old_player.name)\n",
    "    team.loc[len(team)] = new_player\n",
    "    return team"
   ]
  },
  {
   "cell_type": "code",
   "execution_count": 22,
   "metadata": {},
   "outputs": [],
   "source": [
    "def get_bench(team: pd.DataFrame):\n",
    "    positions = [\"FWD\",\"DEF\",\"MID\",\"GKP\"]\n",
    "    team = team.reset_index()\n",
    "    bench = pd.DataFrame(columns=team.columns)\n",
    "    for position in positions:\n",
    "        worst_player_index = team.loc[team[\"position\"]==position][\"score\"].idxmin()\n",
    "        worst_player = team.loc[worst_player_index].copy()\n",
    "        bench.loc[len(bench)] = worst_player\n",
    "        team = team.drop(index=worst_player_index)\n",
    "    return team, bench"
   ]
  },
  {
   "cell_type": "code",
   "execution_count": 23,
   "metadata": {},
   "outputs": [],
   "source": [
    "def getBestTransferNew(pCurrentTeam: Team, pNewTeam: Team, pNewPlayers: Team) -> Transfer | None:\n",
    "    positions = Position.listValues()\n",
    "    bestTransfers = []\n",
    "    for position in positions:\n",
    "        transfer = getBest(pCurrentTeam, pNewTeam, pNewPlayers, position)\n",
    "        if(transfer is not None):\n",
    "            bestTransfers.append(transfer)\n",
    "    actualBestTransfer = max(bestTransfers)\n",
    "    return actualBestTransfer"
   ]
  },
  {
   "cell_type": "code",
   "execution_count": 24,
   "metadata": {},
   "outputs": [],
   "source": [
    "def getNewTeam(pCurrentTeam: Team, pSelectedTeam: Team, pNewPlayers: Team, pMatrix: FixtureDifficultyMatrix):\n",
    "\n",
    "    TRIPLE_CAPT_THRESHOLD = 0.1\n",
    "\n",
    "    transferData = getBestTransferNew(pCurrentTeam, pSelectedTeam, pNewPlayers)\n",
    "    transferData.updateFixtureDifficulties(pMatrix)\n",
    "    print(\"Best transfer:\")\n",
    "    print(transferData)\n",
    "    oldPlayer = transferData.getOldPlayer()\n",
    "    newPlayer = transferData.getNewPlayer()\n",
    "    if transferData is None:\n",
    "        return\n",
    "    \n",
    "    changingPosition: Position = transferData.getPosition()\n",
    "    \n",
    "    newTeam = deepcopy(pCurrentTeam)\n",
    "    playersOfPosition = newTeam.getPlayersListByPosition(changingPosition)\n",
    "\n",
    "    for i in range(len(playersOfPosition)):\n",
    "        player = playersOfPosition[i]\n",
    "        if (player.getId() == oldPlayer.getId()):\n",
    "            newTeam.removePlayerByIndex(i, changingPosition)\n",
    "            newTeam.addPlayer(newPlayer)\n",
    "    \n",
    "\n",
    "    newTeam.recalculateFixtureDifficulty(pMatrix)\n",
    "\n",
    "    for player in newTeam.getPlayers():\n",
    "        if(player.getCurrentDifficulty() < TRIPLE_CAPT_THRESHOLD):\n",
    "            print(f\"Suggested triple captain: {player.getName()}\")\n",
    "    return newTeam"
   ]
  },
  {
   "cell_type": "code",
   "execution_count": 25,
   "metadata": {},
   "outputs": [
    {
     "name": "stdout",
     "output_type": "stream",
     "text": [
      "Best transfer:\n",
      "Transfer from Virgil van Dijk -> Gabriel dos Santos Magalhães:\n",
      "Old player: Virgil van Dijk\tScore: 1.54\tCost: 61\tFixture Difficulty: 0.33333333333333337\n",
      "New player: Gabriel dos Santos Magalhães\tScore: 8.6\tCost: 62\tFixture Difficulty: 0.22916666666666669\n",
      "- Cost change: 1\n",
      "- Score change: 7.05\n"
     ]
    },
    {
     "data": {
      "text/html": [
       "<h1>Starting 11</h1>\n",
       "<table><tr><th>ID</th><th>Name</th><th>Cost</th><th>ICT Index</th><th>Total Points</th><th>Form</th><th>Average Fixture Difficulty</th><th>Normalised Average Fixture Difficulty</th><th>Current Fixture Difficulty</th><th>Position</th><th>Availability</th><th>Team</th><th>Captain</th><th>Vice Captain</th><th>Score</th>\n",
       "<tr><td>67</td><td>Đorđe Petrović</td><td>45.00</td><td>15.5</td><td>27</td><td>3.5</td><td>0.500</td><td>0.458</td><td>0.4583</td><td>GKP</td><td>True</td><td>BOU</td><td>False</td><td>False<td>4.01</td><tr>\n",
       "<tr><td>5</td><td>Gabriel dos Santos Magalhães</td><td>62.00</td><td>27.0</td><td>47</td><td>8.2</td><td>0.500</td><td>0.229</td><td>0.2292</td><td>DEF</td><td>True</td><td>ARS</td><td>False</td><td>True<td>8.60</td><tr>\n",
       "<tr><td>683</td><td>Omar Alderete</td><td>41.00</td><td>31.5</td><td>39</td><td>7.5</td><td>0.500</td><td>0.271</td><td>0.2708</td><td>DEF</td><td>True</td><td>SUN</td><td>False</td><td>False<td>5.88</td><tr>\n",
       "<tr><td>72</td><td>Marcos Senesi Barón</td><td>49.00</td><td>31.4</td><td>46</td><td>5.2</td><td>0.500</td><td>0.458</td><td>0.4583</td><td>DEF</td><td>True</td><td>BOU</td><td>False</td><td>False<td>5.00</td><tr>\n",
       "<tr><td>74</td><td>Adrien Truffert</td><td>45.00</td><td>27.6</td><td>32</td><td>4.8</td><td>0.500</td><td>0.458</td><td>0.4583</td><td>DEF</td><td>True</td><td>BOU</td><td>False</td><td>False<td>4.64</td><tr>\n",
       "<tr><td>430</td><td>Erling Haaland</td><td>145.00</td><td>76.8</td><td>70</td><td>11.5</td><td>0.500</td><td>0.438</td><td>0.4375</td><td>FWD</td><td>True</td><td>MCI</td><td>True</td><td>False<td>11.18</td><tr>\n",
       "<tr><td>624</td><td>Jarrod Bowen</td><td>77.00</td><td>43.8</td><td>35</td><td>5.5</td><td>0.500</td><td>0.562</td><td>0.5625</td><td>FWD</td><td>True</td><td>WHU</td><td>False</td><td>False<td>4.74</td><tr>\n",
       "<tr><td>160</td><td>Yankuba Minteh</td><td>60.00</td><td>49.6</td><td>31</td><td>5.5</td><td>0.500</td><td>0.521</td><td>0.5208</td><td>MID</td><td>True</td><td>BHA</td><td>False</td><td>False<td>5.04</td><tr>\n",
       "<tr><td>449</td><td>Bruno Borges Fernandes</td><td>90.00</td><td>59.7</td><td>28</td><td>3.5</td><td>0.500</td><td>0.667</td><td>0.6667</td><td>MID</td><td>True</td><td>MUN</td><td>False</td><td>False<td>2.87</td><tr>\n",
       "<tr><td>324</td><td>Alex Iwobi</td><td>65.00</td><td>32.6</td><td>30</td><td>5.0</td><td>0.500</td><td>0.771</td><td>0.7708</td><td>MID</td><td>True</td><td>FUL</td><td>False</td><td>False<td>2.83</td><tr>\n",
       "<tr><td>200</td><td>Jaidon Anthony</td><td>57.00</td><td>49.4</td><td>41</td><td>5.0</td><td>0.500</td><td>0.562</td><td>0.5625</td><td>MID</td><td>True</td><td>BUR</td><td>False</td><td>False<td>2.68</td><tr>\n",
       "</table>\n",
       "<h1>Bench</h1>\n",
       "<table><tr><th>ID</th><th>Name</th><th>Cost</th><th>ICT Index</th><th>Total Points</th><th>Form</th><th>Average Fixture Difficulty</th><th>Normalised Average Fixture Difficulty</th><th>Current Fixture Difficulty</th><th>Position</th><th>Availability</th><th>Team</th><th>Captain</th><th>Vice Captain</th><th>Score</th>\n",
       "<tr><td>366</td><td>Alisson Becker</td><td>55.00</td><td>10.7</td><td>20</td><td>2.5</td><td>0.500</td><td>0.333</td><td>0.3333</td><td>GKP</td><td>False</td><td>LIV</td><td>False</td><td>False<td>2.10</td><tr>\n",
       "<tr><td>36</td><td>Matty Cash</td><td>46.00</td><td>27.3</td><td>29</td><td>4.8</td><td>0.500</td><td>0.708</td><td>0.7083</td><td>DEF</td><td>True</td><td>AVL</td><td>False</td><td>False<td>3.21</td><tr>\n",
       "<tr><td>691</td><td>Dominic Calvert-Lewin</td><td>55.00</td><td>28.7</td><td>18</td><td>4.2</td><td>0.500</td><td>0.438</td><td>0.4375</td><td>FWD</td><td>True</td><td>LEE</td><td>False</td><td>False<td>3.16</td><tr>\n",
       "<tr><td>302</td><td>Idrissa Gana Gueye</td><td>54.00</td><td>22.2</td><td>24</td><td>4.2</td><td>0.500</td><td>0.562</td><td>0.5625</td><td>MID</td><td>True</td><td>EVE</td><td>False</td><td>False<td>2.63</td><tr>\n",
       "</table>"
      ],
      "text/plain": [
       "<modules.team.BenchTeam at 0x7e58005a7170>"
      ]
     },
     "metadata": {},
     "output_type": "display_data"
    },
    {
     "data": {
      "text/plain": [
       "'New total score: 68.562'"
      ]
     },
     "metadata": {},
     "output_type": "display_data"
    }
   ],
   "source": [
    "newTeam = getNewTeam(current_team, selected_team, new_players, matrix)\n",
    "newTeam = newTeam.toBenchTeam()\n",
    "display(newTeam)\n",
    "display(f\"New total score: {newTeam.getTotalScore()}\")"
   ]
  }
 ],
 "metadata": {
  "kernelspec": {
   "display_name": "base",
   "language": "python",
   "name": "python3"
  },
  "language_info": {
   "codemirror_mode": {
    "name": "ipython",
    "version": 3
   },
   "file_extension": ".py",
   "mimetype": "text/x-python",
   "name": "python",
   "nbconvert_exporter": "python",
   "pygments_lexer": "ipython3",
   "version": "3.12.2"
  }
 },
 "nbformat": 4,
 "nbformat_minor": 2
}
