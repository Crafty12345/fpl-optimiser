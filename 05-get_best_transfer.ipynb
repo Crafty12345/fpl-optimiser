{
 "cells": [
  {
   "cell_type": "code",
   "execution_count": 43,
   "metadata": {},
   "outputs": [],
   "source": [
    "import json\n",
    "import pandas as pd\n",
    "import numpy as np\n",
    "from copy import deepcopy\n",
    "from IPython.display import display\n",
    "import re\n",
    "\n",
    "from modules.team import Team, BenchTeam\n",
    "from modules.player import Player, Position\n",
    "from modules.transfer import Transfer\n",
    "from modules.fixture_difficulty_matrix import FixtureDifficultyMatrix\n",
    "from modules.team_predicter import TeamPredicter, SolverMode\n",
    "from modules.utils import getDataFilesSorted\n",
    "\n",
    "import config"
   ]
  },
  {
   "cell_type": "code",
   "execution_count": 44,
   "metadata": {},
   "outputs": [],
   "source": [
    "CURRENT_DATE = config.CURRENT_DATE\n",
    "teams_filename = f\"./results/{CURRENT_DATE}/results_{CURRENT_DATE}.json\"\n",
    "scores_filename = f\"./results/{CURRENT_DATE}/scores_{CURRENT_DATE}.json\"\n",
    "SELECTED_MODEL_INDEX = 1\n",
    "TOTAL_BUDGET = 1000"
   ]
  },
  {
   "cell_type": "code",
   "execution_count": 45,
   "metadata": {},
   "outputs": [],
   "source": [
    "current_team_names = {\"Jordan Pickford\",\n",
    "                      \"Fabian Schär\",\n",
    "                      \"Daniel Ballard\",\n",
    "                      \"Milos Kerkez\",\n",
    "                      \"Rayan Aït-Nouri\",\n",
    "                      \"Bryan Mbeumo\",\n",
    "                      \"Jacob Murphy\",\n",
    "                      \"Brennan Johnson\",\n",
    "                      \"Alex Iwobi\",\n",
    "                      \"Alexander Isak\",\n",
    "                      \"Jarrod Bowen\",\n",
    "                      \"André Onana\",\n",
    "                      \"Nathan Collins\",\n",
    "                      \"Morgan Rogers\",\n",
    "                      \"Yoane Wissa\"\n",
    "                      }"
   ]
  },
  {
   "cell_type": "code",
   "execution_count": 46,
   "metadata": {},
   "outputs": [
    {
     "name": "stdout",
     "output_type": "stream",
     "text": [
      "{'name': './data/player_stats/26/data_1.csv', 'season': 26, 'gameweek': 1}\n"
     ]
    }
   ],
   "source": [
    "filesSorted = getDataFilesSorted()\n",
    "dataFileName = filesSorted[-1]\n",
    "print(dataFileName)"
   ]
  },
  {
   "cell_type": "code",
   "execution_count": 47,
   "metadata": {},
   "outputs": [],
   "source": [
    "with open(scores_filename, \"r\") as f:\n",
    "    all_player_data = pd.read_json(f,orient=\"records\")"
   ]
  },
  {
   "cell_type": "code",
   "execution_count": 48,
   "metadata": {},
   "outputs": [
    {
     "name": "stdout",
     "output_type": "stream",
     "text": [
      "      id                          name  cost  ict_index  total_points  \\\n",
      "0      0             David Raya Martín    55        4.9            10   \n",
      "1      1    Kepa Arrizabalaga Revuelta    45        0.0             0   \n",
      "2      2                     Karl Hein    40        0.0             0   \n",
      "3      3                 Tommy Setford    40        0.0             0   \n",
      "4      4  Gabriel dos Santos Magalhães    60        2.7             6   \n",
      "..   ...                           ...   ...        ...           ...   \n",
      "694  694                  Leon Chiwome    45        0.0             0   \n",
      "695  695                 Nathan Fraser    45        0.0             0   \n",
      "696  696                    Jhon Arias    55        1.6             1   \n",
      "697  697            David Møller Wolfe    45        1.0             1   \n",
      "698  698            Jackson Tchatchoua    45        0.0             0   \n",
      "\n",
      "     points_per_game  form status  starts_per_90 position team  season  \\\n",
      "0                 10    10      a           1.00      GKP  ARS      26   \n",
      "1                  0     0      a           0.00      GKP  ARS      26   \n",
      "2                  0     0      a           0.00      GKP  ARS      26   \n",
      "3                  0     0      a           0.00      GKP  ARS      26   \n",
      "4                  6     6      a           1.00      DEF  ARS      26   \n",
      "..               ...   ...    ...            ...      ...  ...     ...   \n",
      "694                0     0      i           0.00      FWD  WOL      26   \n",
      "695                0     0      a           0.00      FWD  WOL      26   \n",
      "696                1     1      a           0.00      MID  WOL      26   \n",
      "697                1     1      a           1.27      DEF  WOL      26   \n",
      "698                0     0      a           0.00      DEF  WOL      26   \n",
      "\n",
      "     combined    weight     score  \n",
      "0    8.292528  0.391304  5.064795  \n",
      "1   -1.644757  0.391304  0.000000  \n",
      "2   -1.644757  0.391304  0.000000  \n",
      "3   -1.644757  0.391304  0.000000  \n",
      "4    4.218783  0.391304  4.507911  \n",
      "..        ...       ...       ...  \n",
      "694 -1.644757  0.815217  0.000000  \n",
      "695 -1.644757  0.815217  0.000000  \n",
      "696 -0.193932  0.815217  0.000000  \n",
      "697 -0.441011  0.815217 -0.071267  \n",
      "698 -1.644757  0.815217  0.000000  \n",
      "\n",
      "[699 rows x 15 columns]\n"
     ]
    }
   ],
   "source": [
    "print(all_player_data)"
   ]
  },
  {
   "cell_type": "code",
   "execution_count": 49,
   "metadata": {},
   "outputs": [
    {
     "name": "stdout",
     "output_type": "stream",
     "text": [
      "André Onana a\n",
      "Nathan Collins a\n",
      "Brennan Johnson a\n",
      "Fabian Schär a\n",
      "Alex Iwobi a\n",
      "Jarrod Bowen a\n",
      "Alexander Isak n\n",
      "Jordan Pickford a\n",
      "Daniel Ballard a\n",
      "Jacob Murphy a\n",
      "Bryan Mbeumo a\n",
      "Rayan Aït-Nouri a\n",
      "Yoane Wissa d\n",
      "Milos Kerkez a\n",
      "Morgan Rogers a\n"
     ]
    }
   ],
   "source": [
    "current_team = Team.fromNameSet(current_team_names, all_player_data)"
   ]
  },
  {
   "cell_type": "code",
   "execution_count": 50,
   "metadata": {},
   "outputs": [
    {
     "data": {
      "text/plain": [
       "983"
      ]
     },
     "execution_count": 50,
     "metadata": {},
     "output_type": "execute_result"
    }
   ],
   "source": [
    "current_team_cost = current_team.getTotalCost()\n",
    "current_team_cost"
   ]
  },
  {
   "cell_type": "code",
   "execution_count": 51,
   "metadata": {},
   "outputs": [],
   "source": [
    "with open(teams_filename,\"r\",encoding=\"utf-8\") as f:\n",
    "    all_data = json.load(f)\n",
    "data = all_data[\"data\"][SELECTED_MODEL_INDEX]\n",
    "selected_team_df = pd.DataFrame(data=data)"
   ]
  },
  {
   "cell_type": "code",
   "execution_count": 52,
   "metadata": {},
   "outputs": [
    {
     "name": "stdout",
     "output_type": "stream",
     "text": [
      "Tyrick Mitchell a\n",
      "Rayan Aït-Nouri a\n",
      "Riccardo Calafiori a\n",
      "Daniel Ballard a\n",
      "Fabian Schär a\n",
      "Erling Haaland a\n",
      "Chris Wood a\n",
      "Richarlison de Andrade a\n",
      "Nick Pope a\n",
      "Dean Henderson a\n",
      "Brennan Johnson a\n",
      "Matt O'Riley a\n",
      "Mohammed Kudus a\n",
      "Antoine Semenyo a\n",
      "Georginio Rutter a\n"
     ]
    }
   ],
   "source": [
    "selectedTeamNames = selected_team_df[\"name\"].values\n",
    "selected_team = Team.fromNameSet(selectedTeamNames, all_player_data)"
   ]
  },
  {
   "cell_type": "code",
   "execution_count": 53,
   "metadata": {},
   "outputs": [
    {
     "data": {
      "text/html": [
       "<table><tr><th>ID</th><th>Name</th><th>Cost</th><th>ICT Index</th><th>Total Points</th><th>Form</th><th>Average Fixture Difficulty</th><th>Normalised Average Fixture Difficulty</th><th>Current Fixture Difficulty</th><th>Position</th><th>Availability</th><th>Team</th><th>Captain</th><th>Vice Captain</th><th>Score</th>\n",
       "<tr><td>490</td><td>Nick Pope</td><td>50.00</td><td>2.7</td><td>9</td><td>9</td><td>0.000</td><td>0.000</td><td>0.0000</td><td>GKP</td><td>True</td><td>NEW</td><td>True</td><td>False<td>0.00</td><tr>\n",
       "<tr><td>259</td><td>Dean Henderson</td><td>50.00</td><td>3.2</td><td>6</td><td>6</td><td>0.000</td><td>0.000</td><td>0.0000</td><td>GKP</td><td>True</td><td>CRY</td><td>False</td><td>True<td>0.00</td><tr>\n",
       "<tr><td>264</td><td>Tyrick Mitchell</td><td>50.00</td><td>2.6</td><td>9</td><td>9</td><td>0.000</td><td>0.000</td><td>0.0000</td><td>DEF</td><td>True</td><td>CRY</td><td>False</td><td>False<td>0.00</td><tr>\n",
       "<tr><td>422</td><td>Rayan Aït-Nouri</td><td>60.00</td><td>4.7</td><td>9</td><td>9</td><td>0.000</td><td>0.000</td><td>0.0000</td><td>DEF</td><td>True</td><td>MCI</td><td>False</td><td>False<td>0.00</td><tr>\n",
       "<tr><td>6</td><td>Riccardo Calafiori</td><td>55.00</td><td>7.3</td><td>13</td><td>13</td><td>0.000</td><td>0.000</td><td>0.0000</td><td>DEF</td><td>True</td><td>ARS</td><td>False</td><td>False<td>0.00</td><tr>\n",
       "<tr><td>560</td><td>Daniel Ballard</td><td>46.00</td><td>13.4</td><td>17</td><td>17</td><td>0.000</td><td>0.000</td><td>0.0000</td><td>DEF</td><td>True</td><td>SUN</td><td>False</td><td>False<td>0.00</td><tr>\n",
       "<tr><td>494</td><td>Fabian Schär</td><td>55.00</td><td>2.0</td><td>8</td><td>8</td><td>0.000</td><td>0.000</td><td>0.0000</td><td>DEF</td><td>True</td><td>NEW</td><td>False</td><td>False<td>0.00</td><tr>\n",
       "<tr><td>448</td><td>Erling Haaland</td><td>140.00</td><td>12.9</td><td>13</td><td>13</td><td>0.000</td><td>0.000</td><td>0.0000</td><td>FWD</td><td>True</td><td>MCI</td><td>False</td><td>False<td>0.00</td><tr>\n",
       "<tr><td>548</td><td>Chris Wood</td><td>76.00</td><td>12.5</td><td>13</td><td>13</td><td>0.000</td><td>0.000</td><td>0.0000</td><td>FWD</td><td>True</td><td>NFO</td><td>False</td><td>False<td>0.00</td><tr>\n",
       "<tr><td>631</td><td>Richarlison de Andrade</td><td>66.00</td><td>15.4</td><td>13</td><td>13</td><td>0.000</td><td>0.000</td><td>0.0000</td><td>FWD</td><td>True</td><td>TOT</td><td>False</td><td>False<td>0.00</td><tr>\n",
       "<tr><td>614</td><td>Brennan Johnson</td><td>70.00</td><td>8.8</td><td>8</td><td>8</td><td>0.000</td><td>0.000</td><td>0.0000</td><td>MID</td><td>True</td><td>TOT</td><td>False</td><td>False<td>0.00</td><tr>\n",
       "<tr><td>209</td><td>Matt O'Riley</td><td>55.00</td><td>11.5</td><td>10</td><td>10</td><td>0.000</td><td>0.000</td><td>0.0000</td><td>MID</td><td>True</td><td>BHA</td><td>False</td><td>False<td>0.00</td><tr>\n",
       "<tr><td>616</td><td>Mohammed Kudus</td><td>65.00</td><td>13.0</td><td>10</td><td>10</td><td>0.000</td><td>0.000</td><td>0.0000</td><td>MID</td><td>True</td><td>TOT</td><td>False</td><td>False<td>0.00</td><tr>\n",
       "<tr><td>124</td><td>Antoine Semenyo</td><td>71.00</td><td>10.0</td><td>15</td><td>15</td><td>0.000</td><td>0.000</td><td>0.0000</td><td>MID</td><td>True</td><td>BOU</td><td>False</td><td>False<td>0.00</td><tr>\n",
       "<tr><td>203</td><td>Georginio Rutter</td><td>60.00</td><td>1.8</td><td>6</td><td>6</td><td>0.000</td><td>0.000</td><td>0.0000</td><td>MID</td><td>True</td><td>BHA</td><td>False</td><td>False<td>0.00</td><tr>\n",
       "</table>"
      ],
      "text/plain": [
       "<modules.team.Team at 0x7f5146b16e10>"
      ]
     },
     "metadata": {},
     "output_type": "display_data"
    }
   ],
   "source": [
    "display(selected_team)"
   ]
  },
  {
   "cell_type": "code",
   "execution_count": 54,
   "metadata": {},
   "outputs": [
    {
     "name": "stdout",
     "output_type": "stream",
     "text": [
      "\n",
      "Total Score: 0\n",
      "\n",
      "Goalkeepers:\n",
      "- Nick Pope (Captain) \tScore: 0\tCost: 50\tFixture Difficulty: 0.0\n",
      "- Dean Henderson (Vice Captain) \tScore: 0\tCost: 50\tFixture Difficulty: 0.0\n",
      "Defenders:\n",
      "- Tyrick Mitchell\tScore: 0\tCost: 50\tFixture Difficulty: 0.0\n",
      "- Riccardo Calafiori\tScore: 0\tCost: 55\tFixture Difficulty: 0.0\n",
      "Attackers:\n",
      "- Erling Haaland\tScore: 0\tCost: 140\tFixture Difficulty: 0.0\n",
      "- Chris Wood\tScore: 0\tCost: 76\tFixture Difficulty: 0.0\n",
      "- Richarlison de Andrade\tScore: 0\tCost: 66\tFixture Difficulty: 0.0\n",
      "Midfielders:\n",
      "- Matt O'Riley\tScore: 0\tCost: 55\tFixture Difficulty: 0.0\n",
      "- Mohammed Kudus\tScore: 0\tCost: 65\tFixture Difficulty: 0.0\n",
      "- Antoine Semenyo\tScore: 0\tCost: 71\tFixture Difficulty: 0.0\n",
      "- Georginio Rutter\tScore: 0\tCost: 60\tFixture Difficulty: 0.0\n"
     ]
    }
   ],
   "source": [
    "new_players = selected_team - current_team\n",
    "print(new_players)"
   ]
  },
  {
   "cell_type": "code",
   "execution_count": 55,
   "metadata": {},
   "outputs": [
    {
     "name": "stdout",
     "output_type": "stream",
     "text": [
      "Added cost: -14\n"
     ]
    }
   ],
   "source": [
    "new_team_cost = selected_team.getTotalCost()\n",
    "new_team_cost\n",
    "\n",
    "added_cost = new_team_cost - current_team_cost\n",
    "print(\"Added cost:\",added_cost)\n",
    "\n",
    "surplus = current_team_cost - new_team_cost\n"
   ]
  },
  {
   "cell_type": "code",
   "execution_count": 56,
   "metadata": {},
   "outputs": [],
   "source": [
    "HEURISTIC = \"combined\"\n",
    "MODE = SolverMode.CHEAPEST_FIRST"
   ]
  },
  {
   "cell_type": "code",
   "execution_count": 57,
   "metadata": {},
   "outputs": [
    {
     "data": {
      "text/plain": [
       "(24.369743581961693, 24.369743581961693)"
      ]
     },
     "execution_count": 57,
     "metadata": {},
     "output_type": "execute_result"
    }
   ],
   "source": [
    "all_player_data[\"score\"] = all_player_data[HEURISTIC] * all_player_data[\"form\"]\n",
    "deviation = np.std(all_player_data[\"score\"])\n",
    "scale_factor = deviation\n",
    "scale_factor, deviation"
   ]
  },
  {
   "cell_type": "code",
   "execution_count": 58,
   "metadata": {},
   "outputs": [],
   "source": [
    "START_SAMPLE_GAMEWEEK = config.CURRENT_GAMEWEEK\n",
    "END_SAMPLE_GAMEWEEK = min(config.CURRENT_GAMEWEEK+2, 39)"
   ]
  },
  {
   "cell_type": "code",
   "execution_count": 59,
   "metadata": {},
   "outputs": [
    {
     "name": "stdout",
     "output_type": "stream",
     "text": [
      "Warning: IPS does not have any games in gameweek 1 of season 26\n",
      "Warning: LEI does not have any games in gameweek 1 of season 26\n",
      "Warning: SOU does not have any games in gameweek 1 of season 26\n"
     ]
    }
   ],
   "source": [
    "matrix = FixtureDifficultyMatrix(scale_factor, START_SAMPLE_GAMEWEEK, END_SAMPLE_GAMEWEEK, config.CURRENT_SEASON)\n",
    "\n",
    "new_players.recalculateFixtureDifficulty(matrix)\n",
    "new_players.calculateScore(HEURISTIC)\n",
    "\n",
    "selected_team.recalculateFixtureDifficulty(matrix)\n",
    "selected_team.calculateScore(HEURISTIC)\n",
    "\n",
    "current_team.recalculateFixtureDifficulty(matrix)\n",
    "current_team.calculateScore(HEURISTIC)"
   ]
  },
  {
   "cell_type": "code",
   "execution_count": 60,
   "metadata": {},
   "outputs": [
    {
     "name": "stdout",
     "output_type": "stream",
     "text": [
      "Current Team:\n"
     ]
    },
    {
     "data": {
      "text/html": [
       "<table><tr><th>ID</th><th>Name</th><th>Cost</th><th>ICT Index</th><th>Total Points</th><th>Form</th><th>Average Fixture Difficulty</th><th>Normalised Average Fixture Difficulty</th><th>Current Fixture Difficulty</th><th>Position</th><th>Availability</th><th>Team</th><th>Captain</th><th>Vice Captain</th><th>Score</th>\n",
       "<tr><td>451</td><td>André Onana</td><td>50.00</td><td>0.0</td><td>0</td><td>0</td><td>0.696</td><td>9.536</td><td>0.6957</td><td>GKP</td><td>True</td><td>MUN</td><td>True</td><td>False<td>-0.00</td><tr>\n",
       "<tr><td>295</td><td>Jordan Pickford</td><td>55.00</td><td>2.1</td><td>2</td><td>2</td><td>0.489</td><td>-0.530</td><td>0.6522</td><td>GKP</td><td>True</td><td>EVE</td><td>False</td><td>True<td>2.14</td><tr>\n",
       "<tr><td>152</td><td>Nathan Collins</td><td>50.00</td><td>1.5</td><td>0</td><td>0</td><td>0.712</td><td>10.331</td><td>0.7609</td><td>DEF</td><td>True</td><td>BRE</td><td>False</td><td>False<td>-10.33</td><tr>\n",
       "<tr><td>494</td><td>Fabian Schär</td><td>55.00</td><td>2.0</td><td>8</td><td>8</td><td>0.543</td><td>2.119</td><td>0.5652</td><td>DEF</td><td>True</td><td>NEW</td><td>False</td><td>False<td>42.00</td><tr>\n",
       "<tr><td>560</td><td>Daniel Ballard</td><td>46.00</td><td>13.4</td><td>17</td><td>17</td><td>0.304</td><td>-9.536</td><td>0.3696</td><td>DEF</td><td>True</td><td>SUN</td><td>False</td><td>False<td>304.26</td><tr>\n",
       "<tr><td>422</td><td>Rayan Aït-Nouri</td><td>60.00</td><td>4.7</td><td>9</td><td>9</td><td>0.207</td><td>-14.304</td><td>0.0217</td><td>DEF</td><td>True</td><td>MCI</td><td>False</td><td>False<td>81.07</td><tr>\n",
       "<tr><td>388</td><td>Milos Kerkez</td><td>60.00</td><td>1.0</td><td>0</td><td>0</td><td>0.353</td><td>-7.152</td><td>0.2391</td><td>DEF</td><td>True</td><td>LIV</td><td>False</td><td>False<td>10.94</td><tr>\n",
       "<tr><td>659</td><td>Jarrod Bowen</td><td>79.00</td><td>4.9</td><td>2</td><td>2</td><td>0.799</td><td>14.569</td><td>0.8478</td><td>FWD</td><td>True</td><td>WHU</td><td>False</td><td>False<td>-10.65</td><tr>\n",
       "<tr><td>518</td><td>Alexander Isak</td><td>104.00</td><td>0.0</td><td>0</td><td>0</td><td>0.543</td><td>2.119</td><td>0.5652</td><td>FWD</td><td>False</td><td>NEW</td><td>False</td><td>False<td>-10.65</td><tr>\n",
       "<tr><td>180</td><td>Yoane Wissa</td><td>75.00</td><td>0.0</td><td>0</td><td>0</td><td>0.712</td><td>10.331</td><td>0.7609</td><td>FWD</td><td>False</td><td>BRE</td><td>False</td><td>False<td>-10.65</td><tr>\n",
       "<tr><td>614</td><td>Brennan Johnson</td><td>70.00</td><td>8.8</td><td>8</td><td>8</td><td>0.261</td><td>-11.655</td><td>0.1522</td><td>MID</td><td>True</td><td>TOT</td><td>False</td><td>False<td>89.12</td><tr>\n",
       "<tr><td>335</td><td>Alex Iwobi</td><td>65.00</td><td>5.1</td><td>2</td><td>2</td><td>0.418</td><td>-3.973</td><td>0.3043</td><td>MID</td><td>True</td><td>FUL</td><td>False</td><td>False<td>11.11</td><tr>\n",
       "<tr><td>509</td><td>Jacob Murphy</td><td>64.00</td><td>0.6000000000000001</td><td>1</td><td>1</td><td>0.543</td><td>2.119</td><td>0.5652</td><td>MID</td><td>True</td><td>NEW</td><td>False</td><td>False<td>-0.00</td><tr>\n",
       "<tr><td>449</td><td>Bryan Mbeumo</td><td>80.00</td><td>8.1</td><td>2</td><td>2</td><td>0.696</td><td>9.536</td><td>0.6957</td><td>MID</td><td>True</td><td>MUN</td><td>False</td><td>False<td>-2.99</td><tr>\n",
       "<tr><td>48</td><td>Morgan Rogers</td><td>70.00</td><td>3.1</td><td>3</td><td>3</td><td>0.413</td><td>-4.238</td><td>0.4348</td><td>MID</td><td>True</td><td>AVL</td><td>False</td><td>False<td>10.26</td><tr>\n",
       "</table>"
      ],
      "text/plain": [
       "<modules.team.Team at 0x7f5146aad1c0>"
      ]
     },
     "metadata": {},
     "output_type": "display_data"
    },
    {
     "name": "stdout",
     "output_type": "stream",
     "text": [
      "\n",
      "Selected Team:\n"
     ]
    },
    {
     "data": {
      "text/html": [
       "<table><tr><th>ID</th><th>Name</th><th>Cost</th><th>ICT Index</th><th>Total Points</th><th>Form</th><th>Average Fixture Difficulty</th><th>Normalised Average Fixture Difficulty</th><th>Current Fixture Difficulty</th><th>Position</th><th>Availability</th><th>Team</th><th>Captain</th><th>Vice Captain</th><th>Score</th>\n",
       "<tr><td>490</td><td>Nick Pope</td><td>50.00</td><td>2.7</td><td>9</td><td>9</td><td>0.543</td><td>2.119</td><td>0.5652</td><td>GKP</td><td>True</td><td>NEW</td><td>True</td><td>False<td>57.23</td><tr>\n",
       "<tr><td>259</td><td>Dean Henderson</td><td>50.00</td><td>3.2</td><td>6</td><td>6</td><td>0.603</td><td>5.033</td><td>0.5217</td><td>GKP</td><td>True</td><td>CRY</td><td>False</td><td>True<td>21.52</td><tr>\n",
       "<tr><td>264</td><td>Tyrick Mitchell</td><td>50.00</td><td>2.6</td><td>9</td><td>9</td><td>0.603</td><td>5.033</td><td>0.5217</td><td>DEF</td><td>True</td><td>CRY</td><td>False</td><td>False<td>53.95</td><tr>\n",
       "<tr><td>422</td><td>Rayan Aït-Nouri</td><td>60.00</td><td>4.7</td><td>9</td><td>9</td><td>0.207</td><td>-14.304</td><td>0.0217</td><td>DEF</td><td>True</td><td>MCI</td><td>False</td><td>False<td>81.07</td><tr>\n",
       "<tr><td>6</td><td>Riccardo Calafiori</td><td>55.00</td><td>7.3</td><td>13</td><td>13</td><td>0.462</td><td>-1.854</td><td>0.3043</td><td>DEF</td><td>True</td><td>ARS</td><td>False</td><td>False<td>194.81</td><tr>\n",
       "<tr><td>560</td><td>Daniel Ballard</td><td>46.00</td><td>13.4</td><td>17</td><td>17</td><td>0.304</td><td>-9.536</td><td>0.3696</td><td>DEF</td><td>True</td><td>SUN</td><td>False</td><td>False<td>304.26</td><tr>\n",
       "<tr><td>494</td><td>Fabian Schär</td><td>55.00</td><td>2.0</td><td>8</td><td>8</td><td>0.543</td><td>2.119</td><td>0.5652</td><td>DEF</td><td>True</td><td>NEW</td><td>False</td><td>False<td>42.00</td><tr>\n",
       "<tr><td>448</td><td>Erling Haaland</td><td>140.00</td><td>12.9</td><td>13</td><td>13</td><td>0.207</td><td>-14.304</td><td>0.0217</td><td>FWD</td><td>True</td><td>MCI</td><td>False</td><td>False<td>244.77</td><tr>\n",
       "<tr><td>548</td><td>Chris Wood</td><td>76.00</td><td>12.5</td><td>13</td><td>13</td><td>0.315</td><td>-9.006</td><td>0.2391</td><td>FWD</td><td>True</td><td>NFO</td><td>False</td><td>False<td>216.64</td><tr>\n",
       "<tr><td>631</td><td>Richarlison de Andrade</td><td>66.00</td><td>15.4</td><td>13</td><td>13</td><td>0.261</td><td>-11.655</td><td>0.1522</td><td>FWD</td><td>True</td><td>TOT</td><td>False</td><td>False<td>262.32</td><tr>\n",
       "<tr><td>614</td><td>Brennan Johnson</td><td>70.00</td><td>8.8</td><td>8</td><td>8</td><td>0.261</td><td>-11.655</td><td>0.1522</td><td>MID</td><td>True</td><td>TOT</td><td>False</td><td>False<td>89.12</td><tr>\n",
       "<tr><td>209</td><td>Matt O'Riley</td><td>55.00</td><td>11.5</td><td>10</td><td>10</td><td>0.543</td><td>2.119</td><td>0.6304</td><td>MID</td><td>True</td><td>BHA</td><td>False</td><td>False<td>111.22</td><tr>\n",
       "<tr><td>616</td><td>Mohammed Kudus</td><td>65.00</td><td>13.0</td><td>10</td><td>10</td><td>0.261</td><td>-11.655</td><td>0.1522</td><td>MID</td><td>True</td><td>TOT</td><td>False</td><td>False<td>136.89</td><tr>\n",
       "<tr><td>124</td><td>Antoine Semenyo</td><td>71.00</td><td>10.0</td><td>15</td><td>15</td><td>0.592</td><td>4.503</td><td>0.7609</td><td>MID</td><td>True</td><td>BOU</td><td>False</td><td>False<td>210.78</td><tr>\n",
       "<tr><td>203</td><td>Georginio Rutter</td><td>60.00</td><td>1.8</td><td>6</td><td>6</td><td>0.543</td><td>2.119</td><td>0.6304</td><td>MID</td><td>True</td><td>BHA</td><td>False</td><td>False<td>27.68</td><tr>\n",
       "</table>"
      ],
      "text/plain": [
       "<modules.team.Team at 0x7f5146b16e10>"
      ]
     },
     "metadata": {},
     "output_type": "display_data"
    }
   ],
   "source": [
    "print(\"Current Team:\")\n",
    "display(current_team)\n",
    "print()\n",
    "print(\"Selected Team:\")\n",
    "display(selected_team)"
   ]
  },
  {
   "cell_type": "code",
   "execution_count": 61,
   "metadata": {},
   "outputs": [
    {
     "name": "stdout",
     "output_type": "stream",
     "text": [
      "Score difference: 1548.647931152011\n"
     ]
    }
   ],
   "source": [
    "score_dif = selected_team.getTotalScore() - current_team.getTotalScore()\n",
    "print(\"Score difference:\",score_dif)"
   ]
  },
  {
   "cell_type": "code",
   "execution_count": 62,
   "metadata": {},
   "outputs": [],
   "source": [
    "def getBest(pCurrentTeam: Team, pNewTeam: Team, pNewPlayers: Team, pPosition: Position):\n",
    "    currentPositionData = pCurrentTeam.getPlayersListByPosition(pPosition)\n",
    "    newPlayersPositionData = pNewPlayers.getPlayersListByPosition(pPosition)\n",
    "    oldTotalCost = pCurrentTeam.getTotalCost()\n",
    "    maxCost = max(oldTotalCost, TOTAL_BUDGET)\n",
    "    #maxCost = TOTAL_BUDGET\n",
    "\n",
    "    allTransfers = []\n",
    "\n",
    "    for i in range(len(currentPositionData)):\n",
    "        oldPlayer = currentPositionData[i]\n",
    "        oldPlayerCost = oldPlayer.getCost()\n",
    "        for j in range(len(newPlayersPositionData)):\n",
    "\n",
    "            newPlayer = newPlayersPositionData[j]\n",
    "            newCost = oldTotalCost - oldPlayerCost + newPlayer.getCost()\n",
    "\n",
    "            if (newCost <= maxCost):\n",
    "                allTransfers.append(Transfer(oldPlayer, newPlayer))\n",
    "\n",
    "    if (len(allTransfers) >= 1):\n",
    "        bestTransfer = max(allTransfers)\n",
    "        if(bestTransfer.getScoreDif() > 0):\n",
    "            return bestTransfer\n",
    "    else:\n",
    "        return None"
   ]
  },
  {
   "cell_type": "code",
   "execution_count": 63,
   "metadata": {},
   "outputs": [],
   "source": [
    "def get_updated_team(team: pd.DataFrame, old_player: pd.Series, new_player: pd.Series):\n",
    "    team: pd.DataFrame = team.drop(index=old_player.name)\n",
    "    team.loc[len(team)] = new_player\n",
    "    return team"
   ]
  },
  {
   "cell_type": "code",
   "execution_count": 64,
   "metadata": {},
   "outputs": [],
   "source": [
    "def get_bench(team: pd.DataFrame):\n",
    "    positions = [\"FWD\",\"DEF\",\"MID\",\"GKP\"]\n",
    "    team = team.reset_index()\n",
    "    bench = pd.DataFrame(columns=team.columns)\n",
    "    for position in positions:\n",
    "        worst_player_index = team.loc[team[\"position\"]==position][\"score\"].idxmin()\n",
    "        worst_player = team.loc[worst_player_index].copy()\n",
    "        bench.loc[len(bench)] = worst_player\n",
    "        team = team.drop(index=worst_player_index)\n",
    "    return team, bench"
   ]
  },
  {
   "cell_type": "code",
   "execution_count": 65,
   "metadata": {},
   "outputs": [],
   "source": [
    "def getBestTransferNew(pCurrentTeam: Team, pNewTeam: Team, pNewPlayers: Team) -> Transfer | None:\n",
    "    positions = Position.listValues()\n",
    "    bestTransfers = []\n",
    "    for position in positions:\n",
    "        transfer = getBest(pCurrentTeam, pNewTeam, pNewPlayers, position)\n",
    "        if(transfer is not None):\n",
    "            bestTransfers.append(transfer)\n",
    "    actualBestTransfer = max(bestTransfers)\n",
    "    return actualBestTransfer"
   ]
  },
  {
   "cell_type": "code",
   "execution_count": 66,
   "metadata": {},
   "outputs": [],
   "source": [
    "def getNewTeam(pCurrentTeam: Team, pSelectedTeam: Team, pNewPlayers: Team):\n",
    "\n",
    "    TRIPLE_CAPT_THRESHOLD = 0.1\n",
    "\n",
    "    transferData = getBestTransferNew(pCurrentTeam, pSelectedTeam, pNewPlayers)\n",
    "    print(\"Best transfer:\")\n",
    "    print(transferData)\n",
    "    oldPlayer = transferData.getOldPlayer()\n",
    "    newPlayer = transferData.getNewPlayer()\n",
    "    if transferData is None:\n",
    "        return\n",
    "    \n",
    "    changingPosition: Position = transferData.getPosition()\n",
    "    \n",
    "    newTeam = deepcopy(pCurrentTeam)\n",
    "    playersOfPosition = newTeam.getPlayersListByPosition(changingPosition)\n",
    "\n",
    "    for i in range(len(playersOfPosition)):\n",
    "        player = playersOfPosition[i]\n",
    "        if (player.getId() == oldPlayer.getId()):\n",
    "            newTeam.removePlayerByIndex(i, changingPosition)\n",
    "            newTeam.addPlayer(newPlayer)\n",
    "    for player in newTeam.getPlayers():\n",
    "        if(player.getCurrentDifficulty() < TRIPLE_CAPT_THRESHOLD):\n",
    "            print(f\"Suggested triple captain: {player.getName()}\")\n",
    "    return newTeam"
   ]
  },
  {
   "cell_type": "code",
   "execution_count": 67,
   "metadata": {},
   "outputs": [
    {
     "name": "stdout",
     "output_type": "stream",
     "text": [
      "Best transfer:\n",
      "Transfer from Jarrod Bowen -> Richarlison de Andrade:\n",
      "Old player: Jarrod Bowen\tScore: -10.65\tCost: 79\tFixture Difficulty: 14.56886844573797\n",
      "New player: Richarlison de Andrade\tScore: 262.32\tCost: 66\tFixture Difficulty: -11.655094756590374\n",
      "- Cost change: -13\n",
      "- Score change: 272.98\n",
      "Suggested triple captain: Rayan Aït-Nouri\n"
     ]
    },
    {
     "data": {
      "text/html": [
       "<h1>Starting 11</h1>\n",
       "<table><tr><th>ID</th><th>Name</th><th>Cost</th><th>ICT Index</th><th>Total Points</th><th>Form</th><th>Average Fixture Difficulty</th><th>Normalised Average Fixture Difficulty</th><th>Current Fixture Difficulty</th><th>Position</th><th>Availability</th><th>Team</th><th>Captain</th><th>Vice Captain</th><th>Score</th>\n",
       "<tr><td>295</td><td>Jordan Pickford</td><td>55.00</td><td>2.1</td><td>2</td><td>2</td><td>0.489</td><td>-0.530</td><td>0.6522</td><td>GKP</td><td>True</td><td>EVE</td><td>False</td><td>False<td>2.14</td><tr>\n",
       "<tr><td>560</td><td>Daniel Ballard</td><td>46.00</td><td>13.4</td><td>17</td><td>17</td><td>0.304</td><td>-9.536</td><td>0.3696</td><td>DEF</td><td>True</td><td>SUN</td><td>True</td><td>False<td>304.26</td><tr>\n",
       "<tr><td>422</td><td>Rayan Aït-Nouri</td><td>60.00</td><td>4.7</td><td>9</td><td>9</td><td>0.207</td><td>-14.304</td><td>0.0217</td><td>DEF</td><td>True</td><td>MCI</td><td>False</td><td>False<td>81.07</td><tr>\n",
       "<tr><td>494</td><td>Fabian Schär</td><td>55.00</td><td>2.0</td><td>8</td><td>8</td><td>0.543</td><td>2.119</td><td>0.5652</td><td>DEF</td><td>True</td><td>NEW</td><td>False</td><td>False<td>42.00</td><tr>\n",
       "<tr><td>388</td><td>Milos Kerkez</td><td>60.00</td><td>1.0</td><td>0</td><td>0</td><td>0.353</td><td>-7.152</td><td>0.2391</td><td>DEF</td><td>True</td><td>LIV</td><td>False</td><td>False<td>10.94</td><tr>\n",
       "<tr><td>631</td><td>Richarlison de Andrade</td><td>66.00</td><td>15.4</td><td>13</td><td>13</td><td>0.261</td><td>-11.655</td><td>0.1522</td><td>FWD</td><td>True</td><td>TOT</td><td>False</td><td>True<td>262.32</td><tr>\n",
       "<tr><td>180</td><td>Yoane Wissa</td><td>75.00</td><td>0.0</td><td>0</td><td>0</td><td>0.712</td><td>10.331</td><td>0.7609</td><td>FWD</td><td>False</td><td>BRE</td><td>False</td><td>False<td>-10.65</td><tr>\n",
       "<tr><td>614</td><td>Brennan Johnson</td><td>70.00</td><td>8.8</td><td>8</td><td>8</td><td>0.261</td><td>-11.655</td><td>0.1522</td><td>MID</td><td>True</td><td>TOT</td><td>False</td><td>False<td>89.12</td><tr>\n",
       "<tr><td>335</td><td>Alex Iwobi</td><td>65.00</td><td>5.1</td><td>2</td><td>2</td><td>0.418</td><td>-3.973</td><td>0.3043</td><td>MID</td><td>True</td><td>FUL</td><td>False</td><td>False<td>11.11</td><tr>\n",
       "<tr><td>48</td><td>Morgan Rogers</td><td>70.00</td><td>3.1</td><td>3</td><td>3</td><td>0.413</td><td>-4.238</td><td>0.4348</td><td>MID</td><td>True</td><td>AVL</td><td>False</td><td>False<td>10.26</td><tr>\n",
       "<tr><td>509</td><td>Jacob Murphy</td><td>64.00</td><td>0.6000000000000001</td><td>1</td><td>1</td><td>0.543</td><td>2.119</td><td>0.5652</td><td>MID</td><td>True</td><td>NEW</td><td>False</td><td>False<td>-0.00</td><tr>\n",
       "</table>\n",
       "<h1>Bench</h1>\n",
       "<table><tr><th>ID</th><th>Name</th><th>Cost</th><th>ICT Index</th><th>Total Points</th><th>Form</th><th>Average Fixture Difficulty</th><th>Normalised Average Fixture Difficulty</th><th>Current Fixture Difficulty</th><th>Position</th><th>Availability</th><th>Team</th><th>Captain</th><th>Vice Captain</th><th>Score</th>\n",
       "<tr><td>451</td><td>André Onana</td><td>50.00</td><td>0.0</td><td>0</td><td>0</td><td>0.696</td><td>9.536</td><td>0.6957</td><td>GKP</td><td>True</td><td>MUN</td><td>False</td><td>False<td>-0.00</td><tr>\n",
       "<tr><td>152</td><td>Nathan Collins</td><td>50.00</td><td>1.5</td><td>0</td><td>0</td><td>0.712</td><td>10.331</td><td>0.7609</td><td>DEF</td><td>True</td><td>BRE</td><td>False</td><td>False<td>-10.33</td><tr>\n",
       "<tr><td>518</td><td>Alexander Isak</td><td>104.00</td><td>0.0</td><td>0</td><td>0</td><td>0.543</td><td>2.119</td><td>0.5652</td><td>FWD</td><td>False</td><td>NEW</td><td>False</td><td>False<td>-10.65</td><tr>\n",
       "<tr><td>449</td><td>Bryan Mbeumo</td><td>80.00</td><td>8.1</td><td>2</td><td>2</td><td>0.696</td><td>9.536</td><td>0.6957</td><td>MID</td><td>True</td><td>MUN</td><td>False</td><td>False<td>-2.99</td><tr>\n",
       "</table>"
      ],
      "text/plain": [
       "<modules.team.BenchTeam at 0x7f5146ac7320>"
      ]
     },
     "metadata": {},
     "output_type": "display_data"
    }
   ],
   "source": [
    "newTeam = getNewTeam(current_team, selected_team, new_players)\n",
    "newTeam = newTeam.toBenchTeam()\n",
    "display(newTeam)"
   ]
  }
 ],
 "metadata": {
  "kernelspec": {
   "display_name": "base",
   "language": "python",
   "name": "python3"
  },
  "language_info": {
   "codemirror_mode": {
    "name": "ipython",
    "version": 3
   },
   "file_extension": ".py",
   "mimetype": "text/x-python",
   "name": "python",
   "nbconvert_exporter": "python",
   "pygments_lexer": "ipython3",
   "version": "3.12.2"
  }
 },
 "nbformat": 4,
 "nbformat_minor": 2
}
