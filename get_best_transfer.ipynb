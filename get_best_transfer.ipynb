{
 "cells": [
  {
   "cell_type": "code",
   "execution_count": 81,
   "metadata": {},
   "outputs": [],
   "source": [
    "import json\n",
    "import pandas as pd\n",
    "import numpy as np\n",
    "from copy import deepcopy\n",
    "from glob import glob\n",
    "from IPython.display import display\n",
    "import re\n",
    "\n",
    "from modules.team import Team, BenchTeam\n",
    "from modules.player import Player, Position\n",
    "from modules.transfer import Transfer\n",
    "from modules.fixture_difficulty_matrix import FixtureDifficultyMatrix\n",
    "from modules.team_predicter import TeamPredicter, SolverMode\n",
    "\n",
    "import config"
   ]
  },
  {
   "cell_type": "code",
   "execution_count": 82,
   "metadata": {},
   "outputs": [],
   "source": [
    "CURRENT_DATE = config.CURRENT_DATE\n",
    "teams_filename = f\"./data/results/{CURRENT_DATE}/results_{CURRENT_DATE}.json\"\n",
    "SELECTED_MODEL_INDEX = 0\n",
    "TOTAL_BUDGET = 1000"
   ]
  },
  {
   "cell_type": "code",
   "execution_count": 83,
   "metadata": {},
   "outputs": [],
   "source": [
    "current_team_names = {\"Jordan Pickford\",\n",
    "                      \"Matz Sels\",\n",
    "                      \"Dan Burn\",\n",
    "                      \"Michael Keane\",\n",
    "                      \"Wout Faes\",\n",
    "                      \"Jack Stephens\",\n",
    "                      \"Ola Aina\",\n",
    "                      \"Bryan Mbeumo\",\n",
    "                      \"Cole Palmer\",\n",
    "                      \"James Maddison\",\n",
    "                      \"Alex Iwobi\",\n",
    "                      \"Mohamed Salah\",\n",
    "                      \"Yoane Wissa\",\n",
    "                      \"Alexander Isak\",\n",
    "                      \"Chris Wood\"\n",
    "                      }"
   ]
  },
  {
   "cell_type": "code",
   "execution_count": 84,
   "metadata": {},
   "outputs": [],
   "source": [
    "def getDataFilesSorted():\n",
    "    allDataFiles = sorted(glob(r\"./data/player_stats/data_*.csv\"))\n",
    "    filesSorted = []\n",
    "    regex = r\"^(\\.\\/data\\/player_stats\\\\data_)(\\d+)(\\.csv)\"\n",
    "    pattern = re.compile(regex)\n",
    "    for file in allDataFiles:\n",
    "        fileNameSplit = re.split(pattern,file)\n",
    "        if (len(fileNameSplit) == 5):\n",
    "            fileNum = fileNameSplit[2]\n",
    "            dictObj = {\n",
    "                \"name\": file,\n",
    "                \"number\": int(fileNum)\n",
    "            }\n",
    "            filesSorted.append(dictObj)\n",
    "    filesSorted.sort(key=lambda x: x[\"number\"])\n",
    "    return [file[\"name\"] for file in filesSorted]"
   ]
  },
  {
   "cell_type": "code",
   "execution_count": 85,
   "metadata": {},
   "outputs": [],
   "source": [
    "filesSorted = getDataFilesSorted()\n",
    "dataFileName = filesSorted[-1]"
   ]
  },
  {
   "cell_type": "code",
   "execution_count": 86,
   "metadata": {},
   "outputs": [],
   "source": [
    "with open(dataFileName,\"r\",encoding=\"utf-8\") as f:\n",
    "    all_player_data = pd.read_csv(f)"
   ]
  },
  {
   "cell_type": "code",
   "execution_count": 87,
   "metadata": {},
   "outputs": [],
   "source": [
    "def calcPScores(pSeries: pd.Series) -> pd.Series:\n",
    "    stdDev = np.std(pSeries)\n",
    "    avg = pSeries.mean()\n",
    "    return (pSeries - avg) / stdDev\n",
    "\n",
    "ictIndexPScores = calcPScores(all_player_data[\"ict_index\"])\n",
    "avgPointsPScores = calcPScores(all_player_data[\"points_per_game\"])\n",
    "totalPointsPScores = calcPScores(all_player_data[\"total_points\"])\n",
    "\n",
    "combinedPScores = ictIndexPScores + avgPointsPScores + totalPointsPScores\n",
    "all_player_data[\"combined\"] = combinedPScores"
   ]
  },
  {
   "cell_type": "code",
   "execution_count": 88,
   "metadata": {},
   "outputs": [
    {
     "name": "stdout",
     "output_type": "stream",
     "text": [
      "      id                          name  cost  ict_index  total_points  \\\n",
      "0      0         Fábio Ferreira Vieira    54        0.0             0   \n",
      "1      1     Gabriel Fernando de Jesus    68       52.6            42   \n",
      "2      2  Gabriel dos Santos Magalhães    64       82.5            84   \n",
      "3      3                   Kai Havertz    78      120.2            75   \n",
      "4      4                     Karl Hein    40        0.0             0   \n",
      "..   ...                           ...   ...        ...           ...   \n",
      "719  719   Carlos Roberto Forbs Borges    55        8.3             8   \n",
      "720  720                    Alfie Pond    39        0.0             1   \n",
      "721  721                    Tom Edozie    45        0.0             0   \n",
      "722  722                   Wes Okoduwa    40        0.0             0   \n",
      "723  723              Emmanuel Agbadou    40        2.3             0   \n",
      "\n",
      "     points_per_game  form status  starts_per_90 position team  combined  \n",
      "0                0.0   0.0      u           0.00      MID  ARS -2.619507  \n",
      "1                2.5   6.4      i           0.90      FWD  ARS  1.775234  \n",
      "2                4.4   3.0      a           1.05      DEF  ARS  5.212038  \n",
      "3                4.2   2.8      a           1.03      FWD  ARS  5.702596  \n",
      "4                0.0   0.0      u           0.00      GKP  ARS -2.619507  \n",
      "..               ...   ...    ...            ...      ...  ...       ...  \n",
      "719              0.9   0.6      a           0.38      MID  WOL -1.544487  \n",
      "720              1.0   0.0      a           0.00      DEF  WOL -1.923566  \n",
      "721              0.0   0.0      a           0.00      MID  WOL -2.619507  \n",
      "722              0.0   0.0      a           0.00      DEF  WOL -2.619507  \n",
      "723              0.0   0.0      a           1.00      DEF  WOL -2.562670  \n",
      "\n",
      "[724 rows x 12 columns]\n"
     ]
    }
   ],
   "source": [
    "print(all_player_data)"
   ]
  },
  {
   "cell_type": "code",
   "execution_count": 89,
   "metadata": {},
   "outputs": [],
   "source": [
    "current_team = Team.fromNameSet(current_team_names, all_player_data)"
   ]
  },
  {
   "cell_type": "code",
   "execution_count": 90,
   "metadata": {},
   "outputs": [
    {
     "data": {
      "text/plain": [
       "1005"
      ]
     },
     "execution_count": 90,
     "metadata": {},
     "output_type": "execute_result"
    }
   ],
   "source": [
    "current_team_cost = current_team.getTotalCost()\n",
    "current_team_cost"
   ]
  },
  {
   "cell_type": "code",
   "execution_count": 91,
   "metadata": {},
   "outputs": [],
   "source": [
    "with open(teams_filename,\"r\",encoding=\"utf-8\") as f:\n",
    "    all_data = json.load(f)\n",
    "data = all_data[\"data\"][SELECTED_MODEL_INDEX]\n",
    "selected_team_df = pd.DataFrame(data=data)"
   ]
  },
  {
   "cell_type": "code",
   "execution_count": 92,
   "metadata": {},
   "outputs": [],
   "source": [
    "selectedTeamNames = selected_team_df[\"name\"].values\n",
    "selected_team = Team.fromNameSet(selectedTeamNames, all_player_data)"
   ]
  },
  {
   "cell_type": "code",
   "execution_count": 93,
   "metadata": {},
   "outputs": [
    {
     "data": {
      "text/html": [
       "<table><tr><th>ID</th><th>Name</th><th>Cost</th><th>ICT Index</th><th>Total Points</th><th>Form</th><th>Fixture Difficulty</th><th>Normalised Fixture Difficulty</th><th>Position</th><th>Availability</th><th>Team</th><th>Captain</th><th>Vice Captain</th><th>Score</th>\n",
       "<tr><td>287</td><td>Jordan Pickford</td><td>50.00</td><td>57.5</td><td>88</td><td>4.4</td><td>0.00</td><td>0.00</td><td>GKP</td><td>True</td><td>EVE</td><td>True</td><td>False<td>0.00</td><tr>\n",
       "<tr><td>486</td><td>André Onana</td><td>51.00</td><td>49.0</td><td>75</td><td>1.6</td><td>0.00</td><td>0.00</td><td>GKP</td><td>True</td><td>MUN</td><td>False</td><td>True<td>0.00</td><tr>\n",
       "<tr><td>336</td><td>Harry Clarke</td><td>40.00</td><td>10.5</td><td>1</td><td>0.2</td><td>0.00</td><td>0.00</td><td>DEF</td><td>True</td><td>IPS</td><td>False</td><td>False<td>0.00</td><tr>\n",
       "<tr><td>374</td><td>Wout Faes</td><td>40.00</td><td>47.5</td><td>28</td><td>0.6</td><td>0.00</td><td>0.00</td><td>DEF</td><td>True</td><td>LEI</td><td>False</td><td>False<td>0.00</td><tr>\n",
       "<tr><td>244</td><td>Marc Guéhi</td><td>45.00</td><td>80.6</td><td>70</td><td>4.6</td><td>0.00</td><td>0.00</td><td>DEF</td><td>True</td><td>CRY</td><td>False</td><td>False<td>0.00</td><tr>\n",
       "<tr><td>281</td><td>Michael Keane</td><td>40.00</td><td>33.0</td><td>32</td><td>0.0</td><td>0.00</td><td>0.00</td><td>DEF</td><td>True</td><td>EVE</td><td>False</td><td>False<td>0.00</td><tr>\n",
       "<tr><td>506</td><td>Dan Burn</td><td>44.00</td><td>50.6</td><td>64</td><td>5.2</td><td>0.00</td><td>0.00</td><td>DEF</td><td>True</td><td>NEW</td><td>False</td><td>False<td>0.00</td><tr>\n",
       "<tr><td>445</td><td>Erling Haaland</td><td>148.00</td><td>206.2</td><td>125</td><td>5.0</td><td>0.00</td><td>0.00</td><td>FWD</td><td>True</td><td>MCI</td><td>False</td><td>False<td>0.00</td><tr>\n",
       "<tr><td>178</td><td>Danny Welbeck</td><td>55.00</td><td>83.9</td><td>70</td><td>0.2</td><td>0.00</td><td>0.00</td><td>FWD</td><td>True</td><td>BHA</td><td>False</td><td>False<td>0.00</td><tr>\n",
       "<tr><td>654</td><td>Michail Antonio</td><td>53.00</td><td>39.5</td><td>42</td><td>0.0</td><td>0.00</td><td>0.00</td><td>FWD</td><td>False</td><td>WHU</td><td>False</td><td>False<td>0.00</td><tr>\n",
       "<tr><td>283</td><td>Dwight McNeil</td><td>51.00</td><td>100.5</td><td>65</td><td>0.0</td><td>0.00</td><td>0.00</td><td>MID</td><td>False</td><td>EVE</td><td>False</td><td>False<td>0.00</td><tr>\n",
       "<tr><td>417</td><td>Mohamed Salah</td><td>137.00</td><td>277.2</td><td>211</td><td>11.0</td><td>0.00</td><td>0.00</td><td>MID</td><td>True</td><td>LIV</td><td>False</td><td>False<td>0.00</td><tr>\n",
       "<tr><td>222</td><td>Cole Palmer</td><td>114.00</td><td>230.2</td><td>163</td><td>7.0</td><td>0.00</td><td>0.00</td><td>MID</td><td>True</td><td>CHE</td><td>False</td><td>False<td>0.00</td><tr>\n",
       "<tr><td>122</td><td>Bryan Mbeumo</td><td>78.00</td><td>189.7</td><td>138</td><td>6.6</td><td>0.00</td><td>0.00</td><td>MID</td><td>True</td><td>BRE</td><td>False</td><td>False<td>0.00</td><tr>\n",
       "<tr><td>112</td><td>Mikkel Damsgaard</td><td>50.00</td><td>118.1</td><td>77</td><td>3.4</td><td>0.00</td><td>0.00</td><td>MID</td><td>True</td><td>BRE</td><td>False</td><td>False<td>0.00</td><tr>\n",
       "</table>"
      ],
      "text/plain": [
       "<modules.team.Team at 0x1d27354a240>"
      ]
     },
     "metadata": {},
     "output_type": "display_data"
    }
   ],
   "source": [
    "display(selected_team)"
   ]
  },
  {
   "cell_type": "code",
   "execution_count": 94,
   "metadata": {},
   "outputs": [
    {
     "name": "stdout",
     "output_type": "stream",
     "text": [
      "\n",
      "Total Score: 0\n",
      "\n",
      "Goalkeepers:\n",
      "- André Onana (Captain) \tScore: 0\tCost: 51\tFixture Difficulty: 0.0\n",
      "Defenders:\n",
      "- Harry Clarke (Vice Captain) \tScore: 0\tCost: 40\tFixture Difficulty: 0.0\n",
      "- Marc Guéhi\tScore: 0\tCost: 45\tFixture Difficulty: 0.0\n",
      "Attackers:\n",
      "- Erling Haaland\tScore: 0\tCost: 148\tFixture Difficulty: 0.0\n",
      "- Danny Welbeck\tScore: 0\tCost: 55\tFixture Difficulty: 0.0\n",
      "- Michail Antonio\tScore: 0\tCost: 53\tFixture Difficulty: 0.0\n",
      "Midfielders:\n",
      "- Dwight McNeil\tScore: 0\tCost: 51\tFixture Difficulty: 0.0\n",
      "- Mikkel Damsgaard\tScore: 0\tCost: 50\tFixture Difficulty: 0.0\n"
     ]
    }
   ],
   "source": [
    "new_players = selected_team - current_team\n",
    "print(new_players)"
   ]
  },
  {
   "cell_type": "code",
   "execution_count": 95,
   "metadata": {},
   "outputs": [
    {
     "name": "stdout",
     "output_type": "stream",
     "text": [
      "Added cost: -9\n"
     ]
    }
   ],
   "source": [
    "new_team_cost = selected_team.getTotalCost()\n",
    "new_team_cost\n",
    "\n",
    "added_cost = new_team_cost - current_team_cost\n",
    "print(\"Added cost:\",added_cost)\n",
    "\n",
    "surplus = current_team_cost - new_team_cost\n"
   ]
  },
  {
   "cell_type": "code",
   "execution_count": 96,
   "metadata": {},
   "outputs": [],
   "source": [
    "HEURISTIC = \"combined\"\n",
    "MODE = SolverMode.CHEAPEST_FIRST"
   ]
  },
  {
   "cell_type": "code",
   "execution_count": 97,
   "metadata": {},
   "outputs": [
    {
     "name": "stdout",
     "output_type": "stream",
     "text": [
      "[DEBUG]: Reading from data files...\n",
      "[DEBUG]: Done reading data files! Calculating linear regression...\n",
      "Done calculating linear regression!\n"
     ]
    }
   ],
   "source": [
    "teamPredicter = TeamPredicter(HEURISTIC, MODE, True)"
   ]
  },
  {
   "cell_type": "code",
   "execution_count": 98,
   "metadata": {},
   "outputs": [
    {
     "data": {
      "text/plain": [
       "(12.789356888941393, 12.789356888941393)"
      ]
     },
     "execution_count": 98,
     "metadata": {},
     "output_type": "execute_result"
    }
   ],
   "source": [
    "all_player_data[\"score\"] = all_player_data[HEURISTIC] * all_player_data[\"form\"]\n",
    "deviation = np.std(all_player_data[\"score\"])\n",
    "scale_factor = deviation\n",
    "scale_factor, deviation"
   ]
  },
  {
   "cell_type": "code",
   "execution_count": 99,
   "metadata": {},
   "outputs": [],
   "source": [
    "START_SAMPLE_GAMEWEEK = 17\n",
    "END_SAMPLE_GAMEWEEK = 20"
   ]
  },
  {
   "cell_type": "code",
   "execution_count": 100,
   "metadata": {},
   "outputs": [],
   "source": [
    "matrix = FixtureDifficultyMatrix(scale_factor, START_SAMPLE_GAMEWEEK, END_SAMPLE_GAMEWEEK)\n",
    "\n",
    "new_players.recalculateFixtureDifficulty(matrix)\n",
    "new_players.calculateScore(HEURISTIC)\n",
    "\n",
    "selected_team.recalculateFixtureDifficulty(matrix)\n",
    "selected_team.calculateScore(HEURISTIC)\n",
    "\n",
    "current_team.recalculateFixtureDifficulty(matrix)\n",
    "current_team.calculateScore(HEURISTIC)"
   ]
  },
  {
   "cell_type": "code",
   "execution_count": 101,
   "metadata": {},
   "outputs": [
    {
     "name": "stdout",
     "output_type": "stream",
     "text": [
      "Current Team:\n"
     ]
    },
    {
     "data": {
      "text/html": [
       "<table><tr><th>ID</th><th>Name</th><th>Cost</th><th>ICT Index</th><th>Total Points</th><th>Form</th><th>Fixture Difficulty</th><th>Normalised Fixture Difficulty</th><th>Position</th><th>Availability</th><th>Team</th><th>Captain</th><th>Vice Captain</th><th>Score</th>\n",
       "<tr><td>556</td><td>Matz Sels</td><td>50.00</td><td>51.6</td><td>97</td><td>6.6</td><td>0.28</td><td>-5.63</td><td>GKP</td><td>True</td><td>NFO</td><td>True</td><td>False<td>38.80</td><tr>\n",
       "<tr><td>287</td><td>Jordan Pickford</td><td>50.00</td><td>57.5</td><td>88</td><td>4.4</td><td>0.76</td><td>6.52</td><td>GKP</td><td>True</td><td>EVE</td><td>False</td><td>True<td>14.30</td><tr>\n",
       "<tr><td>281</td><td>Michael Keane</td><td>40.00</td><td>33.0</td><td>32</td><td>0.0</td><td>0.76</td><td>6.52</td><td>DEF</td><td>True</td><td>EVE</td><td>False</td><td>False<td>-6.52</td><tr>\n",
       "<tr><td>374</td><td>Wout Faes</td><td>40.00</td><td>47.5</td><td>28</td><td>0.6</td><td>0.74</td><td>6.27</td><td>DEF</td><td>True</td><td>LEI</td><td>False</td><td>False<td>-5.45</td><tr>\n",
       "<tr><td>535</td><td>Ola Aina</td><td>53.00</td><td>57.4</td><td>97</td><td>7.4</td><td>0.28</td><td>-5.63</td><td>DEF</td><td>True</td><td>NFO</td><td>False</td><td>False<td>45.64</td><tr>\n",
       "<tr><td>506</td><td>Dan Burn</td><td>44.00</td><td>50.6</td><td>64</td><td>5.2</td><td>0.26</td><td>-6.14</td><td>DEF</td><td>True</td><td>NEW</td><td>False</td><td>False<td>21.45</td><tr>\n",
       "<tr><td>595</td><td>Jack Stephens</td><td>40.00</td><td>19.6</td><td>10</td><td>0.0</td><td>0.69</td><td>4.99</td><td>DEF</td><td>False</td><td>SOU</td><td>False</td><td>False<td>-6.52</td><tr>\n",
       "<tr><td>133</td><td>Yoane Wissa</td><td>62.00</td><td>113.6</td><td>97</td><td>4.4</td><td>0.57</td><td>1.92</td><td>FWD</td><td>True</td><td>BRE</td><td>False</td><td>False<td>32.20</td><tr>\n",
       "<tr><td>559</td><td>Chris Wood</td><td>69.00</td><td>115.3</td><td>123</td><td>6.6</td><td>0.28</td><td>-5.63</td><td>FWD</td><td>True</td><td>NFO</td><td>False</td><td>False<td>65.62</td><tr>\n",
       "<tr><td>511</td><td>Alexander Isak</td><td>94.00</td><td>191.3</td><td>135</td><td>11.0</td><td>0.26</td><td>-6.14</td><td>FWD</td><td>True</td><td>NEW</td><td>False</td><td>False<td>146.46</td><tr>\n",
       "<tr><td>311</td><td>Alex Iwobi</td><td>59.00</td><td>158.9</td><td>102</td><td>4.8</td><td>0.43</td><td>-1.79</td><td>MID</td><td>True</td><td>FUL</td><td>False</td><td>False<td>42.44</td><tr>\n",
       "<tr><td>222</td><td>Cole Palmer</td><td>114.00</td><td>230.2</td><td>163</td><td>7.0</td><td>0.29</td><td>-5.37</td><td>MID</td><td>True</td><td>CHE</td><td>False</td><td>False<td>105.19</td><tr>\n",
       "<tr><td>626</td><td>James Maddison</td><td>75.00</td><td>140.6</td><td>100</td><td>1.8</td><td>0.72</td><td>5.50</td><td>MID</td><td>True</td><td>TOT</td><td>False</td><td>False<td>8.33</td><tr>\n",
       "<tr><td>417</td><td>Mohamed Salah</td><td>137.00</td><td>277.2</td><td>211</td><td>11.0</td><td>0.22</td><td>-7.16</td><td>MID</td><td>True</td><td>LIV</td><td>False</td><td>False<td>214.68</td><tr>\n",
       "<tr><td>122</td><td>Bryan Mbeumo</td><td>78.00</td><td>189.7</td><td>138</td><td>6.6</td><td>0.57</td><td>1.92</td><td>MID</td><td>True</td><td>BRE</td><td>False</td><td>False<td>71.80</td><tr>\n",
       "</table>"
      ],
      "text/plain": [
       "<modules.team.Team at 0x1d2745bfc80>"
      ]
     },
     "metadata": {},
     "output_type": "display_data"
    },
    {
     "name": "stdout",
     "output_type": "stream",
     "text": [
      "\n",
      "Selected Team:\n"
     ]
    },
    {
     "data": {
      "text/html": [
       "<table><tr><th>ID</th><th>Name</th><th>Cost</th><th>ICT Index</th><th>Total Points</th><th>Form</th><th>Fixture Difficulty</th><th>Normalised Fixture Difficulty</th><th>Position</th><th>Availability</th><th>Team</th><th>Captain</th><th>Vice Captain</th><th>Score</th>\n",
       "<tr><td>287</td><td>Jordan Pickford</td><td>50.00</td><td>57.5</td><td>88</td><td>4.4</td><td>0.76</td><td>6.52</td><td>GKP</td><td>True</td><td>EVE</td><td>True</td><td>False<td>14.30</td><tr>\n",
       "<tr><td>486</td><td>André Onana</td><td>51.00</td><td>49.0</td><td>75</td><td>1.6</td><td>0.55</td><td>1.28</td><td>GKP</td><td>True</td><td>MUN</td><td>True</td><td>False<td>4.39</td><tr>\n",
       "<tr><td>336</td><td>Harry Clarke</td><td>40.00</td><td>10.5</td><td>1</td><td>0.2</td><td>0.80</td><td>7.67</td><td>DEF</td><td>True</td><td>IPS</td><td>False</td><td>True<td>-7.72</td><tr>\n",
       "<tr><td>374</td><td>Wout Faes</td><td>40.00</td><td>47.5</td><td>28</td><td>0.6</td><td>0.74</td><td>6.27</td><td>DEF</td><td>True</td><td>LEI</td><td>False</td><td>False<td>-5.45</td><tr>\n",
       "<tr><td>244</td><td>Marc Guéhi</td><td>45.00</td><td>80.6</td><td>70</td><td>4.6</td><td>0.60</td><td>2.69</td><td>DEF</td><td>True</td><td>CRY</td><td>False</td><td>False<td>16.13</td><tr>\n",
       "<tr><td>281</td><td>Michael Keane</td><td>40.00</td><td>33.0</td><td>32</td><td>0.0</td><td>0.76</td><td>6.52</td><td>DEF</td><td>True</td><td>EVE</td><td>False</td><td>False<td>-6.52</td><tr>\n",
       "<tr><td>506</td><td>Dan Burn</td><td>44.00</td><td>50.6</td><td>64</td><td>5.2</td><td>0.26</td><td>-6.14</td><td>DEF</td><td>True</td><td>NEW</td><td>False</td><td>False<td>21.45</td><tr>\n",
       "<tr><td>445</td><td>Erling Haaland</td><td>148.00</td><td>206.2</td><td>125</td><td>5.0</td><td>0.32</td><td>-4.60</td><td>FWD</td><td>True</td><td>MCI</td><td>False</td><td>False<td>58.27</td><tr>\n",
       "<tr><td>178</td><td>Danny Welbeck</td><td>55.00</td><td>83.9</td><td>70</td><td>0.2</td><td>0.47</td><td>-0.77</td><td>FWD</td><td>True</td><td>BHA</td><td>False</td><td>False<td>1.83</td><tr>\n",
       "<tr><td>654</td><td>Michail Antonio</td><td>53.00</td><td>39.5</td><td>42</td><td>0.0</td><td>0.60</td><td>2.43</td><td>FWD</td><td>False</td><td>WHU</td><td>False</td><td>False<td>-7.72</td><tr>\n",
       "<tr><td>283</td><td>Dwight McNeil</td><td>51.00</td><td>100.5</td><td>65</td><td>0.0</td><td>0.76</td><td>6.52</td><td>MID</td><td>False</td><td>EVE</td><td>False</td><td>False<td>-7.72</td><tr>\n",
       "<tr><td>417</td><td>Mohamed Salah</td><td>137.00</td><td>277.2</td><td>211</td><td>11.0</td><td>0.22</td><td>-7.16</td><td>MID</td><td>True</td><td>LIV</td><td>False</td><td>False<td>214.68</td><tr>\n",
       "<tr><td>222</td><td>Cole Palmer</td><td>114.00</td><td>230.2</td><td>163</td><td>7.0</td><td>0.29</td><td>-5.37</td><td>MID</td><td>True</td><td>CHE</td><td>False</td><td>False<td>105.19</td><tr>\n",
       "<tr><td>122</td><td>Bryan Mbeumo</td><td>78.00</td><td>189.7</td><td>138</td><td>6.6</td><td>0.57</td><td>1.92</td><td>MID</td><td>True</td><td>BRE</td><td>False</td><td>False<td>71.80</td><tr>\n",
       "<tr><td>112</td><td>Mikkel Damsgaard</td><td>50.00</td><td>118.1</td><td>77</td><td>3.4</td><td>0.57</td><td>1.92</td><td>MID</td><td>True</td><td>BRE</td><td>False</td><td>False<td>17.39</td><tr>\n",
       "</table>"
      ],
      "text/plain": [
       "<modules.team.Team at 0x1d27354a240>"
      ]
     },
     "metadata": {},
     "output_type": "display_data"
    }
   ],
   "source": [
    "print(\"Current Team:\")\n",
    "display(current_team)\n",
    "print()\n",
    "print(\"Selected Team:\")\n",
    "display(selected_team)"
   ]
  },
  {
   "cell_type": "code",
   "execution_count": 102,
   "metadata": {},
   "outputs": [
    {
     "name": "stdout",
     "output_type": "stream",
     "text": [
      "Score difference: -298.10909151531035\n"
     ]
    }
   ],
   "source": [
    "score_dif = selected_team.getTotalScore() - current_team.getTotalScore()\n",
    "print(\"Score difference:\",score_dif)"
   ]
  },
  {
   "cell_type": "code",
   "execution_count": 103,
   "metadata": {},
   "outputs": [],
   "source": [
    "def getBest(pCurrentTeam: Team, pNewTeam: Team, pNewPlayers: Team, pPosition: Position):\n",
    "    currentPositionData = pCurrentTeam.getPlayersListByPosition(pPosition)\n",
    "    newPlayersPositionData = pNewPlayers.getPlayersListByPosition(pPosition)\n",
    "    oldTotalCost = pCurrentTeam.getTotalCost()\n",
    "    maxCost = max(oldTotalCost, TOTAL_BUDGET)\n",
    "    #maxCost = TOTAL_BUDGET\n",
    "\n",
    "    allTransfers = []\n",
    "\n",
    "    for i in range(len(currentPositionData)):\n",
    "        oldPlayer = currentPositionData[i]\n",
    "        oldPlayerCost = oldPlayer.getCost()\n",
    "        for j in range(len(newPlayersPositionData)):\n",
    "\n",
    "            newPlayer = newPlayersPositionData[j]\n",
    "            newCost = oldTotalCost - oldPlayerCost + newPlayer.getCost()\n",
    "\n",
    "            if (newCost <= maxCost):\n",
    "                allTransfers.append(Transfer(oldPlayer, newPlayer))\n",
    "\n",
    "    if (len(allTransfers) >= 1):\n",
    "        bestTransfer = max(allTransfers)\n",
    "        if(bestTransfer.getScoreDif() > 0):\n",
    "            return bestTransfer\n",
    "    else:\n",
    "        return None"
   ]
  },
  {
   "cell_type": "code",
   "execution_count": 104,
   "metadata": {},
   "outputs": [],
   "source": [
    "def get_updated_team(team: pd.DataFrame, old_player: pd.Series, new_player: pd.Series):\n",
    "    team: pd.DataFrame = team.drop(index=old_player.name)\n",
    "    team.loc[len(team)] = new_player\n",
    "    return team"
   ]
  },
  {
   "cell_type": "code",
   "execution_count": 105,
   "metadata": {},
   "outputs": [],
   "source": [
    "def get_bench(team: pd.DataFrame):\n",
    "    positions = [\"FWD\",\"DEF\",\"MID\",\"GKP\"]\n",
    "    team = team.reset_index()\n",
    "    bench = pd.DataFrame(columns=team.columns)\n",
    "    for position in positions:\n",
    "        worst_player_index = team.loc[team[\"position\"]==position][\"score\"].idxmin()\n",
    "        worst_player = team.loc[worst_player_index].copy()\n",
    "        bench.loc[len(bench)] = worst_player\n",
    "        team = team.drop(index=worst_player_index)\n",
    "    return team, bench"
   ]
  },
  {
   "cell_type": "code",
   "execution_count": 106,
   "metadata": {},
   "outputs": [],
   "source": [
    "def getBestTransferNew(pCurrentTeam: Team, pNewTeam: Team, pNewPlayers: Team) -> Transfer | None:\n",
    "    positions = Position.listValues()\n",
    "    bestTransfers = []\n",
    "    for position in positions:\n",
    "        transfer = getBest(pCurrentTeam, pNewTeam, pNewPlayers, position)\n",
    "        if(transfer is not None):\n",
    "            bestTransfers.append(transfer)\n",
    "    actualBestTransfer = max(bestTransfers)\n",
    "    return actualBestTransfer"
   ]
  },
  {
   "cell_type": "code",
   "execution_count": 107,
   "metadata": {},
   "outputs": [],
   "source": [
    "def getNewTeam(pCurrentTeam: Team, pSelectedTeam: Team, pNewPlayers: Team):\n",
    "    transferData = getBestTransferNew(pCurrentTeam, pSelectedTeam, pNewPlayers)\n",
    "    print(\"Best transfer:\")\n",
    "    print(transferData)\n",
    "    oldPlayer = transferData.getOldPlayer()\n",
    "    newPlayer = transferData.getNewPlayer()\n",
    "    if transferData is None:\n",
    "        return\n",
    "    \n",
    "    changingPosition: Position = transferData.getPosition()\n",
    "    \n",
    "    newTeam = deepcopy(pCurrentTeam)\n",
    "    playersOfPosition = newTeam.getPlayersListByPosition(changingPosition)\n",
    "\n",
    "    for i in range(len(playersOfPosition)):\n",
    "        player = playersOfPosition[i]\n",
    "        if (player.getId() == oldPlayer.getId()):\n",
    "            newTeam.removePlayerByIndex(i, changingPosition)\n",
    "            newTeam.addPlayer(newPlayer)\n",
    "    return newTeam"
   ]
  },
  {
   "cell_type": "code",
   "execution_count": 108,
   "metadata": {},
   "outputs": [
    {
     "name": "stdout",
     "output_type": "stream",
     "text": [
      "Best transfer:\n",
      "Transfer from James Maddison -> Mikkel Damsgaard:\n",
      "Old player: James Maddison\tScore: 8.33\tCost: 75\tFixture Difficulty: 5.499423462244801\n",
      "New player: Mikkel Damsgaard\tScore: 17.39\tCost: 50\tFixture Difficulty: 1.9184035333412073\n",
      "- Cost change: -25\n",
      "- Score change: 9.06\n"
     ]
    },
    {
     "data": {
      "text/html": [
       "<h1>Starting 11</h1>\n",
       "<table><tr><th>ID</th><th>Name</th><th>Cost</th><th>ICT Index</th><th>Total Points</th><th>Form</th><th>Fixture Difficulty</th><th>Normalised Fixture Difficulty</th><th>Position</th><th>Availability</th><th>Team</th><th>Captain</th><th>Vice Captain</th><th>Score</th>\n",
       "<tr><td>556</td><td>Matz Sels</td><td>50.00</td><td>51.6</td><td>97</td><td>6.6</td><td>0.28</td><td>-5.63</td><td>GKP</td><td>True</td><td>NFO</td><td>False</td><td>False<td>38.80</td><tr>\n",
       "<tr><td>535</td><td>Ola Aina</td><td>53.00</td><td>57.4</td><td>97</td><td>7.4</td><td>0.28</td><td>-5.63</td><td>DEF</td><td>True</td><td>NFO</td><td>False</td><td>False<td>45.64</td><tr>\n",
       "<tr><td>506</td><td>Dan Burn</td><td>44.00</td><td>50.6</td><td>64</td><td>5.2</td><td>0.26</td><td>-6.14</td><td>DEF</td><td>True</td><td>NEW</td><td>False</td><td>False<td>21.45</td><tr>\n",
       "<tr><td>374</td><td>Wout Faes</td><td>40.00</td><td>47.5</td><td>28</td><td>0.6</td><td>0.74</td><td>6.27</td><td>DEF</td><td>True</td><td>LEI</td><td>False</td><td>False<td>-5.45</td><tr>\n",
       "<tr><td>595</td><td>Jack Stephens</td><td>40.00</td><td>19.6</td><td>10</td><td>0.0</td><td>0.69</td><td>4.99</td><td>DEF</td><td>False</td><td>SOU</td><td>False</td><td>False<td>-6.52</td><tr>\n",
       "<tr><td>511</td><td>Alexander Isak</td><td>94.00</td><td>191.3</td><td>135</td><td>11.0</td><td>0.26</td><td>-6.14</td><td>FWD</td><td>True</td><td>NEW</td><td>False</td><td>True<td>146.46</td><tr>\n",
       "<tr><td>559</td><td>Chris Wood</td><td>69.00</td><td>115.3</td><td>123</td><td>6.6</td><td>0.28</td><td>-5.63</td><td>FWD</td><td>True</td><td>NFO</td><td>False</td><td>False<td>65.62</td><tr>\n",
       "<tr><td>417</td><td>Mohamed Salah</td><td>137.00</td><td>277.2</td><td>211</td><td>11.0</td><td>0.22</td><td>-7.16</td><td>MID</td><td>True</td><td>LIV</td><td>True</td><td>False<td>214.68</td><tr>\n",
       "<tr><td>222</td><td>Cole Palmer</td><td>114.00</td><td>230.2</td><td>163</td><td>7.0</td><td>0.29</td><td>-5.37</td><td>MID</td><td>True</td><td>CHE</td><td>False</td><td>False<td>105.19</td><tr>\n",
       "<tr><td>122</td><td>Bryan Mbeumo</td><td>78.00</td><td>189.7</td><td>138</td><td>6.6</td><td>0.57</td><td>1.92</td><td>MID</td><td>True</td><td>BRE</td><td>False</td><td>False<td>71.80</td><tr>\n",
       "<tr><td>311</td><td>Alex Iwobi</td><td>59.00</td><td>158.9</td><td>102</td><td>4.8</td><td>0.43</td><td>-1.79</td><td>MID</td><td>True</td><td>FUL</td><td>False</td><td>False<td>42.44</td><tr>\n",
       "</table>\n",
       "<h1>Bench</h1>\n",
       "<table><tr><th>ID</th><th>Name</th><th>Cost</th><th>ICT Index</th><th>Total Points</th><th>Form</th><th>Fixture Difficulty</th><th>Normalised Fixture Difficulty</th><th>Position</th><th>Availability</th><th>Team</th><th>Captain</th><th>Vice Captain</th><th>Score</th>\n",
       "<tr><td>287</td><td>Jordan Pickford</td><td>50.00</td><td>57.5</td><td>88</td><td>4.4</td><td>0.76</td><td>6.52</td><td>GKP</td><td>True</td><td>EVE</td><td>False</td><td>False<td>14.30</td><tr>\n",
       "<tr><td>281</td><td>Michael Keane</td><td>40.00</td><td>33.0</td><td>32</td><td>0.0</td><td>0.76</td><td>6.52</td><td>DEF</td><td>True</td><td>EVE</td><td>False</td><td>False<td>-6.52</td><tr>\n",
       "<tr><td>133</td><td>Yoane Wissa</td><td>62.00</td><td>113.6</td><td>97</td><td>4.4</td><td>0.57</td><td>1.92</td><td>FWD</td><td>True</td><td>BRE</td><td>False</td><td>False<td>32.20</td><tr>\n",
       "<tr><td>112</td><td>Mikkel Damsgaard</td><td>50.00</td><td>118.1</td><td>77</td><td>3.4</td><td>0.57</td><td>1.92</td><td>MID</td><td>True</td><td>BRE</td><td>False</td><td>False<td>17.39</td><tr>\n",
       "</table>"
      ],
      "text/plain": [
       "<modules.team.BenchTeam at 0x1d270713b60>"
      ]
     },
     "metadata": {},
     "output_type": "display_data"
    }
   ],
   "source": [
    "newTeam = getNewTeam(current_team, selected_team, new_players)\n",
    "newTeam = newTeam.toBenchTeam()\n",
    "display(newTeam)"
   ]
  }
 ],
 "metadata": {
  "kernelspec": {
   "display_name": "base",
   "language": "python",
   "name": "python3"
  },
  "language_info": {
   "codemirror_mode": {
    "name": "ipython",
    "version": 3
   },
   "file_extension": ".py",
   "mimetype": "text/x-python",
   "name": "python",
   "nbconvert_exporter": "python",
   "pygments_lexer": "ipython3",
   "version": "3.12.7"
  }
 },
 "nbformat": 4,
 "nbformat_minor": 2
}
