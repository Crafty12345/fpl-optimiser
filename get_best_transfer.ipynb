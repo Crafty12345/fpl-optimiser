{
 "cells": [
  {
   "cell_type": "code",
   "execution_count": 3,
   "metadata": {},
   "outputs": [],
   "source": [
    "import json\n",
    "import pandas as pd\n",
    "import numpy as np\n",
    "from copy import deepcopy\n",
    "\n",
    "from modules.team import Team, BenchTeam\n",
    "from modules.player import Player, Position\n",
    "from modules.transfer import Transfer\n",
    "from IPython.display import display\n",
    "\n",
    "import config"
   ]
  },
  {
   "cell_type": "code",
   "execution_count": 4,
   "metadata": {},
   "outputs": [],
   "source": [
    "CURRENT_DATE = config.CURRENT_DATE\n",
    "teams_filename = f\"./results/{CURRENT_DATE}/results_{CURRENT_DATE}.json\"\n",
    "SELECTED_MODEL_INDEX = 2\n",
    "TOTAL_BUDGET = 1000"
   ]
  },
  {
   "cell_type": "code",
   "execution_count": 5,
   "metadata": {},
   "outputs": [],
   "source": [
    "current_team_names = {\"André Onana\",\n",
    "                      \"Matz Sels\",\n",
    "                      \"Gabriel dos Santos Magalhães\",\n",
    "                      \"Michael Keane\",\n",
    "                      \"Wout Faes\",\n",
    "                      \"Jack Stephens\",\n",
    "                      \"Cristian Romero\",\n",
    "                      \"Morgan Rogers\",\n",
    "                      \"Bryan Mbeumo\",\n",
    "                      \"Facundo Buonanotte\",\n",
    "                      \"Luis Díaz\",\n",
    "                      \"Mohamed Salah\",\n",
    "                      \"Yoane Wissa\",\n",
    "                      \"Erling Haaland\",\n",
    "                      \"Chris Wood\"\n",
    "                      }"
   ]
  },
  {
   "cell_type": "code",
   "execution_count": 6,
   "metadata": {},
   "outputs": [],
   "source": [
    "with open(\"data/data.csv\",\"r\",encoding=\"utf-8\") as f:\n",
    "    all_player_data = pd.read_csv(f)"
   ]
  },
  {
   "cell_type": "code",
   "execution_count": 7,
   "metadata": {},
   "outputs": [],
   "source": [
    "current_team = Team.fromNameSet(current_team_names, all_player_data)"
   ]
  },
  {
   "cell_type": "code",
   "execution_count": 8,
   "metadata": {},
   "outputs": [
    {
     "data": {
      "text/plain": [
       "1002"
      ]
     },
     "execution_count": 8,
     "metadata": {},
     "output_type": "execute_result"
    }
   ],
   "source": [
    "current_team_cost = current_team.getTotalCost()\n",
    "current_team_cost"
   ]
  },
  {
   "cell_type": "code",
   "execution_count": 9,
   "metadata": {},
   "outputs": [],
   "source": [
    "with open(teams_filename,\"r\",encoding=\"utf-8\") as f:\n",
    "    all_data = json.load(f)\n",
    "data = all_data[\"data\"][SELECTED_MODEL_INDEX]\n",
    "selected_team_df = pd.DataFrame(data=data)"
   ]
  },
  {
   "cell_type": "code",
   "execution_count": 10,
   "metadata": {},
   "outputs": [],
   "source": [
    "selected_team = Team.fromDataFrame(selected_team_df)"
   ]
  },
  {
   "cell_type": "code",
   "execution_count": 11,
   "metadata": {},
   "outputs": [
    {
     "name": "stdout",
     "output_type": "stream",
     "text": [
      "\n",
      "Total Score: 0\n",
      "\n",
      "Goalkeepers:\n",
      "- Jordan Pickford (Captain) \tScore: 0\tCost: 49\n",
      "- Łukasz Fabiański (Vice Captain) \tScore: 0\tCost: 40\n",
      "Defenders:\n",
      "- Murillo Santiago Costa dos Santos\tScore: 0\tCost: 45\n",
      "- Joško Gvardiol\tScore: 0\tCost: 63\n",
      "- Ola Aina\tScore: 0\tCost: 48\n",
      "- Virgil van Dijk\tScore: 0\tCost: 63\n",
      "- Jan Bednarek\tScore: 0\tCost: 40\n",
      "Attackers:\n",
      "- Chris Wood\tScore: 0\tCost: 66\n",
      "- Matheus Santos Carneiro Da Cunha\tScore: 0\tCost: 68\n",
      "- Danny Ings\tScore: 0\tCost: 50\n",
      "Midfielders:\n",
      "- Cole Palmer\tScore: 0\tCost: 109\n",
      "- Bruno Borges Fernandes\tScore: 0\tCost: 84\n",
      "- Bryan Mbeumo\tScore: 0\tCost: 79\n",
      "- Mohamed Salah\tScore: 0\tCost: 129\n",
      "- Harry Winks\tScore: 0\tCost: 45\n"
     ]
    }
   ],
   "source": [
    "print(selected_team)"
   ]
  },
  {
   "cell_type": "code",
   "execution_count": 12,
   "metadata": {},
   "outputs": [
    {
     "name": "stdout",
     "output_type": "stream",
     "text": [
      "\n",
      "Total Score: 0\n",
      "\n",
      "Goalkeepers:\n",
      "- Jordan Pickford (Captain) \tScore: 0\tCost: 49\n",
      "- Łukasz Fabiański (Vice Captain) \tScore: 0\tCost: 40\n",
      "Defenders:\n",
      "- Murillo Santiago Costa dos Santos\tScore: 0\tCost: 45\n",
      "- Joško Gvardiol\tScore: 0\tCost: 63\n",
      "- Ola Aina\tScore: 0\tCost: 48\n",
      "- Virgil van Dijk\tScore: 0\tCost: 63\n",
      "- Jan Bednarek\tScore: 0\tCost: 40\n",
      "Attackers:\n",
      "- Matheus Santos Carneiro Da Cunha\tScore: 0\tCost: 68\n",
      "- Danny Ings\tScore: 0\tCost: 50\n",
      "Midfielders:\n",
      "- Cole Palmer\tScore: 0\tCost: 109\n",
      "- Bruno Borges Fernandes\tScore: 0\tCost: 84\n",
      "- Harry Winks\tScore: 0\tCost: 45\n"
     ]
    }
   ],
   "source": [
    "new_players = selected_team - current_team\n",
    "print(new_players)"
   ]
  },
  {
   "cell_type": "code",
   "execution_count": 13,
   "metadata": {},
   "outputs": [
    {
     "data": {
      "text/plain": [
       "978"
      ]
     },
     "execution_count": 13,
     "metadata": {},
     "output_type": "execute_result"
    }
   ],
   "source": [
    "new_team_cost = selected_team.getTotalCost()\n",
    "new_team_cost"
   ]
  },
  {
   "cell_type": "code",
   "execution_count": 14,
   "metadata": {},
   "outputs": [
    {
     "name": "stdout",
     "output_type": "stream",
     "text": [
      "Added cost: -24\n"
     ]
    }
   ],
   "source": [
    "added_cost = new_team_cost - current_team_cost\n",
    "print(\"Added cost:\",added_cost)"
   ]
  },
  {
   "cell_type": "code",
   "execution_count": 15,
   "metadata": {},
   "outputs": [],
   "source": [
    "surplus = current_team_cost - new_team_cost"
   ]
  },
  {
   "cell_type": "code",
   "execution_count": 17,
   "metadata": {},
   "outputs": [],
   "source": [
    "HEURISTIC = \"total_points\"\n",
    "new_players.calculateScore(HEURISTIC)\n",
    "selected_team.calculateScore(HEURISTIC)\n",
    "current_team.calculateScore(HEURISTIC)"
   ]
  },
  {
   "cell_type": "code",
   "execution_count": 18,
   "metadata": {},
   "outputs": [
    {
     "name": "stdout",
     "output_type": "stream",
     "text": [
      "Score difference: 594.4875000000002\n"
     ]
    }
   ],
   "source": [
    "score_dif = selected_team.getTotalScore() - current_team.getTotalScore()\n",
    "print(\"Score difference:\",score_dif)"
   ]
  },
  {
   "cell_type": "code",
   "execution_count": 19,
   "metadata": {},
   "outputs": [],
   "source": [
    "def too_expensive():\n",
    "    pass"
   ]
  },
  {
   "cell_type": "code",
   "execution_count": 20,
   "metadata": {},
   "outputs": [],
   "source": [
    "def getBest(pCurrentTeam: Team, pNewTeam: Team, pNewPlayers: Team, pPosition: Position):\n",
    "    currentPositionData = pCurrentTeam.getPlayersListByPosition(pPosition)\n",
    "    newPlayersPositionData = pNewPlayers.getPlayersListByPosition(pPosition)\n",
    "    oldTotalCost = pCurrentTeam.getTotalCost()\n",
    "    maxCost = max(oldTotalCost, TOTAL_BUDGET)\n",
    "\n",
    "    allTransfers = []\n",
    "\n",
    "    for i in range(len(currentPositionData)):\n",
    "        oldPlayer = currentPositionData[i]\n",
    "        oldPlayerCost = oldPlayer.getCost()\n",
    "        for j in range(len(newPlayersPositionData)):\n",
    "\n",
    "            newPlayer = newPlayersPositionData[j]\n",
    "            newCost = oldTotalCost - oldPlayerCost + newPlayer.getCost()\n",
    "\n",
    "            if (newCost <= maxCost):\n",
    "                allTransfers.append(Transfer(oldPlayer, newPlayer))\n",
    "\n",
    "    bestTransfer = max(allTransfers)\n",
    "    if(bestTransfer.getScoreDif() > 0):\n",
    "        return bestTransfer\n",
    "    else:\n",
    "        return None"
   ]
  },
  {
   "cell_type": "code",
   "execution_count": 21,
   "metadata": {},
   "outputs": [],
   "source": [
    "def get_updated_team(team: pd.DataFrame, old_player: pd.Series, new_player: pd.Series):\n",
    "    team: pd.DataFrame = team.drop(index=old_player.name)\n",
    "    team.loc[len(team)] = new_player\n",
    "    return team"
   ]
  },
  {
   "cell_type": "code",
   "execution_count": 22,
   "metadata": {},
   "outputs": [],
   "source": [
    "def get_bench(team: pd.DataFrame):\n",
    "    positions = [\"FWD\",\"DEF\",\"MID\",\"GKP\"]\n",
    "    team = team.reset_index()\n",
    "    bench = pd.DataFrame(columns=team.columns)\n",
    "    for position in positions:\n",
    "        worst_player_index = team.loc[team[\"position\"]==position][\"score\"].idxmin()\n",
    "        worst_player = team.loc[worst_player_index].copy()\n",
    "        bench.loc[len(bench)] = worst_player\n",
    "        team = team.drop(index=worst_player_index)\n",
    "    return team, bench"
   ]
  },
  {
   "cell_type": "code",
   "execution_count": 23,
   "metadata": {},
   "outputs": [],
   "source": [
    "def getBestTransferNew(pCurrentTeam: Team, pNewTeam: Team, pNewPlayers: Team) -> Transfer | None:\n",
    "    positions = Position.listValues()\n",
    "    bestTransfers = []\n",
    "    for position in positions:\n",
    "        transfer = getBest(pCurrentTeam, pNewTeam, pNewPlayers, position)\n",
    "        if(transfer is not None):\n",
    "            bestTransfers.append(transfer)\n",
    "\n",
    "    actualBestTransfer = max(bestTransfers)\n",
    "    return actualBestTransfer"
   ]
  },
  {
   "cell_type": "code",
   "execution_count": 24,
   "metadata": {},
   "outputs": [],
   "source": [
    "def getNewTeam(pCurrentTeam: Team, pSelectedTeam: Team, pNewPlayers: Team):\n",
    "    transferData = getBestTransferNew(pCurrentTeam, pSelectedTeam, pNewPlayers)\n",
    "    print(\"Best transfer:\")\n",
    "    print(transferData)\n",
    "    oldPlayer = transferData.getOldPlayer()\n",
    "    newPlayer = transferData.getNewPlayer()\n",
    "    if transferData is None:\n",
    "        return\n",
    "    \n",
    "    changingPosition: Position = transferData.getPosition()\n",
    "    \n",
    "    newTeam = deepcopy(pCurrentTeam)\n",
    "    playersOfPosition = newTeam.getPlayersListByPosition(changingPosition)\n",
    "\n",
    "    for i in range(len(playersOfPosition)):\n",
    "        player = playersOfPosition[i]\n",
    "        if (player.getId() == oldPlayer.getId()):\n",
    "            newTeam.removePlayerByIndex(i, changingPosition)\n",
    "            newTeam.addPlayer(newPlayer)\n",
    "    return newTeam"
   ]
  },
  {
   "cell_type": "code",
   "execution_count": 25,
   "metadata": {},
   "outputs": [
    {
     "name": "stdout",
     "output_type": "stream",
     "text": [
      "Best transfer:\n",
      "Transfer from Erling Haaland -> Matheus Santos Carneiro Da Cunha:\n",
      "Old player: Erling Haaland\tScore: 185.11\tCost: 152\n",
      "New player: Matheus Santos Carneiro Da Cunha\tScore: 318.6\tCost: 68\n",
      "- Cost change: -84\n",
      "- Score change: 133.48\n",
      "# Starting 11:\n",
      "\n",
      "Total Score: 1630.7849999999999\n",
      "\n",
      "Goalkeepers:\n",
      "- André Onana\tScore: 90.1\tCost: 51\n",
      "Defenders:\n",
      "- Jack Stephens\tScore: 23.62\tCost: 40\n",
      "- Gabriel dos Santos Magalhães\tScore: 19.12\tCost: 61\n",
      "- Cristian Romero\tScore: 18.78\tCost: 50\n",
      "- Wout Faes\tScore: 18.69\tCost: 42\n",
      "Attackers:\n",
      "- Matheus Santos Carneiro Da Cunha (Vice Captain) \tScore: 318.6\tCost: 68\n",
      "- Yoane Wissa\tScore: 168.08\tCost: 61\n",
      "Midfielders:\n",
      "- Mohamed Salah (Captain) \tScore: 559.07\tCost: 129\n",
      "- Bryan Mbeumo\tScore: 219.45\tCost: 79\n",
      "- Morgan Rogers\tScore: 104.06\tCost: 54\n",
      "- Luis Díaz\tScore: 91.2\tCost: 77\n",
      "\n",
      "# Bench:\n",
      "\n",
      "Total Score: 209.33999999999997\n",
      "\n",
      "Goalkeepers:\n",
      "- Matz Sels\tScore: 48.37\tCost: 47\n",
      "Defenders:\n",
      "- Michael Keane\tScore: 18.4\tCost: 43\n",
      "Attackers:\n",
      "- Chris Wood\tScore: 111.69\tCost: 66\n",
      "Midfielders:\n",
      "- Facundo Buonanotte\tScore: 30.88\tCost: 50\n"
     ]
    }
   ],
   "source": [
    "newTeam = getNewTeam(current_team, selected_team, new_players)\n",
    "newTeam = newTeam.toBenchTeam()\n",
    "print(newTeam)"
   ]
  }
 ],
 "metadata": {
  "kernelspec": {
   "display_name": "base",
   "language": "python",
   "name": "python3"
  },
  "language_info": {
   "codemirror_mode": {
    "name": "ipython",
    "version": 3
   },
   "file_extension": ".py",
   "mimetype": "text/x-python",
   "name": "python",
   "nbconvert_exporter": "python",
   "pygments_lexer": "ipython3",
   "version": "3.12.7"
  }
 },
 "nbformat": 4,
 "nbformat_minor": 2
}
