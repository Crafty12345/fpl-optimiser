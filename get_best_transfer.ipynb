{
 "cells": [
  {
   "cell_type": "code",
   "execution_count": 1,
   "metadata": {},
   "outputs": [],
   "source": [
    "import json\n",
    "import pandas as pd\n",
    "import numpy as np\n",
    "from copy import deepcopy\n",
    "from glob import glob\n",
    "\n",
    "from modules.team import Team, BenchTeam\n",
    "from modules.player import Player, Position\n",
    "from modules.transfer import Transfer\n",
    "from modules.fixture_difficulty_matrix import FixtureDifficultyMatrix\n",
    "from IPython.display import display\n",
    "\n",
    "import config"
   ]
  },
  {
   "cell_type": "code",
   "execution_count": 2,
   "metadata": {},
   "outputs": [],
   "source": [
    "CURRENT_DATE = config.CURRENT_DATE\n",
    "teams_filename = f\"./results/{CURRENT_DATE}/results_{CURRENT_DATE}.json\"\n",
    "SELECTED_MODEL_INDEX = 0\n",
    "TOTAL_BUDGET = 1000"
   ]
  },
  {
   "cell_type": "code",
   "execution_count": 3,
   "metadata": {},
   "outputs": [],
   "source": [
    "current_team_names = {\"André Onana\",\n",
    "                      \"Matz Sels\",\n",
    "                      \"Ashley Young\",\n",
    "                      \"Michael Keane\",\n",
    "                      \"Wout Faes\",\n",
    "                      \"Jack Stephens\",\n",
    "                      \"Ola Aina\",\n",
    "                      \"Bryan Mbeumo\",\n",
    "                      \"Cole Palmer\",\n",
    "                      \"James Maddison\",\n",
    "                      \"Alex Iwobi\",\n",
    "                      \"Mohamed Salah\",\n",
    "                      \"Yoane Wissa\",\n",
    "                      \"Matheus Santos Carneiro Da Cunha\",\n",
    "                      \"Chris Wood\"\n",
    "                      }"
   ]
  },
  {
   "cell_type": "code",
   "execution_count": 4,
   "metadata": {},
   "outputs": [],
   "source": [
    "allDataFiles = glob(r\"./data/player_stats/data_*.csv\")\n",
    "dataFileName = allDataFiles[-1]"
   ]
  },
  {
   "cell_type": "code",
   "execution_count": 5,
   "metadata": {},
   "outputs": [],
   "source": [
    "with open(dataFileName,\"r\",encoding=\"utf-8\") as f:\n",
    "    all_player_data = pd.read_csv(f)"
   ]
  },
  {
   "cell_type": "code",
   "execution_count": 6,
   "metadata": {},
   "outputs": [],
   "source": [
    "def calcPScores(pSeries: pd.Series) -> pd.Series:\n",
    "    stdDev = np.std(pSeries)\n",
    "    avg = pSeries.mean()\n",
    "    return (pSeries - avg) / stdDev\n",
    "\n",
    "ictIndexPScores = calcPScores(all_player_data[\"ict_index\"])\n",
    "avgPointsPScores = calcPScores(all_player_data[\"points_per_game\"])\n",
    "totalPointsPScores = calcPScores(all_player_data[\"total_points\"])\n",
    "\n",
    "combinedPScores = ictIndexPScores + avgPointsPScores + totalPointsPScores\n",
    "all_player_data[\"combined\"] = combinedPScores"
   ]
  },
  {
   "cell_type": "code",
   "execution_count": 7,
   "metadata": {},
   "outputs": [
    {
     "name": "stdout",
     "output_type": "stream",
     "text": [
      "      id                          name  cost  ict_index  total_points  \\\n",
      "0      0         Fábio Ferreira Vieira    54        0.0             0   \n",
      "1      1     Gabriel Fernando de Jesus    68       35.0            28   \n",
      "2      2  Gabriel dos Santos Magalhães    63       74.8            79   \n",
      "3      3                   Kai Havertz    79      115.2            74   \n",
      "4      4                     Karl Hein    40        0.0             0   \n",
      "..   ...                           ...   ...        ...           ...   \n",
      "700  700              Bastien Meupiyou    40        0.0             0   \n",
      "701  701  André Trindade da Costa Neto    50       25.6            23   \n",
      "702  702   Carlos Roberto Forbs Borges    55        6.8             6   \n",
      "703  703                    Alfie Pond    39        0.0             1   \n",
      "704  704                    Tom Edozie    45        0.0             0   \n",
      "\n",
      "     points_per_game  form status  starts_per_90 position team  combined  \n",
      "0                0.0   0.0      u           0.00      MID  ARS -2.651095  \n",
      "1                1.9   3.5      a           0.86      FWD  ARS  0.705765  \n",
      "2                4.9   4.7      a           1.06      DEF  ARS  5.834657  \n",
      "3                4.4   4.7      a           1.03      FWD  ARS  6.455483  \n",
      "4                0.0   0.0      u           0.00      GKP  ARS -2.651095  \n",
      "..               ...   ...    ...            ...      ...  ...       ...  \n",
      "700              0.0   0.0      a           0.00      DEF  WOL -2.651095  \n",
      "701              1.6   2.2      a           1.19      MID  WOL  0.042714  \n",
      "702              0.9   0.3      a           0.43      MID  WOL -1.626042  \n",
      "703              1.0   0.0      a           0.00      DEF  WOL -1.950884  \n",
      "704              0.0   0.0      a           0.00      MID  WOL -2.651095  \n",
      "\n",
      "[705 rows x 12 columns]\n"
     ]
    }
   ],
   "source": [
    "print(all_player_data)"
   ]
  },
  {
   "cell_type": "code",
   "execution_count": 8,
   "metadata": {},
   "outputs": [],
   "source": [
    "current_team = Team.fromNameSet(current_team_names, all_player_data)"
   ]
  },
  {
   "cell_type": "code",
   "execution_count": 9,
   "metadata": {},
   "outputs": [
    {
     "data": {
      "text/plain": [
       "976"
      ]
     },
     "execution_count": 9,
     "metadata": {},
     "output_type": "execute_result"
    }
   ],
   "source": [
    "current_team_cost = current_team.getTotalCost()\n",
    "current_team_cost"
   ]
  },
  {
   "cell_type": "code",
   "execution_count": 10,
   "metadata": {},
   "outputs": [],
   "source": [
    "with open(teams_filename,\"r\",encoding=\"utf-8\") as f:\n",
    "    all_data = json.load(f)\n",
    "data = all_data[\"data\"][SELECTED_MODEL_INDEX]\n",
    "selected_team_df = pd.DataFrame(data=data)"
   ]
  },
  {
   "cell_type": "code",
   "execution_count": 11,
   "metadata": {},
   "outputs": [],
   "source": [
    "selectedTeamNames = selected_team_df[\"name\"].values\n",
    "selected_team = Team.fromNameSet(selectedTeamNames, all_player_data)"
   ]
  },
  {
   "cell_type": "code",
   "execution_count": 12,
   "metadata": {},
   "outputs": [
    {
     "data": {
      "text/html": [
       "<table><tr><th>ID</th><th>Name</th><th>Cost</th><th>ICT Index</th><th>Total Points</th><th>Form</th><th>Fixture Difficulty</th><th>Normalised Fixture Difficulty</th><th>Position</th><th>Team</th><th>Captain</th><th>Vice Captain</th><th>Score</th>\n",
       "<tr><td>281</td><td>Jordan Pickford</td><td>49.00</td><td>46.7</td><td>82</td><td>6.0</td><td>0.00</td><td>0.00</td><td>GKP</td><td>EVE</td><td>True</td><td>False<td>0.00</td><tr>\n",
       "<tr><td>239</td><td>Dean Henderson</td><td>44.00</td><td>46.9</td><td>62</td><td>3.2</td><td>0.00</td><td>0.00</td><td>GKP</td><td>CRY</td><td>False</td><td>True<td>0.00</td><tr>\n",
       "<tr><td>571</td><td>Taylor Harwood-Bellis</td><td>41.00</td><td>62.1</td><td>36</td><td>2.2</td><td>0.00</td><td>0.00</td><td>DEF</td><td>SOU</td><td>False</td><td>False<td>0.00</td><tr>\n",
       "<tr><td>230</td><td>Trevoh Chalobah</td><td>44.00</td><td>42.8</td><td>44</td><td>4.0</td><td>0.00</td><td>0.00</td><td>DEF</td><td>CRY</td><td>False</td><td>False<td>0.00</td><tr>\n",
       "<tr><td>278</td><td>Vitalii Mykolenko</td><td>43.00</td><td>38.3</td><td>53</td><td>5.0</td><td>0.00</td><td>0.00</td><td>DEF</td><td>EVE</td><td>False</td><td>False<td>0.00</td><tr>\n",
       "<tr><td>284</td><td>Ashley Young</td><td>47.00</td><td>58.1</td><td>67</td><td>4.8</td><td>0.00</td><td>0.00</td><td>DEF</td><td>EVE</td><td>False</td><td>False<td>0.00</td><tr>\n",
       "<tr><td>586</td><td>Kyle Walker-Peters</td><td>43.00</td><td>63.3</td><td>36</td><td>2.3</td><td>0.00</td><td>0.00</td><td>DEF</td><td>SOU</td><td>False</td><td>False<td>0.00</td><tr>\n",
       "<tr><td>500</td><td>Alexander Isak</td><td>91.00</td><td>154.8</td><td>105</td><td>9.3</td><td>0.00</td><td>0.00</td><td>FWD</td><td>NEW</td><td>False</td><td>False<td>0.00</td><tr>\n",
       "<tr><td>674</td><td>Matheus Santos Carneiro Da Cunha</td><td>71.00</td><td>157.2</td><td>110</td><td>5.8</td><td>0.00</td><td>0.00</td><td>FWD</td><td>WOL</td><td>False</td><td>False<td>0.00</td><tr>\n",
       "<tr><td>698</td><td>Jørgen Strand Larsen</td><td>56.00</td><td>86.3</td><td>71</td><td>3.5</td><td>0.00</td><td>0.00</td><td>FWD</td><td>WOL</td><td>False</td><td>False<td>0.00</td><tr>\n",
       "<tr><td>458</td><td>Bruno Borges Fernandes</td><td>84.00</td><td>134.2</td><td>81</td><td>4.8</td><td>0.00</td><td>0.00</td><td>MID</td><td>MUN</td><td>False</td><td>False<td>0.00</td><tr>\n",
       "<tr><td>117</td><td>Bryan Mbeumo</td><td>76.00</td><td>147.5</td><td>110</td><td>5.2</td><td>0.00</td><td>0.00</td><td>MID</td><td>BRE</td><td>False</td><td>False<td>0.00</td><tr>\n",
       "<tr><td>215</td><td>Cole Palmer</td><td>113.00</td><td>195.6</td><td>141</td><td>9.2</td><td>0.00</td><td>0.00</td><td>MID</td><td>CHE</td><td>False</td><td>False<td>0.00</td><tr>\n",
       "<tr><td>407</td><td>Mohamed Salah</td><td>135.00</td><td>231.8</td><td>186</td><td>13.2</td><td>0.00</td><td>0.00</td><td>MID</td><td>LIV</td><td>False</td><td>False<td>0.00</td><tr>\n",
       "<tr><td>304</td><td>Alex Iwobi</td><td>58.00</td><td>130.7</td><td>83</td><td>4.8</td><td>0.00</td><td>0.00</td><td>MID</td><td>FUL</td><td>False</td><td>False<td>0.00</td><tr>\n",
       "</table>"
      ],
      "text/plain": [
       "<modules.team.Team at 0x7fb97bf93260>"
      ]
     },
     "metadata": {},
     "output_type": "display_data"
    }
   ],
   "source": [
    "display(selected_team)"
   ]
  },
  {
   "cell_type": "code",
   "execution_count": 13,
   "metadata": {},
   "outputs": [
    {
     "name": "stdout",
     "output_type": "stream",
     "text": [
      "\n",
      "Total Score: 0\n",
      "\n",
      "Goalkeepers:\n",
      "- Jordan Pickford (Captain) \tScore: 0\tCost: 49\tFixture Difficulty: 0.0\n",
      "- Dean Henderson (Vice Captain) \tScore: 0\tCost: 44\tFixture Difficulty: 0.0\n",
      "Defenders:\n",
      "- Taylor Harwood-Bellis\tScore: 0\tCost: 41\tFixture Difficulty: 0.0\n",
      "- Trevoh Chalobah\tScore: 0\tCost: 44\tFixture Difficulty: 0.0\n",
      "- Vitalii Mykolenko\tScore: 0\tCost: 43\tFixture Difficulty: 0.0\n",
      "- Kyle Walker-Peters\tScore: 0\tCost: 43\tFixture Difficulty: 0.0\n",
      "Attackers:\n",
      "- Alexander Isak\tScore: 0\tCost: 91\tFixture Difficulty: 0.0\n",
      "- Jørgen Strand Larsen\tScore: 0\tCost: 56\tFixture Difficulty: 0.0\n",
      "Midfielders:\n",
      "- Bruno Borges Fernandes\tScore: 0\tCost: 84\tFixture Difficulty: 0.0\n"
     ]
    }
   ],
   "source": [
    "new_players = selected_team - current_team\n",
    "print(new_players)"
   ]
  },
  {
   "cell_type": "code",
   "execution_count": 14,
   "metadata": {},
   "outputs": [
    {
     "name": "stdout",
     "output_type": "stream",
     "text": [
      "Added cost: 19\n"
     ]
    }
   ],
   "source": [
    "new_team_cost = selected_team.getTotalCost()\n",
    "new_team_cost\n",
    "\n",
    "added_cost = new_team_cost - current_team_cost\n",
    "print(\"Added cost:\",added_cost)\n",
    "\n",
    "surplus = current_team_cost - new_team_cost\n"
   ]
  },
  {
   "cell_type": "code",
   "execution_count": 15,
   "metadata": {},
   "outputs": [],
   "source": [
    "HEURISTIC = \"combined\""
   ]
  },
  {
   "cell_type": "code",
   "execution_count": 16,
   "metadata": {},
   "outputs": [
    {
     "data": {
      "text/plain": [
       "(13.511273802694449, 13.511273802694449)"
      ]
     },
     "execution_count": 16,
     "metadata": {},
     "output_type": "execute_result"
    }
   ],
   "source": [
    "all_player_data[\"score\"] = all_player_data[HEURISTIC] * all_player_data[\"form\"]\n",
    "deviation = np.std(all_player_data[\"score\"])\n",
    "scale_factor = deviation\n",
    "scale_factor, deviation"
   ]
  },
  {
   "cell_type": "code",
   "execution_count": 17,
   "metadata": {},
   "outputs": [],
   "source": [
    "START_SAMPLE_GAMEWEEK = 17\n",
    "END_SAMPLE_GAMEWEEK = 20"
   ]
  },
  {
   "cell_type": "code",
   "execution_count": null,
   "metadata": {},
   "outputs": [],
   "source": [
    "matrix = FixtureDifficultyMatrix(scale_factor, START_SAMPLE_GAMEWEEK, END_SAMPLE_GAMEWEEK)\n",
    "\n",
    "new_players.recalculateFixtureDifficulty(matrix)\n",
    "new_players.calculateScore(HEURISTIC)\n",
    "\n",
    "selected_team.recalculateFixtureDifficulty(matrix)\n",
    "selected_team.calculateScore(HEURISTIC)\n",
    "\n",
    "current_team.recalculateFixtureDifficulty(matrix)\n",
    "current_team.calculateScore(HEURISTIC)"
   ]
  },
  {
   "cell_type": "code",
   "execution_count": 19,
   "metadata": {},
   "outputs": [
    {
     "name": "stdout",
     "output_type": "stream",
     "text": [
      "Current Team:\n"
     ]
    },
    {
     "data": {
      "text/html": [
       "<table><tr><th>ID</th><th>Name</th><th>Cost</th><th>ICT Index</th><th>Total Points</th><th>Form</th><th>Fixture Difficulty</th><th>Normalised Fixture Difficulty</th><th>Position</th><th>Team</th><th>Captain</th><th>Vice Captain</th><th>Score</th>\n",
       "<tr><td>475</td><td>André Onana</td><td>52.00</td><td>39.9</td><td>69</td><td>2.2</td><td>0.57</td><td>1.76</td><td>GKP</td><td>MUN</td><td>True</td><td>False<td>6.43</td><tr>\n",
       "<tr><td>545</td><td>Matz Sels</td><td>48.00</td><td>42.1</td><td>79</td><td>4.5</td><td>0.32</td><td>-5.00</td><td>GKP</td><td>NFO</td><td>False</td><td>True<td>25.58</td><tr>\n",
       "<tr><td>275</td><td>Michael Keane</td><td>40.00</td><td>33.0</td><td>32</td><td>0.0</td><td>0.76</td><td>6.89</td><td>DEF</td><td>EVE</td><td>False</td><td>False<td>-6.89</td><tr>\n",
       "<tr><td>284</td><td>Ashley Young</td><td>47.00</td><td>58.1</td><td>67</td><td>4.8</td><td>0.76</td><td>6.89</td><td>DEF</td><td>EVE</td><td>False</td><td>False<td>17.06</td><tr>\n",
       "<tr><td>365</td><td>Wout Faes</td><td>40.00</td><td>44.2</td><td>26</td><td>0.5</td><td>0.68</td><td>5.00</td><td>DEF</td><td>LEI</td><td>False</td><td>False<td>-6.89</td><tr>\n",
       "<tr><td>524</td><td>Ola Aina</td><td>51.00</td><td>52.8</td><td>81</td><td>5.5</td><td>0.32</td><td>-5.00</td><td>DEF</td><td>NFO</td><td>False</td><td>False<td>33.94</td><tr>\n",
       "<tr><td>582</td><td>Jack Stephens</td><td>40.00</td><td>19.6</td><td>10</td><td>0.0</td><td>0.68</td><td>4.86</td><td>DEF</td><td>SOU</td><td>False</td><td>False<td>-6.89</td><tr>\n",
       "<tr><td>128</td><td>Yoane Wissa</td><td>62.00</td><td>85.6</td><td>78</td><td>3.7</td><td>0.58</td><td>2.16</td><td>FWD</td><td>BRE</td><td>False</td><td>False<td>23.48</td><tr>\n",
       "<tr><td>674</td><td>Matheus Santos Carneiro Da Cunha</td><td>71.00</td><td>157.2</td><td>110</td><td>5.8</td><td>0.68</td><td>5.00</td><td>FWD</td><td>WOL</td><td>False</td><td>False<td>54.68</td><tr>\n",
       "<tr><td>548</td><td>Chris Wood</td><td>66.00</td><td>96.5</td><td>94</td><td>4.2</td><td>0.32</td><td>-5.00</td><td>FWD</td><td>NFO</td><td>False</td><td>False<td>38.61</td><tr>\n",
       "<tr><td>304</td><td>Alex Iwobi</td><td>58.00</td><td>130.7</td><td>83</td><td>4.8</td><td>0.42</td><td>-2.03</td><td>MID</td><td>FUL</td><td>False</td><td>False<td>38.59</td><tr>\n",
       "<tr><td>215</td><td>Cole Palmer</td><td>113.00</td><td>195.6</td><td>141</td><td>9.2</td><td>0.23</td><td>-7.30</td><td>MID</td><td>CHE</td><td>False</td><td>False<td>136.72</td><tr>\n",
       "<tr><td>611</td><td>James Maddison</td><td>77.00</td><td>137.3</td><td>97</td><td>4.8</td><td>0.61</td><td>2.84</td><td>MID</td><td>TOT</td><td>False</td><td>False<td>44.12</td><tr>\n",
       "<tr><td>407</td><td>Mohamed Salah</td><td>135.00</td><td>231.8</td><td>186</td><td>13.2</td><td>0.23</td><td>-7.30</td><td>MID</td><td>LIV</td><td>False</td><td>False<td>256.40</td><tr>\n",
       "<tr><td>117</td><td>Bryan Mbeumo</td><td>76.00</td><td>147.5</td><td>110</td><td>5.2</td><td>0.58</td><td>2.16</td><td>MID</td><td>BRE</td><td>False</td><td>False<td>49.42</td><tr>\n",
       "</table>"
      ],
      "text/plain": [
       "<modules.team.Team at 0x7fb94b722510>"
      ]
     },
     "metadata": {},
     "output_type": "display_data"
    },
    {
     "name": "stdout",
     "output_type": "stream",
     "text": [
      "\n",
      "Selected Team:\n"
     ]
    },
    {
     "data": {
      "text/html": [
       "<table><tr><th>ID</th><th>Name</th><th>Cost</th><th>ICT Index</th><th>Total Points</th><th>Form</th><th>Fixture Difficulty</th><th>Normalised Fixture Difficulty</th><th>Position</th><th>Team</th><th>Captain</th><th>Vice Captain</th><th>Score</th>\n",
       "<tr><td>281</td><td>Jordan Pickford</td><td>49.00</td><td>46.7</td><td>82</td><td>6.0</td><td>0.76</td><td>6.89</td><td>GKP</td><td>EVE</td><td>True</td><td>False<td>23.64</td><tr>\n",
       "<tr><td>239</td><td>Dean Henderson</td><td>44.00</td><td>46.9</td><td>62</td><td>3.2</td><td>0.67</td><td>4.46</td><td>GKP</td><td>CRY</td><td>False</td><td>True<td>6.35</td><tr>\n",
       "<tr><td>571</td><td>Taylor Harwood-Bellis</td><td>41.00</td><td>62.1</td><td>36</td><td>2.2</td><td>0.68</td><td>4.86</td><td>DEF</td><td>SOU</td><td>False</td><td>False<td>-0.65</td><tr>\n",
       "<tr><td>230</td><td>Trevoh Chalobah</td><td>44.00</td><td>42.8</td><td>44</td><td>4.0</td><td>0.67</td><td>4.46</td><td>DEF</td><td>CRY</td><td>False</td><td>False<td>7.48</td><tr>\n",
       "<tr><td>278</td><td>Vitalii Mykolenko</td><td>43.00</td><td>38.3</td><td>53</td><td>5.0</td><td>0.76</td><td>6.89</td><td>DEF</td><td>EVE</td><td>False</td><td>False<td>7.70</td><tr>\n",
       "<tr><td>284</td><td>Ashley Young</td><td>47.00</td><td>58.1</td><td>67</td><td>4.8</td><td>0.76</td><td>6.89</td><td>DEF</td><td>EVE</td><td>False</td><td>False<td>17.06</td><tr>\n",
       "<tr><td>586</td><td>Kyle Walker-Peters</td><td>43.00</td><td>63.3</td><td>36</td><td>2.3</td><td>0.68</td><td>4.86</td><td>DEF</td><td>SOU</td><td>False</td><td>False<td>-0.21</td><tr>\n",
       "<tr><td>500</td><td>Alexander Isak</td><td>91.00</td><td>154.8</td><td>105</td><td>9.3</td><td>0.37</td><td>-3.65</td><td>FWD</td><td>NEW</td><td>False</td><td>False<td>110.95</td><tr>\n",
       "<tr><td>674</td><td>Matheus Santos Carneiro Da Cunha</td><td>71.00</td><td>157.2</td><td>110</td><td>5.8</td><td>0.68</td><td>5.00</td><td>FWD</td><td>WOL</td><td>False</td><td>False<td>54.68</td><tr>\n",
       "<tr><td>698</td><td>Jørgen Strand Larsen</td><td>56.00</td><td>86.3</td><td>71</td><td>3.5</td><td>0.68</td><td>5.00</td><td>FWD</td><td>WOL</td><td>False</td><td>False<td>14.33</td><tr>\n",
       "<tr><td>458</td><td>Bruno Borges Fernandes</td><td>84.00</td><td>134.2</td><td>81</td><td>4.8</td><td>0.57</td><td>1.76</td><td>MID</td><td>MUN</td><td>False</td><td>False<td>-0.65</td><tr>\n",
       "<tr><td>117</td><td>Bryan Mbeumo</td><td>76.00</td><td>147.5</td><td>110</td><td>5.2</td><td>0.58</td><td>2.16</td><td>MID</td><td>BRE</td><td>False</td><td>False<td>49.42</td><tr>\n",
       "<tr><td>215</td><td>Cole Palmer</td><td>113.00</td><td>195.6</td><td>141</td><td>9.2</td><td>0.23</td><td>-7.30</td><td>MID</td><td>CHE</td><td>False</td><td>False<td>136.72</td><tr>\n",
       "<tr><td>407</td><td>Mohamed Salah</td><td>135.00</td><td>231.8</td><td>186</td><td>13.2</td><td>0.23</td><td>-7.30</td><td>MID</td><td>LIV</td><td>False</td><td>False<td>256.40</td><tr>\n",
       "<tr><td>304</td><td>Alex Iwobi</td><td>58.00</td><td>130.7</td><td>83</td><td>4.8</td><td>0.42</td><td>-2.03</td><td>MID</td><td>FUL</td><td>False</td><td>False<td>38.59</td><tr>\n",
       "</table>"
      ],
      "text/plain": [
       "<modules.team.Team at 0x7fb97bf93260>"
      ]
     },
     "metadata": {},
     "output_type": "display_data"
    }
   ],
   "source": [
    "print(\"Current Team:\")\n",
    "display(current_team)\n",
    "print()\n",
    "print(\"Selected Team:\")\n",
    "display(selected_team)"
   ]
  },
  {
   "cell_type": "code",
   "execution_count": 20,
   "metadata": {},
   "outputs": [
    {
     "name": "stdout",
     "output_type": "stream",
     "text": [
      "Score difference: 17.46812428586236\n"
     ]
    }
   ],
   "source": [
    "score_dif = selected_team.getTotalScore() - current_team.getTotalScore()\n",
    "print(\"Score difference:\",score_dif)"
   ]
  },
  {
   "cell_type": "code",
   "execution_count": 21,
   "metadata": {},
   "outputs": [],
   "source": [
    "def getBest(pCurrentTeam: Team, pNewTeam: Team, pNewPlayers: Team, pPosition: Position):\n",
    "    currentPositionData = pCurrentTeam.getPlayersListByPosition(pPosition)\n",
    "    newPlayersPositionData = pNewPlayers.getPlayersListByPosition(pPosition)\n",
    "    oldTotalCost = pCurrentTeam.getTotalCost()\n",
    "    maxCost = max(oldTotalCost, TOTAL_BUDGET)\n",
    "    #maxCost = TOTAL_BUDGET\n",
    "\n",
    "    allTransfers = []\n",
    "\n",
    "    for i in range(len(currentPositionData)):\n",
    "        oldPlayer = currentPositionData[i]\n",
    "        oldPlayerCost = oldPlayer.getCost()\n",
    "        for j in range(len(newPlayersPositionData)):\n",
    "\n",
    "            newPlayer = newPlayersPositionData[j]\n",
    "            newCost = oldTotalCost - oldPlayerCost + newPlayer.getCost()\n",
    "\n",
    "            if (newCost <= maxCost):\n",
    "                allTransfers.append(Transfer(oldPlayer, newPlayer))\n",
    "\n",
    "    if (len(allTransfers) >= 1):\n",
    "        bestTransfer = max(allTransfers)\n",
    "        if(bestTransfer.getScoreDif() > 0):\n",
    "            return bestTransfer\n",
    "    else:\n",
    "        return None"
   ]
  },
  {
   "cell_type": "code",
   "execution_count": 22,
   "metadata": {},
   "outputs": [],
   "source": [
    "def get_updated_team(team: pd.DataFrame, old_player: pd.Series, new_player: pd.Series):\n",
    "    team: pd.DataFrame = team.drop(index=old_player.name)\n",
    "    team.loc[len(team)] = new_player\n",
    "    return team"
   ]
  },
  {
   "cell_type": "code",
   "execution_count": 23,
   "metadata": {},
   "outputs": [],
   "source": [
    "def get_bench(team: pd.DataFrame):\n",
    "    positions = [\"FWD\",\"DEF\",\"MID\",\"GKP\"]\n",
    "    team = team.reset_index()\n",
    "    bench = pd.DataFrame(columns=team.columns)\n",
    "    for position in positions:\n",
    "        worst_player_index = team.loc[team[\"position\"]==position][\"score\"].idxmin()\n",
    "        worst_player = team.loc[worst_player_index].copy()\n",
    "        bench.loc[len(bench)] = worst_player\n",
    "        team = team.drop(index=worst_player_index)\n",
    "    return team, bench"
   ]
  },
  {
   "cell_type": "code",
   "execution_count": 24,
   "metadata": {},
   "outputs": [],
   "source": [
    "def getBestTransferNew(pCurrentTeam: Team, pNewTeam: Team, pNewPlayers: Team) -> Transfer | None:\n",
    "    positions = Position.listValues()\n",
    "    bestTransfers = []\n",
    "    for position in positions:\n",
    "        transfer = getBest(pCurrentTeam, pNewTeam, pNewPlayers, position)\n",
    "        if(transfer is not None):\n",
    "            bestTransfers.append(transfer)\n",
    "    actualBestTransfer = max(bestTransfers)\n",
    "    return actualBestTransfer"
   ]
  },
  {
   "cell_type": "code",
   "execution_count": 25,
   "metadata": {},
   "outputs": [],
   "source": [
    "def getNewTeam(pCurrentTeam: Team, pSelectedTeam: Team, pNewPlayers: Team):\n",
    "    transferData = getBestTransferNew(pCurrentTeam, pSelectedTeam, pNewPlayers)\n",
    "    print(\"Best transfer:\")\n",
    "    print(transferData)\n",
    "    oldPlayer = transferData.getOldPlayer()\n",
    "    newPlayer = transferData.getNewPlayer()\n",
    "    if transferData is None:\n",
    "        return\n",
    "    \n",
    "    changingPosition: Position = transferData.getPosition()\n",
    "    \n",
    "    newTeam = deepcopy(pCurrentTeam)\n",
    "    playersOfPosition = newTeam.getPlayersListByPosition(changingPosition)\n",
    "\n",
    "    for i in range(len(playersOfPosition)):\n",
    "        player = playersOfPosition[i]\n",
    "        if (player.getId() == oldPlayer.getId()):\n",
    "            newTeam.removePlayerByIndex(i, changingPosition)\n",
    "            newTeam.addPlayer(newPlayer)\n",
    "    return newTeam"
   ]
  },
  {
   "cell_type": "code",
   "execution_count": 26,
   "metadata": {},
   "outputs": [
    {
     "name": "stdout",
     "output_type": "stream",
     "text": [
      "Best transfer:\n",
      "Transfer from Matheus Santos Carneiro Da Cunha -> Alexander Isak:\n",
      "Old player: Matheus Santos Carneiro Da Cunha\tScore: 54.68\tCost: 71\tFixture Difficulty: 4.999171306996944\n",
      "New player: Alexander Isak\tScore: 110.95\tCost: 91\tFixture Difficulty: -3.6480439267274996\n",
      "- Cost change: 20\n",
      "- Score change: 56.28\n",
      "[DEBUG]: 996\n"
     ]
    },
    {
     "data": {
      "text/html": [
       "<h1>Starting 11</h1>\n",
       "<table><tr><th>ID</th><th>Name</th><th>Cost</th><th>ICT Index</th><th>Total Points</th><th>Form</th><th>Fixture Difficulty</th><th>Normalised Fixture Difficulty</th><th>Position</th><th>Team</th><th>Captain</th><th>Vice Captain</th><th>Score</th>\n",
       "<tr><td>545</td><td>Matz Sels</td><td>48.00</td><td>42.1</td><td>79</td><td>4.5</td><td>0.32</td><td>-5.00</td><td>GKP</td><td>NFO</td><td>False</td><td>False<td>25.58</td><tr>\n",
       "<tr><td>524</td><td>Ola Aina</td><td>51.00</td><td>52.8</td><td>81</td><td>5.5</td><td>0.32</td><td>-5.00</td><td>DEF</td><td>NFO</td><td>False</td><td>False<td>33.94</td><tr>\n",
       "<tr><td>284</td><td>Ashley Young</td><td>47.00</td><td>58.1</td><td>67</td><td>4.8</td><td>0.76</td><td>6.89</td><td>DEF</td><td>EVE</td><td>False</td><td>False<td>17.06</td><tr>\n",
       "<tr><td>365</td><td>Wout Faes</td><td>40.00</td><td>44.2</td><td>26</td><td>0.5</td><td>0.68</td><td>5.00</td><td>DEF</td><td>LEI</td><td>False</td><td>False<td>-6.89</td><tr>\n",
       "<tr><td>582</td><td>Jack Stephens</td><td>40.00</td><td>19.6</td><td>10</td><td>0.0</td><td>0.68</td><td>4.86</td><td>DEF</td><td>SOU</td><td>False</td><td>False<td>-6.89</td><tr>\n",
       "<tr><td>500</td><td>Alexander Isak</td><td>91.00</td><td>154.8</td><td>105</td><td>9.3</td><td>0.37</td><td>-3.65</td><td>FWD</td><td>NEW</td><td>False</td><td>False<td>110.95</td><tr>\n",
       "<tr><td>548</td><td>Chris Wood</td><td>66.00</td><td>96.5</td><td>94</td><td>4.2</td><td>0.32</td><td>-5.00</td><td>FWD</td><td>NFO</td><td>False</td><td>False<td>38.61</td><tr>\n",
       "<tr><td>407</td><td>Mohamed Salah</td><td>135.00</td><td>231.8</td><td>186</td><td>13.2</td><td>0.23</td><td>-7.30</td><td>MID</td><td>LIV</td><td>True</td><td>False<td>256.40</td><tr>\n",
       "<tr><td>215</td><td>Cole Palmer</td><td>113.00</td><td>195.6</td><td>141</td><td>9.2</td><td>0.23</td><td>-7.30</td><td>MID</td><td>CHE</td><td>False</td><td>True<td>136.72</td><tr>\n",
       "<tr><td>117</td><td>Bryan Mbeumo</td><td>76.00</td><td>147.5</td><td>110</td><td>5.2</td><td>0.58</td><td>2.16</td><td>MID</td><td>BRE</td><td>False</td><td>False<td>49.42</td><tr>\n",
       "<tr><td>611</td><td>James Maddison</td><td>77.00</td><td>137.3</td><td>97</td><td>4.8</td><td>0.61</td><td>2.84</td><td>MID</td><td>TOT</td><td>False</td><td>False<td>44.12</td><tr>\n",
       "</table>\n",
       "<h1>Bench</h1>\n",
       "<table><tr><th>ID</th><th>Name</th><th>Cost</th><th>ICT Index</th><th>Total Points</th><th>Form</th><th>Fixture Difficulty</th><th>Normalised Fixture Difficulty</th><th>Position</th><th>Team</th><th>Captain</th><th>Vice Captain</th><th>Score</th>\n",
       "<tr><td>475</td><td>André Onana</td><td>52.00</td><td>39.9</td><td>69</td><td>2.2</td><td>0.57</td><td>1.76</td><td>GKP</td><td>MUN</td><td>False</td><td>False<td>6.43</td><tr>\n",
       "<tr><td>275</td><td>Michael Keane</td><td>40.00</td><td>33.0</td><td>32</td><td>0.0</td><td>0.76</td><td>6.89</td><td>DEF</td><td>EVE</td><td>False</td><td>False<td>-6.89</td><tr>\n",
       "<tr><td>128</td><td>Yoane Wissa</td><td>62.00</td><td>85.6</td><td>78</td><td>3.7</td><td>0.58</td><td>2.16</td><td>FWD</td><td>BRE</td><td>False</td><td>False<td>23.48</td><tr>\n",
       "<tr><td>304</td><td>Alex Iwobi</td><td>58.00</td><td>130.7</td><td>83</td><td>4.8</td><td>0.42</td><td>-2.03</td><td>MID</td><td>FUL</td><td>False</td><td>False<td>38.59</td><tr>\n",
       "</table>"
      ],
      "text/plain": [
       "<modules.team.BenchTeam at 0x7fb9587ac170>"
      ]
     },
     "metadata": {},
     "output_type": "display_data"
    }
   ],
   "source": [
    "newTeam = getNewTeam(current_team, selected_team, new_players)\n",
    "newTeam = newTeam.toBenchTeam()\n",
    "display(newTeam)"
   ]
  }
 ],
 "metadata": {
  "kernelspec": {
   "display_name": "base",
   "language": "python",
   "name": "python3"
  },
  "language_info": {
   "codemirror_mode": {
    "name": "ipython",
    "version": 3
   },
   "file_extension": ".py",
   "mimetype": "text/x-python",
   "name": "python",
   "nbconvert_exporter": "python",
   "pygments_lexer": "ipython3",
   "version": "3.12.7"
  }
 },
 "nbformat": 4,
 "nbformat_minor": 2
}
