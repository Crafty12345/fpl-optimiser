{
 "cells": [
  {
   "cell_type": "code",
   "execution_count": 1,
   "metadata": {},
   "outputs": [],
   "source": [
    "import json\n",
    "import pandas as pd\n",
    "import numpy as np\n",
    "from copy import deepcopy\n",
    "\n",
    "from modules.team import Team, BenchTeam\n",
    "from modules.player import Player, Position\n",
    "from modules.transfer import Transfer\n",
    "from modules.fixture_difficulty_matrix import FixtureDifficultyMatrix\n",
    "from IPython.display import display\n",
    "\n",
    "import config"
   ]
  },
  {
   "cell_type": "code",
   "execution_count": 2,
   "metadata": {},
   "outputs": [],
   "source": [
    "CURRENT_DATE = config.CURRENT_DATE\n",
    "teams_filename = f\"./results/{CURRENT_DATE}/results_{CURRENT_DATE}.json\"\n",
    "SELECTED_MODEL_INDEX = 0\n",
    "TOTAL_BUDGET = 999"
   ]
  },
  {
   "cell_type": "code",
   "execution_count": 3,
   "metadata": {},
   "outputs": [],
   "source": [
    "current_team_names = {\"André Onana\",\n",
    "                      \"Matz Sels\",\n",
    "                      \"Ashley Young\",\n",
    "                      \"Michael Keane\",\n",
    "                      \"Wout Faes\",\n",
    "                      \"Jack Stephens\",\n",
    "                      \"Ola Aina\",\n",
    "                      \"Bukayo Saka\",\n",
    "                      \"Bryan Mbeumo\",\n",
    "                      \"James Maddison\",\n",
    "                      \"Alex Iwobi\",\n",
    "                      \"Mohamed Salah\",\n",
    "                      \"Yoane Wissa\",\n",
    "                      \"Matheus Santos Carneiro Da Cunha\",\n",
    "                      \"Chris Wood\"\n",
    "                      }"
   ]
  },
  {
   "cell_type": "code",
   "execution_count": 4,
   "metadata": {},
   "outputs": [],
   "source": [
    "with open(\"data/data.csv\",\"r\",encoding=\"utf-8\") as f:\n",
    "    all_player_data = pd.read_csv(f)"
   ]
  },
  {
   "cell_type": "code",
   "execution_count": 5,
   "metadata": {},
   "outputs": [],
   "source": [
    "def calcPScores(pSeries: pd.Series) -> pd.Series:\n",
    "    stdDev = np.std(pSeries)\n",
    "    avg = pSeries.mean()\n",
    "    return (pSeries - avg) / stdDev\n",
    "\n",
    "ictIndexPScores = calcPScores(all_player_data[\"ict_index\"])\n",
    "avgPointsPScores = calcPScores(all_player_data[\"points_per_game\"])\n",
    "totalPointsPScores = calcPScores(all_player_data[\"total_points\"])\n",
    "\n",
    "combinedPScores = ictIndexPScores + avgPointsPScores + totalPointsPScores\n",
    "all_player_data[\"combined\"] = combinedPScores"
   ]
  },
  {
   "cell_type": "code",
   "execution_count": 6,
   "metadata": {},
   "outputs": [
    {
     "name": "stdout",
     "output_type": "stream",
     "text": [
      "      id                          name  cost  ict_index  total_points  \\\n",
      "0      0         Fábio Ferreira Vieira    54        0.0             0   \n",
      "1      1     Gabriel Fernando de Jesus    68       17.1             9   \n",
      "2      2  Gabriel dos Santos Magalhães    62       59.7            60   \n",
      "3      3                   Kai Havertz    79       87.8            59   \n",
      "4      4                     Karl Hein    40        0.0             0   \n",
      "..   ...                           ...   ...        ...           ...   \n",
      "688  688              Bastien Meupiyou    40        0.0             0   \n",
      "689  689  André Trindade da Costa Neto    50       19.5            16   \n",
      "690  690   Carlos Roberto Forbs Borges    55        6.6             5   \n",
      "691  691                    Alfie Pond    39        0.0             1   \n",
      "692  692                    Tom Edozie    45        0.0             0   \n",
      "\n",
      "     points_per_game  form status  starts_per_90 position team  combined  \n",
      "0                0.0   0.0      u           0.00      MID  ARS -2.611749  \n",
      "1                0.8   0.8      a           0.74      FWD  ARS -1.093535  \n",
      "2                4.6   3.8      d           1.08      DEF  ARS  5.206338  \n",
      "3                4.2   3.2      a           1.01      FWD  ARS  5.842376  \n",
      "4                0.0   0.0      u           0.00      GKP  ARS -2.611749  \n",
      "..               ...   ...    ...            ...      ...  ...       ...  \n",
      "688              0.0   0.0      d           0.00      DEF  WOL -2.611749  \n",
      "689              1.5   2.0      a           1.18      MID  WOL -0.228116  \n",
      "690              0.8   0.2      a           0.43      MID  WOL -1.633496  \n",
      "691              1.0   0.2      a           0.00      DEF  WOL -1.911794  \n",
      "692              0.0   0.0      a           0.00      MID  WOL -2.611749  \n",
      "\n",
      "[693 rows x 12 columns]\n"
     ]
    }
   ],
   "source": [
    "print(all_player_data)"
   ]
  },
  {
   "cell_type": "code",
   "execution_count": 7,
   "metadata": {},
   "outputs": [],
   "source": [
    "current_team = Team.fromNameSet(current_team_names, all_player_data)"
   ]
  },
  {
   "cell_type": "code",
   "execution_count": 8,
   "metadata": {},
   "outputs": [
    {
     "data": {
      "text/plain": [
       "962"
      ]
     },
     "execution_count": 8,
     "metadata": {},
     "output_type": "execute_result"
    }
   ],
   "source": [
    "current_team_cost = current_team.getTotalCost()\n",
    "current_team_cost"
   ]
  },
  {
   "cell_type": "code",
   "execution_count": 9,
   "metadata": {},
   "outputs": [],
   "source": [
    "with open(teams_filename,\"r\",encoding=\"utf-8\") as f:\n",
    "    all_data = json.load(f)\n",
    "data = all_data[\"data\"][SELECTED_MODEL_INDEX]\n",
    "selected_team_df = pd.DataFrame(data=data)"
   ]
  },
  {
   "cell_type": "code",
   "execution_count": 10,
   "metadata": {},
   "outputs": [],
   "source": [
    "selectedTeamNames = selected_team_df[\"name\"].values\n",
    "selected_team = Team.fromNameSet(selectedTeamNames, all_player_data)"
   ]
  },
  {
   "cell_type": "code",
   "execution_count": 11,
   "metadata": {},
   "outputs": [
    {
     "data": {
      "text/html": [
       "<table><tr><th>ID</th><th>Name</th><th>Cost</th><th>ICT Index</th><th>Total Points</th><th>Form</th><th>Fixture Difficulty</th><th>Normalised Fixture Difficulty</th><th>Position</th><th>Team</th><th>Captain</th><th>Vice Captain</th><th>Score</th>\n",
       "<tr><td>276</td><td>Jordan Pickford</td><td>49.00</td><td>34.2</td><td>58</td><td>4.0</td><td>0.00</td><td>0.00</td><td>GKP</td><td>EVE</td><td>True</td><td>False<td>0.00</td><tr>\n",
       "<tr><td>234</td><td>Dean Henderson</td><td>44.00</td><td>38.8</td><td>53</td><td>4.2</td><td>0.00</td><td>0.00</td><td>GKP</td><td>CRY</td><td>False</td><td>True<td>0.00</td><tr>\n",
       "<tr><td>225</td><td>Trevoh Chalobah</td><td>44.00</td><td>32.0</td><td>29</td><td>2.2</td><td>0.00</td><td>0.00</td><td>DEF</td><td>CRY</td><td>False</td><td>False<td>0.00</td><tr>\n",
       "<tr><td>273</td><td>Vitalii Mykolenko</td><td>43.00</td><td>31.9</td><td>38</td><td>5.3</td><td>0.00</td><td>0.00</td><td>DEF</td><td>EVE</td><td>False</td><td>False<td>0.00</td><tr>\n",
       "<tr><td>243</td><td>Daniel Muñoz</td><td>47.00</td><td>72.3</td><td>50</td><td>6.2</td><td>0.00</td><td>0.00</td><td>DEF</td><td>CRY</td><td>False</td><td>False<td>0.00</td><tr>\n",
       "<tr><td>279</td><td>Ashley Young</td><td>46.00</td><td>53.9</td><td>57</td><td>7.7</td><td>0.00</td><td>0.00</td><td>DEF</td><td>EVE</td><td>False</td><td>False<td>0.00</td><tr>\n",
       "<tr><td>632</td><td>Emerson Palmieri dos Santos</td><td>44.00</td><td>51.8</td><td>35</td><td>4.0</td><td>0.00</td><td>0.00</td><td>DEF</td><td>WHU</td><td>False</td><td>False<td>0.00</td><tr>\n",
       "<tr><td>63</td><td>Ollie Watkins</td><td>90.00</td><td>105.0</td><td>77</td><td>5.5</td><td>0.00</td><td>0.00</td><td>FWD</td><td>AVL</td><td>False</td><td>False<td>0.00</td><tr>\n",
       "<tr><td>662</td><td>Matheus Santos Carneiro Da Cunha</td><td>71.00</td><td>120.8</td><td>80</td><td>5.2</td><td>0.00</td><td>0.00</td><td>FWD</td><td>WOL</td><td>False</td><td>False<td>0.00</td><tr>\n",
       "<tr><td>686</td><td>Jørgen Strand Larsen</td><td>57.00</td><td>75.9</td><td>65</td><td>5.0</td><td>0.00</td><td>0.00</td><td>FWD</td><td>WOL</td><td>False</td><td>False<td>0.00</td><tr>\n",
       "<tr><td>299</td><td>Alex Iwobi</td><td>57.00</td><td>112.5</td><td>76</td><td>7.2</td><td>0.00</td><td>0.00</td><td>MID</td><td>FUL</td><td>False</td><td>False<td>0.00</td><tr>\n",
       "<tr><td>13</td><td>Bukayo Saka</td><td>106.00</td><td>163.6</td><td>103</td><td>9.0</td><td>0.00</td><td>0.00</td><td>MID</td><td>ARS</td><td>False</td><td>False<td>0.00</td><tr>\n",
       "<tr><td>213</td><td>Cole Palmer</td><td>111.00</td><td>167.3</td><td>125</td><td>10.2</td><td>0.00</td><td>0.00</td><td>MID</td><td>CHE</td><td>False</td><td>False<td>0.00</td><tr>\n",
       "<tr><td>401</td><td>Mohamed Salah</td><td>133.00</td><td>180.8</td><td>151</td><td>14.7</td><td>0.00</td><td>0.00</td><td>MID</td><td>LIV</td><td>False</td><td>False<td>0.00</td><tr>\n",
       "<tr><td>447</td><td>Amad Diallo</td><td>51.00</td><td>76.7</td><td>52</td><td>6.2</td><td>0.00</td><td>0.00</td><td>MID</td><td>MUN</td><td>False</td><td>False<td>0.00</td><tr>\n",
       "</table>"
      ],
      "text/plain": [
       "<modules.team.Team at 0x7f8428517ec0>"
      ]
     },
     "metadata": {},
     "output_type": "display_data"
    }
   ],
   "source": [
    "display(selected_team)"
   ]
  },
  {
   "cell_type": "code",
   "execution_count": 12,
   "metadata": {},
   "outputs": [
    {
     "name": "stdout",
     "output_type": "stream",
     "text": [
      "\n",
      "Total Score: 0\n",
      "\n",
      "Goalkeepers:\n",
      "- Jordan Pickford (Captain) \tScore: 0\tCost: 49\tFixture Difficulty: 0.0\n",
      "- Dean Henderson (Vice Captain) \tScore: 0\tCost: 44\tFixture Difficulty: 0.0\n",
      "Defenders:\n",
      "- Trevoh Chalobah\tScore: 0\tCost: 44\tFixture Difficulty: 0.0\n",
      "- Vitalii Mykolenko\tScore: 0\tCost: 43\tFixture Difficulty: 0.0\n",
      "- Daniel Muñoz\tScore: 0\tCost: 47\tFixture Difficulty: 0.0\n",
      "- Emerson Palmieri dos Santos\tScore: 0\tCost: 44\tFixture Difficulty: 0.0\n",
      "Attackers:\n",
      "- Ollie Watkins\tScore: 0\tCost: 90\tFixture Difficulty: 0.0\n",
      "- Jørgen Strand Larsen\tScore: 0\tCost: 57\tFixture Difficulty: 0.0\n",
      "Midfielders:\n",
      "- Cole Palmer\tScore: 0\tCost: 111\tFixture Difficulty: 0.0\n",
      "- Amad Diallo\tScore: 0\tCost: 51\tFixture Difficulty: 0.0\n"
     ]
    }
   ],
   "source": [
    "new_players = selected_team - current_team\n",
    "print(new_players)"
   ]
  },
  {
   "cell_type": "code",
   "execution_count": 13,
   "metadata": {},
   "outputs": [
    {
     "name": "stdout",
     "output_type": "stream",
     "text": [
      "Added cost: 31\n"
     ]
    }
   ],
   "source": [
    "new_team_cost = selected_team.getTotalCost()\n",
    "new_team_cost\n",
    "\n",
    "added_cost = new_team_cost - current_team_cost\n",
    "print(\"Added cost:\",added_cost)\n",
    "\n",
    "surplus = current_team_cost - new_team_cost\n"
   ]
  },
  {
   "cell_type": "code",
   "execution_count": 14,
   "metadata": {},
   "outputs": [],
   "source": [
    "HEURISTIC = \"combined\""
   ]
  },
  {
   "cell_type": "code",
   "execution_count": 15,
   "metadata": {},
   "outputs": [
    {
     "data": {
      "text/plain": [
       "(14.723738573517647, 14.723738573517647)"
      ]
     },
     "execution_count": 15,
     "metadata": {},
     "output_type": "execute_result"
    }
   ],
   "source": [
    "all_player_data[\"score\"] = all_player_data[HEURISTIC] * all_player_data[\"form\"]\n",
    "deviation = np.std(all_player_data[\"score\"])\n",
    "scale_factor = deviation\n",
    "scale_factor, deviation"
   ]
  },
  {
   "cell_type": "code",
   "execution_count": 16,
   "metadata": {},
   "outputs": [],
   "source": [
    "START_SAMPLE_GAMEWEEK = 17\n",
    "END_SAMPLE_GAMEWEEK = 20"
   ]
  },
  {
   "cell_type": "code",
   "execution_count": 17,
   "metadata": {},
   "outputs": [],
   "source": [
    "matrix = FixtureDifficultyMatrix(scale_factor, START_SAMPLE_GAMEWEEK, END_SAMPLE_GAMEWEEK)\n",
    "\n",
    "new_players.recalculateFixtureDifficulty(matrix)\n",
    "new_players.calculateScore(HEURISTIC)\n",
    "\n",
    "selected_team.recalculateFixtureDifficulty(matrix)\n",
    "selected_team.calculateScore(HEURISTIC)\n",
    "\n",
    "current_team.recalculateFixtureDifficulty(matrix)\n",
    "current_team.calculateScore(HEURISTIC)"
   ]
  },
  {
   "cell_type": "code",
   "execution_count": 18,
   "metadata": {},
   "outputs": [
    {
     "name": "stdout",
     "output_type": "stream",
     "text": [
      "Current Team:\n"
     ]
    },
    {
     "data": {
      "text/html": [
       "<table><tr><th>ID</th><th>Name</th><th>Cost</th><th>ICT Index</th><th>Total Points</th><th>Form</th><th>Fixture Difficulty</th><th>Normalised Fixture Difficulty</th><th>Position</th><th>Team</th><th>Captain</th><th>Vice Captain</th><th>Score</th>\n",
       "<tr><td>536</td><td>Matz Sels</td><td>47.00</td><td>34.9</td><td>62</td><td>3.0</td><td>0.31</td><td>-5.45</td><td>GKP</td><td>NFO</td><td>True</td><td>False<td>17.87</td><tr>\n",
       "<tr><td>466</td><td>André Onana</td><td>52.00</td><td>36.6</td><td>65</td><td>3.0</td><td>0.54</td><td>1.03</td><td>GKP</td><td>MUN</td><td>False</td><td>True<td>12.37</td><tr>\n",
       "<tr><td>515</td><td>Ola Aina</td><td>49.00</td><td>42.1</td><td>58</td><td>2.5</td><td>0.31</td><td>-5.45</td><td>DEF</td><td>NFO</td><td>False</td><td>False<td>16.39</td><tr>\n",
       "<tr><td>573</td><td>Jack Stephens</td><td>40.00</td><td>19.6</td><td>10</td><td>0.0</td><td>0.70</td><td>5.74</td><td>DEF</td><td>SOU</td><td>False</td><td>False<td>-0.00</td><tr>\n",
       "<tr><td>270</td><td>Michael Keane</td><td>41.00</td><td>33.0</td><td>32</td><td>0.0</td><td>0.78</td><td>8.25</td><td>DEF</td><td>EVE</td><td>False</td><td>False<td>-8.25</td><tr>\n",
       "<tr><td>360</td><td>Wout Faes</td><td>41.00</td><td>43.1</td><td>25</td><td>0.5</td><td>0.69</td><td>5.60</td><td>DEF</td><td>LEI</td><td>False</td><td>False<td>-4.89</td><tr>\n",
       "<tr><td>279</td><td>Ashley Young</td><td>46.00</td><td>53.9</td><td>57</td><td>7.7</td><td>0.78</td><td>8.25</td><td>DEF</td><td>EVE</td><td>False</td><td>False<td>31.48</td><tr>\n",
       "<tr><td>539</td><td>Chris Wood</td><td>65.00</td><td>90.0</td><td>88</td><td>5.0</td><td>0.31</td><td>-5.45</td><td>FWD</td><td>NFO</td><td>False</td><td>False<td>52.10</td><tr>\n",
       "<tr><td>127</td><td>Yoane Wissa</td><td>62.00</td><td>79.5</td><td>73</td><td>4.8</td><td>0.57</td><td>2.06</td><td>FWD</td><td>BRE</td><td>False</td><td>False<td>37.79</td><tr>\n",
       "<tr><td>662</td><td>Matheus Santos Carneiro Da Cunha</td><td>71.00</td><td>120.8</td><td>80</td><td>5.2</td><td>0.69</td><td>5.74</td><td>FWD</td><td>WOL</td><td>False</td><td>False<td>39.64</td><tr>\n",
       "<tr><td>602</td><td>James Maddison</td><td>76.00</td><td>115.0</td><td>76</td><td>6.0</td><td>0.56</td><td>1.62</td><td>MID</td><td>TOT</td><td>False</td><td>False<td>53.83</td><tr>\n",
       "<tr><td>116</td><td>Bryan Mbeumo</td><td>76.00</td><td>122.0</td><td>96</td><td>5.0</td><td>0.57</td><td>2.06</td><td>MID</td><td>BRE</td><td>False</td><td>False<td>48.74</td><tr>\n",
       "<tr><td>13</td><td>Bukayo Saka</td><td>106.00</td><td>163.6</td><td>103</td><td>9.0</td><td>0.26</td><td>-7.07</td><td>MID</td><td>ARS</td><td>False</td><td>False<td>130.70</td><tr>\n",
       "<tr><td>401</td><td>Mohamed Salah</td><td>133.00</td><td>180.8</td><td>151</td><td>14.7</td><td>0.24</td><td>-7.80</td><td>MID</td><td>LIV</td><td>False</td><td>False<td>274.26</td><tr>\n",
       "<tr><td>299</td><td>Alex Iwobi</td><td>57.00</td><td>112.5</td><td>76</td><td>7.2</td><td>0.40</td><td>-2.94</td><td>MID</td><td>FUL</td><td>False</td><td>False<td>63.38</td><tr>\n",
       "</table>"
      ],
      "text/plain": [
       "<modules.team.Team at 0x7f8470262fc0>"
      ]
     },
     "metadata": {},
     "output_type": "display_data"
    },
    {
     "name": "stdout",
     "output_type": "stream",
     "text": [
      "\n",
      "Selected Team:\n"
     ]
    },
    {
     "data": {
      "text/html": [
       "<table><tr><th>ID</th><th>Name</th><th>Cost</th><th>ICT Index</th><th>Total Points</th><th>Form</th><th>Fixture Difficulty</th><th>Normalised Fixture Difficulty</th><th>Position</th><th>Team</th><th>Captain</th><th>Vice Captain</th><th>Score</th>\n",
       "<tr><td>276</td><td>Jordan Pickford</td><td>49.00</td><td>34.2</td><td>58</td><td>4.0</td><td>0.78</td><td>8.25</td><td>GKP</td><td>EVE</td><td>True</td><td>False<td>7.47</td><tr>\n",
       "<tr><td>234</td><td>Dean Henderson</td><td>44.00</td><td>38.8</td><td>53</td><td>4.2</td><td>0.64</td><td>3.98</td><td>GKP</td><td>CRY</td><td>False</td><td>True<td>10.55</td><tr>\n",
       "<tr><td>225</td><td>Trevoh Chalobah</td><td>44.00</td><td>32.0</td><td>29</td><td>2.2</td><td>0.64</td><td>3.98</td><td>DEF</td><td>CRY</td><td>False</td><td>False<td>0.23</td><tr>\n",
       "<tr><td>273</td><td>Vitalii Mykolenko</td><td>43.00</td><td>31.9</td><td>38</td><td>5.3</td><td>0.78</td><td>8.25</td><td>DEF</td><td>EVE</td><td>False</td><td>False<td>4.34</td><tr>\n",
       "<tr><td>243</td><td>Daniel Muñoz</td><td>47.00</td><td>72.3</td><td>50</td><td>6.2</td><td>0.64</td><td>3.98</td><td>DEF</td><td>CRY</td><td>False</td><td>False<td>24.36</td><tr>\n",
       "<tr><td>279</td><td>Ashley Young</td><td>46.00</td><td>53.9</td><td>57</td><td>7.7</td><td>0.78</td><td>8.25</td><td>DEF</td><td>EVE</td><td>False</td><td>False<td>31.48</td><tr>\n",
       "<tr><td>632</td><td>Emerson Palmieri dos Santos</td><td>44.00</td><td>51.8</td><td>35</td><td>4.0</td><td>0.64</td><td>3.98</td><td>DEF</td><td>WHU</td><td>False</td><td>False<td>0.00</td><tr>\n",
       "<tr><td>63</td><td>Ollie Watkins</td><td>90.00</td><td>105.0</td><td>77</td><td>5.5</td><td>0.38</td><td>-3.53</td><td>FWD</td><td>AVL</td><td>False</td><td>False<td>0.00</td><tr>\n",
       "<tr><td>662</td><td>Matheus Santos Carneiro Da Cunha</td><td>71.00</td><td>120.8</td><td>80</td><td>5.2</td><td>0.69</td><td>5.74</td><td>FWD</td><td>WOL</td><td>False</td><td>False<td>39.64</td><tr>\n",
       "<tr><td>686</td><td>Jørgen Strand Larsen</td><td>57.00</td><td>75.9</td><td>65</td><td>5.0</td><td>0.69</td><td>5.74</td><td>FWD</td><td>WOL</td><td>False</td><td>False<td>25.52</td><tr>\n",
       "<tr><td>299</td><td>Alex Iwobi</td><td>57.00</td><td>112.5</td><td>76</td><td>7.2</td><td>0.40</td><td>-2.94</td><td>MID</td><td>FUL</td><td>False</td><td>False<td>63.38</td><tr>\n",
       "<tr><td>13</td><td>Bukayo Saka</td><td>106.00</td><td>163.6</td><td>103</td><td>9.0</td><td>0.26</td><td>-7.07</td><td>MID</td><td>ARS</td><td>False</td><td>False<td>130.70</td><tr>\n",
       "<tr><td>213</td><td>Cole Palmer</td><td>111.00</td><td>167.3</td><td>125</td><td>10.2</td><td>0.23</td><td>-7.80</td><td>MID</td><td>CHE</td><td>False</td><td>False<td>159.60</td><tr>\n",
       "<tr><td>401</td><td>Mohamed Salah</td><td>133.00</td><td>180.8</td><td>151</td><td>14.7</td><td>0.24</td><td>-7.80</td><td>MID</td><td>LIV</td><td>False</td><td>False<td>274.26</td><tr>\n",
       "<tr><td>447</td><td>Amad Diallo</td><td>51.00</td><td>76.7</td><td>52</td><td>6.2</td><td>0.54</td><td>1.03</td><td>MID</td><td>MUN</td><td>False</td><td>False<td>27.34</td><tr>\n",
       "</table>"
      ],
      "text/plain": [
       "<modules.team.Team at 0x7f8428517ec0>"
      ]
     },
     "metadata": {},
     "output_type": "display_data"
    }
   ],
   "source": [
    "print(\"Current Team:\")\n",
    "display(current_team)\n",
    "print()\n",
    "print(\"Selected Team:\")\n",
    "display(selected_team)"
   ]
  },
  {
   "cell_type": "code",
   "execution_count": 19,
   "metadata": {},
   "outputs": [
    {
     "name": "stdout",
     "output_type": "stream",
     "text": [
      "Score difference: 33.44196924240907\n"
     ]
    }
   ],
   "source": [
    "score_dif = selected_team.getTotalScore() - current_team.getTotalScore()\n",
    "print(\"Score difference:\",score_dif)"
   ]
  },
  {
   "cell_type": "code",
   "execution_count": 20,
   "metadata": {},
   "outputs": [],
   "source": [
    "def getBest(pCurrentTeam: Team, pNewTeam: Team, pNewPlayers: Team, pPosition: Position):\n",
    "    currentPositionData = pCurrentTeam.getPlayersListByPosition(pPosition)\n",
    "    newPlayersPositionData = pNewPlayers.getPlayersListByPosition(pPosition)\n",
    "    oldTotalCost = pCurrentTeam.getTotalCost()\n",
    "    maxCost = max(oldTotalCost, TOTAL_BUDGET)\n",
    "\n",
    "    allTransfers = []\n",
    "\n",
    "    for i in range(len(currentPositionData)):\n",
    "        oldPlayer = currentPositionData[i]\n",
    "        oldPlayerCost = oldPlayer.getCost()\n",
    "        for j in range(len(newPlayersPositionData)):\n",
    "\n",
    "            newPlayer = newPlayersPositionData[j]\n",
    "            newCost = oldTotalCost - oldPlayerCost + newPlayer.getCost()\n",
    "\n",
    "            if (newCost <= maxCost):\n",
    "                allTransfers.append(Transfer(oldPlayer, newPlayer))\n",
    "\n",
    "    bestTransfer = max(allTransfers)\n",
    "    if(bestTransfer.getScoreDif() > 0):\n",
    "        return bestTransfer\n",
    "    else:\n",
    "        return None"
   ]
  },
  {
   "cell_type": "code",
   "execution_count": 21,
   "metadata": {},
   "outputs": [],
   "source": [
    "def get_updated_team(team: pd.DataFrame, old_player: pd.Series, new_player: pd.Series):\n",
    "    team: pd.DataFrame = team.drop(index=old_player.name)\n",
    "    team.loc[len(team)] = new_player\n",
    "    return team"
   ]
  },
  {
   "cell_type": "code",
   "execution_count": 22,
   "metadata": {},
   "outputs": [],
   "source": [
    "def get_bench(team: pd.DataFrame):\n",
    "    positions = [\"FWD\",\"DEF\",\"MID\",\"GKP\"]\n",
    "    team = team.reset_index()\n",
    "    bench = pd.DataFrame(columns=team.columns)\n",
    "    for position in positions:\n",
    "        worst_player_index = team.loc[team[\"position\"]==position][\"score\"].idxmin()\n",
    "        worst_player = team.loc[worst_player_index].copy()\n",
    "        bench.loc[len(bench)] = worst_player\n",
    "        team = team.drop(index=worst_player_index)\n",
    "    return team, bench"
   ]
  },
  {
   "cell_type": "code",
   "execution_count": 23,
   "metadata": {},
   "outputs": [],
   "source": [
    "def getBestTransferNew(pCurrentTeam: Team, pNewTeam: Team, pNewPlayers: Team) -> Transfer | None:\n",
    "    positions = Position.listValues()\n",
    "    bestTransfers = []\n",
    "    for position in positions:\n",
    "        transfer = getBest(pCurrentTeam, pNewTeam, pNewPlayers, position)\n",
    "        if(transfer is not None):\n",
    "            bestTransfers.append(transfer)\n",
    "    actualBestTransfer = max(bestTransfers)\n",
    "    return actualBestTransfer"
   ]
  },
  {
   "cell_type": "code",
   "execution_count": 24,
   "metadata": {},
   "outputs": [],
   "source": [
    "def getNewTeam(pCurrentTeam: Team, pSelectedTeam: Team, pNewPlayers: Team):\n",
    "    transferData = getBestTransferNew(pCurrentTeam, pSelectedTeam, pNewPlayers)\n",
    "    print(\"Best transfer:\")\n",
    "    print(transferData)\n",
    "    oldPlayer = transferData.getOldPlayer()\n",
    "    newPlayer = transferData.getNewPlayer()\n",
    "    if transferData is None:\n",
    "        return\n",
    "    \n",
    "    changingPosition: Position = transferData.getPosition()\n",
    "    \n",
    "    newTeam = deepcopy(pCurrentTeam)\n",
    "    playersOfPosition = newTeam.getPlayersListByPosition(changingPosition)\n",
    "\n",
    "    for i in range(len(playersOfPosition)):\n",
    "        player = playersOfPosition[i]\n",
    "        if (player.getId() == oldPlayer.getId()):\n",
    "            newTeam.removePlayerByIndex(i, changingPosition)\n",
    "            newTeam.addPlayer(newPlayer)\n",
    "    return newTeam"
   ]
  },
  {
   "cell_type": "code",
   "execution_count": 25,
   "metadata": {},
   "outputs": [
    {
     "name": "stdout",
     "output_type": "stream",
     "text": [
      "Best transfer:\n",
      "Transfer from Bryan Mbeumo -> Cole Palmer:\n",
      "Old player: Bryan Mbeumo\tScore: 48.74\tCost: 76\tFixture Difficulty: 2.0613234002924727\n",
      "New player: Cole Palmer\tScore: 159.6\tCost: 111\tFixture Difficulty: -7.803581443964354\n",
      "- Cost change: 35\n",
      "- Score change: 110.86\n",
      "Cole Palmer (Vice Captain) \tScore: 159.6\tCost: 111\tFixture Difficulty: -7.803581443964354\n"
     ]
    },
    {
     "data": {
      "text/html": [
       "<h1>Starting 11</h1>\n",
       "<table><tr><th>ID</th><th>Name</th><th>Cost</th><th>ICT Index</th><th>Total Points</th><th>Form</th><th>Fixture Difficulty</th><th>Normalised Fixture Difficulty</th><th>Position</th><th>Team</th><th>Captain</th><th>Vice Captain</th><th>Score</th>\n",
       "<tr><td>536</td><td>Matz Sels</td><td>47.00</td><td>34.9</td><td>62</td><td>3.0</td><td>0.31</td><td>-5.45</td><td>GKP</td><td>NFO</td><td>False</td><td>False<td>17.87</td><tr>\n",
       "<tr><td>279</td><td>Ashley Young</td><td>46.00</td><td>53.9</td><td>57</td><td>7.7</td><td>0.78</td><td>8.25</td><td>DEF</td><td>EVE</td><td>False</td><td>False<td>31.48</td><tr>\n",
       "<tr><td>515</td><td>Ola Aina</td><td>49.00</td><td>42.1</td><td>58</td><td>2.5</td><td>0.31</td><td>-5.45</td><td>DEF</td><td>NFO</td><td>False</td><td>False<td>16.39</td><tr>\n",
       "<tr><td>573</td><td>Jack Stephens</td><td>40.00</td><td>19.6</td><td>10</td><td>0.0</td><td>0.70</td><td>5.74</td><td>DEF</td><td>SOU</td><td>False</td><td>False<td>-0.00</td><tr>\n",
       "<tr><td>360</td><td>Wout Faes</td><td>41.00</td><td>43.1</td><td>25</td><td>0.5</td><td>0.69</td><td>5.60</td><td>DEF</td><td>LEI</td><td>False</td><td>False<td>-4.89</td><tr>\n",
       "<tr><td>539</td><td>Chris Wood</td><td>65.00</td><td>90.0</td><td>88</td><td>5.0</td><td>0.31</td><td>-5.45</td><td>FWD</td><td>NFO</td><td>False</td><td>False<td>52.10</td><tr>\n",
       "<tr><td>662</td><td>Matheus Santos Carneiro Da Cunha</td><td>71.00</td><td>120.8</td><td>80</td><td>5.2</td><td>0.69</td><td>5.74</td><td>FWD</td><td>WOL</td><td>False</td><td>False<td>39.64</td><tr>\n",
       "<tr><td>401</td><td>Mohamed Salah</td><td>133.00</td><td>180.8</td><td>151</td><td>14.7</td><td>0.24</td><td>-7.80</td><td>MID</td><td>LIV</td><td>True</td><td>False<td>274.26</td><tr>\n",
       "<tr><td>213</td><td>Cole Palmer</td><td>111.00</td><td>167.3</td><td>125</td><td>10.2</td><td>0.23</td><td>-7.80</td><td>MID</td><td>CHE</td><td>False</td><td>True<td>159.60</td><tr>\n",
       "<tr><td>13</td><td>Bukayo Saka</td><td>106.00</td><td>163.6</td><td>103</td><td>9.0</td><td>0.26</td><td>-7.07</td><td>MID</td><td>ARS</td><td>False</td><td>False<td>130.70</td><tr>\n",
       "<tr><td>299</td><td>Alex Iwobi</td><td>57.00</td><td>112.5</td><td>76</td><td>7.2</td><td>0.40</td><td>-2.94</td><td>MID</td><td>FUL</td><td>False</td><td>False<td>63.38</td><tr>\n",
       "</table>\n",
       "<h1>Bench</h1>\n",
       "<table><tr><th>ID</th><th>Name</th><th>Cost</th><th>ICT Index</th><th>Total Points</th><th>Form</th><th>Fixture Difficulty</th><th>Normalised Fixture Difficulty</th><th>Position</th><th>Team</th><th>Captain</th><th>Vice Captain</th><th>Score</th>\n",
       "<tr><td>466</td><td>André Onana</td><td>52.00</td><td>36.6</td><td>65</td><td>3.0</td><td>0.54</td><td>1.03</td><td>GKP</td><td>MUN</td><td>False</td><td>False<td>12.37</td><tr>\n",
       "<tr><td>270</td><td>Michael Keane</td><td>41.00</td><td>33.0</td><td>32</td><td>0.0</td><td>0.78</td><td>8.25</td><td>DEF</td><td>EVE</td><td>False</td><td>False<td>-8.25</td><tr>\n",
       "<tr><td>127</td><td>Yoane Wissa</td><td>62.00</td><td>79.5</td><td>73</td><td>4.8</td><td>0.57</td><td>2.06</td><td>FWD</td><td>BRE</td><td>False</td><td>False<td>37.79</td><tr>\n",
       "<tr><td>602</td><td>James Maddison</td><td>76.00</td><td>115.0</td><td>76</td><td>6.0</td><td>0.56</td><td>1.62</td><td>MID</td><td>TOT</td><td>False</td><td>False<td>53.83</td><tr>\n",
       "</table>"
      ],
      "text/plain": [
       "<modules.team.BenchTeam at 0x7f842c8f3b00>"
      ]
     },
     "metadata": {},
     "output_type": "display_data"
    }
   ],
   "source": [
    "newTeam = getNewTeam(current_team, selected_team, new_players)\n",
    "newTeam = newTeam.toBenchTeam()\n",
    "display(newTeam)"
   ]
  }
 ],
 "metadata": {
  "kernelspec": {
   "display_name": "base",
   "language": "python",
   "name": "python3"
  },
  "language_info": {
   "codemirror_mode": {
    "name": "ipython",
    "version": 3
   },
   "file_extension": ".py",
   "mimetype": "text/x-python",
   "name": "python",
   "nbconvert_exporter": "python",
   "pygments_lexer": "ipython3",
   "version": "3.12.7"
  }
 },
 "nbformat": 4,
 "nbformat_minor": 2
}
