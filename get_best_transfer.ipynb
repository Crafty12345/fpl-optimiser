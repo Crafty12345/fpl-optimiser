{
 "cells": [
  {
   "cell_type": "code",
   "execution_count": 1,
   "metadata": {},
   "outputs": [],
   "source": [
    "import json\n",
    "import pandas as pd\n",
    "import numpy as np\n",
    "from copy import deepcopy\n",
    "\n",
    "from modules.team import Team, BenchTeam\n",
    "from modules.player import Player, Position\n",
    "from modules.transfer import Transfer\n",
    "from IPython.display import display\n",
    "\n",
    "import config"
   ]
  },
  {
   "cell_type": "code",
   "execution_count": 2,
   "metadata": {},
   "outputs": [],
   "source": [
    "CURRENT_DATE = config.CURRENT_DATE\n",
    "teams_filename = f\"./results/{CURRENT_DATE}/results_{CURRENT_DATE}.json\"\n",
    "SELECTED_MODEL_INDEX = 2\n",
    "TOTAL_BUDGET = 1000"
   ]
  },
  {
   "cell_type": "code",
   "execution_count": 3,
   "metadata": {},
   "outputs": [],
   "source": [
    "current_team_names = {\"André Onana\",\n",
    "                      \"Matz Sels\",\n",
    "                      \"Gabriel dos Santos Magalhães\",\n",
    "                      \"Michael Keane\",\n",
    "                      \"Wout Faes\",\n",
    "                      \"Jack Stephens\",\n",
    "                      \"Ola Aina\",\n",
    "                      \"Morgan Rogers\",\n",
    "                      \"Bryan Mbeumo\",\n",
    "                      \"Facundo Buonanotte\",\n",
    "                      \"Luis Díaz\",\n",
    "                      \"Mohamed Salah\",\n",
    "                      \"Yoane Wissa\",\n",
    "                      \"Erling Haaland\",\n",
    "                      \"Chris Wood\"\n",
    "                      }"
   ]
  },
  {
   "cell_type": "code",
   "execution_count": 4,
   "metadata": {},
   "outputs": [],
   "source": [
    "with open(\"data/data.csv\",\"r\",encoding=\"utf-8\") as f:\n",
    "    all_player_data = pd.read_csv(f)"
   ]
  },
  {
   "cell_type": "code",
   "execution_count": 5,
   "metadata": {},
   "outputs": [
    {
     "name": "stdout",
     "output_type": "stream",
     "text": [
      "13\n",
      "14\n",
      "15\n",
      "13\n",
      "14\n",
      "15\n",
      "13\n",
      "14\n",
      "15\n",
      "13\n",
      "14\n",
      "15\n",
      "13\n",
      "14\n",
      "15\n",
      "13\n",
      "14\n",
      "15\n",
      "13\n",
      "14\n",
      "15\n",
      "13\n",
      "14\n",
      "15\n",
      "13\n",
      "14\n",
      "15\n",
      "13\n",
      "14\n",
      "15\n",
      "13\n",
      "14\n",
      "15\n",
      "13\n",
      "14\n",
      "15\n",
      "13\n",
      "14\n",
      "15\n",
      "13\n",
      "14\n",
      "15\n",
      "13\n",
      "14\n",
      "15\n"
     ]
    }
   ],
   "source": [
    "current_team = Team.fromNameSet(current_team_names, all_player_data)"
   ]
  },
  {
   "cell_type": "code",
   "execution_count": 6,
   "metadata": {},
   "outputs": [
    {
     "data": {
      "text/plain": [
       "1000"
      ]
     },
     "execution_count": 6,
     "metadata": {},
     "output_type": "execute_result"
    }
   ],
   "source": [
    "current_team_cost = current_team.getTotalCost()\n",
    "current_team_cost"
   ]
  },
  {
   "cell_type": "code",
   "execution_count": 7,
   "metadata": {},
   "outputs": [],
   "source": [
    "with open(teams_filename,\"r\",encoding=\"utf-8\") as f:\n",
    "    all_data = json.load(f)\n",
    "data = all_data[\"data\"][SELECTED_MODEL_INDEX]\n",
    "selected_team_df = pd.DataFrame(data=data)"
   ]
  },
  {
   "cell_type": "code",
   "execution_count": 8,
   "metadata": {},
   "outputs": [
    {
     "name": "stdout",
     "output_type": "stream",
     "text": [
      "13\n",
      "14\n",
      "15\n",
      "13\n",
      "14\n",
      "15\n",
      "13\n",
      "14\n",
      "15\n",
      "13\n",
      "14\n",
      "15\n",
      "13\n",
      "14\n",
      "15\n",
      "13\n",
      "14\n",
      "15\n",
      "13\n",
      "14\n",
      "15\n",
      "13\n",
      "14\n",
      "15\n",
      "13\n",
      "14\n",
      "15\n",
      "13\n",
      "14\n",
      "15\n",
      "13\n",
      "14\n",
      "15\n",
      "13\n",
      "14\n",
      "15\n",
      "13\n",
      "14\n",
      "15\n",
      "13\n",
      "14\n",
      "15\n",
      "13\n",
      "14\n",
      "15\n"
     ]
    }
   ],
   "source": [
    "selected_team = Team.fromDataFrame(selected_team_df)"
   ]
  },
  {
   "cell_type": "code",
   "execution_count": 9,
   "metadata": {},
   "outputs": [
    {
     "name": "stdout",
     "output_type": "stream",
     "text": [
      "\n",
      "Total Score: 0\n",
      "\n",
      "Goalkeepers:\n",
      "- Jordan Pickford (Captain) \tScore: 0\tCost: 49\tFixture Difficulty: 2.5\n",
      "- Łukasz Fabiański (Vice Captain) \tScore: 0\tCost: 40\tFixture Difficulty: 0.8333333333333334\n",
      "Defenders:\n",
      "- Murillo Santiago Costa dos Santos\tScore: 0\tCost: 45\tFixture Difficulty: -1.8333333333333333\n",
      "- Joško Gvardiol\tScore: 0\tCost: 63\tFixture Difficulty: -3.5\n",
      "- Ola Aina\tScore: 0\tCost: 48\tFixture Difficulty: -1.8333333333333333\n",
      "- Virgil van Dijk\tScore: 0\tCost: 63\tFixture Difficulty: -4.0\n",
      "- Jan Bednarek\tScore: 0\tCost: 40\tFixture Difficulty: 7.333333333333333\n",
      "Attackers:\n",
      "- Chris Wood\tScore: 0\tCost: 66\tFixture Difficulty: -1.8333333333333333\n",
      "- Matheus Santos Carneiro Da Cunha\tScore: 0\tCost: 68\tFixture Difficulty: 1.5\n",
      "- Danny Ings\tScore: 0\tCost: 50\tFixture Difficulty: 0.8333333333333334\n",
      "Midfielders:\n",
      "- Cole Palmer\tScore: 0\tCost: 109\tFixture Difficulty: -4.166666666666667\n",
      "- Bruno Borges Fernandes\tScore: 0\tCost: 84\tFixture Difficulty: 1.6666666666666667\n",
      "- Bryan Mbeumo\tScore: 0\tCost: 79\tFixture Difficulty: -0.16666666666666666\n",
      "- Mohamed Salah\tScore: 0\tCost: 129\tFixture Difficulty: -4.0\n",
      "- Harry Winks\tScore: 0\tCost: 45\tFixture Difficulty: 3.0\n"
     ]
    }
   ],
   "source": [
    "print(selected_team)"
   ]
  },
  {
   "cell_type": "code",
   "execution_count": 10,
   "metadata": {},
   "outputs": [
    {
     "name": "stdout",
     "output_type": "stream",
     "text": [
      "\n",
      "Total Score: 0\n",
      "\n",
      "Goalkeepers:\n",
      "- Jordan Pickford (Captain) \tScore: 0\tCost: 49\tFixture Difficulty: 2.5\n",
      "- Łukasz Fabiański (Vice Captain) \tScore: 0\tCost: 40\tFixture Difficulty: 0.8333333333333334\n",
      "Defenders:\n",
      "- Murillo Santiago Costa dos Santos\tScore: 0\tCost: 45\tFixture Difficulty: -1.8333333333333333\n",
      "- Joško Gvardiol\tScore: 0\tCost: 63\tFixture Difficulty: -3.5\n",
      "- Virgil van Dijk\tScore: 0\tCost: 63\tFixture Difficulty: -4.0\n",
      "- Jan Bednarek\tScore: 0\tCost: 40\tFixture Difficulty: 7.333333333333333\n",
      "Attackers:\n",
      "- Matheus Santos Carneiro Da Cunha\tScore: 0\tCost: 68\tFixture Difficulty: 1.5\n",
      "- Danny Ings\tScore: 0\tCost: 50\tFixture Difficulty: 0.8333333333333334\n",
      "Midfielders:\n",
      "- Cole Palmer\tScore: 0\tCost: 109\tFixture Difficulty: -4.166666666666667\n",
      "- Bruno Borges Fernandes\tScore: 0\tCost: 84\tFixture Difficulty: 1.6666666666666667\n",
      "- Harry Winks\tScore: 0\tCost: 45\tFixture Difficulty: 3.0\n"
     ]
    }
   ],
   "source": [
    "new_players = selected_team - current_team\n",
    "print(new_players)"
   ]
  },
  {
   "cell_type": "code",
   "execution_count": 11,
   "metadata": {},
   "outputs": [
    {
     "data": {
      "text/plain": [
       "978"
      ]
     },
     "execution_count": 11,
     "metadata": {},
     "output_type": "execute_result"
    }
   ],
   "source": [
    "new_team_cost = selected_team.getTotalCost()\n",
    "new_team_cost"
   ]
  },
  {
   "cell_type": "code",
   "execution_count": 12,
   "metadata": {},
   "outputs": [
    {
     "name": "stdout",
     "output_type": "stream",
     "text": [
      "Added cost: -22\n"
     ]
    }
   ],
   "source": [
    "added_cost = new_team_cost - current_team_cost\n",
    "print(\"Added cost:\",added_cost)"
   ]
  },
  {
   "cell_type": "code",
   "execution_count": 13,
   "metadata": {},
   "outputs": [],
   "source": [
    "surplus = current_team_cost - new_team_cost"
   ]
  },
  {
   "cell_type": "code",
   "execution_count": 14,
   "metadata": {},
   "outputs": [],
   "source": [
    "HEURISTIC = \"total_points\"\n",
    "new_players.calculateScore(HEURISTIC)\n",
    "selected_team.calculateScore(HEURISTIC)\n",
    "current_team.calculateScore(HEURISTIC)"
   ]
  },
  {
   "cell_type": "code",
   "execution_count": 15,
   "metadata": {},
   "outputs": [
    {
     "name": "stdout",
     "output_type": "stream",
     "text": [
      "Score difference: 940.3666666666668\n"
     ]
    }
   ],
   "source": [
    "score_dif = selected_team.getTotalScore() - current_team.getTotalScore()\n",
    "print(\"Score difference:\",score_dif)"
   ]
  },
  {
   "cell_type": "code",
   "execution_count": 16,
   "metadata": {},
   "outputs": [],
   "source": [
    "def too_expensive():\n",
    "    pass"
   ]
  },
  {
   "cell_type": "code",
   "execution_count": 17,
   "metadata": {},
   "outputs": [],
   "source": [
    "def getBest(pCurrentTeam: Team, pNewTeam: Team, pNewPlayers: Team, pPosition: Position):\n",
    "    currentPositionData = pCurrentTeam.getPlayersListByPosition(pPosition)\n",
    "    newPlayersPositionData = pNewPlayers.getPlayersListByPosition(pPosition)\n",
    "    oldTotalCost = pCurrentTeam.getTotalCost()\n",
    "    maxCost = max(oldTotalCost, TOTAL_BUDGET)\n",
    "\n",
    "    allTransfers = []\n",
    "\n",
    "    for i in range(len(currentPositionData)):\n",
    "        oldPlayer = currentPositionData[i]\n",
    "        oldPlayerCost = oldPlayer.getCost()\n",
    "        for j in range(len(newPlayersPositionData)):\n",
    "\n",
    "            newPlayer = newPlayersPositionData[j]\n",
    "            newCost = oldTotalCost - oldPlayerCost + newPlayer.getCost()\n",
    "\n",
    "            if (newCost <= maxCost):\n",
    "                allTransfers.append(Transfer(oldPlayer, newPlayer))\n",
    "\n",
    "    bestTransfer = max(allTransfers)\n",
    "    if(bestTransfer.getScoreDif() > 0):\n",
    "        return bestTransfer\n",
    "    else:\n",
    "        return None"
   ]
  },
  {
   "cell_type": "code",
   "execution_count": 18,
   "metadata": {},
   "outputs": [],
   "source": [
    "def get_updated_team(team: pd.DataFrame, old_player: pd.Series, new_player: pd.Series):\n",
    "    team: pd.DataFrame = team.drop(index=old_player.name)\n",
    "    team.loc[len(team)] = new_player\n",
    "    return team"
   ]
  },
  {
   "cell_type": "code",
   "execution_count": 19,
   "metadata": {},
   "outputs": [],
   "source": [
    "def get_bench(team: pd.DataFrame):\n",
    "    positions = [\"FWD\",\"DEF\",\"MID\",\"GKP\"]\n",
    "    team = team.reset_index()\n",
    "    bench = pd.DataFrame(columns=team.columns)\n",
    "    for position in positions:\n",
    "        worst_player_index = team.loc[team[\"position\"]==position][\"score\"].idxmin()\n",
    "        worst_player = team.loc[worst_player_index].copy()\n",
    "        bench.loc[len(bench)] = worst_player\n",
    "        team = team.drop(index=worst_player_index)\n",
    "    return team, bench"
   ]
  },
  {
   "cell_type": "code",
   "execution_count": 20,
   "metadata": {},
   "outputs": [],
   "source": [
    "def getBestTransferNew(pCurrentTeam: Team, pNewTeam: Team, pNewPlayers: Team) -> Transfer | None:\n",
    "    positions = Position.listValues()\n",
    "    bestTransfers = []\n",
    "    for position in positions:\n",
    "        transfer = getBest(pCurrentTeam, pNewTeam, pNewPlayers, position)\n",
    "        if(transfer is not None):\n",
    "            bestTransfers.append(transfer)\n",
    "\n",
    "    actualBestTransfer = max(bestTransfers)\n",
    "    return actualBestTransfer"
   ]
  },
  {
   "cell_type": "code",
   "execution_count": 21,
   "metadata": {},
   "outputs": [],
   "source": [
    "def getNewTeam(pCurrentTeam: Team, pSelectedTeam: Team, pNewPlayers: Team):\n",
    "    transferData = getBestTransferNew(pCurrentTeam, pSelectedTeam, pNewPlayers)\n",
    "    print(\"Best transfer:\")\n",
    "    print(transferData)\n",
    "    oldPlayer = transferData.getOldPlayer()\n",
    "    newPlayer = transferData.getNewPlayer()\n",
    "    if transferData is None:\n",
    "        return\n",
    "    \n",
    "    changingPosition: Position = transferData.getPosition()\n",
    "    \n",
    "    newTeam = deepcopy(pCurrentTeam)\n",
    "    playersOfPosition = newTeam.getPlayersListByPosition(changingPosition)\n",
    "\n",
    "    for i in range(len(playersOfPosition)):\n",
    "        player = playersOfPosition[i]\n",
    "        if (player.getId() == oldPlayer.getId()):\n",
    "            newTeam.removePlayerByIndex(i, changingPosition)\n",
    "            newTeam.addPlayer(newPlayer)\n",
    "    return newTeam"
   ]
  },
  {
   "cell_type": "code",
   "execution_count": 22,
   "metadata": {},
   "outputs": [
    {
     "name": "stdout",
     "output_type": "stream",
     "text": [
      "Best transfer:\n",
      "Transfer from Erling Haaland -> Matheus Santos Carneiro Da Cunha:\n",
      "Old player: Erling Haaland\tScore: 349.1\tCost: 152\tFixture Difficulty: -3.5\n",
      "New player: Matheus Santos Carneiro Da Cunha\tScore: 532.5\tCost: 68\tFixture Difficulty: 1.5\n",
      "- Cost change: -84\n",
      "- Score change: 183.4\n",
      "# Starting 11:\n",
      "\n",
      "Total Score: 3779.266666666667\n",
      "\n",
      "Goalkeepers:\n",
      "- André Onana\tScore: 213.67\tCost: 51\tFixture Difficulty: 1.6666666666666667\n",
      "Defenders:\n",
      "- Ola Aina\tScore: 286.17\tCost: 48\tFixture Difficulty: -1.8333333333333333\n",
      "- Gabriel dos Santos Magalhães\tScore: 72.67\tCost: 61\tFixture Difficulty: -3.8333333333333335\n",
      "- Michael Keane\tScore: 34.5\tCost: 43\tFixture Difficulty: 2.5\n",
      "- Jack Stephens\tScore: 34.33\tCost: 40\tFixture Difficulty: 7.333333333333333\n",
      "Attackers:\n",
      "- Matheus Santos Carneiro Da Cunha\tScore: 532.5\tCost: 68\tFixture Difficulty: 1.5\n",
      "- Chris Wood\tScore: 494.57\tCost: 66\tFixture Difficulty: -1.8333333333333333\n",
      "Midfielders:\n",
      "- Mohamed Salah (Captain) \tScore: 1173.0\tCost: 129\tFixture Difficulty: -4.0\n",
      "- Bryan Mbeumo (Vice Captain) \tScore: 585.03\tCost: 79\tFixture Difficulty: -0.16666666666666666\n",
      "- Luis Díaz\tScore: 188.0\tCost: 77\tFixture Difficulty: -4.0\n",
      "- Morgan Rogers\tScore: 164.83\tCost: 54\tFixture Difficulty: -1.6666666666666667\n",
      "\n",
      "# Bench:\n",
      "\n",
      "Total Score: 746.5\n",
      "\n",
      "Goalkeepers:\n",
      "- Matz Sels\tScore: 213.17\tCost: 47\tFixture Difficulty: -1.8333333333333333\n",
      "Defenders:\n",
      "- Wout Faes\tScore: 32.9\tCost: 42\tFixture Difficulty: 3.0\n",
      "Attackers:\n",
      "- Yoane Wissa\tScore: 448.03\tCost: 61\tFixture Difficulty: -0.16666666666666666\n",
      "Midfielders:\n",
      "- Facundo Buonanotte\tScore: 52.4\tCost: 50\tFixture Difficulty: 3.0\n"
     ]
    }
   ],
   "source": [
    "newTeam = getNewTeam(current_team, selected_team, new_players)\n",
    "newTeam = newTeam.toBenchTeam()\n",
    "print(newTeam)"
   ]
  }
 ],
 "metadata": {
  "kernelspec": {
   "display_name": "base",
   "language": "python",
   "name": "python3"
  },
  "language_info": {
   "codemirror_mode": {
    "name": "ipython",
    "version": 3
   },
   "file_extension": ".py",
   "mimetype": "text/x-python",
   "name": "python",
   "nbconvert_exporter": "python",
   "pygments_lexer": "ipython3",
   "version": "3.12.7"
  }
 },
 "nbformat": 4,
 "nbformat_minor": 2
}
